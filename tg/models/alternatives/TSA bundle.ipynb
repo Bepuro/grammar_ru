{
 "cells": [
  {
   "cell_type": "code",
   "execution_count": null,
   "id": "fc613ffb",
   "metadata": {},
   "outputs": [],
   "source": [
    "from tg.grammar_ru.tasks.alternative"
   ]
  },
  {
   "cell_type": "code",
   "execution_count": null,
   "id": "d4589e3a",
   "metadata": {},
   "outputs": [],
   "source": [
    "from typing import *\n",
    "import pandas as pd\n",
    "from ...algorithms import SpellcheckAlgorithm\n",
    "import numpy as np\n",
    "\n",
    "\n",
    "def _count_verbs(dfs: Iterable[pd.DataFrame]):\n",
    "    counter = {}\n",
    "    for df in dfs:\n",
    "        df = df.loc[df.word.str.endswith('тся') | df.word.str.endswith('ться')]\n",
    "        for word in df.word.str.lower():\n",
    "            counter[word] = counter.get(word,0)+1\n",
    "    return counter\n",
    "\n",
    "\n",
    "def _another(w):\n",
    "    if w.endswith('тся'):\n",
    "        return w.replace('тся', 'ться')\n",
    "    else:\n",
    "        return w.replace('ться', 'тся')\n",
    "\n",
    "\n",
    "def _get_good_words_df(words):\n",
    "    for w in list(words):\n",
    "        if _another(w) not in words:\n",
    "            words[_another(w)] = 0\n",
    "\n",
    "    rows = []\n",
    "    for w in words:\n",
    "        if w.endswith('ться'):\n",
    "            rows.append((w,_another(w),words[w], words[_another(w)]))\n",
    "\n",
    "    df = pd.DataFrame(rows, columns=['i_word','f_word','i_cnt','f_cnt'])\n",
    "    df['both_found'] = df[['i_cnt','f_cnt']].min(axis=1)>0\n",
    "    df = df[df.both_found]\n",
    "    df['ratio'] = np.minimum(df.i_cnt/df.f_cnt, df.f_cnt/df.i_cnt)\n",
    "\n",
    "    alg = SpellcheckAlgorithm()\n",
    "    for prefix in ['i_', 'f_']:\n",
    "        xdf = pd.DataFrame(dict(word=df[prefix+'word'], word_type='ru'))\n",
    "        kdf = alg.run(DataBundle(src=xdf))\n",
    "        df[prefix+'spell'] = ~kdf.error\n",
    "\n",
    "    df['both_correct'] = df.i_spell & df.f_spell\n",
    "    df = df.loc[df.both_correct]\n",
    "    return df\n",
    "\n",
    "\n",
    "def build_dictionary(dfs):\n",
    "    cnt = _count_verbs(dfs)\n",
    "    df = _get_good_words_df(cnt)\n",
    "    good_words = set(df.i_word).union(df.f_word)\n",
    "    return good_words\n"
   ]
  }
 ],
 "metadata": {
  "kernelspec": {
   "display_name": "Python 3 (ipykernel)",
   "language": "python",
   "name": "python3"
  },
  "language_info": {
   "codemirror_mode": {
    "name": "ipython",
    "version": 3
   },
   "file_extension": ".py",
   "mimetype": "text/x-python",
   "name": "python",
   "nbconvert_exporter": "python",
   "pygments_lexer": "ipython3",
   "version": "3.8.13"
  }
 },
 "nbformat": 4,
 "nbformat_minor": 5
}
