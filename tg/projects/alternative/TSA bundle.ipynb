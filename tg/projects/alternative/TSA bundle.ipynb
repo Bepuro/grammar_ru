{
 "cells": [
  {
   "cell_type": "code",
   "execution_count": 1,
   "id": "7dc8cfef",
   "metadata": {},
   "outputs": [],
   "source": [
    "from tg.grammar_ru.common import *\n",
    "from tg.projects.alternative import BundleBuilder, BundleConfig\n",
    "from tg.projects.alternative import EndingNegativeSampler\n",
    "from tg.grammar_ru.ml import features as fe\n",
    "\n",
    "tsa_sampler = EndingNegativeSampler('тся','ться')\n",
    "\n",
    "\n",
    "config = BundleConfig(\n",
    "    [\n",
    "        Loc.corpus_path/'pub.base.zip',\n",
    "        Loc.corpus_path/'books.base.zip',\n",
    "        Loc.corpus_path/'lenta.base.zip'\n",
    "    ],\n",
    "    None,\n",
    "    tsa_sampler,\n",
    "    [\n",
    "        fe.PyMorphyFeaturizer(),\n",
    "        fe.SlovnetFeaturizer(),\n",
    "        fe.SyntaxTreeFeaturizer(),\n",
    "        fe.SyntaxStatsFeaturizer()\n",
    "        \n",
    "    ],\n",
    "    Loc.temp_path/'tsa/',\n",
    ")\n",
    "\n",
    "builder = BundleBuilder(config)"
   ]
  },
  {
   "cell_type": "code",
   "execution_count": 2,
   "id": "ae6eca99",
   "metadata": {},
   "outputs": [],
   "source": [
    "from typing import *\n",
    "import pandas as pd\n",
    "from tg.grammar_ru.algorithms import SpellcheckAlgorithm\n",
    "import numpy as np\n",
    "from yo_fluq_ds import *\n",
    "\n",
    "\n",
    "def _count_verbs(dfs: Iterable[pd.DataFrame]):\n",
    "    counter = {}\n",
    "    for df in dfs:\n",
    "        df = df.loc[df.word.str.endswith('тся') | df.word.str.endswith('ться')]\n",
    "        for word in df.word.str.lower():\n",
    "            counter[word] = counter.get(word,0)+1\n",
    "    return counter\n",
    "\n",
    "\n",
    "def _another(w):\n",
    "    if w.endswith('тся'):\n",
    "        return w.replace('тся', 'ться')\n",
    "    else:\n",
    "        return w.replace('ться', 'тся')\n",
    "\n",
    "\n",
    "def _get_good_words_df(words):\n",
    "    for w in list(words):\n",
    "        if _another(w) not in words:\n",
    "            words[_another(w)] = 0\n",
    "\n",
    "    rows = []\n",
    "    for w in words:\n",
    "        if w.endswith('ться'):\n",
    "            rows.append((w,_another(w),words[w], words[_another(w)]))\n",
    "\n",
    "    df = pd.DataFrame(rows, columns=['i_word','f_word','i_cnt','f_cnt'])\n",
    "    df['both_found'] = df[['i_cnt','f_cnt']].min(axis=1)>0\n",
    "    df = df[df.both_found]\n",
    "    df['ratio'] = np.minimum(df.i_cnt/df.f_cnt, df.f_cnt/df.i_cnt)\n",
    "\n",
    "    alg = SpellcheckAlgorithm()\n",
    "    for prefix in ['i_', 'f_']:\n",
    "        xdf = pd.DataFrame(dict(word=df[prefix+'word'], word_type='ru'))\n",
    "        kdf = alg.run(DataBundle(src=xdf))\n",
    "        df[prefix+'spell'] = ~kdf.error\n",
    "\n",
    "    df['both_correct'] = df.i_spell & df.f_spell\n",
    "    df = df.loc[df.both_correct]\n",
    "    return df\n",
    "\n",
    "\n",
    "def build_dictionary(dfs):\n",
    "    cnt = _count_verbs(dfs)\n",
    "    df = _get_good_words_df(cnt)\n",
    "    good_words = set(df.i_word).union(df.f_word)\n",
    "    return good_words\n",
    "\n",
    "dict_path = Loc.data_cache_path/'tasks/tsa-dict.json'\n",
    "os.makedirs(dict_path.parent, exist_ok = True)\n",
    "if not os.path.isfile(dict_path):\n",
    "    tsa_dict = build_dictionary(builder.get_all_frames(True))\n",
    "    FileIO.write_json(list(tsa_dict), dict_path)\n",
    "else:\n",
    "    tsa_dict = FileIO.read_json(dict_path)"
   ]
  },
  {
   "cell_type": "code",
   "execution_count": 3,
   "id": "b18a76db",
   "metadata": {},
   "outputs": [],
   "source": [
    "from tg.projects.alternative import DictionaryFilterer\n",
    "\n",
    "builder.config.filterer = DictionaryFilterer(tsa_dict)\n",
    "buckets_path = Loc.data_cache_path/'tasks/tsa_buckets.parquet'\n",
    "if not os.path.isfile(buckets_path):\n",
    "    buckets = builder.compute_buckets()\n",
    "    buckets.to_parquet(buckets_path)\n",
    "else:\n",
    "    buckets= pd.read_parquet(buckets_path)"
   ]
  },
  {
   "cell_type": "code",
   "execution_count": 4,
   "id": "cd39a965",
   "metadata": {},
   "outputs": [
    {
     "data": {
      "text/html": [
       "<div>\n",
       "<style scoped>\n",
       "    .dataframe tbody tr th:only-of-type {\n",
       "        vertical-align: middle;\n",
       "    }\n",
       "\n",
       "    .dataframe tbody tr th {\n",
       "        vertical-align: top;\n",
       "    }\n",
       "\n",
       "    .dataframe thead th {\n",
       "        text-align: right;\n",
       "    }\n",
       "</style>\n",
       "<table border=\"1\" class=\"dataframe\">\n",
       "  <thead>\n",
       "    <tr style=\"text-align: right;\">\n",
       "      <th></th>\n",
       "      <th>corpus_id</th>\n",
       "      <th>sentence_id</th>\n",
       "      <th>log_len</th>\n",
       "    </tr>\n",
       "  </thead>\n",
       "  <tbody>\n",
       "    <tr>\n",
       "      <th>0</th>\n",
       "      <td>pub.base.zip</td>\n",
       "      <td>1</td>\n",
       "      <td>4</td>\n",
       "    </tr>\n",
       "    <tr>\n",
       "      <th>1</th>\n",
       "      <td>pub.base.zip</td>\n",
       "      <td>4</td>\n",
       "      <td>4</td>\n",
       "    </tr>\n",
       "    <tr>\n",
       "      <th>2</th>\n",
       "      <td>pub.base.zip</td>\n",
       "      <td>7</td>\n",
       "      <td>3</td>\n",
       "    </tr>\n",
       "    <tr>\n",
       "      <th>3</th>\n",
       "      <td>pub.base.zip</td>\n",
       "      <td>25</td>\n",
       "      <td>2</td>\n",
       "    </tr>\n",
       "    <tr>\n",
       "      <th>4</th>\n",
       "      <td>pub.base.zip</td>\n",
       "      <td>27</td>\n",
       "      <td>3</td>\n",
       "    </tr>\n",
       "    <tr>\n",
       "      <th>...</th>\n",
       "      <td>...</td>\n",
       "      <td>...</td>\n",
       "      <td>...</td>\n",
       "    </tr>\n",
       "    <tr>\n",
       "      <th>456855</th>\n",
       "      <td>lenta.base.zip</td>\n",
       "      <td>169870935</td>\n",
       "      <td>4</td>\n",
       "    </tr>\n",
       "    <tr>\n",
       "      <th>456856</th>\n",
       "      <td>lenta.base.zip</td>\n",
       "      <td>169870976</td>\n",
       "      <td>4</td>\n",
       "    </tr>\n",
       "    <tr>\n",
       "      <th>456857</th>\n",
       "      <td>lenta.base.zip</td>\n",
       "      <td>169871029</td>\n",
       "      <td>4</td>\n",
       "    </tr>\n",
       "    <tr>\n",
       "      <th>456858</th>\n",
       "      <td>lenta.base.zip</td>\n",
       "      <td>169871039</td>\n",
       "      <td>4</td>\n",
       "    </tr>\n",
       "    <tr>\n",
       "      <th>456859</th>\n",
       "      <td>lenta.base.zip</td>\n",
       "      <td>169871048</td>\n",
       "      <td>4</td>\n",
       "    </tr>\n",
       "  </tbody>\n",
       "</table>\n",
       "<p>456860 rows × 3 columns</p>\n",
       "</div>"
      ],
      "text/plain": [
       "             corpus_id  sentence_id  log_len\n",
       "0         pub.base.zip            1        4\n",
       "1         pub.base.zip            4        4\n",
       "2         pub.base.zip            7        3\n",
       "3         pub.base.zip           25        2\n",
       "4         pub.base.zip           27        3\n",
       "...                ...          ...      ...\n",
       "456855  lenta.base.zip    169870935        4\n",
       "456856  lenta.base.zip    169870976        4\n",
       "456857  lenta.base.zip    169871029        4\n",
       "456858  lenta.base.zip    169871039        4\n",
       "456859  lenta.base.zip    169871048        4\n",
       "\n",
       "[456860 rows x 3 columns]"
      ]
     },
     "execution_count": 4,
     "metadata": {},
     "output_type": "execute_result"
    }
   ],
   "source": [
    "buckets"
   ]
  },
  {
   "cell_type": "code",
   "execution_count": 5,
   "id": "e97ea5b6",
   "metadata": {},
   "outputs": [
    {
     "data": {
      "text/plain": [
       "<matplotlib.legend.Legend at 0x7fe719110d60>"
      ]
     },
     "execution_count": 5,
     "metadata": {},
     "output_type": "execute_result"
    },
    {
     "data": {
      "image/png": "[encoded data removed]",
      "text/plain": [
       "<Figure size 640x480 with 1 Axes>"
      ]
     },
     "metadata": {},
     "output_type": "display_data"
    }
   ],
   "source": [
    "from tg.common.analysis import grbar_plot\n",
    "\n",
    "ax = grbar_plot(\n",
    "    buckets.groupby(['corpus_id','log_len']).size().to_frame('cnt').reset_index(),\n",
    "    value_column='cnt',\n",
    "    color_column='corpus_id',\n",
    "    group_column='log_len'\n",
    ")\n",
    "ax.legend()"
   ]
  },
  {
   "cell_type": "code",
   "execution_count": 6,
   "id": "652dcf32",
   "metadata": {},
   "outputs": [
    {
     "data": {
      "text/plain": [
       "58292"
      ]
     },
     "execution_count": 6,
     "metadata": {},
     "output_type": "execute_result"
    }
   ],
   "source": [
    "import numpy as np\n",
    "df = buckets.copy()\n",
    "df['random'] = np.random.rand(df.shape[0])\n",
    "df = df.feed(fluq.add_ordering_column(['corpus_id', 'log_len'], 'random'))\n",
    "df = df.loc[df.order<5000]\n",
    "df.shape[0]"
   ]
  },
  {
   "cell_type": "code",
   "execution_count": 7,
   "id": "cc0a43d0",
   "metadata": {
    "scrolled": true
   },
   "outputs": [],
   "source": [
    "if False:\n",
    "    builder.prepare(df)\n",
    "    builder.featurize()"
   ]
  },
  {
   "cell_type": "code",
   "execution_count": 8,
   "id": "05abb6b0",
   "metadata": {},
   "outputs": [
    {
     "data": {
      "application/json": {
       "ascii": false,
       "bar_format": null,
       "colour": null,
       "elapsed": 0.0362398624420166,
       "initial": 0,
       "n": 0,
       "ncols": null,
       "nrows": 24,
       "postfix": null,
       "prefix": "",
       "rate": null,
       "total": 69,
       "unit": "it",
       "unit_divisor": 1000,
       "unit_scale": false
      },
      "application/vnd.jupyter.widget-view+json": {
       "model_id": "db71c8fb64ae483facb1d4fd1feb5be3",
       "version_major": 2,
       "version_minor": 0
      },
      "text/plain": [
       "  0%|          | 0/69 [00:00<?, ?it/s]"
      ]
     },
     "metadata": {},
     "output_type": "display_data"
    },
    {
     "data": {
      "application/json": {
       "ascii": false,
       "bar_format": null,
       "colour": null,
       "elapsed": 0.026931285858154297,
       "initial": 0,
       "n": 0,
       "ncols": null,
       "nrows": 24,
       "postfix": null,
       "prefix": "",
       "rate": null,
       "total": 69,
       "unit": "it",
       "unit_divisor": 1000,
       "unit_scale": false
      },
      "application/vnd.jupyter.widget-view+json": {
       "model_id": "c1125a71e25548ed816cd7291425707b",
       "version_major": 2,
       "version_minor": 0
      },
      "text/plain": [
       "  0%|          | 0/69 [00:00<?, ?it/s]"
      ]
     },
     "metadata": {},
     "output_type": "display_data"
    },
    {
     "data": {
      "application/json": {
       "ascii": false,
       "bar_format": null,
       "colour": null,
       "elapsed": 0.02386164665222168,
       "initial": 0,
       "n": 0,
       "ncols": null,
       "nrows": 24,
       "postfix": null,
       "prefix": "",
       "rate": null,
       "total": 69,
       "unit": "it",
       "unit_divisor": 1000,
       "unit_scale": false
      },
      "application/vnd.jupyter.widget-view+json": {
       "model_id": "6a88b8062696412fbbebf17182faf379",
       "version_major": 2,
       "version_minor": 0
      },
      "text/plain": [
       "  0%|          | 0/69 [00:00<?, ?it/s]"
      ]
     },
     "metadata": {},
     "output_type": "display_data"
    },
    {
     "data": {
      "application/json": {
       "ascii": false,
       "bar_format": null,
       "colour": null,
       "elapsed": 0.037532806396484375,
       "initial": 0,
       "n": 0,
       "ncols": null,
       "nrows": 24,
       "postfix": null,
       "prefix": "",
       "rate": null,
       "total": 69,
       "unit": "it",
       "unit_divisor": 1000,
       "unit_scale": false
      },
      "application/vnd.jupyter.widget-view+json": {
       "model_id": "48ee5e0027c341829c221717bef1fc00",
       "version_major": 2,
       "version_minor": 0
      },
      "text/plain": [
       "  0%|          | 0/69 [00:00<?, ?it/s]"
      ]
     },
     "metadata": {},
     "output_type": "display_data"
    },
    {
     "data": {
      "application/json": {
       "ascii": false,
       "bar_format": null,
       "colour": null,
       "elapsed": 0.047429800033569336,
       "initial": 0,
       "n": 0,
       "ncols": null,
       "nrows": 24,
       "postfix": null,
       "prefix": "",
       "rate": null,
       "total": 69,
       "unit": "it",
       "unit_divisor": 1000,
       "unit_scale": false
      },
      "application/vnd.jupyter.widget-view+json": {
       "model_id": "719ac2f1c5c545469ca819f772c733ad",
       "version_major": 2,
       "version_minor": 0
      },
      "text/plain": [
       "  0%|          | 0/69 [00:00<?, ?it/s]"
      ]
     },
     "metadata": {},
     "output_type": "display_data"
    },
    {
     "data": {
      "application/json": {
       "ascii": false,
       "bar_format": null,
       "colour": null,
       "elapsed": 0.08490562438964844,
       "initial": 0,
       "n": 0,
       "ncols": null,
       "nrows": 24,
       "postfix": null,
       "prefix": "",
       "rate": null,
       "total": 69,
       "unit": "it",
       "unit_divisor": 1000,
       "unit_scale": false
      },
      "application/vnd.jupyter.widget-view+json": {
       "model_id": "7e89a3b80ece4e61b9a46c4b3ed52729",
       "version_major": 2,
       "version_minor": 0
      },
      "text/plain": [
       "  0%|          | 0/69 [00:00<?, ?it/s]"
      ]
     },
     "metadata": {},
     "output_type": "display_data"
    }
   ],
   "source": [
    "builder.assemble(None, Loc.bundles_path/'alt/tsa-full')"
   ]
  },
  {
   "cell_type": "code",
   "execution_count": 9,
   "id": "0674abc3",
   "metadata": {},
   "outputs": [
    {
     "data": {
      "application/json": {
       "ascii": false,
       "bar_format": null,
       "colour": null,
       "elapsed": 0.09378194808959961,
       "initial": 0,
       "n": 0,
       "ncols": null,
       "nrows": 24,
       "postfix": null,
       "prefix": "",
       "rate": null,
       "total": 1,
       "unit": "it",
       "unit_divisor": 1000,
       "unit_scale": false
      },
      "application/vnd.jupyter.widget-view+json": {
       "model_id": "80d0c165069e4459bb8fd7138b7c5966",
       "version_major": 2,
       "version_minor": 0
      },
      "text/plain": [
       "  0%|          | 0/1 [00:00<?, ?it/s]"
      ]
     },
     "metadata": {},
     "output_type": "display_data"
    },
    {
     "data": {
      "application/json": {
       "ascii": false,
       "bar_format": null,
       "colour": null,
       "elapsed": 0.037690162658691406,
       "initial": 0,
       "n": 0,
       "ncols": null,
       "nrows": 24,
       "postfix": null,
       "prefix": "",
       "rate": null,
       "total": 1,
       "unit": "it",
       "unit_divisor": 1000,
       "unit_scale": false
      },
      "application/vnd.jupyter.widget-view+json": {
       "model_id": "16633b77e29347d780c066b286ac387e",
       "version_major": 2,
       "version_minor": 0
      },
      "text/plain": [
       "  0%|          | 0/1 [00:00<?, ?it/s]"
      ]
     },
     "metadata": {},
     "output_type": "display_data"
    },
    {
     "data": {
      "application/json": {
       "ascii": false,
       "bar_format": null,
       "colour": null,
       "elapsed": 0.04580879211425781,
       "initial": 0,
       "n": 0,
       "ncols": null,
       "nrows": 24,
       "postfix": null,
       "prefix": "",
       "rate": null,
       "total": 1,
       "unit": "it",
       "unit_divisor": 1000,
       "unit_scale": false
      },
      "application/vnd.jupyter.widget-view+json": {
       "model_id": "5c6e9d06c2874938b2c59eddead29144",
       "version_major": 2,
       "version_minor": 0
      },
      "text/plain": [
       "  0%|          | 0/1 [00:00<?, ?it/s]"
      ]
     },
     "metadata": {},
     "output_type": "display_data"
    },
    {
     "data": {
      "application/json": {
       "ascii": false,
       "bar_format": null,
       "colour": null,
       "elapsed": 0.027431726455688477,
       "initial": 0,
       "n": 0,
       "ncols": null,
       "nrows": 24,
       "postfix": null,
       "prefix": "",
       "rate": null,
       "total": 1,
       "unit": "it",
       "unit_divisor": 1000,
       "unit_scale": false
      },
      "application/vnd.jupyter.widget-view+json": {
       "model_id": "86e05bfcef394230afb63a5bbfb52cf2",
       "version_major": 2,
       "version_minor": 0
      },
      "text/plain": [
       "  0%|          | 0/1 [00:00<?, ?it/s]"
      ]
     },
     "metadata": {},
     "output_type": "display_data"
    },
    {
     "data": {
      "application/json": {
       "ascii": false,
       "bar_format": null,
       "colour": null,
       "elapsed": 0.02641606330871582,
       "initial": 0,
       "n": 0,
       "ncols": null,
       "nrows": 24,
       "postfix": null,
       "prefix": "",
       "rate": null,
       "total": 1,
       "unit": "it",
       "unit_divisor": 1000,
       "unit_scale": false
      },
      "application/vnd.jupyter.widget-view+json": {
       "model_id": "3676f829688e417c80de40f964d1911f",
       "version_major": 2,
       "version_minor": 0
      },
      "text/plain": [
       "  0%|          | 0/1 [00:00<?, ?it/s]"
      ]
     },
     "metadata": {},
     "output_type": "display_data"
    },
    {
     "data": {
      "application/json": {
       "ascii": false,
       "bar_format": null,
       "colour": null,
       "elapsed": 0.037985801696777344,
       "initial": 0,
       "n": 0,
       "ncols": null,
       "nrows": 24,
       "postfix": null,
       "prefix": "",
       "rate": null,
       "total": 1,
       "unit": "it",
       "unit_divisor": 1000,
       "unit_scale": false
      },
      "application/vnd.jupyter.widget-view+json": {
       "model_id": "2d32ef4110d940388e49b34c6ac0f599",
       "version_major": 2,
       "version_minor": 0
      },
      "text/plain": [
       "  0%|          | 0/1 [00:00<?, ?it/s]"
      ]
     },
     "metadata": {},
     "output_type": "display_data"
    }
   ],
   "source": [
    "builder.assemble(1, Loc.bundles_path/'alt/tsa-mini')"
   ]
  },
  {
   "cell_type": "code",
   "execution_count": 10,
   "id": "1f272ece",
   "metadata": {},
   "outputs": [],
   "source": [
    "PATH = Loc.bundles_path/'alt/tsa-full'\n",
    "src = pd.read_parquet(PATH/'src.parquet')"
   ]
  },
  {
   "cell_type": "code",
   "execution_count": 11,
   "id": "b244140f",
   "metadata": {},
   "outputs": [
    {
     "data": {
      "text/plain": [
       "120540"
      ]
     },
     "execution_count": 11,
     "metadata": {},
     "output_type": "execute_result"
    }
   ],
   "source": [
    "src.is_target.sum()"
   ]
  },
  {
   "cell_type": "code",
   "execution_count": 12,
   "id": "0f6bfa43",
   "metadata": {},
   "outputs": [
    {
     "data": {
      "text/plain": [
       "0.5"
      ]
     },
     "execution_count": 12,
     "metadata": {},
     "output_type": "execute_result"
    }
   ],
   "source": [
    "src.loc[src.is_target].label.mean()"
   ]
  },
  {
   "cell_type": "code",
   "execution_count": 13,
   "id": "e09727e1",
   "metadata": {},
   "outputs": [],
   "source": [
    "for bundle in ['tsa-full','tsa-mini']:\n",
    "    path = Loc.bundles_path/'alt'/bundle\n",
    "    src = pd.read_parquet(path/'src.parquet')\n",
    "    idf = src.loc[src.is_target][['word_id','sentence_id','label']]\n",
    "    idf.index.name = 'sample_id'\n",
    "    idf.to_parquet(path/'index.parquet')"
   ]
  }
 ],
 "metadata": {
  "kernelspec": {
   "display_name": "Python 3 (ipykernel)",
   "language": "python",
   "name": "python3"
  },
  "language_info": {
   "codemirror_mode": {
    "name": "ipython",
    "version": 3
   },
   "file_extension": ".py",
   "mimetype": "text/x-python",
   "name": "python",
   "nbconvert_exporter": "python",
   "pygments_lexer": "ipython3",
   "version": "3.8.13"
  }
 },
 "nbformat": 4,
 "nbformat_minor": 5
}
