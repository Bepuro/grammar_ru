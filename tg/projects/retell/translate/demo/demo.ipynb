{
 "cells": [
  {
   "cell_type": "code",
   "execution_count": 1,
   "metadata": {},
   "outputs": [],
   "source": [
    "from tg.grammar_ru.corpus import CorpusBuilder\n",
    "from tg.grammar_ru.features import PyMorphyFeaturizer, SlovnetFeaturizer, SyntaxStatsFeaturizer, SyntaxTreeFeaturizer\n",
    "from pathlib import Path\n",
    "from tg.projects.retell.retell_utils.metrics import get_cosine_sim, get_jaccard_index,plot_bar_jac_cos_metric\n",
    "import numpy as np\n",
    "from tg.grammar_ru.corpus import CorpusReader\n",
    "from tg.projects.retell.translate.utils import get_array_chapters,translate, jac_metric\n",
    "from tg.grammar_ru.common.loc import Loc\n"
   ]
  },
  {
   "cell_type": "markdown",
   "metadata": {},
   "source": [
    "## Формируем корпуса для русского и английского переводов"
   ]
  },
  {
   "cell_type": "code",
   "execution_count": 2,
   "metadata": {},
   "outputs": [
    {
     "name": "stdout",
     "output_type": "stream",
     "text": [
      "c:\\users\\nikya\\pycharmprojects\\grammar\\grammar_ru\\corpus\\example\\processed\\ru\n"
     ]
    }
   ],
   "source": [
    "print(Loc.root_path/\"corpus/example/processed/ru\")"
   ]
  },
  {
   "cell_type": "code",
   "execution_count": 3,
   "metadata": {},
   "outputs": [
    {
     "data": {
      "application/vnd.jupyter.widget-view+json": {
       "model_id": "f889bad42e0846e08fb4059a7ba69dcd",
       "version_major": 2,
       "version_minor": 0
      },
      "text/plain": [
       "  0%|          | 0/1 [00:00<?, ?it/s]"
      ]
     },
     "metadata": {},
     "output_type": "display_data"
    }
   ],
   "source": [
    "\n",
    "\n",
    "CorpusBuilder.convert_interformat_folder_to_corpus(\n",
    "        Path(Loc.root_path/'tg/projects/retell/translate/demo/ru_example.base.zip'),\n",
    "        Path(Loc.root_path/\"corpus/example/processed/ru\"),\n",
    "        [\"Name\"],\n",
    "        \n",
    ")\n"
   ]
  },
  {
   "cell_type": "code",
   "execution_count": 4,
   "metadata": {},
   "outputs": [
    {
     "name": "stdout",
     "output_type": "stream",
     "text": [
      "2023-11-17 14:02:21.145375 INFO: Processing a05a0bf4-ad03-4b81-9ca1-4636c441f1a6 at #0, total 7 \n",
      "2023-11-17 14:02:21.146401 INFO: <class 'tg.grammar_ru.features.pymorphy_featurizer.PyMorphyFeaturizer'>\n",
      "2023-11-17 14:02:21.212334 INFO: <class 'tg.grammar_ru.features.slovnet_featurizer.SlovnetFeaturizer'>\n",
      "2023-11-17 14:02:21.331746 INFO: Processing a09f424b-58fb-497a-b76b-2fef839156e7 at #1, total 7 \n",
      "2023-11-17 14:02:21.332759 INFO: <class 'tg.grammar_ru.features.pymorphy_featurizer.PyMorphyFeaturizer'>\n",
      "2023-11-17 14:02:21.418652 INFO: <class 'tg.grammar_ru.features.slovnet_featurizer.SlovnetFeaturizer'>\n",
      "2023-11-17 14:02:21.576932 INFO: Processing 65687e17-9b33-47bc-b6df-9bfc45509b2e at #2, total 7 \n",
      "2023-11-17 14:02:21.577950 INFO: <class 'tg.grammar_ru.features.pymorphy_featurizer.PyMorphyFeaturizer'>\n",
      "2023-11-17 14:02:21.614198 INFO: <class 'tg.grammar_ru.features.slovnet_featurizer.SlovnetFeaturizer'>\n",
      "2023-11-17 14:02:21.716058 INFO: Processing f1d956f2-a476-49fd-a294-e16480fe3e18 at #3, total 7 \n",
      "2023-11-17 14:02:21.717592 INFO: <class 'tg.grammar_ru.features.pymorphy_featurizer.PyMorphyFeaturizer'>\n",
      "2023-11-17 14:02:21.774059 INFO: <class 'tg.grammar_ru.features.slovnet_featurizer.SlovnetFeaturizer'>\n",
      "2023-11-17 14:02:21.886278 INFO: Processing 9837e0fe-53c9-4713-afeb-a5f3799733d1 at #4, total 7 \n",
      "2023-11-17 14:02:21.886278 INFO: <class 'tg.grammar_ru.features.pymorphy_featurizer.PyMorphyFeaturizer'>\n",
      "2023-11-17 14:02:21.911515 INFO: <class 'tg.grammar_ru.features.slovnet_featurizer.SlovnetFeaturizer'>\n",
      "2023-11-17 14:02:21.986554 INFO: Processing a9152f35-6925-491c-a86f-14cbaa91fbdf at #5, total 7 \n",
      "2023-11-17 14:02:21.987569 INFO: <class 'tg.grammar_ru.features.pymorphy_featurizer.PyMorphyFeaturizer'>\n",
      "2023-11-17 14:02:22.032919 INFO: <class 'tg.grammar_ru.features.slovnet_featurizer.SlovnetFeaturizer'>\n",
      "2023-11-17 14:02:22.120635 INFO: Processing 6dab7bea-cc6d-4dec-bd17-7129ad3e493e at #6, total 7 \n",
      "2023-11-17 14:02:22.120635 INFO: <class 'tg.grammar_ru.features.pymorphy_featurizer.PyMorphyFeaturizer'>\n",
      "2023-11-17 14:02:22.158082 INFO: <class 'tg.grammar_ru.features.slovnet_featurizer.SlovnetFeaturizer'>\n"
     ]
    }
   ],
   "source": [
    "CorpusBuilder.featurize_corpus(\n",
    "        Path(Loc.root_path/'tg/projects/retell/translate/demo/ru_example.base.zip'),\n",
    "        Path(Loc.root_path/'tg/projects/retell/translate/demo/ru_example.featurized.corpus.zip'),\n",
    "        [\n",
    "            PyMorphyFeaturizer(),\n",
    "            SlovnetFeaturizer()\n",
    "        ]\n",
    "    )"
   ]
  },
  {
   "cell_type": "code",
   "execution_count": 5,
   "metadata": {},
   "outputs": [
    {
     "data": {
      "text/html": [
       "<div>\n",
       "<style scoped>\n",
       "    .dataframe tbody tr th:only-of-type {\n",
       "        vertical-align: middle;\n",
       "    }\n",
       "\n",
       "    .dataframe tbody tr th {\n",
       "        vertical-align: top;\n",
       "    }\n",
       "\n",
       "    .dataframe thead th {\n",
       "        text-align: right;\n",
       "    }\n",
       "</style>\n",
       "<table border=\"1\" class=\"dataframe\">\n",
       "  <thead>\n",
       "    <tr style=\"text-align: right;\">\n",
       "      <th></th>\n",
       "      <th>filename</th>\n",
       "      <th>timestamp</th>\n",
       "      <th>part_index</th>\n",
       "      <th>token_count</th>\n",
       "      <th>character_count</th>\n",
       "      <th>ordinal</th>\n",
       "      <th>header_0</th>\n",
       "      <th>headers</th>\n",
       "      <th>Name</th>\n",
       "      <th>max_id</th>\n",
       "    </tr>\n",
       "    <tr>\n",
       "      <th>file_id</th>\n",
       "      <th></th>\n",
       "      <th></th>\n",
       "      <th></th>\n",
       "      <th></th>\n",
       "      <th></th>\n",
       "      <th></th>\n",
       "      <th></th>\n",
       "      <th></th>\n",
       "      <th></th>\n",
       "      <th></th>\n",
       "    </tr>\n",
       "  </thead>\n",
       "  <tbody>\n",
       "    <tr>\n",
       "      <th>a05a0bf4-ad03-4b81-9ca1-4636c441f1a6</th>\n",
       "      <td>ru_retell.md</td>\n",
       "      <td>2023-11-17 14:02:20.304804</td>\n",
       "      <td>0</td>\n",
       "      <td>396</td>\n",
       "      <td>1814</td>\n",
       "      <td>0</td>\n",
       "      <td>Глава 1: Знакомство с Родионом</td>\n",
       "      <td>Глава 1: Знакомство с Родионом</td>\n",
       "      <td>ru_retell</td>\n",
       "      <td>397</td>\n",
       "    </tr>\n",
       "    <tr>\n",
       "      <th>a09f424b-58fb-497a-b76b-2fef839156e7</th>\n",
       "      <td>ru_retell.md</td>\n",
       "      <td>2023-11-17 14:02:20.332827</td>\n",
       "      <td>1</td>\n",
       "      <td>704</td>\n",
       "      <td>3090</td>\n",
       "      <td>1</td>\n",
       "      <td>Глава 2: Встреча с Мармеладовым</td>\n",
       "      <td>Глава 2: Встреча с Мармеладовым</td>\n",
       "      <td>ru_retell</td>\n",
       "      <td>11102</td>\n",
       "    </tr>\n",
       "    <tr>\n",
       "      <th>65687e17-9b33-47bc-b6df-9bfc45509b2e</th>\n",
       "      <td>ru_retell.md</td>\n",
       "      <td>2023-11-17 14:02:20.348862</td>\n",
       "      <td>2</td>\n",
       "      <td>280</td>\n",
       "      <td>1330</td>\n",
       "      <td>2</td>\n",
       "      <td>Глава 3: Письмо матери</td>\n",
       "      <td>Глава 3: Письмо матери</td>\n",
       "      <td>ru_retell</td>\n",
       "      <td>21383</td>\n",
       "    </tr>\n",
       "    <tr>\n",
       "      <th>f1d956f2-a476-49fd-a294-e16480fe3e18</th>\n",
       "      <td>ru_retell.md</td>\n",
       "      <td>2023-11-17 14:02:20.363948</td>\n",
       "      <td>3</td>\n",
       "      <td>461</td>\n",
       "      <td>2020</td>\n",
       "      <td>3</td>\n",
       "      <td>Глава 4: Мысли о сестре</td>\n",
       "      <td>Глава 4: Мысли о сестре</td>\n",
       "      <td>ru_retell</td>\n",
       "      <td>31845</td>\n",
       "    </tr>\n",
       "    <tr>\n",
       "      <th>9837e0fe-53c9-4713-afeb-a5f3799733d1</th>\n",
       "      <td>ru_retell.md</td>\n",
       "      <td>2023-11-17 14:02:20.384767</td>\n",
       "      <td>4</td>\n",
       "      <td>193</td>\n",
       "      <td>892</td>\n",
       "      <td>4</td>\n",
       "      <td>Глава 5: Сон Раскольникова</td>\n",
       "      <td>Глава 5: Сон Раскольникова</td>\n",
       "      <td>ru_retell</td>\n",
       "      <td>42039</td>\n",
       "    </tr>\n",
       "    <tr>\n",
       "      <th>a9152f35-6925-491c-a86f-14cbaa91fbdf</th>\n",
       "      <td>ru_retell.md</td>\n",
       "      <td>2023-11-17 14:02:20.401459</td>\n",
       "      <td>5</td>\n",
       "      <td>330</td>\n",
       "      <td>1457</td>\n",
       "      <td>5</td>\n",
       "      <td>Глава 6: Подготовка к убийству</td>\n",
       "      <td>Глава 6: Подготовка к убийству</td>\n",
       "      <td>ru_retell</td>\n",
       "      <td>52370</td>\n",
       "    </tr>\n",
       "    <tr>\n",
       "      <th>6dab7bea-cc6d-4dec-bd17-7129ad3e493e</th>\n",
       "      <td>ru_retell.md</td>\n",
       "      <td>2023-11-17 14:02:20.417401</td>\n",
       "      <td>6</td>\n",
       "      <td>308</td>\n",
       "      <td>1383</td>\n",
       "      <td>6</td>\n",
       "      <td>Глава 7: Преступление</td>\n",
       "      <td>Глава 7: Преступление</td>\n",
       "      <td>ru_retell</td>\n",
       "      <td>62679</td>\n",
       "    </tr>\n",
       "  </tbody>\n",
       "</table>\n",
       "</div>"
      ],
      "text/plain": [
       "                                          filename                  timestamp  \\\n",
       "file_id                                                                         \n",
       "a05a0bf4-ad03-4b81-9ca1-4636c441f1a6  ru_retell.md 2023-11-17 14:02:20.304804   \n",
       "a09f424b-58fb-497a-b76b-2fef839156e7  ru_retell.md 2023-11-17 14:02:20.332827   \n",
       "65687e17-9b33-47bc-b6df-9bfc45509b2e  ru_retell.md 2023-11-17 14:02:20.348862   \n",
       "f1d956f2-a476-49fd-a294-e16480fe3e18  ru_retell.md 2023-11-17 14:02:20.363948   \n",
       "9837e0fe-53c9-4713-afeb-a5f3799733d1  ru_retell.md 2023-11-17 14:02:20.384767   \n",
       "a9152f35-6925-491c-a86f-14cbaa91fbdf  ru_retell.md 2023-11-17 14:02:20.401459   \n",
       "6dab7bea-cc6d-4dec-bd17-7129ad3e493e  ru_retell.md 2023-11-17 14:02:20.417401   \n",
       "\n",
       "                                      part_index  token_count  \\\n",
       "file_id                                                         \n",
       "a05a0bf4-ad03-4b81-9ca1-4636c441f1a6           0          396   \n",
       "a09f424b-58fb-497a-b76b-2fef839156e7           1          704   \n",
       "65687e17-9b33-47bc-b6df-9bfc45509b2e           2          280   \n",
       "f1d956f2-a476-49fd-a294-e16480fe3e18           3          461   \n",
       "9837e0fe-53c9-4713-afeb-a5f3799733d1           4          193   \n",
       "a9152f35-6925-491c-a86f-14cbaa91fbdf           5          330   \n",
       "6dab7bea-cc6d-4dec-bd17-7129ad3e493e           6          308   \n",
       "\n",
       "                                      character_count  ordinal  \\\n",
       "file_id                                                          \n",
       "a05a0bf4-ad03-4b81-9ca1-4636c441f1a6             1814        0   \n",
       "a09f424b-58fb-497a-b76b-2fef839156e7             3090        1   \n",
       "65687e17-9b33-47bc-b6df-9bfc45509b2e             1330        2   \n",
       "f1d956f2-a476-49fd-a294-e16480fe3e18             2020        3   \n",
       "9837e0fe-53c9-4713-afeb-a5f3799733d1              892        4   \n",
       "a9152f35-6925-491c-a86f-14cbaa91fbdf             1457        5   \n",
       "6dab7bea-cc6d-4dec-bd17-7129ad3e493e             1383        6   \n",
       "\n",
       "                                                             header_0  \\\n",
       "file_id                                                                 \n",
       "a05a0bf4-ad03-4b81-9ca1-4636c441f1a6   Глава 1: Знакомство с Родионом   \n",
       "a09f424b-58fb-497a-b76b-2fef839156e7  Глава 2: Встреча с Мармеладовым   \n",
       "65687e17-9b33-47bc-b6df-9bfc45509b2e           Глава 3: Письмо матери   \n",
       "f1d956f2-a476-49fd-a294-e16480fe3e18          Глава 4: Мысли о сестре   \n",
       "9837e0fe-53c9-4713-afeb-a5f3799733d1       Глава 5: Сон Раскольникова   \n",
       "a9152f35-6925-491c-a86f-14cbaa91fbdf   Глава 6: Подготовка к убийству   \n",
       "6dab7bea-cc6d-4dec-bd17-7129ad3e493e            Глава 7: Преступление   \n",
       "\n",
       "                                                              headers  \\\n",
       "file_id                                                                 \n",
       "a05a0bf4-ad03-4b81-9ca1-4636c441f1a6   Глава 1: Знакомство с Родионом   \n",
       "a09f424b-58fb-497a-b76b-2fef839156e7  Глава 2: Встреча с Мармеладовым   \n",
       "65687e17-9b33-47bc-b6df-9bfc45509b2e           Глава 3: Письмо матери   \n",
       "f1d956f2-a476-49fd-a294-e16480fe3e18          Глава 4: Мысли о сестре   \n",
       "9837e0fe-53c9-4713-afeb-a5f3799733d1       Глава 5: Сон Раскольникова   \n",
       "a9152f35-6925-491c-a86f-14cbaa91fbdf   Глава 6: Подготовка к убийству   \n",
       "6dab7bea-cc6d-4dec-bd17-7129ad3e493e            Глава 7: Преступление   \n",
       "\n",
       "                                           Name  max_id  \n",
       "file_id                                                  \n",
       "a05a0bf4-ad03-4b81-9ca1-4636c441f1a6  ru_retell     397  \n",
       "a09f424b-58fb-497a-b76b-2fef839156e7  ru_retell   11102  \n",
       "65687e17-9b33-47bc-b6df-9bfc45509b2e  ru_retell   21383  \n",
       "f1d956f2-a476-49fd-a294-e16480fe3e18  ru_retell   31845  \n",
       "9837e0fe-53c9-4713-afeb-a5f3799733d1  ru_retell   42039  \n",
       "a9152f35-6925-491c-a86f-14cbaa91fbdf  ru_retell   52370  \n",
       "6dab7bea-cc6d-4dec-bd17-7129ad3e493e  ru_retell   62679  "
      ]
     },
     "execution_count": 5,
     "metadata": {},
     "output_type": "execute_result"
    }
   ],
   "source": [
    "\n",
    "\n",
    "ru_retell_corpus = CorpusReader(Path(Loc.root_path/'tg/projects/retell/translate/demo/ru_example.featurized.corpus.zip'))\n",
    "\n",
    "ru_retell_corpus.get_toc() \n"
   ]
  },
  {
   "cell_type": "code",
   "execution_count": 6,
   "metadata": {},
   "outputs": [
    {
     "data": {
      "application/vnd.jupyter.widget-view+json": {
       "model_id": "9997ea6588ea497b8db33838d01bbeb9",
       "version_major": 2,
       "version_minor": 0
      },
      "text/plain": [
       "  0%|          | 0/1 [00:00<?, ?it/s]"
      ]
     },
     "metadata": {},
     "output_type": "display_data"
    }
   ],
   "source": [
    "CorpusBuilder.convert_interformat_folder_to_corpus(\n",
    "        Path(Loc.root_path/'tg/projects/retell/translate/demo/eng_example.base.zip'),\n",
    "        Path(Loc.root_path/\"corpus/example/processed/eng\"),\n",
    "        [\"Name\"],\n",
    "        \n",
    ")"
   ]
  },
  {
   "cell_type": "code",
   "execution_count": 7,
   "metadata": {},
   "outputs": [
    {
     "name": "stdout",
     "output_type": "stream",
     "text": [
      "2023-11-17 14:02:23.719863 INFO: Processing 2a27a273-4c66-419f-9f54-cc3eebef8176 at #0, total 7 \n",
      "2023-11-17 14:02:23.720881 INFO: <class 'tg.grammar_ru.features.pymorphy_featurizer.PyMorphyFeaturizer'>\n",
      "2023-11-17 14:02:23.776253 INFO: <class 'tg.grammar_ru.features.slovnet_featurizer.SlovnetFeaturizer'>\n",
      "2023-11-17 14:02:23.925553 INFO: Processing 64c68eaa-6d79-4bd5-96d1-2211eb6c74bd at #1, total 7 \n",
      "2023-11-17 14:02:23.926571 INFO: <class 'tg.grammar_ru.features.pymorphy_featurizer.PyMorphyFeaturizer'>\n",
      "2023-11-17 14:02:23.981172 INFO: <class 'tg.grammar_ru.features.slovnet_featurizer.SlovnetFeaturizer'>\n",
      "2023-11-17 14:02:24.157639 INFO: Processing b972a84d-e429-4c3e-bafb-64afb30f4856 at #2, total 7 \n",
      "2023-11-17 14:02:24.157639 INFO: <class 'tg.grammar_ru.features.pymorphy_featurizer.PyMorphyFeaturizer'>\n",
      "2023-11-17 14:02:24.208072 INFO: <class 'tg.grammar_ru.features.slovnet_featurizer.SlovnetFeaturizer'>\n",
      "2023-11-17 14:02:24.364714 INFO: Processing 388b280f-a018-49ab-9885-f3dffd326162 at #3, total 7 \n",
      "2023-11-17 14:02:24.365406 INFO: <class 'tg.grammar_ru.features.pymorphy_featurizer.PyMorphyFeaturizer'>\n",
      "2023-11-17 14:02:24.414682 INFO: <class 'tg.grammar_ru.features.slovnet_featurizer.SlovnetFeaturizer'>\n",
      "2023-11-17 14:02:24.574801 INFO: Processing b12511e2-d059-4003-b677-2a2c07d48a22 at #4, total 7 \n",
      "2023-11-17 14:02:24.575314 INFO: <class 'tg.grammar_ru.features.pymorphy_featurizer.PyMorphyFeaturizer'>\n",
      "2023-11-17 14:02:24.632534 INFO: <class 'tg.grammar_ru.features.slovnet_featurizer.SlovnetFeaturizer'>\n",
      "2023-11-17 14:02:24.814927 INFO: Processing 366fcf47-bc34-4211-9c2f-467f1e1c6c50 at #5, total 7 \n",
      "2023-11-17 14:02:24.815927 INFO: <class 'tg.grammar_ru.features.pymorphy_featurizer.PyMorphyFeaturizer'>\n",
      "2023-11-17 14:02:24.880972 INFO: <class 'tg.grammar_ru.features.slovnet_featurizer.SlovnetFeaturizer'>\n",
      "2023-11-17 14:02:25.095093 INFO: Processing 4ab7f6aa-5455-46a6-9aab-a4cf691b3556 at #6, total 7 \n",
      "2023-11-17 14:02:25.096595 INFO: <class 'tg.grammar_ru.features.pymorphy_featurizer.PyMorphyFeaturizer'>\n",
      "2023-11-17 14:02:25.161744 INFO: <class 'tg.grammar_ru.features.slovnet_featurizer.SlovnetFeaturizer'>\n"
     ]
    }
   ],
   "source": [
    "CorpusBuilder.featurize_corpus(\n",
    "        Path(Loc.root_path/'tg/projects/retell/translate/demo/eng_example.base.zip'),\n",
    "        Path(Loc.root_path/'tg/projects/retell/translate/demo/eng_example.featurized.corpus.zip'),\n",
    "        [\n",
    "            PyMorphyFeaturizer(),\n",
    "            SlovnetFeaturizer()\n",
    "        ]\n",
    "    )"
   ]
  },
  {
   "cell_type": "code",
   "execution_count": 8,
   "metadata": {},
   "outputs": [
    {
     "data": {
      "text/html": [
       "<div>\n",
       "<style scoped>\n",
       "    .dataframe tbody tr th:only-of-type {\n",
       "        vertical-align: middle;\n",
       "    }\n",
       "\n",
       "    .dataframe tbody tr th {\n",
       "        vertical-align: top;\n",
       "    }\n",
       "\n",
       "    .dataframe thead th {\n",
       "        text-align: right;\n",
       "    }\n",
       "</style>\n",
       "<table border=\"1\" class=\"dataframe\">\n",
       "  <thead>\n",
       "    <tr style=\"text-align: right;\">\n",
       "      <th></th>\n",
       "      <th>filename</th>\n",
       "      <th>timestamp</th>\n",
       "      <th>part_index</th>\n",
       "      <th>token_count</th>\n",
       "      <th>character_count</th>\n",
       "      <th>ordinal</th>\n",
       "      <th>header_0</th>\n",
       "      <th>headers</th>\n",
       "      <th>Name</th>\n",
       "      <th>max_id</th>\n",
       "    </tr>\n",
       "    <tr>\n",
       "      <th>file_id</th>\n",
       "      <th></th>\n",
       "      <th></th>\n",
       "      <th></th>\n",
       "      <th></th>\n",
       "      <th></th>\n",
       "      <th></th>\n",
       "      <th></th>\n",
       "      <th></th>\n",
       "      <th></th>\n",
       "      <th></th>\n",
       "    </tr>\n",
       "  </thead>\n",
       "  <tbody>\n",
       "    <tr>\n",
       "      <th>2a27a273-4c66-419f-9f54-cc3eebef8176</th>\n",
       "      <td>eng_retell.md</td>\n",
       "      <td>2023-11-17 14:02:22.938768</td>\n",
       "      <td>0</td>\n",
       "      <td>782</td>\n",
       "      <td>3092</td>\n",
       "      <td>0</td>\n",
       "      <td>Chapter 1:</td>\n",
       "      <td>Chapter 1:</td>\n",
       "      <td>eng_retell</td>\n",
       "      <td>783</td>\n",
       "    </tr>\n",
       "    <tr>\n",
       "      <th>64c68eaa-6d79-4bd5-96d1-2211eb6c74bd</th>\n",
       "      <td>eng_retell.md</td>\n",
       "      <td>2023-11-17 14:02:22.944236</td>\n",
       "      <td>1</td>\n",
       "      <td>783</td>\n",
       "      <td>3274</td>\n",
       "      <td>1</td>\n",
       "      <td>Chapter 2:</td>\n",
       "      <td>Chapter 2:</td>\n",
       "      <td>eng_retell</td>\n",
       "      <td>11567</td>\n",
       "    </tr>\n",
       "    <tr>\n",
       "      <th>b972a84d-e429-4c3e-bafb-64afb30f4856</th>\n",
       "      <td>eng_retell.md</td>\n",
       "      <td>2023-11-17 14:02:22.961587</td>\n",
       "      <td>2</td>\n",
       "      <td>729</td>\n",
       "      <td>3015</td>\n",
       "      <td>2</td>\n",
       "      <td>Chapter 3:</td>\n",
       "      <td>Chapter 3:</td>\n",
       "      <td>eng_retell</td>\n",
       "      <td>22297</td>\n",
       "    </tr>\n",
       "    <tr>\n",
       "      <th>388b280f-a018-49ab-9885-f3dffd326162</th>\n",
       "      <td>eng_retell.md</td>\n",
       "      <td>2023-11-17 14:02:22.978265</td>\n",
       "      <td>3</td>\n",
       "      <td>739</td>\n",
       "      <td>2927</td>\n",
       "      <td>3</td>\n",
       "      <td>Chapter 4:</td>\n",
       "      <td>Chapter 4:</td>\n",
       "      <td>eng_retell</td>\n",
       "      <td>33037</td>\n",
       "    </tr>\n",
       "    <tr>\n",
       "      <th>b12511e2-d059-4003-b677-2a2c07d48a22</th>\n",
       "      <td>eng_retell.md</td>\n",
       "      <td>2023-11-17 14:02:22.994891</td>\n",
       "      <td>4</td>\n",
       "      <td>917</td>\n",
       "      <td>3598</td>\n",
       "      <td>4</td>\n",
       "      <td>Chapter 5:</td>\n",
       "      <td>Chapter 5:</td>\n",
       "      <td>eng_retell</td>\n",
       "      <td>43955</td>\n",
       "    </tr>\n",
       "    <tr>\n",
       "      <th>366fcf47-bc34-4211-9c2f-467f1e1c6c50</th>\n",
       "      <td>eng_retell.md</td>\n",
       "      <td>2023-11-17 14:02:23.010889</td>\n",
       "      <td>5</td>\n",
       "      <td>1024</td>\n",
       "      <td>4168</td>\n",
       "      <td>5</td>\n",
       "      <td>Chapter 6:</td>\n",
       "      <td>Chapter 6:</td>\n",
       "      <td>eng_retell</td>\n",
       "      <td>54980</td>\n",
       "    </tr>\n",
       "    <tr>\n",
       "      <th>4ab7f6aa-5455-46a6-9aab-a4cf691b3556</th>\n",
       "      <td>eng_retell.md</td>\n",
       "      <td>2023-11-17 14:02:23.028413</td>\n",
       "      <td>6</td>\n",
       "      <td>1030</td>\n",
       "      <td>4085</td>\n",
       "      <td>6</td>\n",
       "      <td>Chapter 7:</td>\n",
       "      <td>Chapter 7:</td>\n",
       "      <td>eng_retell</td>\n",
       "      <td>66011</td>\n",
       "    </tr>\n",
       "  </tbody>\n",
       "</table>\n",
       "</div>"
      ],
      "text/plain": [
       "                                           filename  \\\n",
       "file_id                                               \n",
       "2a27a273-4c66-419f-9f54-cc3eebef8176  eng_retell.md   \n",
       "64c68eaa-6d79-4bd5-96d1-2211eb6c74bd  eng_retell.md   \n",
       "b972a84d-e429-4c3e-bafb-64afb30f4856  eng_retell.md   \n",
       "388b280f-a018-49ab-9885-f3dffd326162  eng_retell.md   \n",
       "b12511e2-d059-4003-b677-2a2c07d48a22  eng_retell.md   \n",
       "366fcf47-bc34-4211-9c2f-467f1e1c6c50  eng_retell.md   \n",
       "4ab7f6aa-5455-46a6-9aab-a4cf691b3556  eng_retell.md   \n",
       "\n",
       "                                                      timestamp  part_index  \\\n",
       "file_id                                                                       \n",
       "2a27a273-4c66-419f-9f54-cc3eebef8176 2023-11-17 14:02:22.938768           0   \n",
       "64c68eaa-6d79-4bd5-96d1-2211eb6c74bd 2023-11-17 14:02:22.944236           1   \n",
       "b972a84d-e429-4c3e-bafb-64afb30f4856 2023-11-17 14:02:22.961587           2   \n",
       "388b280f-a018-49ab-9885-f3dffd326162 2023-11-17 14:02:22.978265           3   \n",
       "b12511e2-d059-4003-b677-2a2c07d48a22 2023-11-17 14:02:22.994891           4   \n",
       "366fcf47-bc34-4211-9c2f-467f1e1c6c50 2023-11-17 14:02:23.010889           5   \n",
       "4ab7f6aa-5455-46a6-9aab-a4cf691b3556 2023-11-17 14:02:23.028413           6   \n",
       "\n",
       "                                      token_count  character_count  ordinal  \\\n",
       "file_id                                                                       \n",
       "2a27a273-4c66-419f-9f54-cc3eebef8176          782             3092        0   \n",
       "64c68eaa-6d79-4bd5-96d1-2211eb6c74bd          783             3274        1   \n",
       "b972a84d-e429-4c3e-bafb-64afb30f4856          729             3015        2   \n",
       "388b280f-a018-49ab-9885-f3dffd326162          739             2927        3   \n",
       "b12511e2-d059-4003-b677-2a2c07d48a22          917             3598        4   \n",
       "366fcf47-bc34-4211-9c2f-467f1e1c6c50         1024             4168        5   \n",
       "4ab7f6aa-5455-46a6-9aab-a4cf691b3556         1030             4085        6   \n",
       "\n",
       "                                        header_0     headers        Name  \\\n",
       "file_id                                                                    \n",
       "2a27a273-4c66-419f-9f54-cc3eebef8176  Chapter 1:  Chapter 1:  eng_retell   \n",
       "64c68eaa-6d79-4bd5-96d1-2211eb6c74bd  Chapter 2:  Chapter 2:  eng_retell   \n",
       "b972a84d-e429-4c3e-bafb-64afb30f4856  Chapter 3:  Chapter 3:  eng_retell   \n",
       "388b280f-a018-49ab-9885-f3dffd326162  Chapter 4:  Chapter 4:  eng_retell   \n",
       "b12511e2-d059-4003-b677-2a2c07d48a22  Chapter 5:  Chapter 5:  eng_retell   \n",
       "366fcf47-bc34-4211-9c2f-467f1e1c6c50  Chapter 6:  Chapter 6:  eng_retell   \n",
       "4ab7f6aa-5455-46a6-9aab-a4cf691b3556  Chapter 7:  Chapter 7:  eng_retell   \n",
       "\n",
       "                                      max_id  \n",
       "file_id                                       \n",
       "2a27a273-4c66-419f-9f54-cc3eebef8176     783  \n",
       "64c68eaa-6d79-4bd5-96d1-2211eb6c74bd   11567  \n",
       "b972a84d-e429-4c3e-bafb-64afb30f4856   22297  \n",
       "388b280f-a018-49ab-9885-f3dffd326162   33037  \n",
       "b12511e2-d059-4003-b677-2a2c07d48a22   43955  \n",
       "366fcf47-bc34-4211-9c2f-467f1e1c6c50   54980  \n",
       "4ab7f6aa-5455-46a6-9aab-a4cf691b3556   66011  "
      ]
     },
     "execution_count": 8,
     "metadata": {},
     "output_type": "execute_result"
    }
   ],
   "source": [
    "en_retell_corpus = CorpusReader(Path(Loc.root_path/'tg/projects/retell/translate/demo/eng_example.featurized.corpus.zip'))\n",
    "\n",
    "en_retell_corpus.get_toc() "
   ]
  },
  {
   "cell_type": "markdown",
   "metadata": {},
   "source": [
    "## Получаем текст пересказа из полученных корпусов"
   ]
  },
  {
   "cell_type": "code",
   "execution_count": 9,
   "metadata": {},
   "outputs": [
    {
     "name": "stdout",
     "output_type": "stream",
     "text": [
      "В Петербурге жаркое и душное лето .\n",
      "Один молодой человек выходит из своей каморки , пытаясь избежать встречи с хозяйкой — он давно уже не платит за квартиру .\n",
      "Его гордость страдает от этого , а потому настроение героя нельзя назвать хорошим .\n",
      "В последнее время он вообще стал напоминать ипохондрика : тяготился обществом людей , избегал их и говорил преимущественно сам с собой .\n",
      "Выйдя на улицу , он обдумывает какое-то таинственное дело , на которое он якобы не способен .\n",
      "Его тревожит , что он не соответствует тому делу , на которое решился .\n",
      "Герой нарочно растравляет себя мыслями о том , что ему не по плечу задуманное .\n",
      "Колорит улиц вторит его мрачным думам : везде пьяные и развратные люди , крики , невеселый смех .\n",
      "На улице его грубо окликнули « немецким шляпником » из-за его дырявой рыжей шляпы с пятнами , о которой герой задумался с испугом , но не стыдом .\n",
      "Он рассуждает про себя , что шляпа погубит все дело .\n",
      "Она слишком приметная .\n",
      "Но весь вид молодого человека был таковым : он был настолько неряшливо и бедно одет , что даже нищий постеснялся бы пройтись так по улице .\n",
      "Герой дошел до дома и зашел в подъезд , попутно подмечая все несущественные детали : кто-то съезжает , кто-то делает ремонт .\n",
      "Он позвонил , и его на пороге встретила старуха со злыми глазами и жидкими волосами , обильно политыми маслом .\n",
      "Она подозрительно смотрит на него и неохотно завязывает диалог .\n",
      "Герой представился Родионом Раскольниковым и предложил в качестве заклада отцовские часы .\n",
      "Старуха оценила их на полтора рубля .\n",
      "Все попытки торга были безуспешными .\n",
      "Пока она возится с комодом и достает деньги , Родион наблюдает за каждой мелочью : отмечает феноменальную чистоту в доме , спрашивает старуху о сестре , на что получает сухой ответ .\n",
      "Судя по мыслям Родиона , можно заключить , что он очень многое знает о жизни процентщицы .\n",
      "Выйдя от старухи , герой ощущает отвращение к себе .\n",
      "Он точно не способен на ЭТО !\n",
      "Все мысли о деле кажутся ему мерзкими , недостойными , и он пришел к выводу , что они навеяны голодом ( двое суток он голодал ) .\n",
      "Он набрел на трактир и вошел .\n",
      "Там было мало народу , но Раскольникову бросился в глаза один тревожный и сосредоточенный пьяный , похожий на отставного чиновника .\n"
     ]
    }
   ],
   "source": [
    "ru_retell = get_array_chapters(ru_retell_corpus)\n",
    "\n",
    "print(ru_retell[0])"
   ]
  },
  {
   "cell_type": "code",
   "execution_count": 21,
   "metadata": {},
   "outputs": [
    {
     "name": "stdout",
     "output_type": "stream",
     "text": [
      "It is early July in St .\n",
      "Petersburg , and very hot .\n",
      "A good-looking young man who is nearly destitute and greatly in debt to his landlady manages to slip out of the house unnoticed .\n",
      "He is relieved , not because he is a coward by nature but because he has been irritable and tense for some time and dreads meeting anyone at all , let alone his landlady .\n",
      "The young man thinks to himself in a rapidly rambling fashion about some unknown deed which he seems torn about committing .\n",
      "On the one hand , he wants to do it , but on the other he tries to convince himself that he is merely toying with the idea and isn ' t serious about pursuing it into action .\n",
      "The youth is revolted by the heat and stench of his surroundings , but loses himself in his thoughts , which sometimes become muddled as he has not eaten much in two days .\n",
      "He is roused from his reverie by a drunk shouting an insult about his hat .\n",
      "Suddenly afraid , he clutches his hat , and mutters feverishly to himself that the hat is too conspicuous and can be \" noticed . . . and remembered \" as evidence .\n",
      "He approaches a house , where he is to \" make a trial of his undertaking \" ( i . e . the unknown deed preying on his mind ) .\n",
      "He climbs up the back stairs to the fourth floor , noting that one of the tenants on that floor is moving out , so that \" for a while only the old woman ' s apartment will be left occupied .\n",
      "That ' s good . . . just in case . . . , \" he thinks before ringing the bell .\n",
      "The door is answered by a suspicious sixty-year-old woman , who mistrustfully lets him in .\n",
      "The young man introduces himself as \" Raskolnikov , a student , \" who had been to her a month ago .\n",
      "The woman remembers him , and lets him come into another room .\n",
      "With his characteristic hyper-awareness , Raskolnikov notes every detail of the spotless room and its furniture .\n",
      "It turns out that this old lady , Alyona Ivanovna , is a pawnbroker , and Raskolnikov had gone to her a month ago with a ring of his father ' s .\n",
      "His pledge has expired , but he begs her to be patient and presents her with an old watch .\n",
      "He asks four roubles ; she offers one and a half with interest paid in advance .\n",
      "Raskolnikov is angered , but he has no other way , and recalling his original purpose of a \" trial , \" he reluctantly accepts her offer .\n",
      "He watches Alyona Ivanovna get out her keys and go into another room .\n",
      "As he waits , he listens and figures out what she is doingopening the top drawer , with which key , etc .\n",
      "She returns with his money , having deducted the interest from not only the current pledge but the previous one as well , so he gets only one rouble 15 kopecks .\n",
      "Raskolnikov doesn ' t argue , and takes the money , then mumbles something about bringing her a nice silver cigarette case later .\n",
      "As he walks out , he asks casually whether she stays at home alone , without her sister , but is answered with a suspicious question only .\n",
      "He leaves as quickly as he can , feeling disturbed , and his agitation increases until , in the middle of the street , he bursts out incredulously about his contemplation of \" such horror , \" which has been dogging his thoughts for a month .\n",
      "This outburst does nothing to relieve him , however , and weaves down the street unevenly until he returns to his senses near a tavern .\n",
      "He immediately enters , suddenly realizing how faint he is from hunger and thirst .\n",
      "Once he drinks a cold beer , he feels relieved , and starts to think more rationally , trying to tell himself that he only needed some nourishment and that there is really nothing to worry about .\n",
      "However , he does sense a dim foreboding that his cheerfulness is just as morbid as his previous state .\n",
      "There are not many people in the tavern : a tradesman , his friendwho has dozed off and awakens every so often to sing some maudlin tuneand someone who looks like a retired official and appears agitated .\n"
     ]
    }
   ],
   "source": [
    "true_retell = get_array_chapters(en_retell_corpus)\n",
    "\n",
    "print(true_retell[0])"
   ]
  },
  {
   "cell_type": "markdown",
   "metadata": {},
   "source": [
    "## Переводим текст из английского пересказа"
   ]
  },
  {
   "cell_type": "code",
   "execution_count": 22,
   "metadata": {},
   "outputs": [
    {
     "name": "stdout",
     "output_type": "stream",
     "text": [
      "В Санкт-Петербурге начало июля.\n",
      "В Петербурге, и очень жарко.\n",
      "Симпатичному молодому человеку, почти нищему и сильно обязанному своей хозяйке, удается незаметно выскользнуть из дома.\n",
      "Он чувствует облегчение не потому, что он трус по натуре, а потому, что с некоторых пор он раздражителен и напряжен и боится вообще с кем-либо встречаться, не говоря уже о своей хозяйке.\n",
      "Молодой человек быстро и бессвязно думает о каком-то неизвестном поступке, о совершении которого он, кажется, рвется.\n",
      "С одной стороны, он хочет это сделать, но с другой, он пытается убедить себя, что он просто играет с идеей и несерьезно претворяет ее в жизнь.\n",
      "Юноша испытывает отвращение к жаре и смраду окружающей среды, но теряется в своих мыслях, которые иногда путаются, поскольку он почти ничего не ел за два дня.\n",
      "Его выводит из задумчивости пьяный, выкрикивающий оскорбления в адрес его шляпы.\n",
      "Внезапно испугавшись, он хватается за шляпу и лихорадочно бормочет про себя, что шляпа слишком бросается в глаза и ее можно \"заметить... и запомнить\" как доказательство.\n",
      "Он приближается к дому, где ему предстоит «испытать свое начинание» (т. е. неизвестное дело терзает его разум).\n",
      "Он поднимается по черной лестнице на четвертый этаж, замечая, что один из жильцов этого этажа съезжает, так что «на время только квартира старухи останется занятой».\n",
      "Это хорошо . . . на всякий случай . . . \", - думает он, прежде чем позвонить в колокольчик.\n",
      "Дверь открывает подозрительная шестидесятилетняя женщина, которая недоверчиво впускает его.\n",
      "Молодой человек представляется как «Раскольников-студент», который был у нее месяц назад.\n",
      "Женщина вспоминает о нем и пропускает в другую комнату.\n",
      "Со свойственной ему сверхсознательностью Раскольников подмечает каждую деталь безупречной комнаты и ее мебели.\n",
      "Оказывается, эта старушка, Алена Ивановна, ростовщица, и Раскольников месяц назад ходил к ней с отцовским кольцом.\n",
      "Срок его залога истек, но он умоляет ее набраться терпения и дарит ей старые часы.\n",
      "Он просит четыре рубля; она предлагает полтора с предоплатой процентов.\n",
      "Раскольников возмущен, но другого выхода у него нет и, вспомнив о своей первоначальной цели «испытания», неохотно принимает ее предложение.\n",
      "Он смотрит, как Алена Ивановна достает ключи и уходит в другую комнату.\n",
      "Пока он ждет, он слушает и выясняет, что она делает: открывает верхний ящик, каким ключом и т. д.\n",
      "Она возвращается с его деньгами, вычитая проценты не только из текущего залога, но и из предыдущего, так что он получает только один рубль 15 копеек.\n",
      "Раскольников не спорит, берет деньги и бормочет что-то о том, чтобы потом принести ей красивый серебряный портсигар.\n",
      "Выходя, он небрежно спрашивает, остается ли она дома одна, без сестры, но ему отвечают только подозрительным вопросом.\n",
      "Он уходит так быстро, как только может, чувствуя себя встревоженным, и волнение его возрастает до тех пор, пока посреди улицы он не вырывается с недоверием о своем созерцании \"такого ужаса\", который преследовал его мысли уже месяц.\n",
      "Однако эта вспышка не приносит ему облегчения и неравномерно плетется по улице, пока он не приходит в себя возле таверны.\n",
      "Он тотчас же входит, вдруг осознав, насколько он слаб от голода и жажды.\n",
      "Как только он выпивает холодное пиво, он чувствует облегчение и начинает думать более рационально, пытаясь сказать себе, что ему нужно только немного подкрепиться и что на самом деле не о чем беспокоиться.\n",
      "Однако он чувствует смутное предчувствие, что его жизнерадостность столь же болезненна, как и его предыдущее состояние.\n",
      "Людей в таверне немного: торговец, его друг, который задремал и время от времени просыпается, чтобы спеть какую-нибудь сентиментальную мелодию, и кто-то, похожий на отставного чиновника и выглядящий взволнованным.\n"
     ]
    }
   ],
   "source": [
    "\n",
    "trans_retell = translate(true_retell)\n",
    "print(trans_retell[0])"
   ]
  },
  {
   "cell_type": "markdown",
   "metadata": {},
   "source": [
    "## Выводим индекс Жаккара для перевода и и русского пересказа"
   ]
  },
  {
   "cell_type": "code",
   "execution_count": 23,
   "metadata": {},
   "outputs": [
    {
     "data": {
      "image/png": "[encoded data removed]",
      "text/plain": [
       "<Figure size 640x480 with 1 Axes>"
      ]
     },
     "metadata": {},
     "output_type": "display_data"
    }
   ],
   "source": [
    "jaccard_sim = np.array([get_jaccard_index(ru_retell[i],trans_retell[i]) for i in range(len(trans_retell))])\n",
    "jac_metric(jaccard_sim)\n",
    "\n"
   ]
  },
  {
   "cell_type": "markdown",
   "metadata": {},
   "source": [
    "## Записываем получившийся перевод в md файл"
   ]
  },
  {
   "cell_type": "code",
   "execution_count": 25,
   "metadata": {},
   "outputs": [],
   "source": [
    "from yo_fluq_ds import FileIO\n",
    "\n",
    "result = ''\n",
    "\n",
    "for text in trans_retell:\n",
    "    result += text\n",
    "\n",
    "\n",
    "FileIO.write_text(result, Path(Loc.root_path/\"corpus/example/processed/ru/translate.md\"))\n"
   ]
  },
  {
   "cell_type": "markdown",
   "metadata": {},
   "source": [
    "## Создаем корпус для перевода"
   ]
  },
  {
   "cell_type": "code",
   "execution_count": 26,
   "metadata": {},
   "outputs": [
    {
     "data": {
      "application/vnd.jupyter.widget-view+json": {
       "model_id": "1ec9f49b6ea740ff83b704c13d6fe847",
       "version_major": 2,
       "version_minor": 0
      },
      "text/plain": [
       "  0%|          | 0/1 [00:00<?, ?it/s]"
      ]
     },
     "metadata": {},
     "output_type": "display_data"
    }
   ],
   "source": [
    "CorpusBuilder.convert_interformat_folder_to_corpus(\n",
    "    Path(Loc.root_path/'tg/projects/retell/translate/demo/translate.base.zip'),\n",
    "    Path(Loc.root_path/\"corpus/example/processed/eng\"),\n",
    "    [\"Name\"],\n",
    "        \n",
    ")"
   ]
  },
  {
   "cell_type": "code",
   "execution_count": 27,
   "metadata": {},
   "outputs": [
    {
     "name": "stdout",
     "output_type": "stream",
     "text": [
      "2023-11-17 14:24:18.626687 INFO: Processing faf426ca-0935-4705-8d5d-5dd684e3e24b at #0, total 7 \n",
      "2023-11-17 14:24:18.627749 INFO: <class 'tg.grammar_ru.features.pymorphy_featurizer.PyMorphyFeaturizer'>\n",
      "2023-11-17 14:24:18.736869 INFO: <class 'tg.grammar_ru.features.slovnet_featurizer.SlovnetFeaturizer'>\n",
      "2023-11-17 14:24:18.967684 INFO: Processing 48b91a4c-b498-47eb-b97e-34ca6d390a45 at #1, total 7 \n",
      "2023-11-17 14:24:18.968699 INFO: <class 'tg.grammar_ru.features.pymorphy_featurizer.PyMorphyFeaturizer'>\n",
      "2023-11-17 14:24:19.074100 INFO: <class 'tg.grammar_ru.features.slovnet_featurizer.SlovnetFeaturizer'>\n",
      "2023-11-17 14:24:19.343419 INFO: Processing 20bd2a55-d9d9-4061-9b6b-29e29351ac71 at #2, total 7 \n",
      "2023-11-17 14:24:19.345429 INFO: <class 'tg.grammar_ru.features.pymorphy_featurizer.PyMorphyFeaturizer'>\n",
      "2023-11-17 14:24:19.446201 INFO: <class 'tg.grammar_ru.features.slovnet_featurizer.SlovnetFeaturizer'>\n",
      "2023-11-17 14:24:19.694329 INFO: Processing 3fba319a-db88-40e5-8988-901bc2f4b228 at #3, total 7 \n",
      "2023-11-17 14:24:19.696386 INFO: <class 'tg.grammar_ru.features.pymorphy_featurizer.PyMorphyFeaturizer'>\n",
      "2023-11-17 14:24:19.779906 INFO: <class 'tg.grammar_ru.features.slovnet_featurizer.SlovnetFeaturizer'>\n",
      "2023-11-17 14:24:20.042954 INFO: Processing e9efba1d-fe54-4c86-b7d1-b6dfc7877b45 at #4, total 7 \n",
      "2023-11-17 14:24:20.043958 INFO: <class 'tg.grammar_ru.features.pymorphy_featurizer.PyMorphyFeaturizer'>\n",
      "2023-11-17 14:24:20.152367 INFO: <class 'tg.grammar_ru.features.slovnet_featurizer.SlovnetFeaturizer'>\n",
      "2023-11-17 14:24:20.435653 INFO: Processing 114d2b73-d7cb-41b3-a68d-6f3e98dfba78 at #5, total 7 \n",
      "2023-11-17 14:24:20.437637 INFO: <class 'tg.grammar_ru.features.pymorphy_featurizer.PyMorphyFeaturizer'>\n",
      "2023-11-17 14:24:20.552354 INFO: <class 'tg.grammar_ru.features.slovnet_featurizer.SlovnetFeaturizer'>\n",
      "2023-11-17 14:24:20.906339 INFO: Processing 38251f73-da8a-43e4-87f2-807085e88f41 at #6, total 7 \n",
      "2023-11-17 14:24:20.907348 INFO: <class 'tg.grammar_ru.features.pymorphy_featurizer.PyMorphyFeaturizer'>\n",
      "2023-11-17 14:24:21.012881 INFO: <class 'tg.grammar_ru.features.slovnet_featurizer.SlovnetFeaturizer'>\n"
     ]
    }
   ],
   "source": [
    "CorpusBuilder.featurize_corpus(\n",
    "        Path(Loc.root_path/'tg/projects/retell/translate/demo/translate.base.zip'),\n",
    "        Path(Loc.root_path/'tg/projects/retell/translate/demo/translate.featurized.corpus.zip'),\n",
    "        [\n",
    "            PyMorphyFeaturizer(),\n",
    "            SlovnetFeaturizer()\n",
    "        ]\n",
    "    )"
   ]
  }
 ],
 "metadata": {
  "kernelspec": {
   "display_name": "grammar",
   "language": "python",
   "name": "python3"
  },
  "language_info": {
   "codemirror_mode": {
    "name": "ipython",
    "version": 3
   },
   "file_extension": ".py",
   "mimetype": "text/x-python",
   "name": "python",
   "nbconvert_exporter": "python",
   "pygments_lexer": "ipython3",
   "version": "3.9.18"
  }
 },
 "nbformat": 4,
 "nbformat_minor": 2
}
