{
 "cells": [
  {
   "attachments": {},
   "cell_type": "markdown",
   "metadata": {},
   "source": [
    "Удалось получить confusion-матрицу из единиц на диагонали для прилагательных одного склонения. (НОВЫЙ и ХОРОШИЙ)\n",
    "\n",
    "Теперь хотим собрать одну сеть для предсказания окончания всех склонений."
   ]
  },
  {
   "cell_type": "markdown",
   "metadata": {},
   "source": []
  },
  {
   "attachments": {},
   "cell_type": "markdown",
   "metadata": {},
   "source": [
    "imports"
   ]
  },
  {
   "cell_type": "code",
   "execution_count": 1,
   "metadata": {},
   "outputs": [],
   "source": [
    "import ast\n",
    "import seaborn as sns\n",
    "from plotly.offline import download_plotlyjs, init_notebook_mode, plot\n",
    "import plotly.graph_objs as go\n",
    "import matplotlib.pyplot as plt\n",
    "from tg.grammar_ru.common import Loc\n",
    "from tg.grammar_ru.corpus import CorpusReader, CorpusBuilder, BucketCorpusBalancer\n",
    "from tg.grammar_ru.corpus.corpus_reader import read_data\n",
    "import os\n",
    "from pathlib import Path\n",
    "from dotenv import load_dotenv\n",
    "load_dotenv(Loc.root_path / 'environment.env')\n",
    "from tg.grammar_ru.components.yandex_storage.s3_yandex_helpers import S3YandexHandler\n",
    "from tg.grammar_ru.components.yandex_delivery.training_logs import S3TrainingLogsLoader, TrainingLogsViewer\n",
    "\n",
    "from yo_fluq_ds import Queryable, Query, fluq\n",
    "import plotly.express as px\n",
    "from tg.grammar_ru.common import Separator\n",
    "\n",
    "from typing import List, Union\n",
    "import numpy as np\n",
    "import torch\n",
    "import math\n",
    "import pandas as pd\n",
    "from sklearn.metrics import confusion_matrix\n",
    "from tg.common import DataBundle\n",
    "from tg.common.ml.batched_training import IndexedDataBundle\n",
    "from tg.grammar_ru.components.plain_context_builder import PlainContextBuilder\n",
    "\n",
    "pd.set_option('display.max_rows', 500)\n",
    "from analysis_tools import get_training_results, plot_metrics, plot_cm"
   ]
  },
  {
   "cell_type": "code",
   "execution_count": 2,
   "metadata": {},
   "outputs": [],
   "source": [
    "from tg.common import DataBundle\n",
    "from tg.common.ml.batched_training import IndexedDataBundle\n",
    "from tg.grammar_ru.components.plain_context_builder import PlainContextBuilder\n",
    "bundle_0_declination_path = Loc.data_cache_path/'bundles/agreement/mid50_0_declination'\n",
    "bundle_all_declination_path = Loc.data_cache_path/'bundles/agreement/mid50_all_decl'"
   ]
  },
  {
   "cell_type": "code",
   "execution_count": 3,
   "metadata": {},
   "outputs": [],
   "source": [
    "# db = DataBundle.load(bundle_all_declination_path)\n",
    "# db.index.head()\n",
    "\n"
   ]
  },
  {
   "cell_type": "code",
   "execution_count": null,
   "metadata": {},
   "outputs": [],
   "source": []
  },
  {
   "attachments": {},
   "cell_type": "markdown",
   "metadata": {},
   "source": [
    "endings & calculate masks"
   ]
  },
  {
   "cell_type": "code",
   "execution_count": 4,
   "metadata": {},
   "outputs": [],
   "source": [
    "NEW = {'ая', 'ого', 'ое', 'ой', 'ом', 'ому',\n",
    "       'ую', 'ые', 'ый', 'ым', 'ыми', 'ых'}\n",
    "# NOTE выкинули 'ою'\n",
    "\n",
    "GOOD = {'ая', 'его', 'ее', 'ей', 'ем', 'ему',\n",
    "        'ие', 'ий', 'им', 'ими', 'их', 'ую', 'яя', 'юю',\n",
    "        'ого','ое', 'ой', 'ому', 'ом'} # легкий\n",
    "\n",
    "BIG = {'ая', 'ие', 'им', 'ими', 'их', 'ого',\n",
    "       'ое', 'ой', 'ом', 'ому', 'ую',\n",
    "       'ые', 'ым', 'ыми', 'ых'} # золотой\n",
    "# NOTE выкинули 'ою'\n",
    "\n",
    "NEW_list = sorted(list(NEW))\n",
    "GOOD_list = sorted(list(GOOD))\n",
    "BIG_list = sorted(list(BIG))\n",
    "# окончания с повторами. это фича.\n",
    "ALL_ENDS_list = NEW_list + GOOD_list + BIG_list\n",
    "POSSIBLE_ENDINGS = set(ALL_ENDS_list)\n",
    "endings_nums = {e: i for i, e in enumerate(ALL_ENDS_list)}\n",
    "\n",
    "NEW_num_by_end = {e: i for i, e in enumerate(NEW_list)}\n",
    "GOOD_num_by_end = {e: i+len(NEW_num_by_end) for i, e in enumerate(GOOD_list)}\n",
    "BIG_num_by_end = {e: i+len(NEW_num_by_end)+len(GOOD_num_by_end)\n",
    "                  for i, e in enumerate(BIG_list)}\n",
    "\n",
    "nums_by_decl_and_end = (\n",
    "    {('new', e): n for e, n in NEW_num_by_end.items()} |\n",
    "    {('good', e): n for e, n in GOOD_num_by_end.items()} |\n",
    "    {('big', e): n for e, n in BIG_num_by_end.items()}\n",
    ")\n",
    "end_num_df = pd.DataFrame(list((0, e, n) for e, n in NEW_num_by_end.items()) +\n",
    "                          list((1, e, n) for e, n in GOOD_num_by_end.items()) +\n",
    "                          list((2, e, n) for e, n in BIG_num_by_end.items()),\n",
    "                          columns=['declension_type', 'ending', 'n']\n",
    "                          )\n",
    "mask_NEW = (end_num_df.declension_type==0).astype(int).values\n",
    "mask_GOOD = (end_num_df.declension_type==1).astype(int).values\n",
    "mask_BIG = (end_num_df.declension_type==2).astype(int).values\n",
    "decl_end_by_num = {n: k for k, n in nums_by_decl_and_end}\n"
   ]
  },
  {
   "cell_type": "code",
   "execution_count": 5,
   "metadata": {},
   "outputs": [
    {
     "data": {
      "text/html": [
       "<div>\n",
       "<style scoped>\n",
       "    .dataframe tbody tr th:only-of-type {\n",
       "        vertical-align: middle;\n",
       "    }\n",
       "\n",
       "    .dataframe tbody tr th {\n",
       "        vertical-align: top;\n",
       "    }\n",
       "\n",
       "    .dataframe thead th {\n",
       "        text-align: right;\n",
       "    }\n",
       "</style>\n",
       "<table border=\"1\" class=\"dataframe\">\n",
       "  <thead>\n",
       "    <tr style=\"text-align: right;\">\n",
       "      <th></th>\n",
       "      <th>mask0</th>\n",
       "      <th>mask1</th>\n",
       "      <th>mask2</th>\n",
       "      <th>mask3</th>\n",
       "      <th>mask4</th>\n",
       "      <th>mask5</th>\n",
       "      <th>mask6</th>\n",
       "      <th>mask7</th>\n",
       "      <th>mask8</th>\n",
       "      <th>mask9</th>\n",
       "      <th>...</th>\n",
       "      <th>mask36</th>\n",
       "      <th>mask37</th>\n",
       "      <th>mask38</th>\n",
       "      <th>mask39</th>\n",
       "      <th>mask40</th>\n",
       "      <th>mask41</th>\n",
       "      <th>mask42</th>\n",
       "      <th>mask43</th>\n",
       "      <th>mask44</th>\n",
       "      <th>mask45</th>\n",
       "    </tr>\n",
       "    <tr>\n",
       "      <th>declension_type</th>\n",
       "      <th></th>\n",
       "      <th></th>\n",
       "      <th></th>\n",
       "      <th></th>\n",
       "      <th></th>\n",
       "      <th></th>\n",
       "      <th></th>\n",
       "      <th></th>\n",
       "      <th></th>\n",
       "      <th></th>\n",
       "      <th></th>\n",
       "      <th></th>\n",
       "      <th></th>\n",
       "      <th></th>\n",
       "      <th></th>\n",
       "      <th></th>\n",
       "      <th></th>\n",
       "      <th></th>\n",
       "      <th></th>\n",
       "      <th></th>\n",
       "      <th></th>\n",
       "    </tr>\n",
       "  </thead>\n",
       "  <tbody>\n",
       "    <tr>\n",
       "      <th>0</th>\n",
       "      <td>1</td>\n",
       "      <td>1</td>\n",
       "      <td>1</td>\n",
       "      <td>1</td>\n",
       "      <td>1</td>\n",
       "      <td>1</td>\n",
       "      <td>1</td>\n",
       "      <td>1</td>\n",
       "      <td>1</td>\n",
       "      <td>1</td>\n",
       "      <td>...</td>\n",
       "      <td>0</td>\n",
       "      <td>0</td>\n",
       "      <td>0</td>\n",
       "      <td>0</td>\n",
       "      <td>0</td>\n",
       "      <td>0</td>\n",
       "      <td>0</td>\n",
       "      <td>0</td>\n",
       "      <td>0</td>\n",
       "      <td>0</td>\n",
       "    </tr>\n",
       "    <tr>\n",
       "      <th>1</th>\n",
       "      <td>0</td>\n",
       "      <td>0</td>\n",
       "      <td>0</td>\n",
       "      <td>0</td>\n",
       "      <td>0</td>\n",
       "      <td>0</td>\n",
       "      <td>0</td>\n",
       "      <td>0</td>\n",
       "      <td>0</td>\n",
       "      <td>0</td>\n",
       "      <td>...</td>\n",
       "      <td>0</td>\n",
       "      <td>0</td>\n",
       "      <td>0</td>\n",
       "      <td>0</td>\n",
       "      <td>0</td>\n",
       "      <td>0</td>\n",
       "      <td>0</td>\n",
       "      <td>0</td>\n",
       "      <td>0</td>\n",
       "      <td>0</td>\n",
       "    </tr>\n",
       "    <tr>\n",
       "      <th>2</th>\n",
       "      <td>0</td>\n",
       "      <td>0</td>\n",
       "      <td>0</td>\n",
       "      <td>0</td>\n",
       "      <td>0</td>\n",
       "      <td>0</td>\n",
       "      <td>0</td>\n",
       "      <td>0</td>\n",
       "      <td>0</td>\n",
       "      <td>0</td>\n",
       "      <td>...</td>\n",
       "      <td>1</td>\n",
       "      <td>1</td>\n",
       "      <td>1</td>\n",
       "      <td>1</td>\n",
       "      <td>1</td>\n",
       "      <td>1</td>\n",
       "      <td>1</td>\n",
       "      <td>1</td>\n",
       "      <td>1</td>\n",
       "      <td>1</td>\n",
       "    </tr>\n",
       "  </tbody>\n",
       "</table>\n",
       "<p>3 rows × 46 columns</p>\n",
       "</div>"
      ],
      "text/plain": [
       "                 mask0  mask1  mask2  mask3  mask4  mask5  mask6  mask7  \\\n",
       "declension_type                                                           \n",
       "0                    1      1      1      1      1      1      1      1   \n",
       "1                    0      0      0      0      0      0      0      0   \n",
       "2                    0      0      0      0      0      0      0      0   \n",
       "\n",
       "                 mask8  mask9  ...  mask36  mask37  mask38  mask39  mask40  \\\n",
       "declension_type                ...                                           \n",
       "0                    1      1  ...       0       0       0       0       0   \n",
       "1                    0      0  ...       0       0       0       0       0   \n",
       "2                    0      0  ...       1       1       1       1       1   \n",
       "\n",
       "                 mask41  mask42  mask43  mask44  mask45  \n",
       "declension_type                                          \n",
       "0                     0       0       0       0       0  \n",
       "1                     0       0       0       0       0  \n",
       "2                     1       1       1       1       1  \n",
       "\n",
       "[3 rows x 46 columns]"
      ]
     },
     "execution_count": 5,
     "metadata": {},
     "output_type": "execute_result"
    }
   ],
   "source": [
    "masks = pd.DataFrame(np.stack([mask_NEW,mask_GOOD, mask_BIG]), columns=[\n",
    "    f'mask{i}' for i in range(len(mask_NEW))\n",
    "])\n",
    "masks.index.name = 'declension_type'\n",
    "masks"
   ]
  },
  {
   "cell_type": "code",
   "execution_count": 6,
   "metadata": {},
   "outputs": [],
   "source": [
    "project_name = 'agreementproject'\n",
    "dataset_name = 'agreement_adj_mid50_all_decl_masked'\n",
    "bucket = 'agreementadjbucket'"
   ]
  },
  {
   "attachments": {},
   "cell_type": "markdown",
   "metadata": {},
   "source": [
    "## Add masks to bundle"
   ]
  },
  {
   "cell_type": "code",
   "execution_count": 7,
   "metadata": {},
   "outputs": [],
   "source": [
    "mid_all_decl_path = Loc.data_cache_path/f'bundles/agreement/mid50_all_decl'\n",
    "mid_all_decl_masked_path = Loc.data_cache_path / \\\n",
    "    f'bundles/agreement/mid50_all_decl_masked'\n",
    "# db = DataBundle.load(mid_all_decl_path)\n"
   ]
  },
  {
   "cell_type": "code",
   "execution_count": 8,
   "metadata": {},
   "outputs": [],
   "source": [
    "# db.index.label.nunique()\n",
    "from tg.projects.agreement.bundles_tools import set_mask, upload_bundle\n",
    "\n",
    "\n",
    "set_mask(mid_all_decl_path, mid_all_decl_masked_path, masks)\n",
    "upload_bundle(mid_all_decl_masked_path,\n",
    "              'agreement_adj_mid50_all_decl_masked', bucket, project_name)\n"
   ]
  },
  {
   "cell_type": "code",
   "execution_count": 10,
   "metadata": {},
   "outputs": [
    {
     "data": {
      "text/plain": [
       "46"
      ]
     },
     "execution_count": 10,
     "metadata": {},
     "output_type": "execute_result"
    }
   ],
   "source": [
    "db = DataBundle.load(mid_all_decl_masked_path)\n",
    "db.index.label.nunique()"
   ]
  },
  {
   "cell_type": "code",
   "execution_count": 6,
   "metadata": {},
   "outputs": [],
   "source": [
    "name = 'mid50'\n",
    "db = DataBundle.load(Loc.data_cache_path/f'bundles/agreement/{name}_all_decl')\n",
    "db['index'] = pd.merge(db.index, masks, left_on='declension_type',\n",
    "                       right_index=True)\n",
    "db = db.copy()\n",
    "db.save(Loc.data_cache_path/f'bundles/agreement/{name}_all_decl_masked')\n"
   ]
  },
  {
   "cell_type": "code",
   "execution_count": 7,
   "metadata": {},
   "outputs": [
    {
     "data": {
      "text/plain": [
       "46"
      ]
     },
     "execution_count": 7,
     "metadata": {},
     "output_type": "execute_result"
    }
   ],
   "source": [
    "DataBundle.load(Loc.data_cache_path/f'bundles/agreement/tiny_all_decl_masked').index.label.nunique()"
   ]
  },
  {
   "cell_type": "code",
   "execution_count": 31,
   "metadata": {},
   "outputs": [
    {
     "name": "stdout",
     "output_type": "stream",
     "text": [
      "{'good': ['его', 'ее', 'яя', 'ем', 'ему', 'ий', 'юю', 'ей'], 'big,good': ['ие', 'им', 'ими', 'их'], 'big,good,new': ['ую', 'ая', 'ой', 'ому', 'ого', 'ом', 'ое'], 'big,new': ['ые', 'ым', 'ыми', 'ых'], 'new': ['ый']}\n"
     ]
    }
   ],
   "source": [
    "import eule\n",
    "diagram = eule.euler({\n",
    "    'new':list(NEW),\n",
    "    'good':list(GOOD),\n",
    "    'big':list(BIG),\n",
    "                      })\n",
    "print(diagram)"
   ]
  },
  {
   "cell_type": "code",
   "execution_count": 9,
   "metadata": {},
   "outputs": [],
   "source": [
    "from tg.grammar_ru.features import PyMorphyFeaturizer, SlovnetFeaturizer, SyntaxTreeFeaturizer, SyntaxStatsFeaturizer\n",
    "from tg.grammar_ru.common import Loc\n",
    "from yo_fluq_ds import *\n",
    "\n",
    "from tg.grammar_ru.corpus import CorpusBuilder\n",
    "from tg.projects.agreement.bundle import AdjAgreementTrainIndexBuilder"
   ]
  },
  {
   "cell_type": "code",
   "execution_count": 10,
   "metadata": {},
   "outputs": [],
   "source": [
    "BALANCED_PATH = Loc.corpus_path/\"prepare/balanced/books&pub_tiny_balanced.zip\"\n",
    "reader = CorpusReader(BALANCED_PATH)\n"
   ]
  },
  {
   "cell_type": "code",
   "execution_count": 11,
   "metadata": {},
   "outputs": [],
   "source": [
    "# df =AdjAgreementTrainIndexBuilder().select(_,reader.get_frames().first(),_)[0]"
   ]
  },
  {
   "cell_type": "code",
   "execution_count": 9,
   "metadata": {},
   "outputs": [],
   "source": []
  },
  {
   "cell_type": "code",
   "execution_count": null,
   "metadata": {},
   "outputs": [],
   "source": []
  },
  {
   "cell_type": "code",
   "execution_count": 15,
   "metadata": {},
   "outputs": [
    {
     "name": "stdout",
     "output_type": "stream",
     "text": [
      "output/\n",
      "output/batcher.pkl\n",
      "output/history.pkl\n",
      "output/info.pkl\n",
      "output/metrics.pkl\n",
      "output/model.pkl\n",
      "output/result_df.parquet\n",
      "output/test_splits.pkl\n",
      "output/train_split.pkl\n",
      "output/training_task.pkl\n"
     ]
    },
    {
     "data": {
      "image/png": "[encoded data removed]",
      "text/plain": [
       "<Figure size 640x480 with 1 Axes>"
      ]
     },
     "metadata": {},
     "output_type": "display_data"
    }
   ],
   "source": [
    "job_name = 'datasphere/agreementproject/job_info/job_agreementproject_15:22:29.288161.txt'\n",
    "metrics, result_df, y_true, y_pred, tasks = get_training_results(bucket,job_name, project_name)\n",
    "\n",
    "\n",
    "plot_metrics(metrics, tasks[0])\n",
    "sorted_nums = sorted(list(y_true.unique()))\n",
    "# cm = pd.DataFrame(\n",
    "#     confusion_matrix(y_true, y_pred,\n",
    "#                         # normalize='true'\n",
    "#                      ).round(2),\n",
    "#     columns=[f'pred {decl_end_by_num[n]}' for n in sorted_nums],\n",
    "#     index=[f'actual {decl_end_by_num[n]}' for n in sorted_nums]\n",
    "# )\n",
    "# plot_cm(cm)\n",
    "# cm = pd.DataFrame(\n",
    "#     confusion_matrix(y_true, y_pred,\n",
    "#                         normalize='true'\n",
    "#                      ).round(2),\n",
    "#     columns=[f'pred {ending_by_num[n]}({n})' for n in sorted_nums],\n",
    "#     index=[f'actual {ending_by_num[n]}({n})' for n in sorted_nums]\n",
    "# )\n",
    "# plot_cm(cm)\n"
   ]
  },
  {
   "cell_type": "code",
   "execution_count": 16,
   "metadata": {},
   "outputs": [
    {
     "data": {
      "text/plain": [
       "[31, 32, 33, 34, 35, 36, 37, 38, 39, 40, 41, 42, 43, 44, 45]"
      ]
     },
     "execution_count": 16,
     "metadata": {},
     "output_type": "execute_result"
    }
   ],
   "source": [
    "sorted(y_true.unique())"
   ]
  },
  {
   "cell_type": "code",
   "execution_count": 17,
   "metadata": {},
   "outputs": [
    {
     "data": {
      "text/plain": [
       "[38]"
      ]
     },
     "execution_count": 17,
     "metadata": {},
     "output_type": "execute_result"
    }
   ],
   "source": [
    "sorted(y_pred.unique())\n"
   ]
  },
  {
   "cell_type": "code",
   "execution_count": 9,
   "metadata": {},
   "outputs": [
    {
     "data": {
      "text/plain": [
       "{'ая': 31,\n",
       " 'ие': 32,\n",
       " 'им': 33,\n",
       " 'ими': 34,\n",
       " 'их': 35,\n",
       " 'ого': 36,\n",
       " 'ое': 37,\n",
       " 'ой': 38,\n",
       " 'ом': 39,\n",
       " 'ому': 40,\n",
       " 'ую': 41,\n",
       " 'ые': 42,\n",
       " 'ым': 43,\n",
       " 'ыми': 44,\n",
       " 'ых': 45}"
      ]
     },
     "execution_count": 9,
     "metadata": {},
     "output_type": "execute_result"
    }
   ],
   "source": [
    "BIG_num_by_end"
   ]
  },
  {
   "cell_type": "code",
   "execution_count": 4,
   "metadata": {},
   "outputs": [],
   "source": [
    "db = DataBundle.load(Loc.data_cache_path/f'bundles/agreement/mid50_all_decl')"
   ]
  },
  {
   "cell_type": "code",
   "execution_count": 11,
   "metadata": {},
   "outputs": [
    {
     "data": {
      "text/plain": [
       "46"
      ]
     },
     "execution_count": 11,
     "metadata": {},
     "output_type": "execute_result"
    }
   ],
   "source": [
    "len(db.index[db.index.split=='test'].label.unique())"
   ]
  },
  {
   "cell_type": "code",
   "execution_count": 19,
   "metadata": {},
   "outputs": [],
   "source": [
    "pred_col_names = [c for c in result_df.columns if 'predicted_label' in c ]\n",
    "true_col_names = [c for c in result_df.columns if 'true_label' in c ]"
   ]
  },
  {
   "cell_type": "code",
   "execution_count": 20,
   "metadata": {},
   "outputs": [
    {
     "data": {
      "text/html": [
       "<div>\n",
       "<style scoped>\n",
       "    .dataframe tbody tr th:only-of-type {\n",
       "        vertical-align: middle;\n",
       "    }\n",
       "\n",
       "    .dataframe tbody tr th {\n",
       "        vertical-align: top;\n",
       "    }\n",
       "\n",
       "    .dataframe thead th {\n",
       "        text-align: right;\n",
       "    }\n",
       "</style>\n",
       "<table border=\"1\" class=\"dataframe\">\n",
       "  <thead>\n",
       "    <tr style=\"text-align: right;\">\n",
       "      <th></th>\n",
       "      <th>predicted_label_38</th>\n",
       "      <th>predicted_label_37</th>\n",
       "      <th>predicted_label_35</th>\n",
       "      <th>predicted_label_36</th>\n",
       "      <th>predicted_label_33</th>\n",
       "      <th>predicted_label_42</th>\n",
       "      <th>predicted_label_32</th>\n",
       "      <th>predicted_label_31</th>\n",
       "      <th>predicted_label_45</th>\n",
       "      <th>predicted_label_41</th>\n",
       "      <th>predicted_label_43</th>\n",
       "      <th>predicted_label_39</th>\n",
       "      <th>predicted_label_34</th>\n",
       "      <th>predicted_label_44</th>\n",
       "      <th>predicted_label_40</th>\n",
       "    </tr>\n",
       "    <tr>\n",
       "      <th>sample_id</th>\n",
       "      <th></th>\n",
       "      <th></th>\n",
       "      <th></th>\n",
       "      <th></th>\n",
       "      <th></th>\n",
       "      <th></th>\n",
       "      <th></th>\n",
       "      <th></th>\n",
       "      <th></th>\n",
       "      <th></th>\n",
       "      <th></th>\n",
       "      <th></th>\n",
       "      <th></th>\n",
       "      <th></th>\n",
       "      <th></th>\n",
       "    </tr>\n",
       "  </thead>\n",
       "  <tbody>\n",
       "    <tr>\n",
       "      <th>55</th>\n",
       "      <td>1.0</td>\n",
       "      <td>7.118623e-24</td>\n",
       "      <td>1.161089e-12</td>\n",
       "      <td>1.547536e-12</td>\n",
       "      <td>1.449788e-12</td>\n",
       "      <td>1.284782e-12</td>\n",
       "      <td>1.034543e-13</td>\n",
       "      <td>1.238538e-12</td>\n",
       "      <td>1.157425e-12</td>\n",
       "      <td>5.031924e-38</td>\n",
       "      <td>1.142922e-12</td>\n",
       "      <td>1.118721e-12</td>\n",
       "      <td>1.130348e-12</td>\n",
       "      <td>1.092420e-12</td>\n",
       "      <td>1.057740e-12</td>\n",
       "    </tr>\n",
       "    <tr>\n",
       "      <th>62</th>\n",
       "      <td>1.0</td>\n",
       "      <td>7.118515e-24</td>\n",
       "      <td>1.161089e-12</td>\n",
       "      <td>1.547477e-12</td>\n",
       "      <td>1.449811e-12</td>\n",
       "      <td>1.284787e-12</td>\n",
       "      <td>1.034637e-13</td>\n",
       "      <td>1.238547e-12</td>\n",
       "      <td>1.157430e-12</td>\n",
       "      <td>5.032500e-38</td>\n",
       "      <td>1.142935e-12</td>\n",
       "      <td>1.118725e-12</td>\n",
       "      <td>1.130357e-12</td>\n",
       "      <td>1.092429e-12</td>\n",
       "      <td>1.057744e-12</td>\n",
       "    </tr>\n",
       "    <tr>\n",
       "      <th>107</th>\n",
       "      <td>1.0</td>\n",
       "      <td>7.118570e-24</td>\n",
       "      <td>1.161018e-12</td>\n",
       "      <td>1.547536e-12</td>\n",
       "      <td>1.449694e-12</td>\n",
       "      <td>1.284760e-12</td>\n",
       "      <td>1.034580e-13</td>\n",
       "      <td>1.238519e-12</td>\n",
       "      <td>1.157408e-12</td>\n",
       "      <td>5.031694e-38</td>\n",
       "      <td>1.142909e-12</td>\n",
       "      <td>1.118697e-12</td>\n",
       "      <td>1.130327e-12</td>\n",
       "      <td>1.092402e-12</td>\n",
       "      <td>1.057716e-12</td>\n",
       "    </tr>\n",
       "    <tr>\n",
       "      <th>120</th>\n",
       "      <td>1.0</td>\n",
       "      <td>7.118596e-24</td>\n",
       "      <td>1.161018e-12</td>\n",
       "      <td>1.547548e-12</td>\n",
       "      <td>1.449700e-12</td>\n",
       "      <td>1.284760e-12</td>\n",
       "      <td>1.034578e-13</td>\n",
       "      <td>1.238519e-12</td>\n",
       "      <td>1.157408e-12</td>\n",
       "      <td>5.031732e-38</td>\n",
       "      <td>1.142909e-12</td>\n",
       "      <td>1.118700e-12</td>\n",
       "      <td>1.130327e-12</td>\n",
       "      <td>1.092404e-12</td>\n",
       "      <td>1.057724e-12</td>\n",
       "    </tr>\n",
       "    <tr>\n",
       "      <th>127</th>\n",
       "      <td>1.0</td>\n",
       "      <td>7.115745e-24</td>\n",
       "      <td>1.162419e-12</td>\n",
       "      <td>1.546026e-12</td>\n",
       "      <td>1.451703e-12</td>\n",
       "      <td>1.285218e-12</td>\n",
       "      <td>1.035727e-13</td>\n",
       "      <td>1.239001e-12</td>\n",
       "      <td>1.157779e-12</td>\n",
       "      <td>5.046419e-38</td>\n",
       "      <td>1.143343e-12</td>\n",
       "      <td>1.119146e-12</td>\n",
       "      <td>1.130814e-12</td>\n",
       "      <td>1.092852e-12</td>\n",
       "      <td>1.058083e-12</td>\n",
       "    </tr>\n",
       "    <tr>\n",
       "      <th>...</th>\n",
       "      <td>...</td>\n",
       "      <td>...</td>\n",
       "      <td>...</td>\n",
       "      <td>...</td>\n",
       "      <td>...</td>\n",
       "      <td>...</td>\n",
       "      <td>...</td>\n",
       "      <td>...</td>\n",
       "      <td>...</td>\n",
       "      <td>...</td>\n",
       "      <td>...</td>\n",
       "      <td>...</td>\n",
       "      <td>...</td>\n",
       "      <td>...</td>\n",
       "      <td>...</td>\n",
       "    </tr>\n",
       "    <tr>\n",
       "      <th>152249</th>\n",
       "      <td>1.0</td>\n",
       "      <td>7.119709e-24</td>\n",
       "      <td>1.162849e-12</td>\n",
       "      <td>1.547460e-12</td>\n",
       "      <td>1.452055e-12</td>\n",
       "      <td>1.285304e-12</td>\n",
       "      <td>1.033702e-13</td>\n",
       "      <td>1.239015e-12</td>\n",
       "      <td>1.157946e-12</td>\n",
       "      <td>5.036841e-38</td>\n",
       "      <td>1.143241e-12</td>\n",
       "      <td>1.119261e-12</td>\n",
       "      <td>1.130857e-12</td>\n",
       "      <td>1.092893e-12</td>\n",
       "      <td>1.058241e-12</td>\n",
       "    </tr>\n",
       "    <tr>\n",
       "      <th>152274</th>\n",
       "      <td>1.0</td>\n",
       "      <td>7.118651e-24</td>\n",
       "      <td>1.161076e-12</td>\n",
       "      <td>1.547501e-12</td>\n",
       "      <td>1.449739e-12</td>\n",
       "      <td>1.284777e-12</td>\n",
       "      <td>1.034614e-13</td>\n",
       "      <td>1.238533e-12</td>\n",
       "      <td>1.157421e-12</td>\n",
       "      <td>5.032155e-38</td>\n",
       "      <td>1.142922e-12</td>\n",
       "      <td>1.118715e-12</td>\n",
       "      <td>1.130346e-12</td>\n",
       "      <td>1.092418e-12</td>\n",
       "      <td>1.057732e-12</td>\n",
       "    </tr>\n",
       "    <tr>\n",
       "      <th>152303</th>\n",
       "      <td>1.0</td>\n",
       "      <td>7.118216e-24</td>\n",
       "      <td>1.162578e-12</td>\n",
       "      <td>1.546946e-12</td>\n",
       "      <td>1.451775e-12</td>\n",
       "      <td>1.285243e-12</td>\n",
       "      <td>1.034503e-13</td>\n",
       "      <td>1.238977e-12</td>\n",
       "      <td>1.157845e-12</td>\n",
       "      <td>5.040031e-38</td>\n",
       "      <td>1.143262e-12</td>\n",
       "      <td>1.119182e-12</td>\n",
       "      <td>1.130805e-12</td>\n",
       "      <td>1.092845e-12</td>\n",
       "      <td>1.058148e-12</td>\n",
       "    </tr>\n",
       "    <tr>\n",
       "      <th>152338</th>\n",
       "      <td>1.0</td>\n",
       "      <td>7.118678e-24</td>\n",
       "      <td>1.161147e-12</td>\n",
       "      <td>1.547536e-12</td>\n",
       "      <td>1.449866e-12</td>\n",
       "      <td>1.284799e-12</td>\n",
       "      <td>1.034527e-13</td>\n",
       "      <td>1.238552e-12</td>\n",
       "      <td>1.157447e-12</td>\n",
       "      <td>5.032193e-38</td>\n",
       "      <td>1.142931e-12</td>\n",
       "      <td>1.118742e-12</td>\n",
       "      <td>1.130365e-12</td>\n",
       "      <td>1.092439e-12</td>\n",
       "      <td>1.057756e-12</td>\n",
       "    </tr>\n",
       "    <tr>\n",
       "      <th>152342</th>\n",
       "      <td>1.0</td>\n",
       "      <td>7.108556e-24</td>\n",
       "      <td>1.166180e-12</td>\n",
       "      <td>1.542144e-12</td>\n",
       "      <td>1.456971e-12</td>\n",
       "      <td>1.286481e-12</td>\n",
       "      <td>1.038766e-13</td>\n",
       "      <td>1.240249e-12</td>\n",
       "      <td>1.158724e-12</td>\n",
       "      <td>5.085377e-38</td>\n",
       "      <td>1.144563e-12</td>\n",
       "      <td>1.120320e-12</td>\n",
       "      <td>1.132070e-12</td>\n",
       "      <td>1.094024e-12</td>\n",
       "      <td>1.059024e-12</td>\n",
       "    </tr>\n",
       "  </tbody>\n",
       "</table>\n",
       "<p>91419 rows × 15 columns</p>\n",
       "</div>"
      ],
      "text/plain": [
       "           predicted_label_38  predicted_label_37  predicted_label_35  \\\n",
       "sample_id                                                               \n",
       "55                        1.0        7.118623e-24        1.161089e-12   \n",
       "62                        1.0        7.118515e-24        1.161089e-12   \n",
       "107                       1.0        7.118570e-24        1.161018e-12   \n",
       "120                       1.0        7.118596e-24        1.161018e-12   \n",
       "127                       1.0        7.115745e-24        1.162419e-12   \n",
       "...                       ...                 ...                 ...   \n",
       "152249                    1.0        7.119709e-24        1.162849e-12   \n",
       "152274                    1.0        7.118651e-24        1.161076e-12   \n",
       "152303                    1.0        7.118216e-24        1.162578e-12   \n",
       "152338                    1.0        7.118678e-24        1.161147e-12   \n",
       "152342                    1.0        7.108556e-24        1.166180e-12   \n",
       "\n",
       "           predicted_label_36  predicted_label_33  predicted_label_42  \\\n",
       "sample_id                                                               \n",
       "55               1.547536e-12        1.449788e-12        1.284782e-12   \n",
       "62               1.547477e-12        1.449811e-12        1.284787e-12   \n",
       "107              1.547536e-12        1.449694e-12        1.284760e-12   \n",
       "120              1.547548e-12        1.449700e-12        1.284760e-12   \n",
       "127              1.546026e-12        1.451703e-12        1.285218e-12   \n",
       "...                       ...                 ...                 ...   \n",
       "152249           1.547460e-12        1.452055e-12        1.285304e-12   \n",
       "152274           1.547501e-12        1.449739e-12        1.284777e-12   \n",
       "152303           1.546946e-12        1.451775e-12        1.285243e-12   \n",
       "152338           1.547536e-12        1.449866e-12        1.284799e-12   \n",
       "152342           1.542144e-12        1.456971e-12        1.286481e-12   \n",
       "\n",
       "           predicted_label_32  predicted_label_31  predicted_label_45  \\\n",
       "sample_id                                                               \n",
       "55               1.034543e-13        1.238538e-12        1.157425e-12   \n",
       "62               1.034637e-13        1.238547e-12        1.157430e-12   \n",
       "107              1.034580e-13        1.238519e-12        1.157408e-12   \n",
       "120              1.034578e-13        1.238519e-12        1.157408e-12   \n",
       "127              1.035727e-13        1.239001e-12        1.157779e-12   \n",
       "...                       ...                 ...                 ...   \n",
       "152249           1.033702e-13        1.239015e-12        1.157946e-12   \n",
       "152274           1.034614e-13        1.238533e-12        1.157421e-12   \n",
       "152303           1.034503e-13        1.238977e-12        1.157845e-12   \n",
       "152338           1.034527e-13        1.238552e-12        1.157447e-12   \n",
       "152342           1.038766e-13        1.240249e-12        1.158724e-12   \n",
       "\n",
       "           predicted_label_41  predicted_label_43  predicted_label_39  \\\n",
       "sample_id                                                               \n",
       "55               5.031924e-38        1.142922e-12        1.118721e-12   \n",
       "62               5.032500e-38        1.142935e-12        1.118725e-12   \n",
       "107              5.031694e-38        1.142909e-12        1.118697e-12   \n",
       "120              5.031732e-38        1.142909e-12        1.118700e-12   \n",
       "127              5.046419e-38        1.143343e-12        1.119146e-12   \n",
       "...                       ...                 ...                 ...   \n",
       "152249           5.036841e-38        1.143241e-12        1.119261e-12   \n",
       "152274           5.032155e-38        1.142922e-12        1.118715e-12   \n",
       "152303           5.040031e-38        1.143262e-12        1.119182e-12   \n",
       "152338           5.032193e-38        1.142931e-12        1.118742e-12   \n",
       "152342           5.085377e-38        1.144563e-12        1.120320e-12   \n",
       "\n",
       "           predicted_label_34  predicted_label_44  predicted_label_40  \n",
       "sample_id                                                              \n",
       "55               1.130348e-12        1.092420e-12        1.057740e-12  \n",
       "62               1.130357e-12        1.092429e-12        1.057744e-12  \n",
       "107              1.130327e-12        1.092402e-12        1.057716e-12  \n",
       "120              1.130327e-12        1.092404e-12        1.057724e-12  \n",
       "127              1.130814e-12        1.092852e-12        1.058083e-12  \n",
       "...                       ...                 ...                 ...  \n",
       "152249           1.130857e-12        1.092893e-12        1.058241e-12  \n",
       "152274           1.130346e-12        1.092418e-12        1.057732e-12  \n",
       "152303           1.130805e-12        1.092845e-12        1.058148e-12  \n",
       "152338           1.130365e-12        1.092439e-12        1.057756e-12  \n",
       "152342           1.132070e-12        1.094024e-12        1.059024e-12  \n",
       "\n",
       "[91419 rows x 15 columns]"
      ]
     },
     "execution_count": 20,
     "metadata": {},
     "output_type": "execute_result"
    }
   ],
   "source": [
    "result_df[pred_col_names]"
   ]
  },
  {
   "attachments": {},
   "cell_type": "markdown",
   "metadata": {},
   "source": [
    "Странно. В result_df нет даже колонок predicted_label_1..30"
   ]
  },
  {
   "attachments": {},
   "cell_type": "markdown",
   "metadata": {},
   "source": [
    "TINY\n"
   ]
  },
  {
   "cell_type": "code",
   "execution_count": 11,
   "metadata": {},
   "outputs": [
    {
     "name": "stdout",
     "output_type": "stream",
     "text": [
      "output/\n",
      "output/batcher.pkl\n",
      "output/history.pkl\n",
      "output/info.pkl\n",
      "output/metrics.pkl\n",
      "output/model.pkl\n",
      "output/result_df.parquet\n",
      "output/test_splits.pkl\n",
      "output/train_split.pkl\n",
      "output/training_task.pkl\n"
     ]
    }
   ],
   "source": [
    "job_name = 'datasphere/agreementproject/job_info/job_agreementproject_11:28:14.957121.txt'\n",
    "metrics, result_df, y_true, y_pred, tasks = get_training_results(bucket,job_name, project_name)\n",
    "\n",
    "\n",
    "# plot_metrics(metrics, tasks[0])\n",
    "sorted_nums = sorted(list(y_true.unique()))"
   ]
  },
  {
   "cell_type": "code",
   "execution_count": 13,
   "metadata": {},
   "outputs": [
    {
     "data": {
      "text/plain": [
       "45"
      ]
     },
     "execution_count": 13,
     "metadata": {},
     "output_type": "execute_result"
    }
   ],
   "source": []
  },
  {
   "cell_type": "code",
   "execution_count": 9,
   "metadata": {},
   "outputs": [
    {
     "name": "stdout",
     "output_type": "stream",
     "text": [
      "output/\n",
      "output/batcher.pkl\n",
      "output/history.pkl\n",
      "output/info.pkl\n",
      "output/metrics.pkl\n",
      "output/model.pkl\n",
      "output/result_df.parquet\n",
      "output/test_splits.pkl\n",
      "output/train_split.pkl\n",
      "output/training_task.pkl\n"
     ]
    },
    {
     "data": {
      "text/plain": [
       "15"
      ]
     },
     "execution_count": 9,
     "metadata": {},
     "output_type": "execute_result"
    }
   ],
   "source": [
    "job_name = 'datasphere/agreementproject/job_info/job_agreementproject_11:51:40.457516.txt'\n",
    "metrics, result_df, y_true, y_pred, tasks = get_training_results(bucket,job_name, project_name)\n",
    "\n",
    "\n",
    "# plot_metrics(metrics, tasks[0])\n",
    "sorted_nums = sorted(list(y_true.unique()))\n",
    "len(sorted_nums)"
   ]
  },
  {
   "cell_type": "code",
   "execution_count": 11,
   "metadata": {},
   "outputs": [
    {
     "data": {
      "text/plain": [
       "[31, 32, 33, 34, 35, 36, 37, 38, 39, 40, 41, 42, 43, 44, 45]"
      ]
     },
     "execution_count": 11,
     "metadata": {},
     "output_type": "execute_result"
    }
   ],
   "source": [
    "sorted_nums"
   ]
  },
  {
   "cell_type": "code",
   "execution_count": null,
   "metadata": {},
   "outputs": [],
   "source": []
  }
 ],
 "metadata": {
  "kernelspec": {
   "display_name": "env",
   "language": "python",
   "name": "python3"
  },
  "language_info": {
   "codemirror_mode": {
    "name": "ipython",
    "version": 3
   },
   "file_extension": ".py",
   "mimetype": "text/x-python",
   "name": "python",
   "nbconvert_exporter": "python",
   "pygments_lexer": "ipython3",
   "version": "3.10.6"
  },
  "orig_nbformat": 4
 },
 "nbformat": 4,
 "nbformat_minor": 2
}
