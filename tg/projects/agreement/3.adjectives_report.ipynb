{
 "cells": [
  {
   "attachments": {},
   "cell_type": "markdown",
   "metadata": {},
   "source": [
    "imports"
   ]
  },
  {
   "cell_type": "code",
   "execution_count": 6,
   "metadata": {},
   "outputs": [],
   "source": [
    "import ast\n",
    "import seaborn as sns\n",
    "from plotly.offline import download_plotlyjs, init_notebook_mode, plot\n",
    "import plotly.graph_objs as go\n",
    "import matplotlib.pyplot as plt\n",
    "from tg.grammar_ru.common import Loc\n",
    "from tg.grammar_ru.corpus import CorpusReader, CorpusBuilder, BucketCorpusBalancer\n",
    "from tg.grammar_ru.corpus.corpus_reader import read_data\n",
    "import os\n",
    "from pathlib import Path\n",
    "from dotenv import load_dotenv\n",
    "from tg.grammar_ru.components.yandex_storage.s3_yandex_helpers import S3YandexHandler\n",
    "from tg.grammar_ru.components.yandex_delivery.training_logs import S3TrainingLogsLoader, TrainingLogsViewer\n",
    "\n",
    "from yo_fluq_ds import Queryable, Query, fluq\n",
    "import plotly.express as px\n",
    "from tg.grammar_ru.common import Separator\n",
    "\n",
    "from typing import List, Union\n",
    "import numpy as np\n",
    "import math\n",
    "import pandas as pd\n",
    "from sklearn.metrics import confusion_matrix\n",
    "\n",
    "pd.set_option('display.max_rows', 500)\n",
    "load_dotenv(Loc.root_path / 'environment.env')\n",
    "\n",
    "\n",
    "def get_tasks(bucket, tasks_list_s3_path):\n",
    "    tmp_local_file = Loc.temp_path / tasks_list_s3_path.split('/')[-1]\n",
    "    S3YandexHandler.download_file(bucket, tasks_list_s3_path, tmp_local_file)\n",
    "    with open(tmp_local_file, 'r') as f:\n",
    "        tasks = ast.literal_eval(f.read())\n",
    "    return tasks\n",
    "\n",
    "\n",
    "def plot_metrics(metrics, title=\"\"):\n",
    "    plt.plot(TrainingLogsViewer.get_metric_by_job(\n",
    "        metrics, 'accuracy_display'), label='accuracy_display')\n",
    "    plt.plot(TrainingLogsViewer.get_metric_by_job(\n",
    "        metrics, 'accuracy_test'), label='accuracy_test')\n",
    "    plt.title(title)\n",
    "    plt.legend()\n",
    "    plt.show()\n",
    "\n",
    "\n",
    "def plot_cm(cm):\n",
    "    fig = go.Figure(data=go.Heatmap(z=cm,\n",
    "                                    text=cm,\n",
    "                                    x=cm.columns,\n",
    "                                    y=cm.index,\n",
    "                                    texttemplate=\"%{text}\",\n",
    "                                    colorscale='Blues'))\n",
    "    fig.show()\n",
    "\n",
    "def get_label(s):\n",
    "    return int(s.split('_label_')[1])\n",
    "\n",
    "def get_true_and_pred(result_df):\n",
    "    pred_col_names = [c for c in result_df.columns if 'predicted_label' in c ]\n",
    "    true_col_names = [c for c in result_df.columns if 'true_label' in c ]\n",
    "    y_pred = result_df[pred_col_names].idxmax(axis=\"columns\").apply(get_label)\n",
    "    true_probs = result_df[true_col_names]\n",
    "    y_true = true_probs.idxmax(axis=\"columns\").apply(get_label)\n",
    "\n",
    "    result_df['pred_label'] = y_pred\n",
    "    result_df['true_label'] = y_true\n",
    "    result_df['pred_score'] = result_df[pred_col_names].max(axis=1)\n",
    "\n",
    "    return y_true, y_pred\n",
    "\n",
    "def get_worst_words_sents(result_df, src, true_label: int, pred_label: int, worst_words_cnt: int):\n",
    "    one_inst_another = result_df[(result_df.true_label == true_label) & (\n",
    "        result_df.pred_label == pred_label)]\n",
    "    thrsh = one_inst_another[f'predicted_label_{pred_label}'].sort_values(\n",
    "        ascending=False).head(worst_words_cnt).min()\n",
    "    worst_mistakes_scores = one_inst_another[\n",
    "        one_inst_another[f'predicted_label_{pred_label}'] >= thrsh]\n",
    "\n",
    "    worst_words = (src[src.word_id.isin(worst_mistakes_scores.word_id)]\n",
    "                   [['word_id', 'sentence_id', 'word']])[:worst_words_cnt]\n",
    "    worst_sents = worst_words['sentence_id'].unique()\n",
    "    worst_sents_df = src[src.sentence_id.isin(worst_sents)]\n",
    "    # worst_sents_df.loc[worst_sents_df.index, 'pred_score'] = -1\n",
    "    # worst_sents_df.loc[worst_sents_df[worst_sents_df.word_id.isin(worst_mistakes_scores.word_id)].index, \"pred_score\"] = one_inst_another.pred_score.values\n",
    "    return worst_words, worst_sents_df\n",
    "\n",
    "def get_best_words_sents(result_df, src, pred_label: int, words_cnt: int):\n",
    "    \"\"\" \n",
    "    Находит слова, в которых сеть была уверена в ответе и ответ верный\n",
    "    \"\"\"\n",
    "    correct_df = result_df[result_df.true_label==pred_label]\n",
    "    thrsh = correct_df[f'predicted_label_{pred_label}'].sort_values(\n",
    "        ascending=False).head(words_cnt).min()\n",
    "    best_scores = correct_df[correct_df[f'predicted_label_{pred_label}']>=thrsh]\n",
    "    best_words = (src[src.word_id.isin(best_scores.word_id)])[['word_id', 'sentence_id', 'word']][:words_cnt]\n",
    "    best_sents = best_words.sentence_id.unique()\n",
    "    best_sents_df = src[src.sentence_id.isin(best_sents)]\n",
    "    return best_words, best_sents_df\n"
   ]
  },
  {
   "cell_type": "code",
   "execution_count": 7,
   "metadata": {},
   "outputs": [],
   "source": [
    "project_name = 'agreementproject'\n",
    "dataset_name = 'agreement_adj_mid50_0_declination'\n",
    "bucket = 'agreementadjbucket'"
   ]
  },
  {
   "attachments": {},
   "cell_type": "markdown",
   "metadata": {},
   "source": [
    "Измененный бандл:\n",
    "* Удалили slovnet\n",
    "* Удалили ОЮ"
   ]
  },
  {
   "attachments": {},
   "cell_type": "markdown",
   "metadata": {},
   "source": [
    "### Filter bundle"
   ]
  },
  {
   "cell_type": "code",
   "execution_count": 8,
   "metadata": {},
   "outputs": [],
   "source": [
    "new = {'ая', 'ого', 'ое', 'ой', 'ом', 'ому',\n",
    "       'ую', 'ые', 'ый', 'ым', 'ыми', 'ых'} # тут нет окнчаний превосходных форм и ою\n",
    "\n",
    "# полнейшей, наипрочнейшего, важнейшие,меньшим, милейший, наистраннейшее, новейших, малейшем, слабейшему, меньшими\n",
    "good = {'ая', 'его', 'ее', 'ей', 'ем', 'ему',\n",
    "        'ие', 'ий', 'им', 'ими', 'их', 'ую', 'яя', 'юю'}\n",
    "\n",
    "big = {'ая', 'ие', 'им', 'ими', 'их', 'ого',\n",
    "       'ое', 'ой', 'ом', 'ому', 'ою', 'ую'}\n",
    "\n",
    "POSSIBLE_ENDINGS = set().union(new, good, big)\n",
    "endings_nums = {e: i for i, e in enumerate(\n",
    "    sorted(list(POSSIBLE_ENDINGS)))}\n",
    "num_by_ending = endings_nums\n",
    "ending_by_num = {v:k for k, v in endings_nums.items()}\n",
    "\n",
    "new_declination_labels = {num for e, num in endings_nums.items() if e in new}\n"
   ]
  },
  {
   "attachments": {},
   "cell_type": "markdown",
   "metadata": {},
   "source": [
    "В датасете только слова 1-го типа склонения. Новый. Возможно 12 окончаний. "
   ]
  },
  {
   "cell_type": "code",
   "execution_count": 9,
   "metadata": {},
   "outputs": [
    {
     "data": {
      "text/plain": [
       "{'ая': 0,\n",
       " 'ого': 11,\n",
       " 'ое': 12,\n",
       " 'ой': 13,\n",
       " 'ом': 14,\n",
       " 'ому': 15,\n",
       " 'ую': 17,\n",
       " 'ые': 18,\n",
       " 'ый': 19,\n",
       " 'ым': 20,\n",
       " 'ыми': 21,\n",
       " 'ых': 22}"
      ]
     },
     "execution_count": 9,
     "metadata": {},
     "output_type": "execute_result"
    }
   ],
   "source": [
    "new_num_by_ending = {e:num for e,num in num_by_ending.items() if e in new}\n",
    "new_num_by_ending"
   ]
  },
  {
   "attachments": {},
   "cell_type": "markdown",
   "metadata": {},
   "source": [
    "Оставили только слова типа \"Новый\""
   ]
  },
  {
   "cell_type": "code",
   "execution_count": 17,
   "metadata": {},
   "outputs": [],
   "source": [
    "from tg.common import DataBundle\n",
    "from tg.common.ml.batched_training import IndexedDataBundle\n",
    "from tg.grammar_ru.components.plain_context_builder import PlainContextBuilder\n",
    "bundle_0_declination_path = Loc.data_cache_path/'bundles/agreement/mid50_0_declination'\n",
    "# bundle_full_0_declination_path = Loc.data_cache_path/'bundles/agreement/full_mystemless_0_declination'\n"
   ]
  },
  {
   "cell_type": "code",
   "execution_count": 14,
   "metadata": {},
   "outputs": [],
   "source": [
    "# db = DataBundle.load(Loc.data_cache_path/'bundles/agreement/mid50')\n",
    "# ids_0_type=set(db.src[db.src.declension_type==0].word_id)\n",
    "# db['index'] = db.index[db.index.word_id.isin(ids_0_type) & db.index.label.isin(new_declination_labels)]\n",
    "# db = db.copy()\n",
    "# db.save(bundle_0_declination_path)"
   ]
  },
  {
   "attachments": {},
   "cell_type": "markdown",
   "metadata": {},
   "source": [
    "Проверим отфильтрованный бандл"
   ]
  },
  {
   "cell_type": "code",
   "execution_count": 16,
   "metadata": {},
   "outputs": [],
   "source": [
    "del db\n",
    "db = DataBundle.load(bundle_0_declination_path)\n"
   ]
  },
  {
   "cell_type": "code",
   "execution_count": 17,
   "metadata": {},
   "outputs": [
    {
     "data": {
      "text/plain": [
       "{'index': {'shape': (88060, 4), 'index_name': 'sample_id'}, 'pymorphy': {'shape': (2499338, 16), 'index_name': 'word_id'}, 'src': {'shape': (2499338, 18), 'index_name': None}}"
      ]
     },
     "execution_count": 17,
     "metadata": {},
     "output_type": "execute_result"
    }
   ],
   "source": [
    "db"
   ]
  },
  {
   "cell_type": "code",
   "execution_count": 18,
   "metadata": {},
   "outputs": [
    {
     "data": {
      "text/plain": [
       "array([0])"
      ]
     },
     "execution_count": 18,
     "metadata": {},
     "output_type": "execute_result"
    }
   ],
   "source": [
    "db.src[db.src.word_id.isin(db.index.word_id)].declension_type.unique()"
   ]
  },
  {
   "cell_type": "code",
   "execution_count": 19,
   "metadata": {},
   "outputs": [
    {
     "data": {
      "text/plain": [
       "array(['ые', 'ого', 'ый', 'ых', 'ой', 'ая', 'ое', 'ом', 'ую', 'ому', 'ым',\n",
       "       'ыми'], dtype=object)"
      ]
     },
     "execution_count": 19,
     "metadata": {},
     "output_type": "execute_result"
    }
   ],
   "source": [
    "# Все возможные окончания слов 0-го типа склонения. \"Новый\"\n",
    "db.index.label.replace(ending_by_num).unique()"
   ]
  },
  {
   "attachments": {},
   "cell_type": "markdown",
   "metadata": {},
   "source": [
    "Отправка бандла"
   ]
  },
  {
   "cell_type": "code",
   "execution_count": 24,
   "metadata": {},
   "outputs": [],
   "source": [
    "project_name = 'agreementproject'\n",
    "# dataset_name = 'agreement_adj_mid50_0_declination'\n",
    "dataset_name = 'agreement_adj_toy'\n",
    "\n",
    "bucket = 'agreementadjbucket'"
   ]
  },
  {
   "cell_type": "code",
   "execution_count": null,
   "metadata": {},
   "outputs": [],
   "source": [
    "from tg.grammar_ru.components.yandex_storage.s3_yandex_helpers import S3YandexHandler\n",
    "# try:\n",
    "#     S3YandexHandler.create_bucket(bucket)\n",
    "# except:\n",
    "#     pass "
   ]
  },
  {
   "cell_type": "code",
   "execution_count": 23,
   "metadata": {},
   "outputs": [],
   "source": [
    "s3path = f'datasphere/{project_name}/datasets/{dataset_name}'\n",
    "S3YandexHandler.upload_folder(bucket, s3path, bundle_0_declination_path)"
   ]
  },
  {
   "attachments": {},
   "cell_type": "markdown",
   "metadata": {},
   "source": [
    "# Обучение\n",
    "\n",
    "Добавим в сеть кросс-энтропию."
   ]
  },
  {
   "attachments": {},
   "cell_type": "markdown",
   "metadata": {},
   "source": [
    "cross-entropy & softmax 40ep"
   ]
  },
  {
   "cell_type": "code",
   "execution_count": 13,
   "metadata": {},
   "outputs": [
    {
     "name": "stdout",
     "output_type": "stream",
     "text": [
      "output/\n",
      "output/batcher.pkl\n",
      "output/history.pkl\n",
      "output/info.pkl\n",
      "output/metrics.pkl\n",
      "output/model.pkl\n",
      "output/result_df.parquet\n",
      "output/test_splits.pkl\n",
      "output/train_split.pkl\n",
      "output/training_task.pkl\n"
     ]
    },
    {
     "data": {
      "image/png": "[encoded data removed]",
      "text/plain": [
       "<Figure size 640x480 with 1 Axes>"
      ]
     },
     "metadata": {},
     "output_type": "display_data"
    },
    {
     "data": {
      "application/vnd.plotly.v1+json": {
       "config": {
        "plotlyServerURL": "https://plot.ly"
       },
       "data": [
        {
         "colorscale": [
          [
           0,
           "rgb(247,251,255)"
          ],
          [
           0.125,
           "rgb(222,235,247)"
          ],
          [
           0.25,
           "rgb(198,219,239)"
          ],
          [
           0.375,
           "rgb(158,202,225)"
          ],
          [
           0.5,
           "rgb(107,174,214)"
          ],
          [
           0.625,
           "rgb(66,146,198)"
          ],
          [
           0.75,
           "rgb(33,113,181)"
          ],
          [
           0.875,
           "rgb(8,81,156)"
          ],
          [
           1,
           "rgb(8,48,107)"
          ]
         ],
         "text": [
          [
           4155,
           0,
           0,
           0,
           0,
           0,
           0,
           0,
           0,
           0,
           0,
           0
          ],
          [
           0,
           4382,
           0,
           0,
           0,
           0,
           0,
           0,
           0,
           0,
           0,
           0
          ],
          [
           0,
           47,
           0,
           0,
           0,
           0,
           0,
           0,
           3725,
           0,
           0,
           0
          ],
          [
           0,
           0,
           0,
           6282,
           0,
           0,
           0,
           0,
           0,
           0,
           0,
           0
          ],
          [
           0,
           8,
           0,
           0,
           0,
           0,
           0,
           0,
           2077,
           0,
           0,
           0
          ],
          [
           0,
           23,
           0,
           9,
           0,
           0,
           0,
           0,
           4,
           780,
           0,
           0
          ],
          [
           0,
           0,
           0,
           0,
           0,
           0,
           3095,
           0,
           0,
           0,
           0,
           0
          ],
          [
           0,
           0,
           0,
           0,
           0,
           0,
           0,
           6787,
           0,
           0,
           0,
           0
          ],
          [
           0,
           0,
           0,
           0,
           0,
           0,
           0,
           0,
           8879,
           0,
           0,
           0
          ],
          [
           0,
           0,
           0,
           0,
           0,
           0,
           0,
           0,
           0,
           4933,
           0,
           0
          ],
          [
           3,
           0,
           0,
           0,
           0,
           0,
           0,
           0,
           2520,
           1,
           0,
           0
          ],
          [
           0,
           15,
           0,
           0,
           0,
           0,
           0,
           0,
           5280,
           0,
           0,
           0
          ]
         ],
         "texttemplate": "%{text}",
         "type": "heatmap",
         "x": [
          "pred (0, 'ая')",
          "pred (11, 'ого')",
          "pred (12, 'ое')",
          "pred (13, 'ой')",
          "pred (14, 'ом')",
          "pred (15, 'ому')",
          "pred (17, 'ую')",
          "pred (18, 'ые')",
          "pred (19, 'ый')",
          "pred (20, 'ым')",
          "pred (21, 'ыми')",
          "pred (22, 'ых')"
         ],
         "y": [
          "actual (0, 'ая')",
          "actual (11, 'ого')",
          "actual (12, 'ое')",
          "actual (13, 'ой')",
          "actual (14, 'ом')",
          "actual (15, 'ому')",
          "actual (17, 'ую')",
          "actual (18, 'ые')",
          "actual (19, 'ый')",
          "actual (20, 'ым')",
          "actual (21, 'ыми')",
          "actual (22, 'ых')"
         ],
         "z": [
          [
           4155,
           0,
           0,
           0,
           0,
           0,
           0,
           0,
           0,
           0,
           0,
           0
          ],
          [
           0,
           4382,
           0,
           0,
           0,
           0,
           0,
           0,
           0,
           0,
           0,
           0
          ],
          [
           0,
           47,
           0,
           0,
           0,
           0,
           0,
           0,
           3725,
           0,
           0,
           0
          ],
          [
           0,
           0,
           0,
           6282,
           0,
           0,
           0,
           0,
           0,
           0,
           0,
           0
          ],
          [
           0,
           8,
           0,
           0,
           0,
           0,
           0,
           0,
           2077,
           0,
           0,
           0
          ],
          [
           0,
           23,
           0,
           9,
           0,
           0,
           0,
           0,
           4,
           780,
           0,
           0
          ],
          [
           0,
           0,
           0,
           0,
           0,
           0,
           3095,
           0,
           0,
           0,
           0,
           0
          ],
          [
           0,
           0,
           0,
           0,
           0,
           0,
           0,
           6787,
           0,
           0,
           0,
           0
          ],
          [
           0,
           0,
           0,
           0,
           0,
           0,
           0,
           0,
           8879,
           0,
           0,
           0
          ],
          [
           0,
           0,
           0,
           0,
           0,
           0,
           0,
           0,
           0,
           4933,
           0,
           0
          ],
          [
           3,
           0,
           0,
           0,
           0,
           0,
           0,
           0,
           2520,
           1,
           0,
           0
          ],
          [
           0,
           15,
           0,
           0,
           0,
           0,
           0,
           0,
           5280,
           0,
           0,
           0
          ]
         ]
        }
       ],
       "layout": {
        "template": {
         "data": {
          "bar": [
           {
            "error_x": {
             "color": "#2a3f5f"
            },
            "error_y": {
             "color": "#2a3f5f"
            },
            "marker": {
             "line": {
              "color": "#E5ECF6",
              "width": 0.5
             },
             "pattern": {
              "fillmode": "overlay",
              "size": 10,
              "solidity": 0.2
             }
            },
            "type": "bar"
           }
          ],
          "barpolar": [
           {
            "marker": {
             "line": {
              "color": "#E5ECF6",
              "width": 0.5
             },
             "pattern": {
              "fillmode": "overlay",
              "size": 10,
              "solidity": 0.2
             }
            },
            "type": "barpolar"
           }
          ],
          "carpet": [
           {
            "aaxis": {
             "endlinecolor": "#2a3f5f",
             "gridcolor": "white",
             "linecolor": "white",
             "minorgridcolor": "white",
             "startlinecolor": "#2a3f5f"
            },
            "baxis": {
             "endlinecolor": "#2a3f5f",
             "gridcolor": "white",
             "linecolor": "white",
             "minorgridcolor": "white",
             "startlinecolor": "#2a3f5f"
            },
            "type": "carpet"
           }
          ],
          "choropleth": [
           {
            "colorbar": {
             "outlinewidth": 0,
             "ticks": ""
            },
            "type": "choropleth"
           }
          ],
          "contour": [
           {
            "colorbar": {
             "outlinewidth": 0,
             "ticks": ""
            },
            "colorscale": [
             [
              0,
              "#0d0887"
             ],
             [
              0.1111111111111111,
              "#46039f"
             ],
             [
              0.2222222222222222,
              "#7201a8"
             ],
             [
              0.3333333333333333,
              "#9c179e"
             ],
             [
              0.4444444444444444,
              "#bd3786"
             ],
             [
              0.5555555555555556,
              "#d8576b"
             ],
             [
              0.6666666666666666,
              "#ed7953"
             ],
             [
              0.7777777777777778,
              "#fb9f3a"
             ],
             [
              0.8888888888888888,
              "#fdca26"
             ],
             [
              1,
              "#f0f921"
             ]
            ],
            "type": "contour"
           }
          ],
          "contourcarpet": [
           {
            "colorbar": {
             "outlinewidth": 0,
             "ticks": ""
            },
            "type": "contourcarpet"
           }
          ],
          "heatmap": [
           {
            "colorbar": {
             "outlinewidth": 0,
             "ticks": ""
            },
            "colorscale": [
             [
              0,
              "#0d0887"
             ],
             [
              0.1111111111111111,
              "#46039f"
             ],
             [
              0.2222222222222222,
              "#7201a8"
             ],
             [
              0.3333333333333333,
              "#9c179e"
             ],
             [
              0.4444444444444444,
              "#bd3786"
             ],
             [
              0.5555555555555556,
              "#d8576b"
             ],
             [
              0.6666666666666666,
              "#ed7953"
             ],
             [
              0.7777777777777778,
              "#fb9f3a"
             ],
             [
              0.8888888888888888,
              "#fdca26"
             ],
             [
              1,
              "#f0f921"
             ]
            ],
            "type": "heatmap"
           }
          ],
          "heatmapgl": [
           {
            "colorbar": {
             "outlinewidth": 0,
             "ticks": ""
            },
            "colorscale": [
             [
              0,
              "#0d0887"
             ],
             [
              0.1111111111111111,
              "#46039f"
             ],
             [
              0.2222222222222222,
              "#7201a8"
             ],
             [
              0.3333333333333333,
              "#9c179e"
             ],
             [
              0.4444444444444444,
              "#bd3786"
             ],
             [
              0.5555555555555556,
              "#d8576b"
             ],
             [
              0.6666666666666666,
              "#ed7953"
             ],
             [
              0.7777777777777778,
              "#fb9f3a"
             ],
             [
              0.8888888888888888,
              "#fdca26"
             ],
             [
              1,
              "#f0f921"
             ]
            ],
            "type": "heatmapgl"
           }
          ],
          "histogram": [
           {
            "marker": {
             "pattern": {
              "fillmode": "overlay",
              "size": 10,
              "solidity": 0.2
             }
            },
            "type": "histogram"
           }
          ],
          "histogram2d": [
           {
            "colorbar": {
             "outlinewidth": 0,
             "ticks": ""
            },
            "colorscale": [
             [
              0,
              "#0d0887"
             ],
             [
              0.1111111111111111,
              "#46039f"
             ],
             [
              0.2222222222222222,
              "#7201a8"
             ],
             [
              0.3333333333333333,
              "#9c179e"
             ],
             [
              0.4444444444444444,
              "#bd3786"
             ],
             [
              0.5555555555555556,
              "#d8576b"
             ],
             [
              0.6666666666666666,
              "#ed7953"
             ],
             [
              0.7777777777777778,
              "#fb9f3a"
             ],
             [
              0.8888888888888888,
              "#fdca26"
             ],
             [
              1,
              "#f0f921"
             ]
            ],
            "type": "histogram2d"
           }
          ],
          "histogram2dcontour": [
           {
            "colorbar": {
             "outlinewidth": 0,
             "ticks": ""
            },
            "colorscale": [
             [
              0,
              "#0d0887"
             ],
             [
              0.1111111111111111,
              "#46039f"
             ],
             [
              0.2222222222222222,
              "#7201a8"
             ],
             [
              0.3333333333333333,
              "#9c179e"
             ],
             [
              0.4444444444444444,
              "#bd3786"
             ],
             [
              0.5555555555555556,
              "#d8576b"
             ],
             [
              0.6666666666666666,
              "#ed7953"
             ],
             [
              0.7777777777777778,
              "#fb9f3a"
             ],
             [
              0.8888888888888888,
              "#fdca26"
             ],
             [
              1,
              "#f0f921"
             ]
            ],
            "type": "histogram2dcontour"
           }
          ],
          "mesh3d": [
           {
            "colorbar": {
             "outlinewidth": 0,
             "ticks": ""
            },
            "type": "mesh3d"
           }
          ],
          "parcoords": [
           {
            "line": {
             "colorbar": {
              "outlinewidth": 0,
              "ticks": ""
             }
            },
            "type": "parcoords"
           }
          ],
          "pie": [
           {
            "automargin": true,
            "type": "pie"
           }
          ],
          "scatter": [
           {
            "fillpattern": {
             "fillmode": "overlay",
             "size": 10,
             "solidity": 0.2
            },
            "type": "scatter"
           }
          ],
          "scatter3d": [
           {
            "line": {
             "colorbar": {
              "outlinewidth": 0,
              "ticks": ""
             }
            },
            "marker": {
             "colorbar": {
              "outlinewidth": 0,
              "ticks": ""
             }
            },
            "type": "scatter3d"
           }
          ],
          "scattercarpet": [
           {
            "marker": {
             "colorbar": {
              "outlinewidth": 0,
              "ticks": ""
             }
            },
            "type": "scattercarpet"
           }
          ],
          "scattergeo": [
           {
            "marker": {
             "colorbar": {
              "outlinewidth": 0,
              "ticks": ""
             }
            },
            "type": "scattergeo"
           }
          ],
          "scattergl": [
           {
            "marker": {
             "colorbar": {
              "outlinewidth": 0,
              "ticks": ""
             }
            },
            "type": "scattergl"
           }
          ],
          "scattermapbox": [
           {
            "marker": {
             "colorbar": {
              "outlinewidth": 0,
              "ticks": ""
             }
            },
            "type": "scattermapbox"
           }
          ],
          "scatterpolar": [
           {
            "marker": {
             "colorbar": {
              "outlinewidth": 0,
              "ticks": ""
             }
            },
            "type": "scatterpolar"
           }
          ],
          "scatterpolargl": [
           {
            "marker": {
             "colorbar": {
              "outlinewidth": 0,
              "ticks": ""
             }
            },
            "type": "scatterpolargl"
           }
          ],
          "scatterternary": [
           {
            "marker": {
             "colorbar": {
              "outlinewidth": 0,
              "ticks": ""
             }
            },
            "type": "scatterternary"
           }
          ],
          "surface": [
           {
            "colorbar": {
             "outlinewidth": 0,
             "ticks": ""
            },
            "colorscale": [
             [
              0,
              "#0d0887"
             ],
             [
              0.1111111111111111,
              "#46039f"
             ],
             [
              0.2222222222222222,
              "#7201a8"
             ],
             [
              0.3333333333333333,
              "#9c179e"
             ],
             [
              0.4444444444444444,
              "#bd3786"
             ],
             [
              0.5555555555555556,
              "#d8576b"
             ],
             [
              0.6666666666666666,
              "#ed7953"
             ],
             [
              0.7777777777777778,
              "#fb9f3a"
             ],
             [
              0.8888888888888888,
              "#fdca26"
             ],
             [
              1,
              "#f0f921"
             ]
            ],
            "type": "surface"
           }
          ],
          "table": [
           {
            "cells": {
             "fill": {
              "color": "#EBF0F8"
             },
             "line": {
              "color": "white"
             }
            },
            "header": {
             "fill": {
              "color": "#C8D4E3"
             },
             "line": {
              "color": "white"
             }
            },
            "type": "table"
           }
          ]
         },
         "layout": {
          "annotationdefaults": {
           "arrowcolor": "#2a3f5f",
           "arrowhead": 0,
           "arrowwidth": 1
          },
          "autotypenumbers": "strict",
          "coloraxis": {
           "colorbar": {
            "outlinewidth": 0,
            "ticks": ""
           }
          },
          "colorscale": {
           "diverging": [
            [
             0,
             "#8e0152"
            ],
            [
             0.1,
             "#c51b7d"
            ],
            [
             0.2,
             "#de77ae"
            ],
            [
             0.3,
             "#f1b6da"
            ],
            [
             0.4,
             "#fde0ef"
            ],
            [
             0.5,
             "#f7f7f7"
            ],
            [
             0.6,
             "#e6f5d0"
            ],
            [
             0.7,
             "#b8e186"
            ],
            [
             0.8,
             "#7fbc41"
            ],
            [
             0.9,
             "#4d9221"
            ],
            [
             1,
             "#276419"
            ]
           ],
           "sequential": [
            [
             0,
             "#0d0887"
            ],
            [
             0.1111111111111111,
             "#46039f"
            ],
            [
             0.2222222222222222,
             "#7201a8"
            ],
            [
             0.3333333333333333,
             "#9c179e"
            ],
            [
             0.4444444444444444,
             "#bd3786"
            ],
            [
             0.5555555555555556,
             "#d8576b"
            ],
            [
             0.6666666666666666,
             "#ed7953"
            ],
            [
             0.7777777777777778,
             "#fb9f3a"
            ],
            [
             0.8888888888888888,
             "#fdca26"
            ],
            [
             1,
             "#f0f921"
            ]
           ],
           "sequentialminus": [
            [
             0,
             "#0d0887"
            ],
            [
             0.1111111111111111,
             "#46039f"
            ],
            [
             0.2222222222222222,
             "#7201a8"
            ],
            [
             0.3333333333333333,
             "#9c179e"
            ],
            [
             0.4444444444444444,
             "#bd3786"
            ],
            [
             0.5555555555555556,
             "#d8576b"
            ],
            [
             0.6666666666666666,
             "#ed7953"
            ],
            [
             0.7777777777777778,
             "#fb9f3a"
            ],
            [
             0.8888888888888888,
             "#fdca26"
            ],
            [
             1,
             "#f0f921"
            ]
           ]
          },
          "colorway": [
           "#636efa",
           "#EF553B",
           "#00cc96",
           "#ab63fa",
           "#FFA15A",
           "#19d3f3",
           "#FF6692",
           "#B6E880",
           "#FF97FF",
           "#FECB52"
          ],
          "font": {
           "color": "#2a3f5f"
          },
          "geo": {
           "bgcolor": "white",
           "lakecolor": "white",
           "landcolor": "#E5ECF6",
           "showlakes": true,
           "showland": true,
           "subunitcolor": "white"
          },
          "hoverlabel": {
           "align": "left"
          },
          "hovermode": "closest",
          "mapbox": {
           "style": "light"
          },
          "paper_bgcolor": "white",
          "plot_bgcolor": "#E5ECF6",
          "polar": {
           "angularaxis": {
            "gridcolor": "white",
            "linecolor": "white",
            "ticks": ""
           },
           "bgcolor": "#E5ECF6",
           "radialaxis": {
            "gridcolor": "white",
            "linecolor": "white",
            "ticks": ""
           }
          },
          "scene": {
           "xaxis": {
            "backgroundcolor": "#E5ECF6",
            "gridcolor": "white",
            "gridwidth": 2,
            "linecolor": "white",
            "showbackground": true,
            "ticks": "",
            "zerolinecolor": "white"
           },
           "yaxis": {
            "backgroundcolor": "#E5ECF6",
            "gridcolor": "white",
            "gridwidth": 2,
            "linecolor": "white",
            "showbackground": true,
            "ticks": "",
            "zerolinecolor": "white"
           },
           "zaxis": {
            "backgroundcolor": "#E5ECF6",
            "gridcolor": "white",
            "gridwidth": 2,
            "linecolor": "white",
            "showbackground": true,
            "ticks": "",
            "zerolinecolor": "white"
           }
          },
          "shapedefaults": {
           "line": {
            "color": "#2a3f5f"
           }
          },
          "ternary": {
           "aaxis": {
            "gridcolor": "white",
            "linecolor": "white",
            "ticks": ""
           },
           "baxis": {
            "gridcolor": "white",
            "linecolor": "white",
            "ticks": ""
           },
           "bgcolor": "#E5ECF6",
           "caxis": {
            "gridcolor": "white",
            "linecolor": "white",
            "ticks": ""
           }
          },
          "title": {
           "x": 0.05
          },
          "xaxis": {
           "automargin": true,
           "gridcolor": "white",
           "linecolor": "white",
           "ticks": "",
           "title": {
            "standoff": 15
           },
           "zerolinecolor": "white",
           "zerolinewidth": 2
          },
          "yaxis": {
           "automargin": true,
           "gridcolor": "white",
           "linecolor": "white",
           "ticks": "",
           "title": {
            "standoff": 15
           },
           "zerolinecolor": "white",
           "zerolinewidth": 2
          }
         }
        }
       }
      }
     },
     "metadata": {},
     "output_type": "display_data"
    }
   ],
   "source": [
    "tasks = get_tasks(bucket, 'datasphere/agreementproject/job_info/job_agreementproject_17:01:33.277101.txt')\n",
    "\n",
    "loader = S3TrainingLogsLoader(bucket, project_name)\n",
    "metrics = loader.load_metrics(tasks)\n",
    "\n",
    "unzipped_folder = (Loc.root_path /\n",
    "                   'temp'/'training_results' /\n",
    "                   f'{tasks[0]}.unzipped')\n",
    "result_df = pd.read_parquet(unzipped_folder/'output'/'result_df.parquet')\n",
    "y_true, y_pred = get_true_and_pred(result_df)\n",
    "\n",
    "plot_metrics(metrics, tasks[0])\n",
    "sorted_nums = sorted(list(y_true.unique()))\n",
    "cm = pd.DataFrame(\n",
    "    confusion_matrix(y_true, y_pred,\n",
    "                     #    normalize='true'\n",
    "                     ).round(2),\n",
    "    columns=[f'pred {n,ending_by_num[n]}' for n in sorted_nums],\n",
    "    index=[f'actual {n,ending_by_num[n]}' for n in sorted_nums]\n",
    ")\n",
    "plot_cm(cm)\n"
   ]
  },
  {
   "cell_type": "code",
   "execution_count": 45,
   "metadata": {},
   "outputs": [],
   "source": [
    "pred_col_names = [c for c in result_df.columns if 'predicted_label' in c ]\n",
    "true_col_names = [c for c in result_df.columns if 'true_label' in c ]"
   ]
  },
  {
   "cell_type": "code",
   "execution_count": 17,
   "metadata": {},
   "outputs": [],
   "source": [
    "# metrics[metrics.metric=='accuracy_display']"
   ]
  },
  {
   "cell_type": "code",
   "execution_count": 15,
   "metadata": {},
   "outputs": [
    {
     "name": "stdout",
     "output_type": "stream",
     "text": [
      "output/\n",
      "output/batcher.pkl\n",
      "output/history.pkl\n",
      "output/info.pkl\n",
      "output/metrics.pkl\n",
      "output/model.pkl\n",
      "output/result_df.parquet\n",
      "output/test_splits.pkl\n",
      "output/train_split.pkl\n",
      "output/training_task.pkl\n"
     ]
    },
    {
     "data": {
      "image/png": "[encoded data removed]",
      "text/plain": [
       "<Figure size 640x480 with 1 Axes>"
      ]
     },
     "metadata": {},
     "output_type": "display_data"
    },
    {
     "data": {
      "application/vnd.plotly.v1+json": {
       "config": {
        "plotlyServerURL": "https://plot.ly"
       },
       "data": [
        {
         "colorscale": [
          [
           0,
           "rgb(247,251,255)"
          ],
          [
           0.125,
           "rgb(222,235,247)"
          ],
          [
           0.25,
           "rgb(198,219,239)"
          ],
          [
           0.375,
           "rgb(158,202,225)"
          ],
          [
           0.5,
           "rgb(107,174,214)"
          ],
          [
           0.625,
           "rgb(66,146,198)"
          ],
          [
           0.75,
           "rgb(33,113,181)"
          ],
          [
           0.875,
           "rgb(8,81,156)"
          ],
          [
           1,
           "rgb(8,48,107)"
          ]
         ],
         "text": [
          [
           4155,
           0,
           0,
           0,
           0,
           0,
           0,
           0,
           0,
           0,
           0,
           0
          ],
          [
           0,
           4382,
           0,
           0,
           0,
           0,
           0,
           0,
           0,
           0,
           0,
           0
          ],
          [
           0,
           0,
           3772,
           0,
           0,
           0,
           0,
           0,
           0,
           0,
           0,
           0
          ],
          [
           0,
           0,
           0,
           6282,
           0,
           0,
           0,
           0,
           0,
           0,
           0,
           0
          ],
          [
           0,
           0,
           0,
           0,
           2085,
           0,
           0,
           0,
           0,
           0,
           0,
           0
          ],
          [
           0,
           0,
           0,
           105,
           0,
           15,
           1,
           0,
           0,
           695,
           0,
           0
          ],
          [
           0,
           0,
           0,
           0,
           0,
           0,
           3095,
           0,
           0,
           0,
           0,
           0
          ],
          [
           0,
           0,
           0,
           0,
           0,
           0,
           0,
           6787,
           0,
           0,
           0,
           0
          ],
          [
           0,
           0,
           0,
           0,
           0,
           0,
           0,
           0,
           8879,
           0,
           0,
           0
          ],
          [
           0,
           0,
           0,
           0,
           0,
           0,
           0,
           0,
           0,
           4933,
           0,
           0
          ],
          [
           0,
           0,
           0,
           0,
           0,
           0,
           0,
           0,
           0,
           0,
           2524,
           0
          ],
          [
           0,
           0,
           0,
           0,
           0,
           0,
           0,
           0,
           0,
           0,
           0,
           5295
          ]
         ],
         "texttemplate": "%{text}",
         "type": "heatmap",
         "x": [
          "pred ая",
          "pred ого",
          "pred ое",
          "pred ой",
          "pred ом",
          "pred ому",
          "pred ую",
          "pred ые",
          "pred ый",
          "pred ым",
          "pred ыми",
          "pred ых"
         ],
         "y": [
          "actual ая",
          "actual ого",
          "actual ое",
          "actual ой",
          "actual ом",
          "actual ому",
          "actual ую",
          "actual ые",
          "actual ый",
          "actual ым",
          "actual ыми",
          "actual ых"
         ],
         "z": [
          [
           4155,
           0,
           0,
           0,
           0,
           0,
           0,
           0,
           0,
           0,
           0,
           0
          ],
          [
           0,
           4382,
           0,
           0,
           0,
           0,
           0,
           0,
           0,
           0,
           0,
           0
          ],
          [
           0,
           0,
           3772,
           0,
           0,
           0,
           0,
           0,
           0,
           0,
           0,
           0
          ],
          [
           0,
           0,
           0,
           6282,
           0,
           0,
           0,
           0,
           0,
           0,
           0,
           0
          ],
          [
           0,
           0,
           0,
           0,
           2085,
           0,
           0,
           0,
           0,
           0,
           0,
           0
          ],
          [
           0,
           0,
           0,
           105,
           0,
           15,
           1,
           0,
           0,
           695,
           0,
           0
          ],
          [
           0,
           0,
           0,
           0,
           0,
           0,
           3095,
           0,
           0,
           0,
           0,
           0
          ],
          [
           0,
           0,
           0,
           0,
           0,
           0,
           0,
           6787,
           0,
           0,
           0,
           0
          ],
          [
           0,
           0,
           0,
           0,
           0,
           0,
           0,
           0,
           8879,
           0,
           0,
           0
          ],
          [
           0,
           0,
           0,
           0,
           0,
           0,
           0,
           0,
           0,
           4933,
           0,
           0
          ],
          [
           0,
           0,
           0,
           0,
           0,
           0,
           0,
           0,
           0,
           0,
           2524,
           0
          ],
          [
           0,
           0,
           0,
           0,
           0,
           0,
           0,
           0,
           0,
           0,
           0,
           5295
          ]
         ]
        }
       ],
       "layout": {
        "template": {
         "data": {
          "bar": [
           {
            "error_x": {
             "color": "#2a3f5f"
            },
            "error_y": {
             "color": "#2a3f5f"
            },
            "marker": {
             "line": {
              "color": "#E5ECF6",
              "width": 0.5
             },
             "pattern": {
              "fillmode": "overlay",
              "size": 10,
              "solidity": 0.2
             }
            },
            "type": "bar"
           }
          ],
          "barpolar": [
           {
            "marker": {
             "line": {
              "color": "#E5ECF6",
              "width": 0.5
             },
             "pattern": {
              "fillmode": "overlay",
              "size": 10,
              "solidity": 0.2
             }
            },
            "type": "barpolar"
           }
          ],
          "carpet": [
           {
            "aaxis": {
             "endlinecolor": "#2a3f5f",
             "gridcolor": "white",
             "linecolor": "white",
             "minorgridcolor": "white",
             "startlinecolor": "#2a3f5f"
            },
            "baxis": {
             "endlinecolor": "#2a3f5f",
             "gridcolor": "white",
             "linecolor": "white",
             "minorgridcolor": "white",
             "startlinecolor": "#2a3f5f"
            },
            "type": "carpet"
           }
          ],
          "choropleth": [
           {
            "colorbar": {
             "outlinewidth": 0,
             "ticks": ""
            },
            "type": "choropleth"
           }
          ],
          "contour": [
           {
            "colorbar": {
             "outlinewidth": 0,
             "ticks": ""
            },
            "colorscale": [
             [
              0,
              "#0d0887"
             ],
             [
              0.1111111111111111,
              "#46039f"
             ],
             [
              0.2222222222222222,
              "#7201a8"
             ],
             [
              0.3333333333333333,
              "#9c179e"
             ],
             [
              0.4444444444444444,
              "#bd3786"
             ],
             [
              0.5555555555555556,
              "#d8576b"
             ],
             [
              0.6666666666666666,
              "#ed7953"
             ],
             [
              0.7777777777777778,
              "#fb9f3a"
             ],
             [
              0.8888888888888888,
              "#fdca26"
             ],
             [
              1,
              "#f0f921"
             ]
            ],
            "type": "contour"
           }
          ],
          "contourcarpet": [
           {
            "colorbar": {
             "outlinewidth": 0,
             "ticks": ""
            },
            "type": "contourcarpet"
           }
          ],
          "heatmap": [
           {
            "colorbar": {
             "outlinewidth": 0,
             "ticks": ""
            },
            "colorscale": [
             [
              0,
              "#0d0887"
             ],
             [
              0.1111111111111111,
              "#46039f"
             ],
             [
              0.2222222222222222,
              "#7201a8"
             ],
             [
              0.3333333333333333,
              "#9c179e"
             ],
             [
              0.4444444444444444,
              "#bd3786"
             ],
             [
              0.5555555555555556,
              "#d8576b"
             ],
             [
              0.6666666666666666,
              "#ed7953"
             ],
             [
              0.7777777777777778,
              "#fb9f3a"
             ],
             [
              0.8888888888888888,
              "#fdca26"
             ],
             [
              1,
              "#f0f921"
             ]
            ],
            "type": "heatmap"
           }
          ],
          "heatmapgl": [
           {
            "colorbar": {
             "outlinewidth": 0,
             "ticks": ""
            },
            "colorscale": [
             [
              0,
              "#0d0887"
             ],
             [
              0.1111111111111111,
              "#46039f"
             ],
             [
              0.2222222222222222,
              "#7201a8"
             ],
             [
              0.3333333333333333,
              "#9c179e"
             ],
             [
              0.4444444444444444,
              "#bd3786"
             ],
             [
              0.5555555555555556,
              "#d8576b"
             ],
             [
              0.6666666666666666,
              "#ed7953"
             ],
             [
              0.7777777777777778,
              "#fb9f3a"
             ],
             [
              0.8888888888888888,
              "#fdca26"
             ],
             [
              1,
              "#f0f921"
             ]
            ],
            "type": "heatmapgl"
           }
          ],
          "histogram": [
           {
            "marker": {
             "pattern": {
              "fillmode": "overlay",
              "size": 10,
              "solidity": 0.2
             }
            },
            "type": "histogram"
           }
          ],
          "histogram2d": [
           {
            "colorbar": {
             "outlinewidth": 0,
             "ticks": ""
            },
            "colorscale": [
             [
              0,
              "#0d0887"
             ],
             [
              0.1111111111111111,
              "#46039f"
             ],
             [
              0.2222222222222222,
              "#7201a8"
             ],
             [
              0.3333333333333333,
              "#9c179e"
             ],
             [
              0.4444444444444444,
              "#bd3786"
             ],
             [
              0.5555555555555556,
              "#d8576b"
             ],
             [
              0.6666666666666666,
              "#ed7953"
             ],
             [
              0.7777777777777778,
              "#fb9f3a"
             ],
             [
              0.8888888888888888,
              "#fdca26"
             ],
             [
              1,
              "#f0f921"
             ]
            ],
            "type": "histogram2d"
           }
          ],
          "histogram2dcontour": [
           {
            "colorbar": {
             "outlinewidth": 0,
             "ticks": ""
            },
            "colorscale": [
             [
              0,
              "#0d0887"
             ],
             [
              0.1111111111111111,
              "#46039f"
             ],
             [
              0.2222222222222222,
              "#7201a8"
             ],
             [
              0.3333333333333333,
              "#9c179e"
             ],
             [
              0.4444444444444444,
              "#bd3786"
             ],
             [
              0.5555555555555556,
              "#d8576b"
             ],
             [
              0.6666666666666666,
              "#ed7953"
             ],
             [
              0.7777777777777778,
              "#fb9f3a"
             ],
             [
              0.8888888888888888,
              "#fdca26"
             ],
             [
              1,
              "#f0f921"
             ]
            ],
            "type": "histogram2dcontour"
           }
          ],
          "mesh3d": [
           {
            "colorbar": {
             "outlinewidth": 0,
             "ticks": ""
            },
            "type": "mesh3d"
           }
          ],
          "parcoords": [
           {
            "line": {
             "colorbar": {
              "outlinewidth": 0,
              "ticks": ""
             }
            },
            "type": "parcoords"
           }
          ],
          "pie": [
           {
            "automargin": true,
            "type": "pie"
           }
          ],
          "scatter": [
           {
            "fillpattern": {
             "fillmode": "overlay",
             "size": 10,
             "solidity": 0.2
            },
            "type": "scatter"
           }
          ],
          "scatter3d": [
           {
            "line": {
             "colorbar": {
              "outlinewidth": 0,
              "ticks": ""
             }
            },
            "marker": {
             "colorbar": {
              "outlinewidth": 0,
              "ticks": ""
             }
            },
            "type": "scatter3d"
           }
          ],
          "scattercarpet": [
           {
            "marker": {
             "colorbar": {
              "outlinewidth": 0,
              "ticks": ""
             }
            },
            "type": "scattercarpet"
           }
          ],
          "scattergeo": [
           {
            "marker": {
             "colorbar": {
              "outlinewidth": 0,
              "ticks": ""
             }
            },
            "type": "scattergeo"
           }
          ],
          "scattergl": [
           {
            "marker": {
             "colorbar": {
              "outlinewidth": 0,
              "ticks": ""
             }
            },
            "type": "scattergl"
           }
          ],
          "scattermapbox": [
           {
            "marker": {
             "colorbar": {
              "outlinewidth": 0,
              "ticks": ""
             }
            },
            "type": "scattermapbox"
           }
          ],
          "scatterpolar": [
           {
            "marker": {
             "colorbar": {
              "outlinewidth": 0,
              "ticks": ""
             }
            },
            "type": "scatterpolar"
           }
          ],
          "scatterpolargl": [
           {
            "marker": {
             "colorbar": {
              "outlinewidth": 0,
              "ticks": ""
             }
            },
            "type": "scatterpolargl"
           }
          ],
          "scatterternary": [
           {
            "marker": {
             "colorbar": {
              "outlinewidth": 0,
              "ticks": ""
             }
            },
            "type": "scatterternary"
           }
          ],
          "surface": [
           {
            "colorbar": {
             "outlinewidth": 0,
             "ticks": ""
            },
            "colorscale": [
             [
              0,
              "#0d0887"
             ],
             [
              0.1111111111111111,
              "#46039f"
             ],
             [
              0.2222222222222222,
              "#7201a8"
             ],
             [
              0.3333333333333333,
              "#9c179e"
             ],
             [
              0.4444444444444444,
              "#bd3786"
             ],
             [
              0.5555555555555556,
              "#d8576b"
             ],
             [
              0.6666666666666666,
              "#ed7953"
             ],
             [
              0.7777777777777778,
              "#fb9f3a"
             ],
             [
              0.8888888888888888,
              "#fdca26"
             ],
             [
              1,
              "#f0f921"
             ]
            ],
            "type": "surface"
           }
          ],
          "table": [
           {
            "cells": {
             "fill": {
              "color": "#EBF0F8"
             },
             "line": {
              "color": "white"
             }
            },
            "header": {
             "fill": {
              "color": "#C8D4E3"
             },
             "line": {
              "color": "white"
             }
            },
            "type": "table"
           }
          ]
         },
         "layout": {
          "annotationdefaults": {
           "arrowcolor": "#2a3f5f",
           "arrowhead": 0,
           "arrowwidth": 1
          },
          "autotypenumbers": "strict",
          "coloraxis": {
           "colorbar": {
            "outlinewidth": 0,
            "ticks": ""
           }
          },
          "colorscale": {
           "diverging": [
            [
             0,
             "#8e0152"
            ],
            [
             0.1,
             "#c51b7d"
            ],
            [
             0.2,
             "#de77ae"
            ],
            [
             0.3,
             "#f1b6da"
            ],
            [
             0.4,
             "#fde0ef"
            ],
            [
             0.5,
             "#f7f7f7"
            ],
            [
             0.6,
             "#e6f5d0"
            ],
            [
             0.7,
             "#b8e186"
            ],
            [
             0.8,
             "#7fbc41"
            ],
            [
             0.9,
             "#4d9221"
            ],
            [
             1,
             "#276419"
            ]
           ],
           "sequential": [
            [
             0,
             "#0d0887"
            ],
            [
             0.1111111111111111,
             "#46039f"
            ],
            [
             0.2222222222222222,
             "#7201a8"
            ],
            [
             0.3333333333333333,
             "#9c179e"
            ],
            [
             0.4444444444444444,
             "#bd3786"
            ],
            [
             0.5555555555555556,
             "#d8576b"
            ],
            [
             0.6666666666666666,
             "#ed7953"
            ],
            [
             0.7777777777777778,
             "#fb9f3a"
            ],
            [
             0.8888888888888888,
             "#fdca26"
            ],
            [
             1,
             "#f0f921"
            ]
           ],
           "sequentialminus": [
            [
             0,
             "#0d0887"
            ],
            [
             0.1111111111111111,
             "#46039f"
            ],
            [
             0.2222222222222222,
             "#7201a8"
            ],
            [
             0.3333333333333333,
             "#9c179e"
            ],
            [
             0.4444444444444444,
             "#bd3786"
            ],
            [
             0.5555555555555556,
             "#d8576b"
            ],
            [
             0.6666666666666666,
             "#ed7953"
            ],
            [
             0.7777777777777778,
             "#fb9f3a"
            ],
            [
             0.8888888888888888,
             "#fdca26"
            ],
            [
             1,
             "#f0f921"
            ]
           ]
          },
          "colorway": [
           "#636efa",
           "#EF553B",
           "#00cc96",
           "#ab63fa",
           "#FFA15A",
           "#19d3f3",
           "#FF6692",
           "#B6E880",
           "#FF97FF",
           "#FECB52"
          ],
          "font": {
           "color": "#2a3f5f"
          },
          "geo": {
           "bgcolor": "white",
           "lakecolor": "white",
           "landcolor": "#E5ECF6",
           "showlakes": true,
           "showland": true,
           "subunitcolor": "white"
          },
          "hoverlabel": {
           "align": "left"
          },
          "hovermode": "closest",
          "mapbox": {
           "style": "light"
          },
          "paper_bgcolor": "white",
          "plot_bgcolor": "#E5ECF6",
          "polar": {
           "angularaxis": {
            "gridcolor": "white",
            "linecolor": "white",
            "ticks": ""
           },
           "bgcolor": "#E5ECF6",
           "radialaxis": {
            "gridcolor": "white",
            "linecolor": "white",
            "ticks": ""
           }
          },
          "scene": {
           "xaxis": {
            "backgroundcolor": "#E5ECF6",
            "gridcolor": "white",
            "gridwidth": 2,
            "linecolor": "white",
            "showbackground": true,
            "ticks": "",
            "zerolinecolor": "white"
           },
           "yaxis": {
            "backgroundcolor": "#E5ECF6",
            "gridcolor": "white",
            "gridwidth": 2,
            "linecolor": "white",
            "showbackground": true,
            "ticks": "",
            "zerolinecolor": "white"
           },
           "zaxis": {
            "backgroundcolor": "#E5ECF6",
            "gridcolor": "white",
            "gridwidth": 2,
            "linecolor": "white",
            "showbackground": true,
            "ticks": "",
            "zerolinecolor": "white"
           }
          },
          "shapedefaults": {
           "line": {
            "color": "#2a3f5f"
           }
          },
          "ternary": {
           "aaxis": {
            "gridcolor": "white",
            "linecolor": "white",
            "ticks": ""
           },
           "baxis": {
            "gridcolor": "white",
            "linecolor": "white",
            "ticks": ""
           },
           "bgcolor": "#E5ECF6",
           "caxis": {
            "gridcolor": "white",
            "linecolor": "white",
            "ticks": ""
           }
          },
          "title": {
           "x": 0.05
          },
          "xaxis": {
           "automargin": true,
           "gridcolor": "white",
           "linecolor": "white",
           "ticks": "",
           "title": {
            "standoff": 15
           },
           "zerolinecolor": "white",
           "zerolinewidth": 2
          },
          "yaxis": {
           "automargin": true,
           "gridcolor": "white",
           "linecolor": "white",
           "ticks": "",
           "title": {
            "standoff": 15
           },
           "zerolinecolor": "white",
           "zerolinewidth": 2
          }
         }
        }
       }
      }
     },
     "metadata": {},
     "output_type": "display_data"
    },
    {
     "data": {
      "application/vnd.plotly.v1+json": {
       "config": {
        "plotlyServerURL": "https://plot.ly"
       },
       "data": [
        {
         "colorscale": [
          [
           0,
           "rgb(247,251,255)"
          ],
          [
           0.125,
           "rgb(222,235,247)"
          ],
          [
           0.25,
           "rgb(198,219,239)"
          ],
          [
           0.375,
           "rgb(158,202,225)"
          ],
          [
           0.5,
           "rgb(107,174,214)"
          ],
          [
           0.625,
           "rgb(66,146,198)"
          ],
          [
           0.75,
           "rgb(33,113,181)"
          ],
          [
           0.875,
           "rgb(8,81,156)"
          ],
          [
           1,
           "rgb(8,48,107)"
          ]
         ],
         "text": [
          [
           1,
           0,
           0,
           0,
           0,
           0,
           0,
           0,
           0,
           0,
           0,
           0
          ],
          [
           0,
           1,
           0,
           0,
           0,
           0,
           0,
           0,
           0,
           0,
           0,
           0
          ],
          [
           0,
           0,
           1,
           0,
           0,
           0,
           0,
           0,
           0,
           0,
           0,
           0
          ],
          [
           0,
           0,
           0,
           1,
           0,
           0,
           0,
           0,
           0,
           0,
           0,
           0
          ],
          [
           0,
           0,
           0,
           0,
           1,
           0,
           0,
           0,
           0,
           0,
           0,
           0
          ],
          [
           0,
           0,
           0,
           0.13,
           0,
           0.02,
           0,
           0,
           0,
           0.85,
           0,
           0
          ],
          [
           0,
           0,
           0,
           0,
           0,
           0,
           1,
           0,
           0,
           0,
           0,
           0
          ],
          [
           0,
           0,
           0,
           0,
           0,
           0,
           0,
           1,
           0,
           0,
           0,
           0
          ],
          [
           0,
           0,
           0,
           0,
           0,
           0,
           0,
           0,
           1,
           0,
           0,
           0
          ],
          [
           0,
           0,
           0,
           0,
           0,
           0,
           0,
           0,
           0,
           1,
           0,
           0
          ],
          [
           0,
           0,
           0,
           0,
           0,
           0,
           0,
           0,
           0,
           0,
           1,
           0
          ],
          [
           0,
           0,
           0,
           0,
           0,
           0,
           0,
           0,
           0,
           0,
           0,
           1
          ]
         ],
         "texttemplate": "%{text}",
         "type": "heatmap",
         "x": [
          "pred ая(0)",
          "pred ого(11)",
          "pred ое(12)",
          "pred ой(13)",
          "pred ом(14)",
          "pred ому(15)",
          "pred ую(17)",
          "pred ые(18)",
          "pred ый(19)",
          "pred ым(20)",
          "pred ыми(21)",
          "pred ых(22)"
         ],
         "y": [
          "actual ая(0)",
          "actual ого(11)",
          "actual ое(12)",
          "actual ой(13)",
          "actual ом(14)",
          "actual ому(15)",
          "actual ую(17)",
          "actual ые(18)",
          "actual ый(19)",
          "actual ым(20)",
          "actual ыми(21)",
          "actual ых(22)"
         ],
         "z": [
          [
           1,
           0,
           0,
           0,
           0,
           0,
           0,
           0,
           0,
           0,
           0,
           0
          ],
          [
           0,
           1,
           0,
           0,
           0,
           0,
           0,
           0,
           0,
           0,
           0,
           0
          ],
          [
           0,
           0,
           1,
           0,
           0,
           0,
           0,
           0,
           0,
           0,
           0,
           0
          ],
          [
           0,
           0,
           0,
           1,
           0,
           0,
           0,
           0,
           0,
           0,
           0,
           0
          ],
          [
           0,
           0,
           0,
           0,
           1,
           0,
           0,
           0,
           0,
           0,
           0,
           0
          ],
          [
           0,
           0,
           0,
           0.13,
           0,
           0.02,
           0,
           0,
           0,
           0.85,
           0,
           0
          ],
          [
           0,
           0,
           0,
           0,
           0,
           0,
           1,
           0,
           0,
           0,
           0,
           0
          ],
          [
           0,
           0,
           0,
           0,
           0,
           0,
           0,
           1,
           0,
           0,
           0,
           0
          ],
          [
           0,
           0,
           0,
           0,
           0,
           0,
           0,
           0,
           1,
           0,
           0,
           0
          ],
          [
           0,
           0,
           0,
           0,
           0,
           0,
           0,
           0,
           0,
           1,
           0,
           0
          ],
          [
           0,
           0,
           0,
           0,
           0,
           0,
           0,
           0,
           0,
           0,
           1,
           0
          ],
          [
           0,
           0,
           0,
           0,
           0,
           0,
           0,
           0,
           0,
           0,
           0,
           1
          ]
         ]
        }
       ],
       "layout": {
        "template": {
         "data": {
          "bar": [
           {
            "error_x": {
             "color": "#2a3f5f"
            },
            "error_y": {
             "color": "#2a3f5f"
            },
            "marker": {
             "line": {
              "color": "#E5ECF6",
              "width": 0.5
             },
             "pattern": {
              "fillmode": "overlay",
              "size": 10,
              "solidity": 0.2
             }
            },
            "type": "bar"
           }
          ],
          "barpolar": [
           {
            "marker": {
             "line": {
              "color": "#E5ECF6",
              "width": 0.5
             },
             "pattern": {
              "fillmode": "overlay",
              "size": 10,
              "solidity": 0.2
             }
            },
            "type": "barpolar"
           }
          ],
          "carpet": [
           {
            "aaxis": {
             "endlinecolor": "#2a3f5f",
             "gridcolor": "white",
             "linecolor": "white",
             "minorgridcolor": "white",
             "startlinecolor": "#2a3f5f"
            },
            "baxis": {
             "endlinecolor": "#2a3f5f",
             "gridcolor": "white",
             "linecolor": "white",
             "minorgridcolor": "white",
             "startlinecolor": "#2a3f5f"
            },
            "type": "carpet"
           }
          ],
          "choropleth": [
           {
            "colorbar": {
             "outlinewidth": 0,
             "ticks": ""
            },
            "type": "choropleth"
           }
          ],
          "contour": [
           {
            "colorbar": {
             "outlinewidth": 0,
             "ticks": ""
            },
            "colorscale": [
             [
              0,
              "#0d0887"
             ],
             [
              0.1111111111111111,
              "#46039f"
             ],
             [
              0.2222222222222222,
              "#7201a8"
             ],
             [
              0.3333333333333333,
              "#9c179e"
             ],
             [
              0.4444444444444444,
              "#bd3786"
             ],
             [
              0.5555555555555556,
              "#d8576b"
             ],
             [
              0.6666666666666666,
              "#ed7953"
             ],
             [
              0.7777777777777778,
              "#fb9f3a"
             ],
             [
              0.8888888888888888,
              "#fdca26"
             ],
             [
              1,
              "#f0f921"
             ]
            ],
            "type": "contour"
           }
          ],
          "contourcarpet": [
           {
            "colorbar": {
             "outlinewidth": 0,
             "ticks": ""
            },
            "type": "contourcarpet"
           }
          ],
          "heatmap": [
           {
            "colorbar": {
             "outlinewidth": 0,
             "ticks": ""
            },
            "colorscale": [
             [
              0,
              "#0d0887"
             ],
             [
              0.1111111111111111,
              "#46039f"
             ],
             [
              0.2222222222222222,
              "#7201a8"
             ],
             [
              0.3333333333333333,
              "#9c179e"
             ],
             [
              0.4444444444444444,
              "#bd3786"
             ],
             [
              0.5555555555555556,
              "#d8576b"
             ],
             [
              0.6666666666666666,
              "#ed7953"
             ],
             [
              0.7777777777777778,
              "#fb9f3a"
             ],
             [
              0.8888888888888888,
              "#fdca26"
             ],
             [
              1,
              "#f0f921"
             ]
            ],
            "type": "heatmap"
           }
          ],
          "heatmapgl": [
           {
            "colorbar": {
             "outlinewidth": 0,
             "ticks": ""
            },
            "colorscale": [
             [
              0,
              "#0d0887"
             ],
             [
              0.1111111111111111,
              "#46039f"
             ],
             [
              0.2222222222222222,
              "#7201a8"
             ],
             [
              0.3333333333333333,
              "#9c179e"
             ],
             [
              0.4444444444444444,
              "#bd3786"
             ],
             [
              0.5555555555555556,
              "#d8576b"
             ],
             [
              0.6666666666666666,
              "#ed7953"
             ],
             [
              0.7777777777777778,
              "#fb9f3a"
             ],
             [
              0.8888888888888888,
              "#fdca26"
             ],
             [
              1,
              "#f0f921"
             ]
            ],
            "type": "heatmapgl"
           }
          ],
          "histogram": [
           {
            "marker": {
             "pattern": {
              "fillmode": "overlay",
              "size": 10,
              "solidity": 0.2
             }
            },
            "type": "histogram"
           }
          ],
          "histogram2d": [
           {
            "colorbar": {
             "outlinewidth": 0,
             "ticks": ""
            },
            "colorscale": [
             [
              0,
              "#0d0887"
             ],
             [
              0.1111111111111111,
              "#46039f"
             ],
             [
              0.2222222222222222,
              "#7201a8"
             ],
             [
              0.3333333333333333,
              "#9c179e"
             ],
             [
              0.4444444444444444,
              "#bd3786"
             ],
             [
              0.5555555555555556,
              "#d8576b"
             ],
             [
              0.6666666666666666,
              "#ed7953"
             ],
             [
              0.7777777777777778,
              "#fb9f3a"
             ],
             [
              0.8888888888888888,
              "#fdca26"
             ],
             [
              1,
              "#f0f921"
             ]
            ],
            "type": "histogram2d"
           }
          ],
          "histogram2dcontour": [
           {
            "colorbar": {
             "outlinewidth": 0,
             "ticks": ""
            },
            "colorscale": [
             [
              0,
              "#0d0887"
             ],
             [
              0.1111111111111111,
              "#46039f"
             ],
             [
              0.2222222222222222,
              "#7201a8"
             ],
             [
              0.3333333333333333,
              "#9c179e"
             ],
             [
              0.4444444444444444,
              "#bd3786"
             ],
             [
              0.5555555555555556,
              "#d8576b"
             ],
             [
              0.6666666666666666,
              "#ed7953"
             ],
             [
              0.7777777777777778,
              "#fb9f3a"
             ],
             [
              0.8888888888888888,
              "#fdca26"
             ],
             [
              1,
              "#f0f921"
             ]
            ],
            "type": "histogram2dcontour"
           }
          ],
          "mesh3d": [
           {
            "colorbar": {
             "outlinewidth": 0,
             "ticks": ""
            },
            "type": "mesh3d"
           }
          ],
          "parcoords": [
           {
            "line": {
             "colorbar": {
              "outlinewidth": 0,
              "ticks": ""
             }
            },
            "type": "parcoords"
           }
          ],
          "pie": [
           {
            "automargin": true,
            "type": "pie"
           }
          ],
          "scatter": [
           {
            "fillpattern": {
             "fillmode": "overlay",
             "size": 10,
             "solidity": 0.2
            },
            "type": "scatter"
           }
          ],
          "scatter3d": [
           {
            "line": {
             "colorbar": {
              "outlinewidth": 0,
              "ticks": ""
             }
            },
            "marker": {
             "colorbar": {
              "outlinewidth": 0,
              "ticks": ""
             }
            },
            "type": "scatter3d"
           }
          ],
          "scattercarpet": [
           {
            "marker": {
             "colorbar": {
              "outlinewidth": 0,
              "ticks": ""
             }
            },
            "type": "scattercarpet"
           }
          ],
          "scattergeo": [
           {
            "marker": {
             "colorbar": {
              "outlinewidth": 0,
              "ticks": ""
             }
            },
            "type": "scattergeo"
           }
          ],
          "scattergl": [
           {
            "marker": {
             "colorbar": {
              "outlinewidth": 0,
              "ticks": ""
             }
            },
            "type": "scattergl"
           }
          ],
          "scattermapbox": [
           {
            "marker": {
             "colorbar": {
              "outlinewidth": 0,
              "ticks": ""
             }
            },
            "type": "scattermapbox"
           }
          ],
          "scatterpolar": [
           {
            "marker": {
             "colorbar": {
              "outlinewidth": 0,
              "ticks": ""
             }
            },
            "type": "scatterpolar"
           }
          ],
          "scatterpolargl": [
           {
            "marker": {
             "colorbar": {
              "outlinewidth": 0,
              "ticks": ""
             }
            },
            "type": "scatterpolargl"
           }
          ],
          "scatterternary": [
           {
            "marker": {
             "colorbar": {
              "outlinewidth": 0,
              "ticks": ""
             }
            },
            "type": "scatterternary"
           }
          ],
          "surface": [
           {
            "colorbar": {
             "outlinewidth": 0,
             "ticks": ""
            },
            "colorscale": [
             [
              0,
              "#0d0887"
             ],
             [
              0.1111111111111111,
              "#46039f"
             ],
             [
              0.2222222222222222,
              "#7201a8"
             ],
             [
              0.3333333333333333,
              "#9c179e"
             ],
             [
              0.4444444444444444,
              "#bd3786"
             ],
             [
              0.5555555555555556,
              "#d8576b"
             ],
             [
              0.6666666666666666,
              "#ed7953"
             ],
             [
              0.7777777777777778,
              "#fb9f3a"
             ],
             [
              0.8888888888888888,
              "#fdca26"
             ],
             [
              1,
              "#f0f921"
             ]
            ],
            "type": "surface"
           }
          ],
          "table": [
           {
            "cells": {
             "fill": {
              "color": "#EBF0F8"
             },
             "line": {
              "color": "white"
             }
            },
            "header": {
             "fill": {
              "color": "#C8D4E3"
             },
             "line": {
              "color": "white"
             }
            },
            "type": "table"
           }
          ]
         },
         "layout": {
          "annotationdefaults": {
           "arrowcolor": "#2a3f5f",
           "arrowhead": 0,
           "arrowwidth": 1
          },
          "autotypenumbers": "strict",
          "coloraxis": {
           "colorbar": {
            "outlinewidth": 0,
            "ticks": ""
           }
          },
          "colorscale": {
           "diverging": [
            [
             0,
             "#8e0152"
            ],
            [
             0.1,
             "#c51b7d"
            ],
            [
             0.2,
             "#de77ae"
            ],
            [
             0.3,
             "#f1b6da"
            ],
            [
             0.4,
             "#fde0ef"
            ],
            [
             0.5,
             "#f7f7f7"
            ],
            [
             0.6,
             "#e6f5d0"
            ],
            [
             0.7,
             "#b8e186"
            ],
            [
             0.8,
             "#7fbc41"
            ],
            [
             0.9,
             "#4d9221"
            ],
            [
             1,
             "#276419"
            ]
           ],
           "sequential": [
            [
             0,
             "#0d0887"
            ],
            [
             0.1111111111111111,
             "#46039f"
            ],
            [
             0.2222222222222222,
             "#7201a8"
            ],
            [
             0.3333333333333333,
             "#9c179e"
            ],
            [
             0.4444444444444444,
             "#bd3786"
            ],
            [
             0.5555555555555556,
             "#d8576b"
            ],
            [
             0.6666666666666666,
             "#ed7953"
            ],
            [
             0.7777777777777778,
             "#fb9f3a"
            ],
            [
             0.8888888888888888,
             "#fdca26"
            ],
            [
             1,
             "#f0f921"
            ]
           ],
           "sequentialminus": [
            [
             0,
             "#0d0887"
            ],
            [
             0.1111111111111111,
             "#46039f"
            ],
            [
             0.2222222222222222,
             "#7201a8"
            ],
            [
             0.3333333333333333,
             "#9c179e"
            ],
            [
             0.4444444444444444,
             "#bd3786"
            ],
            [
             0.5555555555555556,
             "#d8576b"
            ],
            [
             0.6666666666666666,
             "#ed7953"
            ],
            [
             0.7777777777777778,
             "#fb9f3a"
            ],
            [
             0.8888888888888888,
             "#fdca26"
            ],
            [
             1,
             "#f0f921"
            ]
           ]
          },
          "colorway": [
           "#636efa",
           "#EF553B",
           "#00cc96",
           "#ab63fa",
           "#FFA15A",
           "#19d3f3",
           "#FF6692",
           "#B6E880",
           "#FF97FF",
           "#FECB52"
          ],
          "font": {
           "color": "#2a3f5f"
          },
          "geo": {
           "bgcolor": "white",
           "lakecolor": "white",
           "landcolor": "#E5ECF6",
           "showlakes": true,
           "showland": true,
           "subunitcolor": "white"
          },
          "hoverlabel": {
           "align": "left"
          },
          "hovermode": "closest",
          "mapbox": {
           "style": "light"
          },
          "paper_bgcolor": "white",
          "plot_bgcolor": "#E5ECF6",
          "polar": {
           "angularaxis": {
            "gridcolor": "white",
            "linecolor": "white",
            "ticks": ""
           },
           "bgcolor": "#E5ECF6",
           "radialaxis": {
            "gridcolor": "white",
            "linecolor": "white",
            "ticks": ""
           }
          },
          "scene": {
           "xaxis": {
            "backgroundcolor": "#E5ECF6",
            "gridcolor": "white",
            "gridwidth": 2,
            "linecolor": "white",
            "showbackground": true,
            "ticks": "",
            "zerolinecolor": "white"
           },
           "yaxis": {
            "backgroundcolor": "#E5ECF6",
            "gridcolor": "white",
            "gridwidth": 2,
            "linecolor": "white",
            "showbackground": true,
            "ticks": "",
            "zerolinecolor": "white"
           },
           "zaxis": {
            "backgroundcolor": "#E5ECF6",
            "gridcolor": "white",
            "gridwidth": 2,
            "linecolor": "white",
            "showbackground": true,
            "ticks": "",
            "zerolinecolor": "white"
           }
          },
          "shapedefaults": {
           "line": {
            "color": "#2a3f5f"
           }
          },
          "ternary": {
           "aaxis": {
            "gridcolor": "white",
            "linecolor": "white",
            "ticks": ""
           },
           "baxis": {
            "gridcolor": "white",
            "linecolor": "white",
            "ticks": ""
           },
           "bgcolor": "#E5ECF6",
           "caxis": {
            "gridcolor": "white",
            "linecolor": "white",
            "ticks": ""
           }
          },
          "title": {
           "x": 0.05
          },
          "xaxis": {
           "automargin": true,
           "gridcolor": "white",
           "linecolor": "white",
           "ticks": "",
           "title": {
            "standoff": 15
           },
           "zerolinecolor": "white",
           "zerolinewidth": 2
          },
          "yaxis": {
           "automargin": true,
           "gridcolor": "white",
           "linecolor": "white",
           "ticks": "",
           "title": {
            "standoff": 15
           },
           "zerolinecolor": "white",
           "zerolinewidth": 2
          }
         }
        }
       }
      }
     },
     "metadata": {},
     "output_type": "display_data"
    }
   ],
   "source": [
    "tasks = get_tasks(bucket,\n",
    " 'datasphere/agreementproject/job_info/job_agreementproject_18:32:21.476408.txt')\n",
    "\n",
    "loader = S3TrainingLogsLoader(bucket, project_name)\n",
    "metrics = loader.load_metrics(tasks)\n",
    "\n",
    "unzipped_folder = (Loc.root_path /\n",
    "                   'temp'/'training_results' /\n",
    "                   f'{tasks[0]}.unzipped')\n",
    "result_df = pd.read_parquet(unzipped_folder/'output'/'result_df.parquet')\n",
    "y_true, y_pred = get_true_and_pred(result_df)\n",
    "\n",
    "plot_metrics(metrics, tasks[0])\n",
    "sorted_nums = sorted(list(y_true.unique()))\n",
    "cm = pd.DataFrame(\n",
    "    confusion_matrix(y_true, y_pred,\n",
    "                        # normalize='true'\n",
    "                     ).round(2),\n",
    "    columns=[f'pred {ending_by_num[n]}' for n in sorted_nums],\n",
    "    index=[f'actual {ending_by_num[n]}' for n in sorted_nums]\n",
    ")\n",
    "plot_cm(cm)\n",
    "cm = pd.DataFrame(\n",
    "    confusion_matrix(y_true, y_pred,\n",
    "                        normalize='true'\n",
    "                     ).round(2),\n",
    "    columns=[f'pred {ending_by_num[n]}({n})' for n in sorted_nums],\n",
    "    index=[f'actual {ending_by_num[n]}({n})' for n in sorted_nums]\n",
    ")\n",
    "plot_cm(cm)"
   ]
  },
  {
   "cell_type": "code",
   "execution_count": 18,
   "metadata": {},
   "outputs": [],
   "source": [
    "db = DataBundle.load(Loc.data_cache_path/'bundles/agreement/mid50')\n"
   ]
  },
  {
   "cell_type": "code",
   "execution_count": 20,
   "metadata": {},
   "outputs": [
    {
     "name": "stdout",
     "output_type": "stream",
     "text": [
      "Predicted  ым  instead of  ому \n"
     ]
    },
    {
     "data": {
      "text/html": [
       "<p><span title=\"47296\"\">Дважды <span title=\"47297\"\">обошел <span title=\"47298\"\">Дамблдор <span title=\"47299\"\">пещеру <span title=\"47300\"\">по <span title=\"47301\"\">кругу<span title=\"47302\"\">, <span title=\"47303\"\">прикасаясь<span title=\"47304\"\">, <span title=\"47305\"\">где <span title=\"47306\"\">только <span title=\"47307\"\">мог<span title=\"47308\"\">, <span title=\"47309\"\">к <span style=\"color:red;\" title=\"47310\"\">грубому</span> <span title=\"47311\"\">камню<span title=\"47312\"\">, <span title=\"47313\"\">по <span title=\"47314\"\">временам <span title=\"47315\"\">останавливаясь<span title=\"47316\"\">, <span title=\"47317\"\">водя <span title=\"47318\"\">по <span title=\"47319\"\">одному <span title=\"47320\"\">какому-то <span title=\"47321\"\">месту <span title=\"47322\"\">пальцами <span title=\"47323\"\">взад <span title=\"47324\"\">и <span title=\"47325\"\">вперед<span title=\"47326\"\">, <span title=\"47327\"\">пока <span title=\"47328\"\">наконец <span title=\"47329\"\">не <span title=\"47330\"\">остановился <span title=\"47331\"\">совсем<span title=\"47332\"\">, <span title=\"47333\"\">прижав <span title=\"47334\"\">ладонь <span title=\"47335\"\">к <span title=\"47336\"\">стене<span title=\"47337\"\">.</p><p><span title=\"632859\"\">Отчаянно <span title=\"632860\"\">крича<span title=\"632861\"\">, <span title=\"632862\"\">девушка <span title=\"632863\"\">ударила <span title=\"632864\"\">топором <span title=\"632865\"\">по <span style=\"color:red;\" title=\"632866\"\">окольчуженному</span> <span title=\"632867\"\">плечу <span title=\"632868\"\">в <span title=\"632869\"\">тот <span title=\"632870\"\">самый <span title=\"632871\"\">момент<span title=\"632872\"\">, <span title=\"632873\"\">когда <span title=\"632874\"\">ее <span title=\"632875\"\">сестра <span title=\"632876\"\">Элдрин <span title=\"632877\"\">засадила <span title=\"632878\"\">в <span title=\"632879\"\">грудь <span title=\"632880\"\">троллока <span title=\"632881\"\">рогатину<span title=\"632882\"\">, <span title=\"632883\"\">а <span title=\"632884\"\">седовласая <span title=\"632885\"\">Нейса <span title=\"632886\"\">Айеллин <span title=\"632887\"\">вонзила <span title=\"632888\"\">в <span title=\"632889\"\">него <span title=\"632890\"\">нож <span title=\"632891\"\">для <span title=\"632892\"\">разделки <span title=\"632893\"\">мяса<span title=\"632894\"\">. </p><p><span title=\"817396\"\">Асунава<span title=\"817397\"\">, <span title=\"817398\"\">насупившись<span title=\"817399\"\">, <span title=\"817400\"\">барабанил <span title=\"817401\"\">пальцами <span title=\"817402\"\">по <span style=\"color:red;\" title=\"817403\"\">золоченому</span> <span title=\"817404\"\">подлокотнику <span title=\"817405\"\">кресла<span title=\"817406\"\">, <span title=\"817407\"\">на <span title=\"817408\"\">высокой <span title=\"817409\"\">спинке <span title=\"817410\"\">которого<span title=\"817411\"\">, <span title=\"817412\"\">прямо <span title=\"817413\"\">над <span title=\"817414\"\">его <span title=\"817415\"\">головой<span title=\"817416\"\">, <span title=\"817417\"\">красовалось <span title=\"817418\"\">на <span title=\"817419\"\">чистейше <span title=\"817420\"\">белом <span title=\"817421\"\">диске <span title=\"817422\"\">покрытое <span title=\"817423\"\">сверкающим <span title=\"817424\"\">лаком <span title=\"817425\"\">изображение <span title=\"817426\"\">крючковатого <span title=\"817427\"\">пастушьего <span title=\"817428\"\">посоха<span title=\"817429\"\">.</p><p><span title=\"1939891\"\">Тобиас<span title=\"1939892\"\">, <span title=\"1939893\"\">ругаясь<span title=\"1939894\"\">, <span title=\"1939895\"\">пытался <span title=\"1939896\"\">подступиться <span title=\"1939897\"\">к <span style=\"color:red;\" title=\"1939898\"\">караковому</span> <span title=\"1939899\"\">жеребцу <span title=\"1939900\"\">ровалийской <span title=\"1939901\"\">породы<span title=\"1939902\"\">, <span title=\"1939903\"\">раздраженному<span title=\"1939904\"\">, <span title=\"1939905\"\">косящему <span title=\"1939906\"\">глазом <span title=\"1939907\"\">и <span title=\"1939908\"\">только <span title=\"1939909\"\">и <span title=\"1939910\"\">ждущему<span title=\"1939911\"\">, <span title=\"1939912\"\">когда <span title=\"1939913\"\">человек <span title=\"1939914\"\">подойдет <span title=\"1939915\"\">достаточно <span title=\"1939916\"\">близко <span title=\"1939917\"\">для <span title=\"1939918\"\">того<span title=\"1939919\"\">, <span title=\"1939920\"\">чтобы <span title=\"1939921\"\">укусить <span title=\"1939922\"\">его<span title=\"1939923\"\">, <span title=\"1939924\"\">а <span title=\"1939925\"\">то <span title=\"1939926\"\">и <span title=\"1939927\"\">вовсе <span title=\"1939928\"\">забить <span title=\"1939929\"\">копытами<span title=\"1939930\"\">.</p>"
      ],
      "text/plain": [
       "<IPython.core.display.HTML object>"
      ]
     },
     "execution_count": 20,
     "metadata": {},
     "output_type": "execute_result"
    }
   ],
   "source": [
    "from tg.grammar_ru.common import Separator\n",
    "\n",
    "true_label = 15\n",
    "pred_label = 20\n",
    "worst_words, worst_sents_df = get_worst_words_sents(\n",
    "    result_df, db.src, true_label=true_label, pred_label=pred_label, worst_words_cnt=4)\n",
    "print(f\"Predicted  {ending_by_num[pred_label]}  instead of  {ending_by_num[true_label]} \" )\n",
    "Separator.Viewer().tooltip(\"word_id\").color('word_id',\n",
    "                                            value_to_color={\n",
    "                                                wid: 'red' for wid in worst_words.word_id}\n",
    "                                            ).to_html_display(worst_sents_df)\n"
   ]
  },
  {
   "cell_type": "code",
   "execution_count": 25,
   "metadata": {},
   "outputs": [
    {
     "data": {
      "text/plain": [
       "1.000000    52178\n",
       "0.000000      816\n",
       "0.999999        4\n",
       "0.999988        2\n",
       "0.999980        1\n",
       "0.999969        1\n",
       "0.999996        1\n",
       "0.999978        1\n",
       "0.999989        1\n",
       "Name: pred_score, dtype: int64"
      ]
     },
     "execution_count": 25,
     "metadata": {},
     "output_type": "execute_result"
    }
   ],
   "source": [
    "result_df.pred_score.round(6).value_counts()"
   ]
  },
  {
   "cell_type": "code",
   "execution_count": 32,
   "metadata": {},
   "outputs": [],
   "source": [
    "pred_col_names = [c for c in result_df.columns if 'predicted_label' in c ]\n",
    "true_col_names = [c for c in result_df.columns if 'true_label' in c ]\n",
    "# result_df[pred_col_names].round(2)[:20]"
   ]
  },
  {
   "cell_type": "code",
   "execution_count": 31,
   "metadata": {},
   "outputs": [
    {
     "data": {
      "text/html": [
       "<div>\n",
       "<style scoped>\n",
       "    .dataframe tbody tr th:only-of-type {\n",
       "        vertical-align: middle;\n",
       "    }\n",
       "\n",
       "    .dataframe tbody tr th {\n",
       "        vertical-align: top;\n",
       "    }\n",
       "\n",
       "    .dataframe thead th {\n",
       "        text-align: right;\n",
       "    }\n",
       "</style>\n",
       "<table border=\"1\" class=\"dataframe\">\n",
       "  <thead>\n",
       "    <tr style=\"text-align: right;\">\n",
       "      <th></th>\n",
       "      <th>predicted_label_19</th>\n",
       "      <th>predicted_label_18</th>\n",
       "      <th>predicted_label_13</th>\n",
       "      <th>predicted_label_22</th>\n",
       "      <th>predicted_label_20</th>\n",
       "      <th>predicted_label_11</th>\n",
       "      <th>predicted_label_0</th>\n",
       "      <th>predicted_label_12</th>\n",
       "      <th>predicted_label_17</th>\n",
       "      <th>predicted_label_21</th>\n",
       "      <th>predicted_label_14</th>\n",
       "      <th>predicted_label_15</th>\n",
       "    </tr>\n",
       "    <tr>\n",
       "      <th>sample_id</th>\n",
       "      <th></th>\n",
       "      <th></th>\n",
       "      <th></th>\n",
       "      <th></th>\n",
       "      <th></th>\n",
       "      <th></th>\n",
       "      <th></th>\n",
       "      <th></th>\n",
       "      <th></th>\n",
       "      <th></th>\n",
       "      <th></th>\n",
       "      <th></th>\n",
       "    </tr>\n",
       "  </thead>\n",
       "  <tbody>\n",
       "    <tr>\n",
       "      <th>195</th>\n",
       "      <td>3.576408e-26</td>\n",
       "      <td>0.0</td>\n",
       "      <td>9.117971e-22</td>\n",
       "      <td>0.0</td>\n",
       "      <td>1.555851e-11</td>\n",
       "      <td>0.000000e+00</td>\n",
       "      <td>1.803381e-18</td>\n",
       "      <td>1.505761e-36</td>\n",
       "      <td>0.000000e+00</td>\n",
       "      <td>0.0</td>\n",
       "      <td>1.215288e-21</td>\n",
       "      <td>1.694844e-13</td>\n",
       "    </tr>\n",
       "    <tr>\n",
       "      <th>216</th>\n",
       "      <td>3.256505e-26</td>\n",
       "      <td>0.0</td>\n",
       "      <td>2.778800e-21</td>\n",
       "      <td>0.0</td>\n",
       "      <td>1.546899e-12</td>\n",
       "      <td>6.687379e-39</td>\n",
       "      <td>1.568575e-17</td>\n",
       "      <td>6.624346e-36</td>\n",
       "      <td>0.000000e+00</td>\n",
       "      <td>0.0</td>\n",
       "      <td>9.512640e-21</td>\n",
       "      <td>1.467655e-13</td>\n",
       "    </tr>\n",
       "    <tr>\n",
       "      <th>382</th>\n",
       "      <td>3.590529e-26</td>\n",
       "      <td>0.0</td>\n",
       "      <td>9.113799e-22</td>\n",
       "      <td>0.0</td>\n",
       "      <td>1.550787e-11</td>\n",
       "      <td>0.000000e+00</td>\n",
       "      <td>1.810805e-18</td>\n",
       "      <td>1.503076e-36</td>\n",
       "      <td>0.000000e+00</td>\n",
       "      <td>0.0</td>\n",
       "      <td>1.216476e-21</td>\n",
       "      <td>1.694941e-13</td>\n",
       "    </tr>\n",
       "    <tr>\n",
       "      <th>616</th>\n",
       "      <td>3.573176e-26</td>\n",
       "      <td>0.0</td>\n",
       "      <td>9.126322e-22</td>\n",
       "      <td>0.0</td>\n",
       "      <td>1.555934e-11</td>\n",
       "      <td>0.000000e+00</td>\n",
       "      <td>1.801380e-18</td>\n",
       "      <td>1.507164e-36</td>\n",
       "      <td>0.000000e+00</td>\n",
       "      <td>0.0</td>\n",
       "      <td>1.215358e-21</td>\n",
       "      <td>1.694915e-13</td>\n",
       "    </tr>\n",
       "    <tr>\n",
       "      <th>2029</th>\n",
       "      <td>3.127715e-26</td>\n",
       "      <td>0.0</td>\n",
       "      <td>2.906941e-21</td>\n",
       "      <td>0.0</td>\n",
       "      <td>1.536536e-12</td>\n",
       "      <td>7.054502e-39</td>\n",
       "      <td>1.510764e-17</td>\n",
       "      <td>6.944003e-36</td>\n",
       "      <td>0.000000e+00</td>\n",
       "      <td>0.0</td>\n",
       "      <td>9.621725e-21</td>\n",
       "      <td>1.469210e-13</td>\n",
       "    </tr>\n",
       "    <tr>\n",
       "      <th>...</th>\n",
       "      <td>...</td>\n",
       "      <td>...</td>\n",
       "      <td>...</td>\n",
       "      <td>...</td>\n",
       "      <td>...</td>\n",
       "      <td>...</td>\n",
       "      <td>...</td>\n",
       "      <td>...</td>\n",
       "      <td>...</td>\n",
       "      <td>...</td>\n",
       "      <td>...</td>\n",
       "      <td>...</td>\n",
       "    </tr>\n",
       "    <tr>\n",
       "      <th>157006</th>\n",
       "      <td>3.242634e-26</td>\n",
       "      <td>0.0</td>\n",
       "      <td>2.789984e-21</td>\n",
       "      <td>0.0</td>\n",
       "      <td>1.552293e-12</td>\n",
       "      <td>6.697028e-39</td>\n",
       "      <td>1.564297e-17</td>\n",
       "      <td>6.640741e-36</td>\n",
       "      <td>0.000000e+00</td>\n",
       "      <td>0.0</td>\n",
       "      <td>9.498245e-21</td>\n",
       "      <td>1.467907e-13</td>\n",
       "    </tr>\n",
       "    <tr>\n",
       "      <th>157103</th>\n",
       "      <td>3.558702e-26</td>\n",
       "      <td>0.0</td>\n",
       "      <td>9.163580e-22</td>\n",
       "      <td>0.0</td>\n",
       "      <td>1.556070e-11</td>\n",
       "      <td>0.000000e+00</td>\n",
       "      <td>1.792127e-18</td>\n",
       "      <td>1.513640e-36</td>\n",
       "      <td>0.000000e+00</td>\n",
       "      <td>0.0</td>\n",
       "      <td>1.215789e-21</td>\n",
       "      <td>1.695219e-13</td>\n",
       "    </tr>\n",
       "    <tr>\n",
       "      <th>157578</th>\n",
       "      <td>4.001912e-37</td>\n",
       "      <td>0.0</td>\n",
       "      <td>1.380932e-10</td>\n",
       "      <td>0.0</td>\n",
       "      <td>2.095918e-12</td>\n",
       "      <td>1.029666e-25</td>\n",
       "      <td>3.611468e-31</td>\n",
       "      <td>2.105498e-24</td>\n",
       "      <td>1.024909e-24</td>\n",
       "      <td>0.0</td>\n",
       "      <td>7.446962e-20</td>\n",
       "      <td>4.406509e-13</td>\n",
       "    </tr>\n",
       "    <tr>\n",
       "      <th>157624</th>\n",
       "      <td>3.580927e-26</td>\n",
       "      <td>0.0</td>\n",
       "      <td>9.105944e-22</td>\n",
       "      <td>0.0</td>\n",
       "      <td>1.555637e-11</td>\n",
       "      <td>0.000000e+00</td>\n",
       "      <td>1.806058e-18</td>\n",
       "      <td>1.503844e-36</td>\n",
       "      <td>0.000000e+00</td>\n",
       "      <td>0.0</td>\n",
       "      <td>1.215242e-21</td>\n",
       "      <td>1.694744e-13</td>\n",
       "    </tr>\n",
       "    <tr>\n",
       "      <th>158425</th>\n",
       "      <td>3.581787e-26</td>\n",
       "      <td>0.0</td>\n",
       "      <td>9.103235e-22</td>\n",
       "      <td>0.0</td>\n",
       "      <td>1.554501e-11</td>\n",
       "      <td>0.000000e+00</td>\n",
       "      <td>1.805473e-18</td>\n",
       "      <td>1.504085e-36</td>\n",
       "      <td>0.000000e+00</td>\n",
       "      <td>0.0</td>\n",
       "      <td>1.215729e-21</td>\n",
       "      <td>1.694718e-13</td>\n",
       "    </tr>\n",
       "  </tbody>\n",
       "</table>\n",
       "<p>816 rows × 12 columns</p>\n",
       "</div>"
      ],
      "text/plain": [
       "           predicted_label_19  predicted_label_18  predicted_label_13  \\\n",
       "sample_id                                                               \n",
       "195              3.576408e-26                 0.0        9.117971e-22   \n",
       "216              3.256505e-26                 0.0        2.778800e-21   \n",
       "382              3.590529e-26                 0.0        9.113799e-22   \n",
       "616              3.573176e-26                 0.0        9.126322e-22   \n",
       "2029             3.127715e-26                 0.0        2.906941e-21   \n",
       "...                       ...                 ...                 ...   \n",
       "157006           3.242634e-26                 0.0        2.789984e-21   \n",
       "157103           3.558702e-26                 0.0        9.163580e-22   \n",
       "157578           4.001912e-37                 0.0        1.380932e-10   \n",
       "157624           3.580927e-26                 0.0        9.105944e-22   \n",
       "158425           3.581787e-26                 0.0        9.103235e-22   \n",
       "\n",
       "           predicted_label_22  predicted_label_20  predicted_label_11  \\\n",
       "sample_id                                                               \n",
       "195                       0.0        1.555851e-11        0.000000e+00   \n",
       "216                       0.0        1.546899e-12        6.687379e-39   \n",
       "382                       0.0        1.550787e-11        0.000000e+00   \n",
       "616                       0.0        1.555934e-11        0.000000e+00   \n",
       "2029                      0.0        1.536536e-12        7.054502e-39   \n",
       "...                       ...                 ...                 ...   \n",
       "157006                    0.0        1.552293e-12        6.697028e-39   \n",
       "157103                    0.0        1.556070e-11        0.000000e+00   \n",
       "157578                    0.0        2.095918e-12        1.029666e-25   \n",
       "157624                    0.0        1.555637e-11        0.000000e+00   \n",
       "158425                    0.0        1.554501e-11        0.000000e+00   \n",
       "\n",
       "           predicted_label_0  predicted_label_12  predicted_label_17  \\\n",
       "sample_id                                                              \n",
       "195             1.803381e-18        1.505761e-36        0.000000e+00   \n",
       "216             1.568575e-17        6.624346e-36        0.000000e+00   \n",
       "382             1.810805e-18        1.503076e-36        0.000000e+00   \n",
       "616             1.801380e-18        1.507164e-36        0.000000e+00   \n",
       "2029            1.510764e-17        6.944003e-36        0.000000e+00   \n",
       "...                      ...                 ...                 ...   \n",
       "157006          1.564297e-17        6.640741e-36        0.000000e+00   \n",
       "157103          1.792127e-18        1.513640e-36        0.000000e+00   \n",
       "157578          3.611468e-31        2.105498e-24        1.024909e-24   \n",
       "157624          1.806058e-18        1.503844e-36        0.000000e+00   \n",
       "158425          1.805473e-18        1.504085e-36        0.000000e+00   \n",
       "\n",
       "           predicted_label_21  predicted_label_14  predicted_label_15  \n",
       "sample_id                                                              \n",
       "195                       0.0        1.215288e-21        1.694844e-13  \n",
       "216                       0.0        9.512640e-21        1.467655e-13  \n",
       "382                       0.0        1.216476e-21        1.694941e-13  \n",
       "616                       0.0        1.215358e-21        1.694915e-13  \n",
       "2029                      0.0        9.621725e-21        1.469210e-13  \n",
       "...                       ...                 ...                 ...  \n",
       "157006                    0.0        9.498245e-21        1.467907e-13  \n",
       "157103                    0.0        1.215789e-21        1.695219e-13  \n",
       "157578                    0.0        7.446962e-20        4.406509e-13  \n",
       "157624                    0.0        1.215242e-21        1.694744e-13  \n",
       "158425                    0.0        1.215729e-21        1.694718e-13  \n",
       "\n",
       "[816 rows x 12 columns]"
      ]
     },
     "execution_count": 31,
     "metadata": {},
     "output_type": "execute_result"
    }
   ],
   "source": [
    "result_df[result_df.pred_score<0.001][pred_col_names]"
   ]
  },
  {
   "cell_type": "code",
   "execution_count": null,
   "metadata": {},
   "outputs": [],
   "source": [
    "#TODO context_size =7"
   ]
  },
  {
   "cell_type": "code",
   "execution_count": 35,
   "metadata": {},
   "outputs": [
    {
     "name": "stdout",
     "output_type": "stream",
     "text": [
      "              precision    recall  f1-score   support\n",
      "\n",
      "           0       1.00      1.00      1.00      4155\n",
      "          11       1.00      1.00      1.00      4382\n",
      "          12       1.00      1.00      1.00      3772\n",
      "          13       0.98      1.00      0.99      6282\n",
      "          14       1.00      1.00      1.00      2085\n",
      "          15       1.00      0.02      0.04       816\n",
      "          17       1.00      1.00      1.00      3095\n",
      "          18       1.00      1.00      1.00      6787\n",
      "          19       1.00      1.00      1.00      8879\n",
      "          20       0.88      1.00      0.93      4933\n",
      "          21       1.00      1.00      1.00      2524\n",
      "          22       1.00      1.00      1.00      5295\n",
      "\n",
      "    accuracy                           0.98     53005\n",
      "   macro avg       0.99      0.92      0.91     53005\n",
      "weighted avg       0.99      0.98      0.98     53005\n",
      "\n"
     ]
    }
   ],
   "source": [
    "from sklearn.metrics import classification_report\n",
    "\n",
    "print(classification_report(result_df.true_label, result_df.pred_label))"
   ]
  },
  {
   "cell_type": "code",
   "execution_count": null,
   "metadata": {},
   "outputs": [],
   "source": []
  }
 ],
 "metadata": {
  "kernelspec": {
   "display_name": "env",
   "language": "python",
   "name": "python3"
  },
  "language_info": {
   "codemirror_mode": {
    "name": "ipython",
    "version": 3
   },
   "file_extension": ".py",
   "mimetype": "text/x-python",
   "name": "python",
   "nbconvert_exporter": "python",
   "pygments_lexer": "ipython3",
   "version": "3.10.6"
  },
  "orig_nbformat": 4
 },
 "nbformat": 4,
 "nbformat_minor": 2
}
