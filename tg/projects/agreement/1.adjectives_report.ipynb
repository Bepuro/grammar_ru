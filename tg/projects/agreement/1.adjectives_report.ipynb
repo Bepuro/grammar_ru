{
 "cells": [
  {
   "attachments": {},
   "cell_type": "markdown",
   "metadata": {},
   "source": [
    "### Нарушение согласования"
   ]
  },
  {
   "attachments": {},
   "cell_type": "markdown",
   "metadata": {},
   "source": [
    "Предыдущая попытка в задаче согласования рода - предсказывать род и сравнивать с ответом pymorphy\n",
    "\n",
    "Недостаток - большое количество ошибочных предсказаний в словах, таких как \"морской\". \n",
    "Морской порт и цвет морской волны. Род различается, написание - нет.\n",
    "\n",
    "Попробуем другой подход - предсказание окончаний."
   ]
  },
  {
   "attachments": {},
   "cell_type": "markdown",
   "metadata": {},
   "source": [
    "Начнем с поиска ошибки согласования прилагательных\n",
    "\n",
    "3 типа:\n",
    "* новЫЙ\n",
    "* хорошИЙ\n",
    "* большОЙ"
   ]
  },
  {
   "attachments": {},
   "cell_type": "markdown",
   "metadata": {},
   "source": [
    "### 1. Построим бандл, сбалансированный по длине предложения и по корпусу."
   ]
  },
  {
   "cell_type": "code",
   "execution_count": 2,
   "metadata": {},
   "outputs": [],
   "source": [
    "from tg.grammar_ru.common import Loc\n",
    "from tg.grammar_ru.corpus import CorpusReader, CorpusBuilder, BucketCorpusBalancer\n",
    "from tg.grammar_ru.corpus.corpus_reader import read_data\n",
    "\n",
    "from yo_fluq_ds import Queryable, Query, fluq\n",
    "\n",
    "from typing import List, Union\n",
    "from pathlib import Path\n",
    "\n",
    "import math\n",
    "import pandas as pd"
   ]
  },
  {
   "cell_type": "code",
   "execution_count": 3,
   "metadata": {},
   "outputs": [],
   "source": [
    "CORPUS_NAMES = [\n",
    "    \"books.base.zip\", \n",
    "    \"pub.base.zip\"\n",
    "]\n",
    "#TODO: add smth else?\n",
    "\n",
    "CORPUS_LIST = [Loc.corpus_path/corpus_name for corpus_name in CORPUS_NAMES]"
   ]
  },
  {
   "cell_type": "code",
   "execution_count": 4,
   "metadata": {},
   "outputs": [
    {
     "data": {
      "text/plain": [
       "[PosixPath('/home/serhio/Data/1Education/grammar-spring/s2/grammar_ru/data-cache/corpus/books.base.zip'),\n",
       " PosixPath('/home/serhio/Data/1Education/grammar-spring/s2/grammar_ru/data-cache/corpus/pub.base.zip')]"
      ]
     },
     "execution_count": 4,
     "metadata": {},
     "output_type": "execute_result"
    }
   ],
   "source": [
    "CORPUS_LIST"
   ]
  },
  {
   "cell_type": "code",
   "execution_count": 5,
   "metadata": {},
   "outputs": [],
   "source": [
    "def get_sentences_count(corpus_path):\n",
    "    return sum([\n",
    "        len(frame.groupby(\"sentence_id\")) \n",
    "        for frame in read_data(corpus_path)\n",
    "    ])"
   ]
  },
  {
   "cell_type": "code",
   "execution_count": 6,
   "metadata": {},
   "outputs": [
    {
     "name": "stderr",
     "output_type": "stream",
     "text": [
      "/tmp/ipykernel_12481/3628676302.py:4: DeprecationWarning: Call to deprecated function (or staticmethod) read_data. (Use CorpusReader.read_frames_from_several_corpora)\n",
      "  for frame in read_data(corpus_path)\n",
      "100%|██████████| 2533/2533 [00:29<00:00, 84.56it/s] \n",
      "/tmp/ipykernel_12481/3628676302.py:4: DeprecationWarning: Call to deprecated function (or staticmethod) read_data. (Use CorpusReader.read_frames_from_several_corpora)\n",
      "  for frame in read_data(corpus_path)\n"
     ]
    },
    {
     "name": "stdout",
     "output_type": "stream",
     "text": [
      "books.base.zip = 903668 sentences\n"
     ]
    },
    {
     "name": "stderr",
     "output_type": "stream",
     "text": [
      "100%|██████████| 66883/66883 [08:15<00:00, 135.01it/s]"
     ]
    },
    {
     "name": "stdout",
     "output_type": "stream",
     "text": [
      "pub.base.zip = 1472084 sentences\n"
     ]
    },
    {
     "name": "stderr",
     "output_type": "stream",
     "text": [
      "\n"
     ]
    }
   ],
   "source": [
    "for i, corpus_name in enumerate(CORPUS_NAMES):\n",
    "    print(f\"{corpus_name} = {get_sentences_count(CORPUS_LIST[i])} sentences\")"
   ]
  },
  {
   "cell_type": "code",
   "execution_count": 7,
   "metadata": {},
   "outputs": [],
   "source": [
    "LOG_BASE = math.e\n",
    "BUCKET_PATH = Loc.corpus_path/\"prepare/buckets/buckets.parquet\""
   ]
  },
  {
   "cell_type": "code",
   "execution_count": 8,
   "metadata": {},
   "outputs": [
    {
     "name": "stderr",
     "output_type": "stream",
     "text": [
      "100%|██████████| 69416/69416 [39:07<00:00, 29.57it/s]  \n"
     ]
    }
   ],
   "source": [
    "BucketCorpusBalancer.build_buckets_frame(CORPUS_LIST, BUCKET_PATH, LOG_BASE)"
   ]
  },
  {
   "cell_type": "code",
   "execution_count": 9,
   "metadata": {},
   "outputs": [
    {
     "data": {
      "text/html": [
       "<div>\n",
       "<style scoped>\n",
       "    .dataframe tbody tr th:only-of-type {\n",
       "        vertical-align: middle;\n",
       "    }\n",
       "\n",
       "    .dataframe tbody tr th {\n",
       "        vertical-align: top;\n",
       "    }\n",
       "\n",
       "    .dataframe thead th {\n",
       "        text-align: right;\n",
       "    }\n",
       "</style>\n",
       "<table border=\"1\" class=\"dataframe\">\n",
       "  <thead>\n",
       "    <tr style=\"text-align: right;\">\n",
       "      <th></th>\n",
       "      <th>sentences</th>\n",
       "      <th>bucket_size</th>\n",
       "    </tr>\n",
       "    <tr>\n",
       "      <th>bucket</th>\n",
       "      <th></th>\n",
       "      <th></th>\n",
       "    </tr>\n",
       "  </thead>\n",
       "  <tbody>\n",
       "    <tr>\n",
       "      <th>books.base.zip/0</th>\n",
       "      <td>[2105037, 2635119, 2635122, 2930082, 2930089, ...</td>\n",
       "      <td>129</td>\n",
       "    </tr>\n",
       "    <tr>\n",
       "      <th>books.base.zip/1</th>\n",
       "      <td>[7, 8, 11, 15, 10711, 10730, 10731, 10745, 107...</td>\n",
       "      <td>90591</td>\n",
       "    </tr>\n",
       "    <tr>\n",
       "      <th>books.base.zip/2</th>\n",
       "      <td>[1, 2, 6, 9, 12, 14, 16, 17, 18, 19, 20, 21, 2...</td>\n",
       "      <td>434207</td>\n",
       "    </tr>\n",
       "    <tr>\n",
       "      <th>books.base.zip/3</th>\n",
       "      <td>[0, 3, 4, 5, 10, 13, 10712, 10716, 10718, 1072...</td>\n",
       "      <td>355499</td>\n",
       "    </tr>\n",
       "    <tr>\n",
       "      <th>books.base.zip/4</th>\n",
       "      <td>[10715, 10717, 10724, 10744, 10777, 10793, 107...</td>\n",
       "      <td>23177</td>\n",
       "    </tr>\n",
       "    <tr>\n",
       "      <th>books.base.zip/5</th>\n",
       "      <td>[189579, 784022, 2391783, 5783820, 5998276, 67...</td>\n",
       "      <td>65</td>\n",
       "    </tr>\n",
       "    <tr>\n",
       "      <th>pub.base.zip/0</th>\n",
       "      <td>[51423, 71661, 461963, 1207024, 1404782, 25887...</td>\n",
       "      <td>18308</td>\n",
       "    </tr>\n",
       "    <tr>\n",
       "      <th>pub.base.zip/1</th>\n",
       "      <td>[24, 33, 34, 40, 52, 53, 64, 11030, 31091, 311...</td>\n",
       "      <td>60391</td>\n",
       "    </tr>\n",
       "    <tr>\n",
       "      <th>pub.base.zip/2</th>\n",
       "      <td>[3, 5, 6, 8, 10, 14, 18, 21, 25, 26, 28, 30, 3...</td>\n",
       "      <td>415067</td>\n",
       "    </tr>\n",
       "    <tr>\n",
       "      <th>pub.base.zip/3</th>\n",
       "      <td>[0, 1, 2, 4, 7, 9, 11, 13, 15, 16, 17, 19, 20,...</td>\n",
       "      <td>820561</td>\n",
       "    </tr>\n",
       "    <tr>\n",
       "      <th>pub.base.zip/4</th>\n",
       "      <td>[12, 31092, 132279, 132283, 132285, 132289, 13...</td>\n",
       "      <td>156624</td>\n",
       "    </tr>\n",
       "    <tr>\n",
       "      <th>pub.base.zip/5</th>\n",
       "      <td>[875326, 2421677, 3109534, 4275054, 4523347, 5...</td>\n",
       "      <td>1127</td>\n",
       "    </tr>\n",
       "    <tr>\n",
       "      <th>pub.base.zip/6</th>\n",
       "      <td>[104900599, 342782477, 649801710, 654923153, 6...</td>\n",
       "      <td>6</td>\n",
       "    </tr>\n",
       "  </tbody>\n",
       "</table>\n",
       "</div>"
      ],
      "text/plain": [
       "                                                          sentences  \\\n",
       "bucket                                                                \n",
       "books.base.zip/0  [2105037, 2635119, 2635122, 2930082, 2930089, ...   \n",
       "books.base.zip/1  [7, 8, 11, 15, 10711, 10730, 10731, 10745, 107...   \n",
       "books.base.zip/2  [1, 2, 6, 9, 12, 14, 16, 17, 18, 19, 20, 21, 2...   \n",
       "books.base.zip/3  [0, 3, 4, 5, 10, 13, 10712, 10716, 10718, 1072...   \n",
       "books.base.zip/4  [10715, 10717, 10724, 10744, 10777, 10793, 107...   \n",
       "books.base.zip/5  [189579, 784022, 2391783, 5783820, 5998276, 67...   \n",
       "pub.base.zip/0    [51423, 71661, 461963, 1207024, 1404782, 25887...   \n",
       "pub.base.zip/1    [24, 33, 34, 40, 52, 53, 64, 11030, 31091, 311...   \n",
       "pub.base.zip/2    [3, 5, 6, 8, 10, 14, 18, 21, 25, 26, 28, 30, 3...   \n",
       "pub.base.zip/3    [0, 1, 2, 4, 7, 9, 11, 13, 15, 16, 17, 19, 20,...   \n",
       "pub.base.zip/4    [12, 31092, 132279, 132283, 132285, 132289, 13...   \n",
       "pub.base.zip/5    [875326, 2421677, 3109534, 4275054, 4523347, 5...   \n",
       "pub.base.zip/6    [104900599, 342782477, 649801710, 654923153, 6...   \n",
       "\n",
       "                  bucket_size  \n",
       "bucket                         \n",
       "books.base.zip/0          129  \n",
       "books.base.zip/1        90591  \n",
       "books.base.zip/2       434207  \n",
       "books.base.zip/3       355499  \n",
       "books.base.zip/4        23177  \n",
       "books.base.zip/5           65  \n",
       "pub.base.zip/0          18308  \n",
       "pub.base.zip/1          60391  \n",
       "pub.base.zip/2         415067  \n",
       "pub.base.zip/3         820561  \n",
       "pub.base.zip/4         156624  \n",
       "pub.base.zip/5           1127  \n",
       "pub.base.zip/6              6  "
      ]
     },
     "execution_count": 9,
     "metadata": {},
     "output_type": "execute_result"
    }
   ],
   "source": [
    "pd.read_parquet(BUCKET_PATH)"
   ]
  },
  {
   "cell_type": "code",
   "execution_count": 10,
   "metadata": {},
   "outputs": [],
   "source": [
    "BUCKET_NUMBERS = [1, 2, 3, 4]\n",
    "BUCKET_LIMIT = 60_000 #Note: забили на то что в books.base.zip/4 всего 23К предложений.\n",
    "# некторый дисбаланс все-же остался"
   ]
  },
  {
   "cell_type": "code",
   "execution_count": 11,
   "metadata": {},
   "outputs": [],
   "source": [
    "BucketCorpusBalancer.filter_buckets_by_bucket_numbers(BUCKET_PATH, BUCKET_NUMBERS)"
   ]
  },
  {
   "cell_type": "code",
   "execution_count": 12,
   "metadata": {},
   "outputs": [
    {
     "data": {
      "text/html": [
       "<div>\n",
       "<style scoped>\n",
       "    .dataframe tbody tr th:only-of-type {\n",
       "        vertical-align: middle;\n",
       "    }\n",
       "\n",
       "    .dataframe tbody tr th {\n",
       "        vertical-align: top;\n",
       "    }\n",
       "\n",
       "    .dataframe thead th {\n",
       "        text-align: right;\n",
       "    }\n",
       "</style>\n",
       "<table border=\"1\" class=\"dataframe\">\n",
       "  <thead>\n",
       "    <tr style=\"text-align: right;\">\n",
       "      <th></th>\n",
       "      <th>sentences</th>\n",
       "      <th>bucket_size</th>\n",
       "    </tr>\n",
       "  </thead>\n",
       "  <tbody>\n",
       "    <tr>\n",
       "      <th>books.base.zip/1</th>\n",
       "      <td>[7, 8, 11, 15, 10711, 10730, 10731, 10745, 107...</td>\n",
       "      <td>90591</td>\n",
       "    </tr>\n",
       "    <tr>\n",
       "      <th>books.base.zip/2</th>\n",
       "      <td>[1, 2, 6, 9, 12, 14, 16, 17, 18, 19, 20, 21, 2...</td>\n",
       "      <td>434207</td>\n",
       "    </tr>\n",
       "    <tr>\n",
       "      <th>books.base.zip/3</th>\n",
       "      <td>[0, 3, 4, 5, 10, 13, 10712, 10716, 10718, 1072...</td>\n",
       "      <td>355499</td>\n",
       "    </tr>\n",
       "    <tr>\n",
       "      <th>books.base.zip/4</th>\n",
       "      <td>[10715, 10717, 10724, 10744, 10777, 10793, 107...</td>\n",
       "      <td>23177</td>\n",
       "    </tr>\n",
       "    <tr>\n",
       "      <th>pub.base.zip/1</th>\n",
       "      <td>[24, 33, 34, 40, 52, 53, 64, 11030, 31091, 311...</td>\n",
       "      <td>60391</td>\n",
       "    </tr>\n",
       "    <tr>\n",
       "      <th>pub.base.zip/2</th>\n",
       "      <td>[3, 5, 6, 8, 10, 14, 18, 21, 25, 26, 28, 30, 3...</td>\n",
       "      <td>415067</td>\n",
       "    </tr>\n",
       "    <tr>\n",
       "      <th>pub.base.zip/3</th>\n",
       "      <td>[0, 1, 2, 4, 7, 9, 11, 13, 15, 16, 17, 19, 20,...</td>\n",
       "      <td>820561</td>\n",
       "    </tr>\n",
       "    <tr>\n",
       "      <th>pub.base.zip/4</th>\n",
       "      <td>[12, 31092, 132279, 132283, 132285, 132289, 13...</td>\n",
       "      <td>156624</td>\n",
       "    </tr>\n",
       "  </tbody>\n",
       "</table>\n",
       "</div>"
      ],
      "text/plain": [
       "                                                          sentences  \\\n",
       "books.base.zip/1  [7, 8, 11, 15, 10711, 10730, 10731, 10745, 107...   \n",
       "books.base.zip/2  [1, 2, 6, 9, 12, 14, 16, 17, 18, 19, 20, 21, 2...   \n",
       "books.base.zip/3  [0, 3, 4, 5, 10, 13, 10712, 10716, 10718, 1072...   \n",
       "books.base.zip/4  [10715, 10717, 10724, 10744, 10777, 10793, 107...   \n",
       "pub.base.zip/1    [24, 33, 34, 40, 52, 53, 64, 11030, 31091, 311...   \n",
       "pub.base.zip/2    [3, 5, 6, 8, 10, 14, 18, 21, 25, 26, 28, 30, 3...   \n",
       "pub.base.zip/3    [0, 1, 2, 4, 7, 9, 11, 13, 15, 16, 17, 19, 20,...   \n",
       "pub.base.zip/4    [12, 31092, 132279, 132283, 132285, 132289, 13...   \n",
       "\n",
       "                  bucket_size  \n",
       "books.base.zip/1        90591  \n",
       "books.base.zip/2       434207  \n",
       "books.base.zip/3       355499  \n",
       "books.base.zip/4        23177  \n",
       "pub.base.zip/1          60391  \n",
       "pub.base.zip/2         415067  \n",
       "pub.base.zip/3         820561  \n",
       "pub.base.zip/4         156624  "
      ]
     },
     "execution_count": 12,
     "metadata": {},
     "output_type": "execute_result"
    }
   ],
   "source": [
    "pd.read_parquet(BUCKET_PATH)"
   ]
  },
  {
   "cell_type": "code",
   "execution_count": 13,
   "metadata": {},
   "outputs": [],
   "source": [
    "BALANCED_PATH = Loc.corpus_path/\"prepare/balanced/books&pub_60K_balanced.zip\""
   ]
  },
  {
   "cell_type": "code",
   "execution_count": 16,
   "metadata": {},
   "outputs": [],
   "source": [
    "from tg.common import Logger\n",
    "def balancing() -> None:\n",
    "    balancer = BucketCorpusBalancer(\n",
    "        buckets = pd.read_parquet(BUCKET_PATH), \n",
    "        log_base = LOG_BASE,\n",
    "        bucket_limit = BUCKET_LIMIT,\n",
    "    )\n",
    "\n",
    "    CorpusBuilder.transfuse_corpus(\n",
    "        sources = CORPUS_LIST,\n",
    "        destination = BALANCED_PATH,\n",
    "        selector = balancer\n",
    "    )"
   ]
  },
  {
   "cell_type": "code",
   "execution_count": 20,
   "metadata": {},
   "outputs": [],
   "source": [
    "balancing()"
   ]
  },
  {
   "cell_type": "code",
   "execution_count": 19,
   "metadata": {},
   "outputs": [
    {
     "name": "stderr",
     "output_type": "stream",
     "text": [
      "/tmp/ipykernel_12481/1361944034.py:3: DeprecationWarning: Call to deprecated function (or staticmethod) read_data. (Use CorpusReader.read_frames_from_several_corpora)\n",
      "  for frame in read_data(BALANCED_PATH):\n",
      "100%|██████████| 147/147 [00:11<00:00, 12.57it/s]\n"
     ]
    },
    {
     "data": {
      "text/plain": [
       "defaultdict(int, {'books.base.zip': 203177, 'pub.base.zip': 240000})"
      ]
     },
     "execution_count": 19,
     "metadata": {},
     "output_type": "execute_result"
    }
   ],
   "source": [
    "from collections import defaultdict\n",
    "lengths = defaultdict(int)\n",
    "for frame in read_data(BALANCED_PATH):\n",
    "    for corpus_name in CORPUS_NAMES:\n",
    "        lengths[corpus_name] += len(frame[frame.original_corpus_id == corpus_name].groupby(\"sentence_id\"))\n",
    "\n",
    "lengths"
   ]
  },
  {
   "cell_type": "code",
   "execution_count": null,
   "metadata": {},
   "outputs": [],
   "source": []
  }
 ],
 "metadata": {
  "kernelspec": {
   "display_name": "env",
   "language": "python",
   "name": "python3"
  },
  "language_info": {
   "codemirror_mode": {
    "name": "ipython",
    "version": 3
   },
   "file_extension": ".py",
   "mimetype": "text/x-python",
   "name": "python",
   "nbconvert_exporter": "python",
   "pygments_lexer": "ipython3",
   "version": "3.10.6"
  },
  "orig_nbformat": 4
 },
 "nbformat": 4,
 "nbformat_minor": 2
}
