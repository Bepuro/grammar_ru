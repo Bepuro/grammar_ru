{
 "cells": [
  {
   "cell_type": "markdown",
   "id": "f185271a",
   "metadata": {},
   "source": [
    "## Introduction\n"
   ]
  },
  {
   "cell_type": "markdown",
   "id": "2b157302",
   "metadata": {},
   "source": [
    "## TSA task\n",
    "\n",
    "### Creating dictionary\n",
    "\n"
   ]
  },
  {
   "cell_type": "code",
   "execution_count": 15,
   "id": "02699ce9",
   "metadata": {},
   "outputs": [
    {
     "data": {
      "application/json": {
       "ascii": false,
       "bar_format": null,
       "colour": null,
       "elapsed": 0.06966948509216309,
       "initial": 0,
       "n": 0,
       "ncols": null,
       "nrows": 24,
       "postfix": null,
       "prefix": "",
       "rate": null,
       "total": 2533,
       "unit": "it",
       "unit_divisor": 1000,
       "unit_scale": false
      },
      "application/vnd.jupyter.widget-view+json": {
       "model_id": "b30e022ea1d048c589beebadce29ede5",
       "version_major": 2,
       "version_minor": 0
      },
      "text/plain": [
       "  0%|          | 0/2533 [00:00<?, ?it/s]"
      ]
     },
     "metadata": {},
     "output_type": "display_data"
    }
   ],
   "source": [
    "from tg.grammar_ru import Loc, CorpusReader\n",
    "from tg.grammar_ru.tasks.alternative import tsa\n",
    "from yo_fluq_ds import *\n",
    "\n",
    "reader = CorpusReader(Loc.corpus_path/'books.featurized.zip')\n",
    "reader.get_frames().first()\n",
    "good_words = tsa.build_dictionary(reader.get_frames().feed(fluq.with_progress_bar()))"
   ]
  },
  {
   "cell_type": "code",
   "execution_count": 18,
   "id": "e98ae34b",
   "metadata": {},
   "outputs": [
    {
     "data": {
      "text/plain": [
       "['расслабится',\n",
       " 'захлопнуться',\n",
       " 'сплотиться',\n",
       " 'побоятся',\n",
       " 'повернуться',\n",
       " 'скинуться',\n",
       " 'переправиться',\n",
       " 'вывернуться',\n",
       " 'исцелиться',\n",
       " 'отступиться']"
      ]
     },
     "execution_count": 18,
     "metadata": {},
     "output_type": "execute_result"
    }
   ],
   "source": [
    "list(good_words)[:10]"
   ]
  },
  {
   "cell_type": "code",
   "execution_count": null,
   "id": "fbe8d0c7",
   "metadata": {},
   "outputs": [],
   "source": [
    "### "
   ]
  }
 ],
 "metadata": {
  "kernelspec": {
   "display_name": "Python 3 (ipykernel)",
   "language": "python",
   "name": "python3"
  },
  "language_info": {
   "codemirror_mode": {
    "name": "ipython",
    "version": 3
   },
   "file_extension": ".py",
   "mimetype": "text/x-python",
   "name": "python",
   "nbconvert_exporter": "python",
   "pygments_lexer": "ipython3",
   "version": "3.8.13"
  }
 },
 "nbformat": 4,
 "nbformat_minor": 5
}
