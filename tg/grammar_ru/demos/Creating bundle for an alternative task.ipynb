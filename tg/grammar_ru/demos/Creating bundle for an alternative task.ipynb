{
 "cells": [
  {
   "cell_type": "markdown",
   "id": "bc05b2c4",
   "metadata": {},
   "source": [
    "## Introduction\n",
    "\n",
    "Alternative task\n",
    "\n",
    "Problematic word\n",
    "\n",
    "Problems\n",
    "\n",
    "Visual corrections\n",
    "\n",
    "Negative samples\n",
    "\n",
    "Balancing\n",
    "\n",
    "Merging of the corpora"
   ]
  },
  {
   "cell_type": "markdown",
   "id": "40732970",
   "metadata": {},
   "source": [
    "## TSA task\n",
    "\n",
    "Problematic verb.\n",
    "\n",
    "### Creating dictionary\n"
   ]
  },
  {
   "cell_type": "markdown",
   "id": "3c3542d6",
   "metadata": {},
   "source": [
    "First, let's define the list of corpora we will use in our bundle. Assume we have three corpora: news, publicistics and books."
   ]
  },
  {
   "cell_type": "code",
   "execution_count": 1,
   "id": "b84d8fbe",
   "metadata": {},
   "outputs": [],
   "source": [
    "from tg.grammar_ru import Loc\n",
    "\n",
    "corpora = [\n",
    "    Loc.corpus_path/'books.base.zip',\n",
    "    Loc.corpus_path/'pub.base.zip'\n",
    "]"
   ]
  },
  {
   "cell_type": "markdown",
   "id": "50f740b7",
   "metadata": {},
   "source": [
    "Not every sentence in the corpora contains problematic word, so first we need to detect the sentences that are required in the bundle. For this particular task we will use a dictionary approach: we will scan the corpora and find verbs that are presented there in both -тся and -ться forms."
   ]
  },
  {
   "cell_type": "code",
   "execution_count": 2,
   "id": "aac80a45",
   "metadata": {},
   "outputs": [],
   "source": [
    "from tg.grammar_ru import CorpusReader\n",
    "from tg.grammar_ru.tasks.alternative import tsa\n",
    "from yo_fluq_ds import *\n",
    "from pathlib import Path\n",
    "\n",
    "dict_path = Path('tsa-dict.json')\n",
    "\n",
    "if not dict_path.is_file():\n",
    "    en = CorpusReader.read_frames_from_several_corpora(corpora).feed(fluq.with_progress_bar())\n",
    "    good_words = tsa.build_dictionary(en)\n",
    "    FileIO.write_json(list(good_words), dict_path)\n",
    "else:\n",
    "    good_words = set(FileIO.read_json(dict_path))"
   ]
  },
  {
   "cell_type": "markdown",
   "id": "b2da373e",
   "metadata": {},
   "source": [
    "### Computing buckets\n",
    "\n",
    "We want an equal representation of the sentences of different lengths, as well as sentences from different corpora. To do this, we will scan the corpora again, consider only the sentences that have a problematic word, and then compute the length of each such sentence.\n",
    "\n",
    "First, we need a filter that will select the problematic sentences. We will use the filter that selects only the sentences with the words from the given dictionary. To view its functionality, we will create a demonstration dataframe:\n"
   ]
  },
  {
   "cell_type": "code",
   "execution_count": 3,
   "id": "1c2bd0d3",
   "metadata": {},
   "outputs": [
    {
     "data": {
      "text/html": [
       "<div>\n",
       "<style scoped>\n",
       "    .dataframe tbody tr th:only-of-type {\n",
       "        vertical-align: middle;\n",
       "    }\n",
       "\n",
       "    .dataframe tbody tr th {\n",
       "        vertical-align: top;\n",
       "    }\n",
       "\n",
       "    .dataframe thead th {\n",
       "        text-align: right;\n",
       "    }\n",
       "</style>\n",
       "<table border=\"1\" class=\"dataframe\">\n",
       "  <thead>\n",
       "    <tr style=\"text-align: right;\">\n",
       "      <th></th>\n",
       "      <th>word_id</th>\n",
       "      <th>sentence_id</th>\n",
       "      <th>word_index</th>\n",
       "      <th>paragraph_id</th>\n",
       "      <th>word_tail</th>\n",
       "      <th>word</th>\n",
       "      <th>word_type</th>\n",
       "      <th>word_length</th>\n",
       "      <th>is_target</th>\n",
       "    </tr>\n",
       "  </thead>\n",
       "  <tbody>\n",
       "    <tr>\n",
       "      <th>0</th>\n",
       "      <td>0</td>\n",
       "      <td>0</td>\n",
       "      <td>0</td>\n",
       "      <td>0</td>\n",
       "      <td>1</td>\n",
       "      <td>Мне</td>\n",
       "      <td>ru</td>\n",
       "      <td>3</td>\n",
       "      <td>False</td>\n",
       "    </tr>\n",
       "    <tr>\n",
       "      <th>1</th>\n",
       "      <td>1</td>\n",
       "      <td>0</td>\n",
       "      <td>1</td>\n",
       "      <td>0</td>\n",
       "      <td>1</td>\n",
       "      <td>нравится</td>\n",
       "      <td>ru</td>\n",
       "      <td>8</td>\n",
       "      <td>True</td>\n",
       "    </tr>\n",
       "    <tr>\n",
       "      <th>2</th>\n",
       "      <td>2</td>\n",
       "      <td>0</td>\n",
       "      <td>2</td>\n",
       "      <td>0</td>\n",
       "      <td>0</td>\n",
       "      <td>борщ</td>\n",
       "      <td>ru</td>\n",
       "      <td>4</td>\n",
       "      <td>False</td>\n",
       "    </tr>\n",
       "    <tr>\n",
       "      <th>3</th>\n",
       "      <td>3</td>\n",
       "      <td>0</td>\n",
       "      <td>3</td>\n",
       "      <td>0</td>\n",
       "      <td>1</td>\n",
       "      <td>.</td>\n",
       "      <td>punct</td>\n",
       "      <td>1</td>\n",
       "      <td>False</td>\n",
       "    </tr>\n",
       "  </tbody>\n",
       "</table>\n",
       "</div>"
      ],
      "text/plain": [
       "   word_id  sentence_id  word_index  paragraph_id  word_tail      word  \\\n",
       "0        0            0           0             0          1       Мне   \n",
       "1        1            0           1             0          1  нравится   \n",
       "2        2            0           2             0          0      борщ   \n",
       "3        3            0           3             0          1         .   \n",
       "\n",
       "  word_type  word_length  is_target  \n",
       "0        ru            3      False  \n",
       "1        ru            8       True  \n",
       "2        ru            4      False  \n",
       "3     punct            1      False  "
      ]
     },
     "execution_count": 3,
     "metadata": {},
     "output_type": "execute_result"
    }
   ],
   "source": [
    "from tg.grammar_ru import Separator\n",
    "from tg.grammar_ru.tasks.alternative import DictionaryFilterer\n",
    "\n",
    "df = Separator.separate_string('Мне нравится борщ. Он вкусный.')\n",
    "filter = DictionaryFilterer(good_words)\n",
    "filter.filter(df)"
   ]
  },
  {
   "cell_type": "markdown",
   "id": "5a8c6065",
   "metadata": {},
   "source": [
    "As we can see, only the first sentences is included. Also, there is `is_target` column that indicates if the word is problematic.\n",
    "\n",
    "Now, we scan the corpora:"
   ]
  },
  {
   "cell_type": "code",
   "execution_count": 9,
   "id": "4714b16c",
   "metadata": {},
   "outputs": [
    {
     "data": {
      "application/json": {
       "ascii": false,
       "bar_format": null,
       "colour": null,
       "elapsed": 0.012553930282592773,
       "initial": 0,
       "n": 0,
       "ncols": null,
       "nrows": 24,
       "postfix": null,
       "prefix": "",
       "rate": null,
       "total": 69416,
       "unit": "it",
       "unit_divisor": 1000,
       "unit_scale": false
      },
      "application/vnd.jupyter.widget-view+json": {
       "model_id": "408446ec14244c498542af6e7b4562bf",
       "version_major": 2,
       "version_minor": 0
      },
      "text/plain": [
       "  0%|          | 0/69416 [00:00<?, ?it/s]"
      ]
     },
     "metadata": {},
     "output_type": "display_data"
    }
   ],
   "source": [
    "from tg.grammar_ru.ml.corpus import BucketBalancer\n",
    "\n",
    "\n",
    "\n",
    "buckets_path = Path('tsa-buckets.parquet')\n",
    "\n",
    "if not buckets_path.is_file():\n",
    "    en = CorpusReader.read_frames_from_several_corpora(corpora).feed(fluq.with_progress_bar()).select(filter.filter)\n",
    "    buckets_df = BucketBalancer.collect_buckets(en)\n",
    "    buckets_df.to_parquet(buckets_path)\n",
    "else:\n",
    "    buckets_df = pd.read_parquet(buckets_path)\n"
   ]
  },
  {
   "cell_type": "code",
   "execution_count": 15,
   "id": "bf8180a7",
   "metadata": {},
   "outputs": [
    {
     "data": {
      "image/png": "[encoded data removed]",
      "text/plain": [
       "<Figure size 640x480 with 1 Axes>"
      ]
     },
     "metadata": {},
     "output_type": "display_data"
    }
   ],
   "source": [
    "from tg.common.analysis import grbar_plot\n",
    "\n",
    "ax = grbar_plot(\n",
    "    buckets_df.groupby(['corpus_id','log_len']).size().to_frame('cnt').reset_index(),\n",
    "    value_column='cnt',\n",
    "    color_column='corpus_id',\n",
    "    group_column='log_len'\n",
    ")\n",
    "ax.legend()"
   ]
  },
  {
   "cell_type": "code",
   "execution_count": 24,
   "id": "3f574697",
   "metadata": {},
   "outputs": [
    {
     "data": {
      "text/plain": [
       "<matplotlib.legend.Legend at 0x7f8d00bc3b80>"
      ]
     },
     "execution_count": 24,
     "metadata": {},
     "output_type": "execute_result"
    },
    {
     "data": {
      "image/png": "[encoded data removed]",
      "text/plain": [
       "<Figure size 640x480 with 1 Axes>"
      ]
     },
     "metadata": {},
     "output_type": "display_data"
    }
   ],
   "source": [
    "import numpy as np\n",
    "take_df = buckets_df\n",
    "take_df['random'] = np.random.rand(take_df.shape[0])\n",
    "take_df = take_df.feed(fluq.add_ordering_column(['corpus_id','log_len'],'random'))\n",
    "take_df = take_df.loc[take_df.order<5000]\n",
    "\n",
    "\n",
    "ax = grbar_plot(\n",
    "    take_df.groupby(['corpus_id','log_len']).size().to_frame('cnt').reset_index(),\n",
    "    value_column='cnt',\n",
    "    color_column='corpus_id',\n",
    "    group_column='log_len'\n",
    ")\n",
    "ax.legend()\n"
   ]
  },
  {
   "cell_type": "markdown",
   "id": "40a81083",
   "metadata": {},
   "source": [
    "### Negative samples\n",
    "\n"
   ]
  }
 ],
 "metadata": {
  "kernelspec": {
   "display_name": "Python 3 (ipykernel)",
   "language": "python",
   "name": "python3"
  },
  "language_info": {
   "codemirror_mode": {
    "name": "ipython",
    "version": 3
   },
   "file_extension": ".py",
   "mimetype": "text/x-python",
   "name": "python",
   "nbconvert_exporter": "python",
   "pygments_lexer": "ipython3",
   "version": "3.8.13"
  }
 },
 "nbformat": 4,
 "nbformat_minor": 5
}
