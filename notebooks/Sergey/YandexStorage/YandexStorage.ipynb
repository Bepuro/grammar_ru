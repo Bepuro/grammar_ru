{
 "cells": [
  {
   "cell_type": "code",
   "execution_count": 1,
   "id": "60c0274e-f610-4f3b-9296-82ea2ded9640",
   "metadata": {},
   "outputs": [],
   "source": [
    "# from tg.common._common.s3helpers import S3YandexHandler\n",
    "from notebooks.Sergey.YandexStorage.s3_yandex_helpers import S3YandexHandler"
   ]
  },
  {
   "cell_type": "code",
   "execution_count": 2,
   "id": "08700386",
   "metadata": {},
   "outputs": [],
   "source": [
    "BUCKET_NAME = 'bucket-for-grammar-testter'"
   ]
  },
  {
   "cell_type": "code",
   "execution_count": 6,
   "id": "c263d5ad-fce7-4977-a0f7-f05ee1ad4718",
   "metadata": {},
   "outputs": [],
   "source": [
    "\n",
    "import os\n",
    "# os.environ[\"AWS_ACCESS_KEY_ID\"] = ...\n",
    "# os.environ[\"AWS_SECRET_ACCESS_KEY\"] = ...\n",
    "\n",
    "aws_access_key_id = os.environ.get('AWS_ACCESS_KEY_ID', None)\n",
    "aws_secret_access = os.environ.get('AWS_SECRET_ACCESS_KEY', None)\n",
    "# aws_access_key_id, aws_secret_access"
   ]
  },
  {
   "cell_type": "code",
   "execution_count": 7,
   "id": "dbcd3bd9-3344-4342-a89d-a95e942866a7",
   "metadata": {},
   "outputs": [],
   "source": [
    "S3YandexHandler.upload_file(BUCKET_NAME, 'b/some.txt', 'some.txt')"
   ]
  },
  {
   "cell_type": "code",
   "execution_count": 9,
   "id": "8b4686e9",
   "metadata": {},
   "outputs": [],
   "source": [
    "from pathlib import Path"
   ]
  },
  {
   "cell_type": "code",
   "execution_count": 11,
   "id": "88e3882d-d405-4dea-a8d7-92c7c8273ad7",
   "metadata": {},
   "outputs": [],
   "source": [
    "downloaded_name = 'someDownloaded.txt'\n",
    "res = S3YandexHandler.download_file(BUCKET_NAME, 'b/some.txt', Path() / downloaded_name)\n",
    "assert downloaded_name == res"
   ]
  },
  {
   "cell_type": "markdown",
   "id": "e900d47c",
   "metadata": {},
   "source": [
    "### Folders"
   ]
  },
  {
   "cell_type": "code",
   "execution_count": 12,
   "id": "a4cc6db6",
   "metadata": {},
   "outputs": [],
   "source": [
    "uploaded_folder_name = 'TransferedFolder'\n",
    "S3YandexHandler.upload_folder(\n",
    "    BUCKET_NAME, uploaded_folder_name, Path()/uploaded_folder_name)\n"
   ]
  },
  {
   "cell_type": "code",
   "execution_count": 13,
   "id": "ffbffbc1",
   "metadata": {},
   "outputs": [],
   "source": [
    "downloaded_folder_name = 'TransferedFolderDownloaded'\n",
    "S3YandexHandler.download_folder(\n",
    "    BUCKET_NAME, uploaded_folder_name, Path()/downloaded_folder_name)\n"
   ]
  },
  {
   "cell_type": "code",
   "execution_count": null,
   "id": "33ff8cc4",
   "metadata": {},
   "outputs": [],
   "source": []
  }
 ],
 "metadata": {
  "kernelspec": {
   "display_name": "my_env",
   "language": "python",
   "name": "my_env"
  },
  "language_info": {
   "codemirror_mode": {
    "name": "ipython",
    "version": 3
   },
   "file_extension": ".py",
   "mimetype": "text/x-python",
   "name": "python",
   "nbconvert_exporter": "python",
   "pygments_lexer": "ipython3",
   "version": "3.10.7"
  },
  "widgets": {
   "application/vnd.jupyter.widget-state+json": {
    "state": {},
    "version_major": 2,
    "version_minor": 0
   }
  }
 },
 "nbformat": 4,
 "nbformat_minor": 5
}
