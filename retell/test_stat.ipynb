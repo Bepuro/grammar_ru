{
 "cells": [
  {
   "cell_type": "code",
   "execution_count": 1,
   "metadata": {
    "collapsed": true,
    "ExecuteTime": {
     "end_time": "2023-05-25T16:23:55.185797984Z",
     "start_time": "2023-05-25T16:23:52.102454257Z"
    }
   },
   "outputs": [],
   "source": [
    "import pandas as pd\n",
    "import numpy as np\n",
    "import string\n",
    "from pathlib import Path\n",
    "from retell_utils.corpora_sugar import CorpusSugar\n",
    "from retell_utils.metrics import get_cosine_sim, jaccard_text,show_statistics_and_bar\n",
    "from tg.grammar_ru.corpus import CorpusReader\n",
    "import retell_utils.statistical as stat_utils"
   ]
  },
  {
   "cell_type": "code",
   "execution_count": 2,
   "outputs": [],
   "source": [
    "retell_corpus = CorpusReader(Path(\"./featurized_corpuses/All retell.featurized.retell.corpus.zip\"))\n",
    "text_corpus = CorpusReader(Path(\"./featurized_corpuses/books.featurized.zip\"))"
   ],
   "metadata": {
    "collapsed": false,
    "ExecuteTime": {
     "end_time": "2023-05-25T16:23:55.194870812Z",
     "start_time": "2023-05-25T16:23:55.188055628Z"
    }
   }
  },
  {
   "cell_type": "code",
   "execution_count": 3,
   "outputs": [],
   "source": [
    "corpus_sugar = CorpusSugar(text_corpus, retell_corpus)\n",
    "books, retell_books, summar_books = corpus_sugar.get_books_retell_info_by_author('Мартин')"
   ],
   "metadata": {
    "collapsed": false,
    "ExecuteTime": {
     "end_time": "2023-05-25T16:23:55.544246779Z",
     "start_time": "2023-05-25T16:23:55.195788234Z"
    }
   }
  },
  {
   "cell_type": "code",
   "execution_count": 4,
   "outputs": [],
   "source": [
    "ban_words = set(string.punctuation + \"«—»…\")\n",
    "ban_words.update([\"!!\", \"!?\", \"?!\", \"??\", \"?..\"])"
   ],
   "metadata": {
    "collapsed": false,
    "ExecuteTime": {
     "end_time": "2023-05-25T16:23:55.554866463Z",
     "start_time": "2023-05-25T16:23:55.548506826Z"
    }
   }
  },
  {
   "cell_type": "code",
   "execution_count": 5,
   "outputs": [
    {
     "data": {
      "text/plain": "  0%|          | 0/82 [00:00<?, ?it/s]",
      "application/vnd.jupyter.widget-view+json": {
       "version_major": 2,
       "version_minor": 0,
       "model_id": "62960494fab54a7d87b426f6232ff5cb"
      }
     },
     "metadata": {},
     "output_type": "display_data"
    }
   ],
   "source": [
    "stat_extract_retell = stat_utils.get_extract_retell_by_common_word(books,corpus_sugar.get_sentences_with_norm_form,ban_words=ban_words,retell_detail=5)"
   ],
   "metadata": {
    "collapsed": false,
    "ExecuteTime": {
     "end_time": "2023-05-25T16:26:58.529928712Z",
     "start_time": "2023-05-25T16:23:55.562249823Z"
    }
   }
  },
  {
   "cell_type": "code",
   "execution_count": 6,
   "outputs": [],
   "source": [
    "true_retell = corpus_sugar.get_true_retell('Мартин',\"retell\",retell_detail=5)"
   ],
   "metadata": {
    "collapsed": false,
    "ExecuteTime": {
     "end_time": "2023-05-25T16:27:06.464116613Z",
     "start_time": "2023-05-25T16:26:58.546492585Z"
    }
   }
  },
  {
   "cell_type": "code",
   "execution_count": 7,
   "outputs": [],
   "source": [
    "jaccard_sim = np.array([jaccard_text(stat_extract_retell[i],true_retell[i]) for i in range(len(true_retell))])\n",
    "cos_sim = np.array([get_cosine_sim(stat_extract_retell[i],true_retell[i]) for i in range(len(true_retell))])"
   ],
   "metadata": {
    "collapsed": false,
    "ExecuteTime": {
     "end_time": "2023-05-25T16:27:06.617518988Z",
     "start_time": "2023-05-25T16:27:06.468869680Z"
    }
   }
  },
  {
   "cell_type": "code",
   "execution_count": 8,
   "outputs": [
    {
     "name": "stdout",
     "output_type": "stream",
     "text": [
      "median Индекс Жаккара: 0.095\n",
      "max Индекс Жаккара: 0.17\n",
      "min Индекс Жаккара: 0.044\n",
      "------------------------------------\n",
      "median Косинусное расстояние: 0.18\n",
      "max Косинусное расстояние: 0.38\n",
      "min Косинусное расстояние: 0.024\n",
      "------------------------------------\n"
     ]
    },
    {
     "data": {
      "text/plain": "<Figure size 640x480 with 2 Axes>",
      "image/png": "[encoded data removed]"
     },
     "metadata": {},
     "output_type": "display_data"
    }
   ],
   "source": [
    "show_statistics_and_bar(jaccard_sim,cos_sim)"
   ],
   "metadata": {
    "collapsed": false,
    "ExecuteTime": {
     "end_time": "2023-05-25T16:27:07.515168673Z",
     "start_time": "2023-05-25T16:27:06.620984469Z"
    }
   }
  },
  {
   "cell_type": "code",
   "execution_count": null,
   "outputs": [],
   "source": [],
   "metadata": {
    "collapsed": false
   }
  }
 ],
 "metadata": {
  "kernelspec": {
   "display_name": "Python 3",
   "language": "python",
   "name": "python3"
  },
  "language_info": {
   "codemirror_mode": {
    "name": "ipython",
    "version": 2
   },
   "file_extension": ".py",
   "mimetype": "text/x-python",
   "name": "python",
   "nbconvert_exporter": "python",
   "pygments_lexer": "ipython2",
   "version": "2.7.6"
  }
 },
 "nbformat": 4,
 "nbformat_minor": 0
}
