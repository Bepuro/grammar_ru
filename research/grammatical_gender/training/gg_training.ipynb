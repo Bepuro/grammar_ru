{
 "cells": [
  {
   "cell_type": "markdown",
   "metadata": {},
   "source": [
    "Загрузим бандл"
   ]
  },
  {
   "cell_type": "code",
   "execution_count": 18,
   "metadata": {},
   "outputs": [],
   "source": [
    "project_name = 'gg_project'\n",
    "dataset_name = 'gg_lenta_big'\n",
    "bucket = 'ggbucket'\n"
   ]
  },
  {
   "cell_type": "code",
   "execution_count": 4,
   "metadata": {},
   "outputs": [
    {
     "data": {
      "text/plain": [
       "True"
      ]
     },
     "execution_count": 4,
     "metadata": {},
     "output_type": "execute_result"
    }
   ],
   "source": [
    "from pathlib import Path\n",
    "from tg.grammar_ru.common.loc import Loc\n",
    "from dotenv import load_dotenv\n",
    "load_dotenv(Loc.root_path / 'environment.env')\n"
   ]
  },
  {
   "cell_type": "markdown",
   "metadata": {},
   "source": [
    "Создадим бакет"
   ]
  },
  {
   "cell_type": "code",
   "execution_count": 5,
   "metadata": {},
   "outputs": [],
   "source": [
    "from tg.grammar_ru.ml.components.yandex_storage.s3_yandex_helpers import S3YandexHandler\n",
    "# S3YandexHandler.create_bucket(bucket)\n"
   ]
  },
  {
   "cell_type": "code",
   "execution_count": 19,
   "metadata": {},
   "outputs": [],
   "source": [
    "bundle_folder = Loc.data_cache_path/'bundles/grammatical_gender/big'\n"
   ]
  },
  {
   "cell_type": "code",
   "execution_count": 7,
   "metadata": {},
   "outputs": [],
   "source": [
    "from tg.common import DataBundle\n",
    "from tg.common.ml.batched_training import IndexedDataBundle\n",
    "\n",
    "# db = DataBundle.load(bundle_folder)\n",
    "# idb = IndexedDataBundle(db.index, db)\n",
    "# s = db.src\n",
    "#len(s.sentence_id.unique()), len(s.word_id.unique())# (479563, 10097148)\n",
    "\n"
   ]
  },
  {
   "cell_type": "code",
   "execution_count": 8,
   "metadata": {},
   "outputs": [],
   "source": [
    "\n",
    "import plotly.express as px\n",
    "# df = px.data.tips()\n",
    "# fig = px.histogram(s.groupby('sentence_id').word_id.count(), title='Распределение числа слов в предложении')\n",
    "# fig.show()\n"
   ]
  },
  {
   "cell_type": "code",
   "execution_count": 20,
   "metadata": {},
   "outputs": [],
   "source": [
    "s3path = f'datasphere/{project_name}/datasets/{dataset_name}'\n",
    "S3YandexHandler.upload_folder(bucket, s3path, bundle_folder)\n"
   ]
  },
  {
   "cell_type": "code",
   "execution_count": 10,
   "metadata": {},
   "outputs": [],
   "source": [
    "from tg.common._common import Loc\n",
    "from tg.grammar_ru.ml.components.yandex_storage.s3_yandex_helpers import S3YandexHandler\n"
   ]
  },
  {
   "attachments": {},
   "cell_type": "markdown",
   "metadata": {},
   "source": [
    "### Обучение. Далее - `gg_run_training.py`"
   ]
  },
  {
   "cell_type": "code",
   "execution_count": 32,
   "metadata": {},
   "outputs": [],
   "source": [
    "from tg.common._common import Loc\n",
    "from tg.grammar_ru.ml.components.yandex_storage.s3_yandex_helpers import S3YandexHandler\n",
    "import ast \n",
    "\n",
    "def get_tasks_list(tasks_list_s3_path, bucket):\n",
    "    tmp_local_file = Loc.temp_path / tasks_list_s3_path.split('/')[-1]\n",
    "    S3YandexHandler.download_file(bucket, tasks_list_s3_path, tmp_local_file)\n",
    "    with open(tmp_local_file,'r') as f:\n",
    "        tasks = ast.literal_eval(f.read())"
   ]
  },
  {
   "cell_type": "code",
   "execution_count": 33,
   "metadata": {},
   "outputs": [],
   "source": [
    "from tg.common._common import Loc\n",
    "from tg.grammar_ru.ml.components.yandex_storage.s3_yandex_helpers import S3YandexHandler\n",
    "from tg.grammar_ru.ml.components.yandex_delivery.datasphere_tools import *\n",
    "import ast\n",
    "from tg.grammar_ru.ml.components.yandex_delivery.training_logs import S3TrainingLogsLoader, TrainingLogsViewer\n",
    "from typing import List\n"
   ]
  },
  {
   "cell_type": "code",
   "execution_count": 34,
   "metadata": {},
   "outputs": [
    {
     "name": "stdout",
     "output_type": "stream",
     "text": [
      "output/\n",
      "output/batcher.pkl\n",
      "output/history.pkl\n",
      "output/info.pkl\n",
      "output/metrics.pkl\n",
      "output/model.pkl\n",
      "output/result_df.parquet\n",
      "output/test_splits.pkl\n",
      "output/train_split.pkl\n",
      "output/training_task.pkl\n"
     ]
    },
    {
     "data": {
      "text/html": [
       "<div>\n",
       "<style scoped>\n",
       "    .dataframe tbody tr th:only-of-type {\n",
       "        vertical-align: middle;\n",
       "    }\n",
       "\n",
       "    .dataframe tbody tr th {\n",
       "        vertical-align: top;\n",
       "    }\n",
       "\n",
       "    .dataframe thead th {\n",
       "        text-align: right;\n",
       "    }\n",
       "</style>\n",
       "<table border=\"1\" class=\"dataframe\">\n",
       "  <thead>\n",
       "    <tr style=\"text-align: right;\">\n",
       "      <th></th>\n",
       "      <th>metric</th>\n",
       "      <th>ordinal</th>\n",
       "      <th>value</th>\n",
       "      <th>timestamp</th>\n",
       "      <th>job_id</th>\n",
       "    </tr>\n",
       "  </thead>\n",
       "  <tbody>\n",
       "    <tr>\n",
       "      <th>0</th>\n",
       "      <td>accuracy_test</td>\n",
       "      <td>0</td>\n",
       "      <td>0.385852</td>\n",
       "      <td>2022-12-09 11:39:47.973667</td>\n",
       "      <td>gg_task 11:38:18.460985</td>\n",
       "    </tr>\n",
       "    <tr>\n",
       "      <th>1</th>\n",
       "      <td>accuracy_display</td>\n",
       "      <td>0</td>\n",
       "      <td>0.380557</td>\n",
       "      <td>2022-12-09 11:39:47.973667</td>\n",
       "      <td>gg_task 11:38:18.460985</td>\n",
       "    </tr>\n",
       "    <tr>\n",
       "      <th>2</th>\n",
       "      <td>loss</td>\n",
       "      <td>0</td>\n",
       "      <td>0.185628</td>\n",
       "      <td>2022-12-09 11:39:47.973667</td>\n",
       "      <td>gg_task 11:38:18.460985</td>\n",
       "    </tr>\n",
       "    <tr>\n",
       "      <th>3</th>\n",
       "      <td>iteration</td>\n",
       "      <td>0</td>\n",
       "      <td>0.000000</td>\n",
       "      <td>2022-12-09 11:39:47.973667</td>\n",
       "      <td>gg_task 11:38:18.460985</td>\n",
       "    </tr>\n",
       "    <tr>\n",
       "      <th>4</th>\n",
       "      <td>accuracy_test</td>\n",
       "      <td>1</td>\n",
       "      <td>0.385852</td>\n",
       "      <td>2022-12-09 11:41:16.658111</td>\n",
       "      <td>gg_task 11:38:18.460985</td>\n",
       "    </tr>\n",
       "    <tr>\n",
       "      <th>5</th>\n",
       "      <td>accuracy_display</td>\n",
       "      <td>1</td>\n",
       "      <td>0.380557</td>\n",
       "      <td>2022-12-09 11:41:16.658111</td>\n",
       "      <td>gg_task 11:38:18.460985</td>\n",
       "    </tr>\n",
       "    <tr>\n",
       "      <th>6</th>\n",
       "      <td>loss</td>\n",
       "      <td>1</td>\n",
       "      <td>0.183456</td>\n",
       "      <td>2022-12-09 11:41:16.658111</td>\n",
       "      <td>gg_task 11:38:18.460985</td>\n",
       "    </tr>\n",
       "    <tr>\n",
       "      <th>7</th>\n",
       "      <td>iteration</td>\n",
       "      <td>1</td>\n",
       "      <td>1.000000</td>\n",
       "      <td>2022-12-09 11:41:16.658111</td>\n",
       "      <td>gg_task 11:38:18.460985</td>\n",
       "    </tr>\n",
       "  </tbody>\n",
       "</table>\n",
       "</div>"
      ],
      "text/plain": [
       "             metric  ordinal     value                  timestamp  \\\n",
       "0     accuracy_test        0  0.385852 2022-12-09 11:39:47.973667   \n",
       "1  accuracy_display        0  0.380557 2022-12-09 11:39:47.973667   \n",
       "2              loss        0  0.185628 2022-12-09 11:39:47.973667   \n",
       "3         iteration        0  0.000000 2022-12-09 11:39:47.973667   \n",
       "4     accuracy_test        1  0.385852 2022-12-09 11:41:16.658111   \n",
       "5  accuracy_display        1  0.380557 2022-12-09 11:41:16.658111   \n",
       "6              loss        1  0.183456 2022-12-09 11:41:16.658111   \n",
       "7         iteration        1  1.000000 2022-12-09 11:41:16.658111   \n",
       "\n",
       "                    job_id  \n",
       "0  gg_task 11:38:18.460985  \n",
       "1  gg_task 11:38:18.460985  \n",
       "2  gg_task 11:38:18.460985  \n",
       "3  gg_task 11:38:18.460985  \n",
       "4  gg_task 11:38:18.460985  \n",
       "5  gg_task 11:38:18.460985  \n",
       "6  gg_task 11:38:18.460985  \n",
       "7  gg_task 11:38:18.460985  "
      ]
     },
     "execution_count": 34,
     "metadata": {},
     "output_type": "execute_result"
    }
   ],
   "source": [
    "tasks = get_tasks_list('datasphere/gg_project/job_info/job_gg_project_11:38:18.460849.txt',\n",
    "                       bucket)\n",
    "\n",
    "loader = S3TrainingLogsLoader(bucket, project_name)\n",
    "metrics = loader.load_metrics(tasks)\n",
    "# metrics\n"
   ]
  },
  {
   "cell_type": "code",
   "execution_count": 24,
   "metadata": {},
   "outputs": [
    {
     "data": {
      "text/html": [
       "<div>\n",
       "<style scoped>\n",
       "    .dataframe tbody tr th:only-of-type {\n",
       "        vertical-align: middle;\n",
       "    }\n",
       "\n",
       "    .dataframe tbody tr th {\n",
       "        vertical-align: top;\n",
       "    }\n",
       "\n",
       "    .dataframe thead th {\n",
       "        text-align: right;\n",
       "    }\n",
       "</style>\n",
       "<table border=\"1\" class=\"dataframe\">\n",
       "  <thead>\n",
       "    <tr style=\"text-align: right;\">\n",
       "      <th>job_id</th>\n",
       "      <th>gg_task 11:38:18.460985</th>\n",
       "    </tr>\n",
       "  </thead>\n",
       "  <tbody>\n",
       "    <tr>\n",
       "      <th>0</th>\n",
       "      <td>0.380557</td>\n",
       "    </tr>\n",
       "    <tr>\n",
       "      <th>1</th>\n",
       "      <td>0.380557</td>\n",
       "    </tr>\n",
       "  </tbody>\n",
       "</table>\n",
       "</div>"
      ],
      "text/plain": [
       "job_id  gg_task 11:38:18.460985\n",
       "0                      0.380557\n",
       "1                      0.380557"
      ]
     },
     "execution_count": 24,
     "metadata": {},
     "output_type": "execute_result"
    }
   ],
   "source": [
    "TrainingLogsViewer.get_metric_by_job(metrics, 'accuracy_display')\n"
   ]
  },
  {
   "attachments": {},
   "cell_type": "markdown",
   "metadata": {},
   "source": [
    "####  debug net"
   ]
  },
  {
   "cell_type": "code",
   "execution_count": 17,
   "metadata": {},
   "outputs": [],
   "source": [
    "import matplotlib.pyplot as plt\n",
    "# plt.plot(TrainingLogsViewer.get_metric_by_job(metrics, 'accuracy_display'))\n"
   ]
  },
  {
   "cell_type": "code",
   "execution_count": 11,
   "metadata": {},
   "outputs": [],
   "source": [
    "from tg.common import DataBundle\n",
    "from tg.common.ml.batched_training import IndexedDataBundle\n",
    "\n",
    "from tg.common.ml import batched_training as bt\n",
    "from tg.common.ml.batched_training import torch as btt\n",
    "from tg.common.ml.batched_training import context as btc\n",
    "from tg.common.ml import dft\n",
    "from yo_fluq_ds import fluq\n",
    "\n",
    "\n",
    "from tg.grammar_ru.ml.components.attention_network import AttentionNetwork\n",
    "from tg.common.ml.batched_training.torch.networks.lstm_network import LSTMFinalizer\n",
    "\n",
    "from tg.grammar_ru.ml.components.extractor_settings import CoreExtractor\n",
    "from tg.grammar_ru.ml.components.plain_context_builder import PlainContextBuilder\n",
    "import datetime\n",
    "from tg.grammar_ru.ml.components.training_task_factory import TaskFactory\n",
    "from tg.grammar_ru.ml.components.training_task_factory import Conventions\n",
    "from tg.common.ml.training_core import TrainingEnvironment\n",
    "from tg.grammar_ru.ml.components.contextual_binding import ContextualBinding, ContextualNetworkType\n",
    "\n",
    "from tg.grammar_ru.ml.components.yandex_delivery.training_job import TrainingJob\n",
    "from tg.grammar_ru.ml.components.yandex_storage.s3_yandex_helpers import S3YandexHandler\n",
    "from tg.common.delivery.jobs import SSHDockerJobRoutine, DockerOptions\n",
    "from tg.common.delivery.packaging import FakeContainerHandler\n",
    "\n",
    "from tg.grammar_ru.common import Loc\n",
    "from sklearn.metrics import roc_auc_score\n",
    "from typing import Dict, Optional  # TODO delete redundant\n",
    "from tg.common.delivery.training.architecture import FileCacheTrainingEnvironment\n",
    "from tg.grammar_ru.ml.components.yandex_delivery.docker_tools import deploy_container\n",
    "from tg.common.delivery.jobs.ssh_docker_job_routine import build_container\n",
    "from tg.common.ml.batched_training.torch.networks import FeedForwardNetwork, FullyConnectedNetwork\n",
    "import torch\n",
    "from pathlib import Path\n",
    "from dotenv import load_dotenv\n",
    "\n",
    "from tg.grammar_ru.common import Loc\n",
    "\n",
    "load_dotenv(Loc.root_path / 'environment.env')\n",
    "\n",
    "project_name = 'gg_project'\n",
    "dataset_name = 'gg_dataset'\n",
    "bucket = 'ggbucket'\n",
    "\n",
    "\n",
    "class MulticlassMetrics(bt.Metric):\n",
    "    def __init__(self, add_accuracy=True, add_rating=False):\n",
    "        self.add_accuracy = add_accuracy\n",
    "        self.add_rating = add_rating\n",
    "\n",
    "    def get_names(self):\n",
    "        result = []\n",
    "        if self.add_accuracy:\n",
    "            result.append('accuracy')\n",
    "        if self.add_rating:\n",
    "            result.append('rating')\n",
    "        return result\n",
    "\n",
    "    def measure(self, df, _):\n",
    "        prefix = 'true_label_'\n",
    "        labels = []\n",
    "        for c in df.columns:\n",
    "            if c.startswith(prefix):\n",
    "                labels.append(c.replace(prefix, ''))\n",
    "\n",
    "        def ustack(df, prefix, cols, name):\n",
    "            df = df[[prefix+c for c in cols]]\n",
    "            df.columns = [c for c in cols]\n",
    "            df = df.unstack().to_frame(name)\n",
    "            return df\n",
    "\n",
    "        predicted = ustack(df, 'predicted_label_', labels, 'predicted')\n",
    "        true = ustack(df, 'true_label_', labels, 'true')\n",
    "        df = predicted.merge(true, left_index=True,\n",
    "                             right_index=True).reset_index()\n",
    "        df.columns = ['label', 'sample', 'predicted', 'true']\n",
    "        df = df.feed(fluq.add_ordering_column(\n",
    "            'sample', ('predicted', False), 'predicted_rating'))\n",
    "\n",
    "        match = (df.loc[df.predicted_rating ==\n",
    "                 0].set_index('sample').true > 0.5)\n",
    "        rating = df.loc[df.true > 0.5].set_index('sample').predicted_rating\n",
    "        result = []\n",
    "        if self.add_accuracy:\n",
    "            result.append(match.mean())\n",
    "        if self.add_rating:\n",
    "            result.append(rating.mean())\n",
    "        return result\n",
    "\n",
    "\n",
    "def get_multilabel_extractor():\n",
    "    label_extractor = (bt.PlainExtractor\n",
    "                       .build(Conventions.LabelFrame)\n",
    "                       .index()\n",
    "                       .apply(take_columns=['label'], transformer=dft.DataFrameTransformerFactory.default_factory())\n",
    "                       )\n",
    "    return label_extractor\n",
    "\n",
    "\n",
    "class MyNetworkFactory:\n",
    "    def __init__(self, nn_head_factory):\n",
    "        self.nn_head_factory = nn_head_factory\n",
    "\n",
    "    def create_network(self, task, input):  # input is batch ~ sample\n",
    "        nn_head = self.nn_head_factory.create_network(task=None, input=input)\n",
    "        head_out = nn_head(input)\n",
    "        hidden_size = head_out.shape[1]\n",
    "        labels_count = input['label'].shape[1]\n",
    "        nn_tail = FullyConnectedNetwork(\n",
    "            sizes=[], input=hidden_size, output=labels_count)\n",
    "        # return FeedForwardNetwork(nn_head, nn_tail, torch.nn.Softmax(dim=1))\n",
    "        return FeedForwardNetwork(nn_head, nn_tail)\n",
    "\n",
    "\n",
    "class ClassificationTask(TaskFactory):\n",
    "    def get_network(self, _, sample):\n",
    "        assembled_network_factory = MyNetworkFactory(self.nn_head_factory)\n",
    "        assembled_network = assembled_network_factory.create_network(\n",
    "            task=None, input=sample)\n",
    "        return assembled_network\n",
    "\n",
    "    def create_task(\n",
    "        self, data: IndexedDataBundle,\n",
    "            env: Optional[TrainingEnvironment] = None) -> None:\n",
    "\n",
    "        metrics = bt.MetricPool().add(MulticlassMetrics())\n",
    "        self.instantiate_default_task(\n",
    "            epoch_count=2,\n",
    "            batch_size=100,\n",
    "            mini_batch_size=50,\n",
    "            mini_epoch_count=1,\n",
    "            metric_pool=metrics\n",
    "        )\n",
    "\n",
    "        plain_context_builder = PlainContextBuilder(include_zero_offset=False,\n",
    "                                                    left_to_right_contexts_proportion=1)\n",
    "\n",
    "        plain_context = ContextualBinding(\n",
    "            name='plain_context',\n",
    "            context_length=3,\n",
    "            network_type=ContextualNetworkType.Plain,\n",
    "            hidden_size=[30],\n",
    "            context_builder=plain_context_builder,\n",
    "            extractor=CoreExtractor(join_column='another_word_id'),\n",
    "            debug=False\n",
    "        )\n",
    "        self.nn_head_factory = plain_context.create_network_factory(\n",
    "            task=None, input=None)  # TODO could be better?\n",
    "        core_extractor = plain_context.create_extractor(task=None, bundle=data)\n",
    "        self.setup_batcher(data, [core_extractor, get_multilabel_extractor()])\n",
    "        self.setup_model(self.get_network)\n",
    "\n",
    "\n",
    "def get_training_job() -> TrainingJob:\n",
    "    task = ClassificationTask()\n",
    "    task.info[\"dataset\"] = dataset_name\n",
    "    task.info[\"name\"] = \"gg_task\"\n",
    "\n",
    "    job = TrainingJob(\n",
    "        tasks=[task],\n",
    "        project_name=project_name,\n",
    "        bucket=bucket\n",
    "    )\n",
    "    return job\n",
    "\n",
    "\n",
    "job = get_training_job()\n",
    "\n",
    "routine = SSHDockerJobRoutine(\n",
    "    job=job,\n",
    "    remote_host_address=None,\n",
    "    remote_host_user=None,\n",
    "    handler_factory=FakeContainerHandler.Factory(),\n",
    "    options=DockerOptions(propagate_environmental_variables=[\"AWS_ACCESS_KEY_ID\",\n",
    "                                                             \"AWS_SECRET_ACCESS_KEY\"])\n",
    ")\n",
    "# tag = 'v_' + datetime.datetime.now().time().strftime(\"%H_%M_%S\")\n",
    "# dockerhub_repo = 'grammar_repo'  # name of your repo\n",
    "# dockerhub_login = 'sergio0x0'  # your login\n",
    "\n",
    "# local_img = 'gg_img'\n",
    "\n",
    "\n",
    "# job.run()\n",
    "# b_path = Loc.bundles_path/'grammatical_gender/toy'\n",
    "# data = DataBundle.load(b_path)\n",
    "\n",
    "# task = ClassificationTask()\n",
    "# task.create_task(data)\n",
    "# temp_batch = task.task.generate_sample_batch(data, 0)\n"
   ]
  },
  {
   "cell_type": "code",
   "execution_count": 12,
   "metadata": {},
   "outputs": [],
   "source": [
    "# net = task.task.model_handler.network\n"
   ]
  },
  {
   "cell_type": "code",
   "execution_count": 13,
   "metadata": {},
   "outputs": [],
   "source": [
    "# net(temp_batch)\n"
   ]
  },
  {
   "cell_type": "code",
   "execution_count": 14,
   "metadata": {},
   "outputs": [],
   "source": [
    "# net\n"
   ]
  },
  {
   "attachments": {},
   "cell_type": "markdown",
   "metadata": {},
   "source": [
    "#### build bundle.py error on Full lenta "
   ]
  },
  {
   "attachments": {},
   "cell_type": "markdown",
   "metadata": {},
   "source": [
    "cat nohup.out | tail -n 5\n",
    "\n",
    "2022-12-15 21:42:14.310782+00:00 INFO: Processed 48077323 words. 251/869\n",
    "2022-12-15 21:42:46.130967+00:00 INFO: Writing 2 frames, 35747735 words, to write 49992, to keep 35697743\n",
    "2022-12-15 21:42:47.162703+00:00 INFO: Processed 48294463 words. 252/869\n",
    "2022-12-15 21:43:15.324902+00:00 INFO: Writing 2 frames, 35847701 words, to write 49979, to keep 35797722\n",
    "2022-12-15 21:43:17.499093+00:00 INFO: Processed 48444421 words. 253/869"
   ]
  },
  {
   "attachments": {},
   "cell_type": "markdown",
   "metadata": {},
   "source": [
    "Собрал бандл из 200 файлов"
   ]
  },
  {
   "attachments": {},
   "cell_type": "markdown",
   "metadata": {},
   "source": [
    "### EDA"
   ]
  },
  {
   "cell_type": "code",
   "execution_count": 21,
   "metadata": {},
   "outputs": [],
   "source": [
    "db = DataBundle.load(Loc.data_cache_path/'bundles/grammatical_gender/toy')\n",
    "idb = IndexedDataBundle(db.index, db)\n",
    "s = db.src"
   ]
  },
  {
   "attachments": {},
   "cell_type": "markdown",
   "metadata": {},
   "source": [
    "#### Размеры датасетов\n",
    "\n",
    "(249907, 2499299, 10097148)"
   ]
  },
  {
   "cell_type": "code",
   "execution_count": 45,
   "metadata": {},
   "outputs": [],
   "source": [
    "# (DataBundle.load(Loc.data_cache_path/'bundles/grammatical_gender/toy').src.shape[0],\n",
    "# DataBundle.load(Loc.data_cache_path/'bundles/grammatical_gender/big').src.shape[0],\n",
    "# DataBundle.load(Loc.data_cache_path/'bundles/grammatical_gender/full').src.shape[0])"
   ]
  },
  {
   "cell_type": "code",
   "execution_count": 41,
   "metadata": {},
   "outputs": [
    {
     "data": {
      "text/plain": [
       "249907"
      ]
     },
     "execution_count": 41,
     "metadata": {},
     "output_type": "execute_result"
    }
   ],
   "source": [
    "s.shape[0]"
   ]
  },
  {
   "cell_type": "code",
   "execution_count": null,
   "metadata": {},
   "outputs": [],
   "source": [
    "import pandas as pd\n",
    "pd.value_counts()"
   ]
  },
  {
   "cell_type": "code",
   "execution_count": 46,
   "metadata": {},
   "outputs": [
    {
     "data": {
      "text/plain": [
       "-1    0.442000\n",
       " 0    0.227096\n",
       " 1    0.143353\n",
       " 3    0.094583\n",
       " 2    0.092967\n",
       "Name: label, dtype: float64"
      ]
     },
     "execution_count": 46,
     "metadata": {},
     "output_type": "execute_result"
    }
   ],
   "source": [
    "s.label.value_counts(normalize=True)  # toy\n"
   ]
  },
  {
   "cell_type": "code",
   "execution_count": 51,
   "metadata": {},
   "outputs": [
    {
     "data": {
      "text/plain": [
       "25          которых\n",
       "26        оказались\n",
       "38          финских\n",
       "46        проживает\n",
       "56         сообщает\n",
       "60      задержанные\n",
       "61        оказались\n",
       "62       хоккейными\n",
       "65          которые\n",
       "66        распивали\n",
       "67      алкогольные\n",
       "70     общественных\n",
       "78       доставляли\n",
       "81      подвыпившие\n",
       "86        карманные\n",
       "94        мобильных\n",
       "107      британских\n",
       "108     Королевских\n",
       "109             ВВС\n",
       "111        передает\n",
       "135           какие\n",
       "145          данным\n",
       "153         оцепили\n",
       "154      британские\n",
       "177       иракскими\n",
       "197           Винчи\n",
       "200      сообщается\n",
       "226      оскорбляет\n",
       "227        верующих\n",
       "231       извращает\n",
       "Name: word, dtype: object"
      ]
     },
     "execution_count": 51,
     "metadata": {},
     "output_type": "execute_result"
    }
   ],
   "source": [
    "s[s.label==3].word.head(30)"
   ]
  },
  {
   "attachments": {},
   "cell_type": "markdown",
   "metadata": {},
   "source": [
    "## Результаты обучения"
   ]
  },
  {
   "cell_type": "code",
   "execution_count": 52,
   "metadata": {},
   "outputs": [
    {
     "name": "stdout",
     "output_type": "stream",
     "text": [
      "output/\n",
      "output/batcher.pkl\n",
      "output/history.pkl\n",
      "output/info.pkl\n",
      "output/metrics.pkl\n",
      "output/model.pkl\n",
      "output/result_df.parquet\n",
      "output/test_splits.pkl\n",
      "output/train_split.pkl\n",
      "output/training_task.pkl\n"
     ]
    },
    {
     "data": {
      "text/html": [
       "<div>\n",
       "<style scoped>\n",
       "    .dataframe tbody tr th:only-of-type {\n",
       "        vertical-align: middle;\n",
       "    }\n",
       "\n",
       "    .dataframe tbody tr th {\n",
       "        vertical-align: top;\n",
       "    }\n",
       "\n",
       "    .dataframe thead th {\n",
       "        text-align: right;\n",
       "    }\n",
       "</style>\n",
       "<table border=\"1\" class=\"dataframe\">\n",
       "  <thead>\n",
       "    <tr style=\"text-align: right;\">\n",
       "      <th></th>\n",
       "      <th>metric</th>\n",
       "      <th>ordinal</th>\n",
       "      <th>value</th>\n",
       "      <th>timestamp</th>\n",
       "      <th>job_id</th>\n",
       "    </tr>\n",
       "  </thead>\n",
       "  <tbody>\n",
       "    <tr>\n",
       "      <th>0</th>\n",
       "      <td>accuracy_test</td>\n",
       "      <td>0</td>\n",
       "      <td>0.495043</td>\n",
       "      <td>2022-12-16 11:54:16.340953</td>\n",
       "      <td>gg_task_lenta_big_10K_4ep 11:43:02.110772</td>\n",
       "    </tr>\n",
       "    <tr>\n",
       "      <th>1</th>\n",
       "      <td>accuracy_display</td>\n",
       "      <td>0</td>\n",
       "      <td>0.493511</td>\n",
       "      <td>2022-12-16 11:54:16.340953</td>\n",
       "      <td>gg_task_lenta_big_10K_4ep 11:43:02.110772</td>\n",
       "    </tr>\n",
       "    <tr>\n",
       "      <th>2</th>\n",
       "      <td>loss</td>\n",
       "      <td>0</td>\n",
       "      <td>0.166821</td>\n",
       "      <td>2022-12-16 11:54:16.340953</td>\n",
       "      <td>gg_task_lenta_big_10K_4ep 11:43:02.110772</td>\n",
       "    </tr>\n",
       "    <tr>\n",
       "      <th>3</th>\n",
       "      <td>iteration</td>\n",
       "      <td>0</td>\n",
       "      <td>0.000000</td>\n",
       "      <td>2022-12-16 11:54:16.340953</td>\n",
       "      <td>gg_task_lenta_big_10K_4ep 11:43:02.110772</td>\n",
       "    </tr>\n",
       "    <tr>\n",
       "      <th>4</th>\n",
       "      <td>accuracy_test</td>\n",
       "      <td>1</td>\n",
       "      <td>0.504205</td>\n",
       "      <td>2022-12-16 12:03:00.036073</td>\n",
       "      <td>gg_task_lenta_big_10K_4ep 11:43:02.110772</td>\n",
       "    </tr>\n",
       "    <tr>\n",
       "      <th>5</th>\n",
       "      <td>accuracy_display</td>\n",
       "      <td>1</td>\n",
       "      <td>0.502487</td>\n",
       "      <td>2022-12-16 12:03:00.036073</td>\n",
       "      <td>gg_task_lenta_big_10K_4ep 11:43:02.110772</td>\n",
       "    </tr>\n",
       "    <tr>\n",
       "      <th>6</th>\n",
       "      <td>loss</td>\n",
       "      <td>1</td>\n",
       "      <td>0.157089</td>\n",
       "      <td>2022-12-16 12:03:00.036073</td>\n",
       "      <td>gg_task_lenta_big_10K_4ep 11:43:02.110772</td>\n",
       "    </tr>\n",
       "    <tr>\n",
       "      <th>7</th>\n",
       "      <td>iteration</td>\n",
       "      <td>1</td>\n",
       "      <td>1.000000</td>\n",
       "      <td>2022-12-16 12:03:00.036073</td>\n",
       "      <td>gg_task_lenta_big_10K_4ep 11:43:02.110772</td>\n",
       "    </tr>\n",
       "    <tr>\n",
       "      <th>8</th>\n",
       "      <td>accuracy_test</td>\n",
       "      <td>2</td>\n",
       "      <td>0.508279</td>\n",
       "      <td>2022-12-16 12:11:45.625511</td>\n",
       "      <td>gg_task_lenta_big_10K_4ep 11:43:02.110772</td>\n",
       "    </tr>\n",
       "    <tr>\n",
       "      <th>9</th>\n",
       "      <td>accuracy_display</td>\n",
       "      <td>2</td>\n",
       "      <td>0.507149</td>\n",
       "      <td>2022-12-16 12:11:45.625511</td>\n",
       "      <td>gg_task_lenta_big_10K_4ep 11:43:02.110772</td>\n",
       "    </tr>\n",
       "    <tr>\n",
       "      <th>10</th>\n",
       "      <td>loss</td>\n",
       "      <td>2</td>\n",
       "      <td>0.154645</td>\n",
       "      <td>2022-12-16 12:11:45.625511</td>\n",
       "      <td>gg_task_lenta_big_10K_4ep 11:43:02.110772</td>\n",
       "    </tr>\n",
       "    <tr>\n",
       "      <th>11</th>\n",
       "      <td>iteration</td>\n",
       "      <td>2</td>\n",
       "      <td>2.000000</td>\n",
       "      <td>2022-12-16 12:11:45.625511</td>\n",
       "      <td>gg_task_lenta_big_10K_4ep 11:43:02.110772</td>\n",
       "    </tr>\n",
       "    <tr>\n",
       "      <th>12</th>\n",
       "      <td>accuracy_test</td>\n",
       "      <td>3</td>\n",
       "      <td>0.512254</td>\n",
       "      <td>2022-12-16 12:20:33.729985</td>\n",
       "      <td>gg_task_lenta_big_10K_4ep 11:43:02.110772</td>\n",
       "    </tr>\n",
       "    <tr>\n",
       "      <th>13</th>\n",
       "      <td>accuracy_display</td>\n",
       "      <td>3</td>\n",
       "      <td>0.511105</td>\n",
       "      <td>2022-12-16 12:20:33.729985</td>\n",
       "      <td>gg_task_lenta_big_10K_4ep 11:43:02.110772</td>\n",
       "    </tr>\n",
       "    <tr>\n",
       "      <th>14</th>\n",
       "      <td>loss</td>\n",
       "      <td>3</td>\n",
       "      <td>0.153004</td>\n",
       "      <td>2022-12-16 12:20:33.729985</td>\n",
       "      <td>gg_task_lenta_big_10K_4ep 11:43:02.110772</td>\n",
       "    </tr>\n",
       "    <tr>\n",
       "      <th>15</th>\n",
       "      <td>iteration</td>\n",
       "      <td>3</td>\n",
       "      <td>3.000000</td>\n",
       "      <td>2022-12-16 12:20:33.729985</td>\n",
       "      <td>gg_task_lenta_big_10K_4ep 11:43:02.110772</td>\n",
       "    </tr>\n",
       "  </tbody>\n",
       "</table>\n",
       "</div>"
      ],
      "text/plain": [
       "              metric  ordinal     value                  timestamp  \\\n",
       "0      accuracy_test        0  0.495043 2022-12-16 11:54:16.340953   \n",
       "1   accuracy_display        0  0.493511 2022-12-16 11:54:16.340953   \n",
       "2               loss        0  0.166821 2022-12-16 11:54:16.340953   \n",
       "3          iteration        0  0.000000 2022-12-16 11:54:16.340953   \n",
       "4      accuracy_test        1  0.504205 2022-12-16 12:03:00.036073   \n",
       "5   accuracy_display        1  0.502487 2022-12-16 12:03:00.036073   \n",
       "6               loss        1  0.157089 2022-12-16 12:03:00.036073   \n",
       "7          iteration        1  1.000000 2022-12-16 12:03:00.036073   \n",
       "8      accuracy_test        2  0.508279 2022-12-16 12:11:45.625511   \n",
       "9   accuracy_display        2  0.507149 2022-12-16 12:11:45.625511   \n",
       "10              loss        2  0.154645 2022-12-16 12:11:45.625511   \n",
       "11         iteration        2  2.000000 2022-12-16 12:11:45.625511   \n",
       "12     accuracy_test        3  0.512254 2022-12-16 12:20:33.729985   \n",
       "13  accuracy_display        3  0.511105 2022-12-16 12:20:33.729985   \n",
       "14              loss        3  0.153004 2022-12-16 12:20:33.729985   \n",
       "15         iteration        3  3.000000 2022-12-16 12:20:33.729985   \n",
       "\n",
       "                                       job_id  \n",
       "0   gg_task_lenta_big_10K_4ep 11:43:02.110772  \n",
       "1   gg_task_lenta_big_10K_4ep 11:43:02.110772  \n",
       "2   gg_task_lenta_big_10K_4ep 11:43:02.110772  \n",
       "3   gg_task_lenta_big_10K_4ep 11:43:02.110772  \n",
       "4   gg_task_lenta_big_10K_4ep 11:43:02.110772  \n",
       "5   gg_task_lenta_big_10K_4ep 11:43:02.110772  \n",
       "6   gg_task_lenta_big_10K_4ep 11:43:02.110772  \n",
       "7   gg_task_lenta_big_10K_4ep 11:43:02.110772  \n",
       "8   gg_task_lenta_big_10K_4ep 11:43:02.110772  \n",
       "9   gg_task_lenta_big_10K_4ep 11:43:02.110772  \n",
       "10  gg_task_lenta_big_10K_4ep 11:43:02.110772  \n",
       "11  gg_task_lenta_big_10K_4ep 11:43:02.110772  \n",
       "12  gg_task_lenta_big_10K_4ep 11:43:02.110772  \n",
       "13  gg_task_lenta_big_10K_4ep 11:43:02.110772  \n",
       "14  gg_task_lenta_big_10K_4ep 11:43:02.110772  \n",
       "15  gg_task_lenta_big_10K_4ep 11:43:02.110772  "
      ]
     },
     "execution_count": 52,
     "metadata": {},
     "output_type": "execute_result"
    }
   ],
   "source": [
    "tasks = get_tasks_list('datasphere/gg_project/job_info/job_gg_project_11:43:02.110706.txt',\n",
    "                       bucket)\n",
    "\n",
    "loader = S3TrainingLogsLoader(bucket, project_name)\n",
    "metrics = loader.load_metrics(tasks)\n",
    "metrics\n"
   ]
  },
  {
   "cell_type": "code",
   "execution_count": 49,
   "metadata": {},
   "outputs": [
    {
     "data": {
      "text/html": [
       "<div>\n",
       "<style scoped>\n",
       "    .dataframe tbody tr th:only-of-type {\n",
       "        vertical-align: middle;\n",
       "    }\n",
       "\n",
       "    .dataframe tbody tr th {\n",
       "        vertical-align: top;\n",
       "    }\n",
       "\n",
       "    .dataframe thead th {\n",
       "        text-align: right;\n",
       "    }\n",
       "</style>\n",
       "<table border=\"1\" class=\"dataframe\">\n",
       "  <thead>\n",
       "    <tr style=\"text-align: right;\">\n",
       "      <th>job_id</th>\n",
       "      <th>gg_task_lenta_big_10K_4ep 11:43:02.110772</th>\n",
       "    </tr>\n",
       "  </thead>\n",
       "  <tbody>\n",
       "    <tr>\n",
       "      <th>0</th>\n",
       "      <td>0.493511</td>\n",
       "    </tr>\n",
       "    <tr>\n",
       "      <th>1</th>\n",
       "      <td>0.502487</td>\n",
       "    </tr>\n",
       "    <tr>\n",
       "      <th>2</th>\n",
       "      <td>0.507149</td>\n",
       "    </tr>\n",
       "    <tr>\n",
       "      <th>3</th>\n",
       "      <td>0.511105</td>\n",
       "    </tr>\n",
       "  </tbody>\n",
       "</table>\n",
       "</div>"
      ],
      "text/plain": [
       "job_id  gg_task_lenta_big_10K_4ep 11:43:02.110772\n",
       "0                                        0.493511\n",
       "1                                        0.502487\n",
       "2                                        0.507149\n",
       "3                                        0.511105"
      ]
     },
     "execution_count": 49,
     "metadata": {},
     "output_type": "execute_result"
    }
   ],
   "source": [
    "TrainingLogsViewer.get_metric_by_job(metrics, 'accuracy_display')"
   ]
  },
  {
   "cell_type": "code",
   "execution_count": 50,
   "metadata": {},
   "outputs": [
    {
     "data": {
      "text/html": [
       "<div>\n",
       "<style scoped>\n",
       "    .dataframe tbody tr th:only-of-type {\n",
       "        vertical-align: middle;\n",
       "    }\n",
       "\n",
       "    .dataframe tbody tr th {\n",
       "        vertical-align: top;\n",
       "    }\n",
       "\n",
       "    .dataframe thead th {\n",
       "        text-align: right;\n",
       "    }\n",
       "</style>\n",
       "<table border=\"1\" class=\"dataframe\">\n",
       "  <thead>\n",
       "    <tr style=\"text-align: right;\">\n",
       "      <th>job_id</th>\n",
       "      <th>gg_task_lenta_big_10K_4ep 11:43:02.110772</th>\n",
       "    </tr>\n",
       "  </thead>\n",
       "  <tbody>\n",
       "    <tr>\n",
       "      <th>0</th>\n",
       "      <td>0.495043</td>\n",
       "    </tr>\n",
       "    <tr>\n",
       "      <th>1</th>\n",
       "      <td>0.504205</td>\n",
       "    </tr>\n",
       "    <tr>\n",
       "      <th>2</th>\n",
       "      <td>0.508279</td>\n",
       "    </tr>\n",
       "    <tr>\n",
       "      <th>3</th>\n",
       "      <td>0.512254</td>\n",
       "    </tr>\n",
       "  </tbody>\n",
       "</table>\n",
       "</div>"
      ],
      "text/plain": [
       "job_id  gg_task_lenta_big_10K_4ep 11:43:02.110772\n",
       "0                                        0.495043\n",
       "1                                        0.504205\n",
       "2                                        0.508279\n",
       "3                                        0.512254"
      ]
     },
     "execution_count": 50,
     "metadata": {},
     "output_type": "execute_result"
    }
   ],
   "source": [
    "TrainingLogsViewer.get_metric_by_job(metrics, 'accuracy_test')"
   ]
  },
  {
   "cell_type": "code",
   "execution_count": 38,
   "metadata": {},
   "outputs": [
    {
     "data": {
      "text/plain": [
       "[<matplotlib.lines.Line2D at 0x7ff9e414da50>]"
      ]
     },
     "execution_count": 38,
     "metadata": {},
     "output_type": "execute_result"
    },
    {
     "data": {
      "image/png": "[encoded data removed]",
      "text/plain": [
       "<Figure size 640x480 with 1 Axes>"
      ]
     },
     "metadata": {},
     "output_type": "display_data"
    }
   ],
   "source": [
    "import matplotlib.pyplot as plt\n",
    "plt.plot(TrainingLogsViewer.get_metric_by_job(metrics, 'accuracy_display'))"
   ]
  },
  {
   "cell_type": "code",
   "execution_count": 39,
   "metadata": {},
   "outputs": [
    {
     "data": {
      "text/plain": [
       "[<matplotlib.lines.Line2D at 0x7ff9d6e4ae00>]"
      ]
     },
     "execution_count": 39,
     "metadata": {},
     "output_type": "execute_result"
    },
    {
     "data": {
      "image/png": "[encoded data removed]",
      "text/plain": [
       "<Figure size 640x480 with 1 Axes>"
      ]
     },
     "metadata": {},
     "output_type": "display_data"
    }
   ],
   "source": [
    "plt.plot(TrainingLogsViewer.get_metric_by_job(metrics, 'accuracy_test'))\n"
   ]
  },
  {
   "cell_type": "code",
   "execution_count": null,
   "metadata": {},
   "outputs": [],
   "source": []
  }
 ],
 "metadata": {
  "kernelspec": {
   "display_name": "Python 3.10.6 64-bit",
   "language": "python",
   "name": "python3"
  },
  "language_info": {
   "codemirror_mode": {
    "name": "ipython",
    "version": 3
   },
   "file_extension": ".py",
   "mimetype": "text/x-python",
   "name": "python",
   "nbconvert_exporter": "python",
   "pygments_lexer": "ipython3",
   "version": "3.10.6"
  },
  "orig_nbformat": 4,
  "vscode": {
   "interpreter": {
    "hash": "916dbcbb3f70747c44a77c7bcd40155683ae19c65e1c03b4aa3499c5328201f1"
   }
  }
 },
 "nbformat": 4,
 "nbformat_minor": 2
}
