{
 "cells": [
  {
   "cell_type": "code",
   "execution_count": 82,
   "metadata": {},
   "outputs": [],
   "source": [
    "import matplotlib.pyplot as plt\n",
    "from IPython.display import display\n",
    "import numpy as np\n"
   ]
  },
  {
   "cell_type": "markdown",
   "metadata": {},
   "source": [
    "Загрузим бандл"
   ]
  },
  {
   "cell_type": "code",
   "execution_count": 2,
   "metadata": {},
   "outputs": [],
   "source": [
    "project_name = 'gg_project'\n",
    "dataset_name = 'gg_lenta_big'\n",
    "bucket = 'ggbucket'\n"
   ]
  },
  {
   "cell_type": "code",
   "execution_count": 3,
   "metadata": {},
   "outputs": [
    {
     "data": {
      "text/plain": [
       "True"
      ]
     },
     "execution_count": 3,
     "metadata": {},
     "output_type": "execute_result"
    }
   ],
   "source": [
    "from pathlib import Path\n",
    "from tg.grammar_ru.common.loc import Loc\n",
    "from dotenv import load_dotenv\n",
    "load_dotenv(Loc.root_path / 'environment.env')\n"
   ]
  },
  {
   "cell_type": "markdown",
   "metadata": {},
   "source": [
    "Создадим бакет"
   ]
  },
  {
   "cell_type": "code",
   "execution_count": 4,
   "metadata": {},
   "outputs": [],
   "source": [
    "from tg.grammar_ru.ml.components.yandex_storage.s3_yandex_helpers import S3YandexHandler\n",
    "# S3YandexHandler.create_bucket(bucket)\n"
   ]
  },
  {
   "cell_type": "code",
   "execution_count": 5,
   "metadata": {},
   "outputs": [],
   "source": [
    "bundle_folder = Loc.data_cache_path/'bundles/grammatical_gender/big'\n"
   ]
  },
  {
   "cell_type": "code",
   "execution_count": 6,
   "metadata": {},
   "outputs": [],
   "source": [
    "from tg.common import DataBundle\n",
    "from tg.common.ml.batched_training import IndexedDataBundle\n",
    "\n",
    "# db = DataBundle.load(bundle_folder)\n",
    "# idb = IndexedDataBundle(db.index, db)\n",
    "# s = db.src\n",
    "# len(s.sentence_id.unique()), len(s.word_id.unique())# (479563, 10097148)\n"
   ]
  },
  {
   "cell_type": "code",
   "execution_count": 7,
   "metadata": {},
   "outputs": [],
   "source": [
    "\n",
    "import plotly.express as px\n",
    "# df = px.data.tips()\n",
    "# fig = px.histogram(s.groupby('sentence_id').word_id.count(), title='Распределение числа слов в предложении')\n",
    "# fig.show()\n"
   ]
  },
  {
   "cell_type": "code",
   "execution_count": 8,
   "metadata": {},
   "outputs": [],
   "source": [
    "s3path = f'datasphere/{project_name}/datasets/{dataset_name}'\n",
    "# S3YandexHandler.upload_folder(bucket, s3path, bundle_folder)\n"
   ]
  },
  {
   "cell_type": "code",
   "execution_count": 9,
   "metadata": {},
   "outputs": [],
   "source": [
    "from tg.common._common import Loc\n",
    "from tg.grammar_ru.ml.components.yandex_storage.s3_yandex_helpers import S3YandexHandler\n"
   ]
  },
  {
   "attachments": {},
   "cell_type": "markdown",
   "metadata": {},
   "source": [
    "### Обучение. Далее - `gg_run_training.py`"
   ]
  },
  {
   "cell_type": "code",
   "execution_count": 10,
   "metadata": {},
   "outputs": [],
   "source": [
    "from tg.common._common import Loc\n",
    "from tg.grammar_ru.ml.components.yandex_storage.s3_yandex_helpers import S3YandexHandler\n",
    "import ast\n",
    "\n",
    "\n",
    "def get_tasks_list(tasks_list_s3_path, bucket):\n",
    "    tmp_local_file = Loc.temp_path / tasks_list_s3_path.split('/')[-1]\n",
    "    S3YandexHandler.download_file(bucket, tasks_list_s3_path, tmp_local_file)\n",
    "    with open(tmp_local_file, 'r') as f:\n",
    "        tasks = ast.literal_eval(f.read())\n"
   ]
  },
  {
   "cell_type": "code",
   "execution_count": 11,
   "metadata": {},
   "outputs": [],
   "source": [
    "from tg.common._common import Loc\n",
    "from tg.grammar_ru.ml.components.yandex_storage.s3_yandex_helpers import S3YandexHandler\n",
    "from tg.grammar_ru.ml.components.yandex_delivery.datasphere_tools import *\n",
    "import ast\n",
    "from tg.grammar_ru.ml.components.yandex_delivery.training_logs import S3TrainingLogsLoader, TrainingLogsViewer\n",
    "from typing import List\n"
   ]
  },
  {
   "cell_type": "code",
   "execution_count": 12,
   "metadata": {},
   "outputs": [
    {
     "name": "stdout",
     "output_type": "stream",
     "text": [
      "output/\n",
      "output/batcher.pkl\n",
      "output/history.pkl\n",
      "output/info.pkl\n",
      "output/metrics.pkl\n",
      "output/model.pkl\n",
      "output/result_df.parquet\n",
      "output/test_splits.pkl\n",
      "output/train_split.pkl\n",
      "output/training_task.pkl\n"
     ]
    }
   ],
   "source": [
    "tasks = get_tasks_list('datasphere/gg_project/job_info/job_gg_project_11:38:18.460849.txt',\n",
    "                       bucket)\n",
    "\n",
    "loader = S3TrainingLogsLoader(bucket, project_name)\n",
    "metrics = loader.load_metrics(tasks)\n",
    "# metrics\n"
   ]
  },
  {
   "cell_type": "code",
   "execution_count": 13,
   "metadata": {},
   "outputs": [
    {
     "data": {
      "text/html": [
       "<div>\n",
       "<style scoped>\n",
       "    .dataframe tbody tr th:only-of-type {\n",
       "        vertical-align: middle;\n",
       "    }\n",
       "\n",
       "    .dataframe tbody tr th {\n",
       "        vertical-align: top;\n",
       "    }\n",
       "\n",
       "    .dataframe thead th {\n",
       "        text-align: right;\n",
       "    }\n",
       "</style>\n",
       "<table border=\"1\" class=\"dataframe\">\n",
       "  <thead>\n",
       "    <tr style=\"text-align: right;\">\n",
       "      <th>job_id</th>\n",
       "      <th>gg_task 11:38:18.460985</th>\n",
       "    </tr>\n",
       "  </thead>\n",
       "  <tbody>\n",
       "    <tr>\n",
       "      <th>0</th>\n",
       "      <td>0.380557</td>\n",
       "    </tr>\n",
       "    <tr>\n",
       "      <th>1</th>\n",
       "      <td>0.380557</td>\n",
       "    </tr>\n",
       "  </tbody>\n",
       "</table>\n",
       "</div>"
      ],
      "text/plain": [
       "job_id  gg_task 11:38:18.460985\n",
       "0                      0.380557\n",
       "1                      0.380557"
      ]
     },
     "execution_count": 13,
     "metadata": {},
     "output_type": "execute_result"
    }
   ],
   "source": [
    "TrainingLogsViewer.get_metric_by_job(metrics, 'accuracy_display')\n"
   ]
  },
  {
   "attachments": {},
   "cell_type": "markdown",
   "metadata": {},
   "source": [
    "####  debug net"
   ]
  },
  {
   "cell_type": "code",
   "execution_count": 14,
   "metadata": {},
   "outputs": [],
   "source": [
    "import matplotlib.pyplot as plt\n",
    "# plt.plot(TrainingLogsViewer.get_metric_by_job(metrics, 'accuracy_display'))\n"
   ]
  },
  {
   "cell_type": "code",
   "execution_count": 15,
   "metadata": {},
   "outputs": [],
   "source": [
    "from tg.common import DataBundle\n",
    "from tg.common.ml.batched_training import IndexedDataBundle\n",
    "\n",
    "from tg.common.ml import batched_training as bt\n",
    "from tg.common.ml.batched_training import torch as btt\n",
    "from tg.common.ml.batched_training import context as btc\n",
    "from tg.common.ml import dft\n",
    "from yo_fluq_ds import fluq\n",
    "\n",
    "\n",
    "from tg.grammar_ru.ml.components.attention_network import AttentionNetwork\n",
    "from tg.common.ml.batched_training.torch.networks.lstm_network import LSTMFinalizer\n",
    "\n",
    "from tg.grammar_ru.ml.components.extractor_settings import CoreExtractor\n",
    "from tg.grammar_ru.ml.components.plain_context_builder import PlainContextBuilder\n",
    "import datetime\n",
    "from tg.grammar_ru.ml.components.training_task_factory import TaskFactory\n",
    "from tg.grammar_ru.ml.components.training_task_factory import Conventions\n",
    "from tg.common.ml.training_core import TrainingEnvironment\n",
    "from tg.grammar_ru.ml.components.contextual_binding import ContextualBinding, ContextualNetworkType\n",
    "\n",
    "from tg.grammar_ru.ml.components.yandex_delivery.training_job import TrainingJob\n",
    "from tg.grammar_ru.ml.components.yandex_storage.s3_yandex_helpers import S3YandexHandler\n",
    "from tg.common.delivery.jobs import SSHDockerJobRoutine, DockerOptions\n",
    "from tg.common.delivery.packaging import FakeContainerHandler\n",
    "\n",
    "from tg.grammar_ru.common import Loc\n",
    "from sklearn.metrics import roc_auc_score\n",
    "from typing import Dict, Optional  # TODO delete redundant\n",
    "from tg.common.delivery.training.architecture import FileCacheTrainingEnvironment\n",
    "from tg.grammar_ru.ml.components.yandex_delivery.docker_tools import deploy_container\n",
    "from tg.common.delivery.jobs.ssh_docker_job_routine import build_container\n",
    "from tg.common.ml.batched_training.torch.networks import FeedForwardNetwork, FullyConnectedNetwork\n",
    "import torch\n",
    "from pathlib import Path\n",
    "from dotenv import load_dotenv\n",
    "\n",
    "from tg.grammar_ru.common import Loc\n",
    "\n",
    "load_dotenv(Loc.root_path / 'environment.env')\n",
    "\n",
    "project_name = 'gg_project'\n",
    "dataset_name = 'gg_dataset'\n",
    "bucket = 'ggbucket'\n",
    "\n",
    "\n",
    "class MulticlassMetrics(bt.Metric):\n",
    "    def __init__(self, add_accuracy=True, add_rating=False):\n",
    "        self.add_accuracy = add_accuracy\n",
    "        self.add_rating = add_rating\n",
    "\n",
    "    def get_names(self):\n",
    "        result = []\n",
    "        if self.add_accuracy:\n",
    "            result.append('accuracy')\n",
    "        if self.add_rating:\n",
    "            result.append('rating')\n",
    "        return result\n",
    "\n",
    "    def measure(self, df, _):\n",
    "        prefix = 'true_label_'\n",
    "        labels = []\n",
    "        for c in df.columns:\n",
    "            if c.startswith(prefix):\n",
    "                labels.append(c.replace(prefix, ''))\n",
    "\n",
    "        def ustack(df, prefix, cols, name):\n",
    "            df = df[[prefix+c for c in cols]]\n",
    "            df.columns = [c for c in cols]\n",
    "            df = df.unstack().to_frame(name)\n",
    "            return df\n",
    "\n",
    "        predicted = ustack(df, 'predicted_label_', labels, 'predicted')\n",
    "        true = ustack(df, 'true_label_', labels, 'true')\n",
    "        df = predicted.merge(true, left_index=True,\n",
    "                             right_index=True).reset_index()\n",
    "        df.columns = ['label', 'sample', 'predicted', 'true']\n",
    "        df = df.feed(fluq.add_ordering_column(\n",
    "            'sample', ('predicted', False), 'predicted_rating'))\n",
    "\n",
    "        match = (df.loc[df.predicted_rating ==\n",
    "                 0].set_index('sample').true > 0.5)\n",
    "        rating = df.loc[df.true > 0.5].set_index('sample').predicted_rating\n",
    "        result = []\n",
    "        if self.add_accuracy:\n",
    "            result.append(match.mean())\n",
    "        if self.add_rating:\n",
    "            result.append(rating.mean())\n",
    "        return result\n",
    "\n",
    "\n",
    "def get_multilabel_extractor():\n",
    "    label_extractor = (bt.PlainExtractor\n",
    "                       .build(Conventions.LabelFrame)\n",
    "                       .index()\n",
    "                       .apply(take_columns=['label'], transformer=dft.DataFrameTransformerFactory.default_factory())\n",
    "                       )\n",
    "    return label_extractor\n",
    "\n",
    "\n",
    "class MyNetworkFactory:\n",
    "    def __init__(self, nn_head_factory):\n",
    "        self.nn_head_factory = nn_head_factory\n",
    "\n",
    "    def create_network(self, task, input):  # input is batch ~ sample\n",
    "        nn_head = self.nn_head_factory.create_network(task=None, input=input)\n",
    "        head_out = nn_head(input)\n",
    "        hidden_size = head_out.shape[1]\n",
    "        labels_count = input['label'].shape[1]\n",
    "        nn_tail = FullyConnectedNetwork(\n",
    "            sizes=[], input=hidden_size, output=labels_count)\n",
    "        # return FeedForwardNetwork(nn_head, nn_tail, torch.nn.Softmax(dim=1))\n",
    "        return FeedForwardNetwork(nn_head, nn_tail)\n",
    "\n",
    "\n",
    "class ClassificationTask(TaskFactory):\n",
    "    def get_network(self, _, sample):\n",
    "        assembled_network_factory = MyNetworkFactory(self.nn_head_factory)\n",
    "        assembled_network = assembled_network_factory.create_network(\n",
    "            task=None, input=sample)\n",
    "        return assembled_network\n",
    "\n",
    "    def create_task(\n",
    "        self, data: IndexedDataBundle,\n",
    "            env: Optional[TrainingEnvironment] = None) -> None:\n",
    "\n",
    "        metrics = bt.MetricPool().add(MulticlassMetrics())\n",
    "        self.instantiate_default_task(\n",
    "            epoch_count=2,\n",
    "            batch_size=100,\n",
    "            mini_batch_size=50,\n",
    "            mini_epoch_count=1,\n",
    "            metric_pool=metrics\n",
    "        )\n",
    "\n",
    "        plain_context_builder = PlainContextBuilder(include_zero_offset=False,\n",
    "                                                    left_to_right_contexts_proportion=1)\n",
    "\n",
    "        plain_context = ContextualBinding(\n",
    "            name='plain_context',\n",
    "            context_length=3,\n",
    "            network_type=ContextualNetworkType.Plain,\n",
    "            hidden_size=[30],\n",
    "            context_builder=plain_context_builder,\n",
    "            extractor=CoreExtractor(join_column='another_word_id'),\n",
    "            debug=False\n",
    "        )\n",
    "        self.nn_head_factory = plain_context.create_network_factory(\n",
    "            task=None, input=None)  # TODO could be better?\n",
    "        core_extractor = plain_context.create_extractor(task=None, bundle=data)\n",
    "        self.setup_batcher(data, [core_extractor, get_multilabel_extractor()])\n",
    "        self.setup_model(self.get_network)\n",
    "\n",
    "\n",
    "def get_training_job() -> TrainingJob:\n",
    "    task = ClassificationTask()\n",
    "    task.info[\"dataset\"] = dataset_name\n",
    "    task.info[\"name\"] = \"gg_task\"\n",
    "\n",
    "    job = TrainingJob(\n",
    "        tasks=[task],\n",
    "        project_name=project_name,\n",
    "        bucket=bucket\n",
    "    )\n",
    "    return job\n",
    "\n",
    "\n",
    "job = get_training_job()\n",
    "\n",
    "routine = SSHDockerJobRoutine(\n",
    "    job=job,\n",
    "    remote_host_address=None,\n",
    "    remote_host_user=None,\n",
    "    handler_factory=FakeContainerHandler.Factory(),\n",
    "    options=DockerOptions(propagate_environmental_variables=[\"AWS_ACCESS_KEY_ID\",\n",
    "                                                             \"AWS_SECRET_ACCESS_KEY\"])\n",
    ")\n",
    "# tag = 'v_' + datetime.datetime.now().time().strftime(\"%H_%M_%S\")\n",
    "# dockerhub_repo = 'grammar_repo'  # name of your repo\n",
    "# dockerhub_login = 'sergio0x0'  # your login\n",
    "\n",
    "# local_img = 'gg_img'\n",
    "\n",
    "\n",
    "# job.run()\n",
    "# b_path = Loc.bundles_path/'grammatical_gender/toy'\n",
    "# data = DataBundle.load(b_path)\n",
    "\n",
    "# task = ClassificationTask()\n",
    "# task.create_task(data)\n",
    "# temp_batch = task.task.generate_sample_batch(data, 0)\n"
   ]
  },
  {
   "cell_type": "code",
   "execution_count": 16,
   "metadata": {},
   "outputs": [],
   "source": [
    "# net = task.task.model_handler.network\n"
   ]
  },
  {
   "cell_type": "code",
   "execution_count": 17,
   "metadata": {},
   "outputs": [],
   "source": [
    "# net(temp_batch)\n"
   ]
  },
  {
   "cell_type": "code",
   "execution_count": 18,
   "metadata": {},
   "outputs": [],
   "source": [
    "# net\n"
   ]
  },
  {
   "attachments": {},
   "cell_type": "markdown",
   "metadata": {},
   "source": [
    "#### build bundle.py error on Full lenta "
   ]
  },
  {
   "attachments": {},
   "cell_type": "markdown",
   "metadata": {},
   "source": [
    "cat nohup.out | tail -n 5\n",
    "\n",
    "2022-12-15 21:42:14.310782+00:00 INFO: Processed 48077323 words. 251/869\n",
    "2022-12-15 21:42:46.130967+00:00 INFO: Writing 2 frames, 35747735 words, to write 49992, to keep 35697743\n",
    "2022-12-15 21:42:47.162703+00:00 INFO: Processed 48294463 words. 252/869\n",
    "2022-12-15 21:43:15.324902+00:00 INFO: Writing 2 frames, 35847701 words, to write 49979, to keep 35797722\n",
    "2022-12-15 21:43:17.499093+00:00 INFO: Processed 48444421 words. 253/869"
   ]
  },
  {
   "attachments": {},
   "cell_type": "markdown",
   "metadata": {},
   "source": [
    "Собрал бандл из 200 файлов"
   ]
  },
  {
   "attachments": {},
   "cell_type": "markdown",
   "metadata": {},
   "source": [
    "### EDA"
   ]
  },
  {
   "cell_type": "code",
   "execution_count": 19,
   "metadata": {},
   "outputs": [],
   "source": [
    "db = DataBundle.load(Loc.data_cache_path/'bundles/grammatical_gender/toy')\n",
    "idb = IndexedDataBundle(db.index, db)\n",
    "s = db.src\n"
   ]
  },
  {
   "attachments": {},
   "cell_type": "markdown",
   "metadata": {},
   "source": [
    "#### Размеры датасетов\n",
    "\n",
    "(249907, 2499299, 10097148)"
   ]
  },
  {
   "cell_type": "code",
   "execution_count": 20,
   "metadata": {},
   "outputs": [],
   "source": [
    "# (DataBundle.load(Loc.data_cache_path/'bundles/grammatical_gender/toy').src.shape[0],\n",
    "# DataBundle.load(Loc.data_cache_path/'bundles/grammatical_gender/big').src.shape[0],\n",
    "# DataBundle.load(Loc.data_cache_path/'bundles/grammatical_gender/full').src.shape[0])\n"
   ]
  },
  {
   "cell_type": "code",
   "execution_count": 21,
   "metadata": {},
   "outputs": [
    {
     "data": {
      "text/plain": [
       "249907"
      ]
     },
     "execution_count": 21,
     "metadata": {},
     "output_type": "execute_result"
    }
   ],
   "source": [
    "s.shape[0]\n"
   ]
  },
  {
   "cell_type": "code",
   "execution_count": 23,
   "metadata": {},
   "outputs": [],
   "source": [
    "import pandas as pd\n",
    "# pd.value_counts()\n"
   ]
  },
  {
   "cell_type": "code",
   "execution_count": 24,
   "metadata": {},
   "outputs": [
    {
     "data": {
      "text/plain": [
       "-1    0.442000\n",
       " 0    0.227096\n",
       " 1    0.143353\n",
       " 3    0.094583\n",
       " 2    0.092967\n",
       "Name: label, dtype: float64"
      ]
     },
     "execution_count": 24,
     "metadata": {},
     "output_type": "execute_result"
    }
   ],
   "source": [
    "s.label.value_counts(normalize=True)  # toy\n"
   ]
  },
  {
   "cell_type": "code",
   "execution_count": 25,
   "metadata": {},
   "outputs": [
    {
     "data": {
      "text/plain": [
       "25          которых\n",
       "26        оказались\n",
       "38          финских\n",
       "46        проживает\n",
       "56         сообщает\n",
       "60      задержанные\n",
       "61        оказались\n",
       "62       хоккейными\n",
       "65          которые\n",
       "66        распивали\n",
       "67      алкогольные\n",
       "70     общественных\n",
       "78       доставляли\n",
       "81      подвыпившие\n",
       "86        карманные\n",
       "94        мобильных\n",
       "107      британских\n",
       "108     Королевских\n",
       "109             ВВС\n",
       "111        передает\n",
       "135           какие\n",
       "145          данным\n",
       "153         оцепили\n",
       "154      британские\n",
       "177       иракскими\n",
       "197           Винчи\n",
       "200      сообщается\n",
       "226      оскорбляет\n",
       "227        верующих\n",
       "231       извращает\n",
       "Name: word, dtype: object"
      ]
     },
     "execution_count": 25,
     "metadata": {},
     "output_type": "execute_result"
    }
   ],
   "source": [
    "s[s.label == 3].word.head(30)\n"
   ]
  },
  {
   "attachments": {},
   "cell_type": "markdown",
   "metadata": {},
   "source": [
    "## Результаты обучения"
   ]
  },
  {
   "cell_type": "code",
   "execution_count": 26,
   "metadata": {},
   "outputs": [
    {
     "name": "stdout",
     "output_type": "stream",
     "text": [
      "output/\n",
      "output/batcher.pkl\n",
      "output/history.pkl\n",
      "output/info.pkl\n",
      "output/metrics.pkl\n",
      "output/model.pkl\n",
      "output/result_df.parquet\n",
      "output/test_splits.pkl\n",
      "output/train_split.pkl\n",
      "output/training_task.pkl\n"
     ]
    },
    {
     "data": {
      "text/html": [
       "<div>\n",
       "<style scoped>\n",
       "    .dataframe tbody tr th:only-of-type {\n",
       "        vertical-align: middle;\n",
       "    }\n",
       "\n",
       "    .dataframe tbody tr th {\n",
       "        vertical-align: top;\n",
       "    }\n",
       "\n",
       "    .dataframe thead th {\n",
       "        text-align: right;\n",
       "    }\n",
       "</style>\n",
       "<table border=\"1\" class=\"dataframe\">\n",
       "  <thead>\n",
       "    <tr style=\"text-align: right;\">\n",
       "      <th></th>\n",
       "      <th>metric</th>\n",
       "      <th>ordinal</th>\n",
       "      <th>value</th>\n",
       "      <th>timestamp</th>\n",
       "      <th>job_id</th>\n",
       "    </tr>\n",
       "  </thead>\n",
       "  <tbody>\n",
       "    <tr>\n",
       "      <th>0</th>\n",
       "      <td>accuracy_test</td>\n",
       "      <td>0</td>\n",
       "      <td>0.495043</td>\n",
       "      <td>2022-12-16 11:54:16.340953</td>\n",
       "      <td>gg_task_lenta_big_10K_4ep 11:43:02.110772</td>\n",
       "    </tr>\n",
       "    <tr>\n",
       "      <th>1</th>\n",
       "      <td>accuracy_display</td>\n",
       "      <td>0</td>\n",
       "      <td>0.493511</td>\n",
       "      <td>2022-12-16 11:54:16.340953</td>\n",
       "      <td>gg_task_lenta_big_10K_4ep 11:43:02.110772</td>\n",
       "    </tr>\n",
       "    <tr>\n",
       "      <th>2</th>\n",
       "      <td>loss</td>\n",
       "      <td>0</td>\n",
       "      <td>0.166821</td>\n",
       "      <td>2022-12-16 11:54:16.340953</td>\n",
       "      <td>gg_task_lenta_big_10K_4ep 11:43:02.110772</td>\n",
       "    </tr>\n",
       "    <tr>\n",
       "      <th>3</th>\n",
       "      <td>iteration</td>\n",
       "      <td>0</td>\n",
       "      <td>0.000000</td>\n",
       "      <td>2022-12-16 11:54:16.340953</td>\n",
       "      <td>gg_task_lenta_big_10K_4ep 11:43:02.110772</td>\n",
       "    </tr>\n",
       "    <tr>\n",
       "      <th>4</th>\n",
       "      <td>accuracy_test</td>\n",
       "      <td>1</td>\n",
       "      <td>0.504205</td>\n",
       "      <td>2022-12-16 12:03:00.036073</td>\n",
       "      <td>gg_task_lenta_big_10K_4ep 11:43:02.110772</td>\n",
       "    </tr>\n",
       "    <tr>\n",
       "      <th>5</th>\n",
       "      <td>accuracy_display</td>\n",
       "      <td>1</td>\n",
       "      <td>0.502487</td>\n",
       "      <td>2022-12-16 12:03:00.036073</td>\n",
       "      <td>gg_task_lenta_big_10K_4ep 11:43:02.110772</td>\n",
       "    </tr>\n",
       "    <tr>\n",
       "      <th>6</th>\n",
       "      <td>loss</td>\n",
       "      <td>1</td>\n",
       "      <td>0.157089</td>\n",
       "      <td>2022-12-16 12:03:00.036073</td>\n",
       "      <td>gg_task_lenta_big_10K_4ep 11:43:02.110772</td>\n",
       "    </tr>\n",
       "    <tr>\n",
       "      <th>7</th>\n",
       "      <td>iteration</td>\n",
       "      <td>1</td>\n",
       "      <td>1.000000</td>\n",
       "      <td>2022-12-16 12:03:00.036073</td>\n",
       "      <td>gg_task_lenta_big_10K_4ep 11:43:02.110772</td>\n",
       "    </tr>\n",
       "    <tr>\n",
       "      <th>8</th>\n",
       "      <td>accuracy_test</td>\n",
       "      <td>2</td>\n",
       "      <td>0.508279</td>\n",
       "      <td>2022-12-16 12:11:45.625511</td>\n",
       "      <td>gg_task_lenta_big_10K_4ep 11:43:02.110772</td>\n",
       "    </tr>\n",
       "    <tr>\n",
       "      <th>9</th>\n",
       "      <td>accuracy_display</td>\n",
       "      <td>2</td>\n",
       "      <td>0.507149</td>\n",
       "      <td>2022-12-16 12:11:45.625511</td>\n",
       "      <td>gg_task_lenta_big_10K_4ep 11:43:02.110772</td>\n",
       "    </tr>\n",
       "    <tr>\n",
       "      <th>10</th>\n",
       "      <td>loss</td>\n",
       "      <td>2</td>\n",
       "      <td>0.154645</td>\n",
       "      <td>2022-12-16 12:11:45.625511</td>\n",
       "      <td>gg_task_lenta_big_10K_4ep 11:43:02.110772</td>\n",
       "    </tr>\n",
       "    <tr>\n",
       "      <th>11</th>\n",
       "      <td>iteration</td>\n",
       "      <td>2</td>\n",
       "      <td>2.000000</td>\n",
       "      <td>2022-12-16 12:11:45.625511</td>\n",
       "      <td>gg_task_lenta_big_10K_4ep 11:43:02.110772</td>\n",
       "    </tr>\n",
       "    <tr>\n",
       "      <th>12</th>\n",
       "      <td>accuracy_test</td>\n",
       "      <td>3</td>\n",
       "      <td>0.512254</td>\n",
       "      <td>2022-12-16 12:20:33.729985</td>\n",
       "      <td>gg_task_lenta_big_10K_4ep 11:43:02.110772</td>\n",
       "    </tr>\n",
       "    <tr>\n",
       "      <th>13</th>\n",
       "      <td>accuracy_display</td>\n",
       "      <td>3</td>\n",
       "      <td>0.511105</td>\n",
       "      <td>2022-12-16 12:20:33.729985</td>\n",
       "      <td>gg_task_lenta_big_10K_4ep 11:43:02.110772</td>\n",
       "    </tr>\n",
       "    <tr>\n",
       "      <th>14</th>\n",
       "      <td>loss</td>\n",
       "      <td>3</td>\n",
       "      <td>0.153004</td>\n",
       "      <td>2022-12-16 12:20:33.729985</td>\n",
       "      <td>gg_task_lenta_big_10K_4ep 11:43:02.110772</td>\n",
       "    </tr>\n",
       "    <tr>\n",
       "      <th>15</th>\n",
       "      <td>iteration</td>\n",
       "      <td>3</td>\n",
       "      <td>3.000000</td>\n",
       "      <td>2022-12-16 12:20:33.729985</td>\n",
       "      <td>gg_task_lenta_big_10K_4ep 11:43:02.110772</td>\n",
       "    </tr>\n",
       "  </tbody>\n",
       "</table>\n",
       "</div>"
      ],
      "text/plain": [
       "              metric  ordinal     value                  timestamp  \\\n",
       "0      accuracy_test        0  0.495043 2022-12-16 11:54:16.340953   \n",
       "1   accuracy_display        0  0.493511 2022-12-16 11:54:16.340953   \n",
       "2               loss        0  0.166821 2022-12-16 11:54:16.340953   \n",
       "3          iteration        0  0.000000 2022-12-16 11:54:16.340953   \n",
       "4      accuracy_test        1  0.504205 2022-12-16 12:03:00.036073   \n",
       "5   accuracy_display        1  0.502487 2022-12-16 12:03:00.036073   \n",
       "6               loss        1  0.157089 2022-12-16 12:03:00.036073   \n",
       "7          iteration        1  1.000000 2022-12-16 12:03:00.036073   \n",
       "8      accuracy_test        2  0.508279 2022-12-16 12:11:45.625511   \n",
       "9   accuracy_display        2  0.507149 2022-12-16 12:11:45.625511   \n",
       "10              loss        2  0.154645 2022-12-16 12:11:45.625511   \n",
       "11         iteration        2  2.000000 2022-12-16 12:11:45.625511   \n",
       "12     accuracy_test        3  0.512254 2022-12-16 12:20:33.729985   \n",
       "13  accuracy_display        3  0.511105 2022-12-16 12:20:33.729985   \n",
       "14              loss        3  0.153004 2022-12-16 12:20:33.729985   \n",
       "15         iteration        3  3.000000 2022-12-16 12:20:33.729985   \n",
       "\n",
       "                                       job_id  \n",
       "0   gg_task_lenta_big_10K_4ep 11:43:02.110772  \n",
       "1   gg_task_lenta_big_10K_4ep 11:43:02.110772  \n",
       "2   gg_task_lenta_big_10K_4ep 11:43:02.110772  \n",
       "3   gg_task_lenta_big_10K_4ep 11:43:02.110772  \n",
       "4   gg_task_lenta_big_10K_4ep 11:43:02.110772  \n",
       "5   gg_task_lenta_big_10K_4ep 11:43:02.110772  \n",
       "6   gg_task_lenta_big_10K_4ep 11:43:02.110772  \n",
       "7   gg_task_lenta_big_10K_4ep 11:43:02.110772  \n",
       "8   gg_task_lenta_big_10K_4ep 11:43:02.110772  \n",
       "9   gg_task_lenta_big_10K_4ep 11:43:02.110772  \n",
       "10  gg_task_lenta_big_10K_4ep 11:43:02.110772  \n",
       "11  gg_task_lenta_big_10K_4ep 11:43:02.110772  \n",
       "12  gg_task_lenta_big_10K_4ep 11:43:02.110772  \n",
       "13  gg_task_lenta_big_10K_4ep 11:43:02.110772  \n",
       "14  gg_task_lenta_big_10K_4ep 11:43:02.110772  \n",
       "15  gg_task_lenta_big_10K_4ep 11:43:02.110772  "
      ]
     },
     "execution_count": 26,
     "metadata": {},
     "output_type": "execute_result"
    }
   ],
   "source": [
    "tasks = get_tasks_list('datasphere/gg_project/job_info/job_gg_project_11:43:02.110706.txt',\n",
    "                       bucket)\n",
    "\n",
    "loader = S3TrainingLogsLoader(bucket, project_name)\n",
    "metrics = loader.load_metrics(tasks)\n",
    "metrics\n"
   ]
  },
  {
   "cell_type": "code",
   "execution_count": 27,
   "metadata": {},
   "outputs": [
    {
     "data": {
      "text/html": [
       "<div>\n",
       "<style scoped>\n",
       "    .dataframe tbody tr th:only-of-type {\n",
       "        vertical-align: middle;\n",
       "    }\n",
       "\n",
       "    .dataframe tbody tr th {\n",
       "        vertical-align: top;\n",
       "    }\n",
       "\n",
       "    .dataframe thead th {\n",
       "        text-align: right;\n",
       "    }\n",
       "</style>\n",
       "<table border=\"1\" class=\"dataframe\">\n",
       "  <thead>\n",
       "    <tr style=\"text-align: right;\">\n",
       "      <th>job_id</th>\n",
       "      <th>gg_task_lenta_big_10K_4ep 11:43:02.110772</th>\n",
       "    </tr>\n",
       "  </thead>\n",
       "  <tbody>\n",
       "    <tr>\n",
       "      <th>0</th>\n",
       "      <td>0.493511</td>\n",
       "    </tr>\n",
       "    <tr>\n",
       "      <th>1</th>\n",
       "      <td>0.502487</td>\n",
       "    </tr>\n",
       "    <tr>\n",
       "      <th>2</th>\n",
       "      <td>0.507149</td>\n",
       "    </tr>\n",
       "    <tr>\n",
       "      <th>3</th>\n",
       "      <td>0.511105</td>\n",
       "    </tr>\n",
       "  </tbody>\n",
       "</table>\n",
       "</div>"
      ],
      "text/plain": [
       "job_id  gg_task_lenta_big_10K_4ep 11:43:02.110772\n",
       "0                                        0.493511\n",
       "1                                        0.502487\n",
       "2                                        0.507149\n",
       "3                                        0.511105"
      ]
     },
     "execution_count": 27,
     "metadata": {},
     "output_type": "execute_result"
    }
   ],
   "source": [
    "TrainingLogsViewer.get_metric_by_job(metrics, 'accuracy_display')\n"
   ]
  },
  {
   "cell_type": "code",
   "execution_count": 28,
   "metadata": {},
   "outputs": [
    {
     "data": {
      "text/html": [
       "<div>\n",
       "<style scoped>\n",
       "    .dataframe tbody tr th:only-of-type {\n",
       "        vertical-align: middle;\n",
       "    }\n",
       "\n",
       "    .dataframe tbody tr th {\n",
       "        vertical-align: top;\n",
       "    }\n",
       "\n",
       "    .dataframe thead th {\n",
       "        text-align: right;\n",
       "    }\n",
       "</style>\n",
       "<table border=\"1\" class=\"dataframe\">\n",
       "  <thead>\n",
       "    <tr style=\"text-align: right;\">\n",
       "      <th>job_id</th>\n",
       "      <th>gg_task_lenta_big_10K_4ep 11:43:02.110772</th>\n",
       "    </tr>\n",
       "  </thead>\n",
       "  <tbody>\n",
       "    <tr>\n",
       "      <th>0</th>\n",
       "      <td>0.495043</td>\n",
       "    </tr>\n",
       "    <tr>\n",
       "      <th>1</th>\n",
       "      <td>0.504205</td>\n",
       "    </tr>\n",
       "    <tr>\n",
       "      <th>2</th>\n",
       "      <td>0.508279</td>\n",
       "    </tr>\n",
       "    <tr>\n",
       "      <th>3</th>\n",
       "      <td>0.512254</td>\n",
       "    </tr>\n",
       "  </tbody>\n",
       "</table>\n",
       "</div>"
      ],
      "text/plain": [
       "job_id  gg_task_lenta_big_10K_4ep 11:43:02.110772\n",
       "0                                        0.495043\n",
       "1                                        0.504205\n",
       "2                                        0.508279\n",
       "3                                        0.512254"
      ]
     },
     "execution_count": 28,
     "metadata": {},
     "output_type": "execute_result"
    }
   ],
   "source": [
    "TrainingLogsViewer.get_metric_by_job(metrics, 'accuracy_test')\n"
   ]
  },
  {
   "cell_type": "code",
   "execution_count": 29,
   "metadata": {},
   "outputs": [
    {
     "data": {
      "text/plain": [
       "[<matplotlib.lines.Line2D at 0x7fc295ed9db0>]"
      ]
     },
     "execution_count": 29,
     "metadata": {},
     "output_type": "execute_result"
    },
    {
     "data": {
      "image/png": "[encoded data removed]",
      "text/plain": [
       "<Figure size 640x480 with 1 Axes>"
      ]
     },
     "metadata": {},
     "output_type": "display_data"
    }
   ],
   "source": [
    "plt.plot(TrainingLogsViewer.get_metric_by_job(metrics, 'accuracy_display'))\n"
   ]
  },
  {
   "cell_type": "code",
   "execution_count": 30,
   "metadata": {},
   "outputs": [
    {
     "data": {
      "text/plain": [
       "[<matplotlib.lines.Line2D at 0x7fc28d74ce20>]"
      ]
     },
     "execution_count": 30,
     "metadata": {},
     "output_type": "execute_result"
    },
    {
     "data": {
      "image/png": "[encoded data removed]",
      "text/plain": [
       "<Figure size 640x480 with 1 Axes>"
      ]
     },
     "metadata": {},
     "output_type": "display_data"
    }
   ],
   "source": [
    "plt.plot(TrainingLogsViewer.get_metric_by_job(metrics, 'accuracy_test'))\n"
   ]
  },
  {
   "attachments": {},
   "cell_type": "markdown",
   "metadata": {},
   "source": [
    "### LENTA big 100 epochs bs=20K 14 hours"
   ]
  },
  {
   "cell_type": "code",
   "execution_count": 51,
   "metadata": {},
   "outputs": [
    {
     "name": "stdout",
     "output_type": "stream",
     "text": [
      "output/\n",
      "output/batcher.pkl\n",
      "output/history.pkl\n",
      "output/info.pkl\n",
      "output/metrics.pkl\n",
      "output/model.pkl\n",
      "output/result_df.parquet\n",
      "output/test_splits.pkl\n",
      "output/train_split.pkl\n",
      "output/training_task.pkl\n"
     ]
    },
    {
     "data": {
      "text/html": [
       "<div>\n",
       "<style scoped>\n",
       "    .dataframe tbody tr th:only-of-type {\n",
       "        vertical-align: middle;\n",
       "    }\n",
       "\n",
       "    .dataframe tbody tr th {\n",
       "        vertical-align: top;\n",
       "    }\n",
       "\n",
       "    .dataframe thead th {\n",
       "        text-align: right;\n",
       "    }\n",
       "</style>\n",
       "<table border=\"1\" class=\"dataframe\">\n",
       "  <thead>\n",
       "    <tr style=\"text-align: right;\">\n",
       "      <th></th>\n",
       "      <th>metric</th>\n",
       "      <th>ordinal</th>\n",
       "      <th>value</th>\n",
       "      <th>timestamp</th>\n",
       "      <th>job_id</th>\n",
       "    </tr>\n",
       "  </thead>\n",
       "  <tbody>\n",
       "    <tr>\n",
       "      <th>0</th>\n",
       "      <td>accuracy_test</td>\n",
       "      <td>0</td>\n",
       "      <td>0.495166</td>\n",
       "      <td>2022-12-16 14:42:00.033465</td>\n",
       "      <td>gg_task_lenta_big_20K_100ep 14:33:31.516791</td>\n",
       "    </tr>\n",
       "    <tr>\n",
       "      <th>1</th>\n",
       "      <td>accuracy_display</td>\n",
       "      <td>0</td>\n",
       "      <td>0.493470</td>\n",
       "      <td>2022-12-16 14:42:00.033465</td>\n",
       "      <td>gg_task_lenta_big_20K_100ep 14:33:31.516791</td>\n",
       "    </tr>\n",
       "    <tr>\n",
       "      <th>2</th>\n",
       "      <td>loss</td>\n",
       "      <td>0</td>\n",
       "      <td>0.167273</td>\n",
       "      <td>2022-12-16 14:42:00.033465</td>\n",
       "      <td>gg_task_lenta_big_20K_100ep 14:33:31.516791</td>\n",
       "    </tr>\n",
       "    <tr>\n",
       "      <th>3</th>\n",
       "      <td>iteration</td>\n",
       "      <td>0</td>\n",
       "      <td>0.000000</td>\n",
       "      <td>2022-12-16 14:42:00.033465</td>\n",
       "      <td>gg_task_lenta_big_20K_100ep 14:33:31.516791</td>\n",
       "    </tr>\n",
       "    <tr>\n",
       "      <th>4</th>\n",
       "      <td>accuracy_test</td>\n",
       "      <td>1</td>\n",
       "      <td>0.504062</td>\n",
       "      <td>2022-12-16 14:49:51.747824</td>\n",
       "      <td>gg_task_lenta_big_20K_100ep 14:33:31.516791</td>\n",
       "    </tr>\n",
       "    <tr>\n",
       "      <th>...</th>\n",
       "      <td>...</td>\n",
       "      <td>...</td>\n",
       "      <td>...</td>\n",
       "      <td>...</td>\n",
       "      <td>...</td>\n",
       "    </tr>\n",
       "    <tr>\n",
       "      <th>395</th>\n",
       "      <td>iteration</td>\n",
       "      <td>98</td>\n",
       "      <td>98.000000</td>\n",
       "      <td>2022-12-17 03:44:36.163694</td>\n",
       "      <td>gg_task_lenta_big_20K_100ep 14:33:31.516791</td>\n",
       "    </tr>\n",
       "    <tr>\n",
       "      <th>396</th>\n",
       "      <td>accuracy_test</td>\n",
       "      <td>99</td>\n",
       "      <td>0.562257</td>\n",
       "      <td>2022-12-17 03:52:39.796546</td>\n",
       "      <td>gg_task_lenta_big_20K_100ep 14:33:31.516791</td>\n",
       "    </tr>\n",
       "    <tr>\n",
       "      <th>397</th>\n",
       "      <td>accuracy_display</td>\n",
       "      <td>99</td>\n",
       "      <td>0.564427</td>\n",
       "      <td>2022-12-17 03:52:39.796546</td>\n",
       "      <td>gg_task_lenta_big_20K_100ep 14:33:31.516791</td>\n",
       "    </tr>\n",
       "    <tr>\n",
       "      <th>398</th>\n",
       "      <td>loss</td>\n",
       "      <td>99</td>\n",
       "      <td>0.136952</td>\n",
       "      <td>2022-12-17 03:52:39.796546</td>\n",
       "      <td>gg_task_lenta_big_20K_100ep 14:33:31.516791</td>\n",
       "    </tr>\n",
       "    <tr>\n",
       "      <th>399</th>\n",
       "      <td>iteration</td>\n",
       "      <td>99</td>\n",
       "      <td>99.000000</td>\n",
       "      <td>2022-12-17 03:52:39.796546</td>\n",
       "      <td>gg_task_lenta_big_20K_100ep 14:33:31.516791</td>\n",
       "    </tr>\n",
       "  </tbody>\n",
       "</table>\n",
       "<p>400 rows × 5 columns</p>\n",
       "</div>"
      ],
      "text/plain": [
       "               metric  ordinal      value                  timestamp  \\\n",
       "0       accuracy_test        0   0.495166 2022-12-16 14:42:00.033465   \n",
       "1    accuracy_display        0   0.493470 2022-12-16 14:42:00.033465   \n",
       "2                loss        0   0.167273 2022-12-16 14:42:00.033465   \n",
       "3           iteration        0   0.000000 2022-12-16 14:42:00.033465   \n",
       "4       accuracy_test        1   0.504062 2022-12-16 14:49:51.747824   \n",
       "..                ...      ...        ...                        ...   \n",
       "395         iteration       98  98.000000 2022-12-17 03:44:36.163694   \n",
       "396     accuracy_test       99   0.562257 2022-12-17 03:52:39.796546   \n",
       "397  accuracy_display       99   0.564427 2022-12-17 03:52:39.796546   \n",
       "398              loss       99   0.136952 2022-12-17 03:52:39.796546   \n",
       "399         iteration       99  99.000000 2022-12-17 03:52:39.796546   \n",
       "\n",
       "                                          job_id  \n",
       "0    gg_task_lenta_big_20K_100ep 14:33:31.516791  \n",
       "1    gg_task_lenta_big_20K_100ep 14:33:31.516791  \n",
       "2    gg_task_lenta_big_20K_100ep 14:33:31.516791  \n",
       "3    gg_task_lenta_big_20K_100ep 14:33:31.516791  \n",
       "4    gg_task_lenta_big_20K_100ep 14:33:31.516791  \n",
       "..                                           ...  \n",
       "395  gg_task_lenta_big_20K_100ep 14:33:31.516791  \n",
       "396  gg_task_lenta_big_20K_100ep 14:33:31.516791  \n",
       "397  gg_task_lenta_big_20K_100ep 14:33:31.516791  \n",
       "398  gg_task_lenta_big_20K_100ep 14:33:31.516791  \n",
       "399  gg_task_lenta_big_20K_100ep 14:33:31.516791  \n",
       "\n",
       "[400 rows x 5 columns]"
      ]
     },
     "execution_count": 51,
     "metadata": {},
     "output_type": "execute_result"
    }
   ],
   "source": [
    "tasks = get_tasks_list('datasphere/gg_project/job_info/job_gg_project_14:33:31.516733.txt',\n",
    "                       bucket)\n",
    "\n",
    "loader = S3TrainingLogsLoader(bucket, project_name)\n",
    "metrics = loader.load_metrics(tasks)\n",
    "metrics\n"
   ]
  },
  {
   "cell_type": "code",
   "execution_count": 52,
   "metadata": {},
   "outputs": [
    {
     "data": {
      "text/html": [
       "<div>\n",
       "<style scoped>\n",
       "    .dataframe tbody tr th:only-of-type {\n",
       "        vertical-align: middle;\n",
       "    }\n",
       "\n",
       "    .dataframe tbody tr th {\n",
       "        vertical-align: top;\n",
       "    }\n",
       "\n",
       "    .dataframe thead th {\n",
       "        text-align: right;\n",
       "    }\n",
       "</style>\n",
       "<table border=\"1\" class=\"dataframe\">\n",
       "  <thead>\n",
       "    <tr style=\"text-align: right;\">\n",
       "      <th></th>\n",
       "      <th>metric</th>\n",
       "      <th>ordinal</th>\n",
       "      <th>value</th>\n",
       "      <th>timestamp</th>\n",
       "      <th>job_id</th>\n",
       "    </tr>\n",
       "  </thead>\n",
       "  <tbody>\n",
       "    <tr>\n",
       "      <th>396</th>\n",
       "      <td>accuracy_test</td>\n",
       "      <td>99</td>\n",
       "      <td>0.562257</td>\n",
       "      <td>2022-12-17 03:52:39.796546</td>\n",
       "      <td>gg_task_lenta_big_20K_100ep 14:33:31.516791</td>\n",
       "    </tr>\n",
       "    <tr>\n",
       "      <th>397</th>\n",
       "      <td>accuracy_display</td>\n",
       "      <td>99</td>\n",
       "      <td>0.564427</td>\n",
       "      <td>2022-12-17 03:52:39.796546</td>\n",
       "      <td>gg_task_lenta_big_20K_100ep 14:33:31.516791</td>\n",
       "    </tr>\n",
       "    <tr>\n",
       "      <th>398</th>\n",
       "      <td>loss</td>\n",
       "      <td>99</td>\n",
       "      <td>0.136952</td>\n",
       "      <td>2022-12-17 03:52:39.796546</td>\n",
       "      <td>gg_task_lenta_big_20K_100ep 14:33:31.516791</td>\n",
       "    </tr>\n",
       "    <tr>\n",
       "      <th>399</th>\n",
       "      <td>iteration</td>\n",
       "      <td>99</td>\n",
       "      <td>99.000000</td>\n",
       "      <td>2022-12-17 03:52:39.796546</td>\n",
       "      <td>gg_task_lenta_big_20K_100ep 14:33:31.516791</td>\n",
       "    </tr>\n",
       "  </tbody>\n",
       "</table>\n",
       "</div>"
      ],
      "text/plain": [
       "               metric  ordinal      value                  timestamp  \\\n",
       "396     accuracy_test       99   0.562257 2022-12-17 03:52:39.796546   \n",
       "397  accuracy_display       99   0.564427 2022-12-17 03:52:39.796546   \n",
       "398              loss       99   0.136952 2022-12-17 03:52:39.796546   \n",
       "399         iteration       99  99.000000 2022-12-17 03:52:39.796546   \n",
       "\n",
       "                                          job_id  \n",
       "396  gg_task_lenta_big_20K_100ep 14:33:31.516791  \n",
       "397  gg_task_lenta_big_20K_100ep 14:33:31.516791  \n",
       "398  gg_task_lenta_big_20K_100ep 14:33:31.516791  \n",
       "399  gg_task_lenta_big_20K_100ep 14:33:31.516791  "
      ]
     },
     "execution_count": 52,
     "metadata": {},
     "output_type": "execute_result"
    }
   ],
   "source": [
    "metrics.tail(4)\n"
   ]
  },
  {
   "cell_type": "code",
   "execution_count": 55,
   "metadata": {},
   "outputs": [
    {
     "data": {
      "text/plain": [
       "<matplotlib.legend.Legend at 0x7fc288702200>"
      ]
     },
     "execution_count": 55,
     "metadata": {},
     "output_type": "execute_result"
    },
    {
     "data": {
      "image/png": "[encoded data removed]",
      "text/plain": [
       "<Figure size 640x480 with 1 Axes>"
      ]
     },
     "metadata": {},
     "output_type": "display_data"
    }
   ],
   "source": [
    "plt.plot(TrainingLogsViewer.get_metric_by_job(\n",
    "    metrics, 'accuracy_display'), label='accuracy_display')\n",
    "plt.plot(TrainingLogsViewer.get_metric_by_job(\n",
    "    metrics, 'accuracy_test'), label='accuracy_test')\n",
    "plt.title('LENTA big 100 epochs bs=20K 14 hours')\n",
    "plt.legend()\n"
   ]
  },
  {
   "attachments": {},
   "cell_type": "markdown",
   "metadata": {},
   "source": [
    "# lenta big 20K 200ep"
   ]
  },
  {
   "cell_type": "code",
   "execution_count": 71,
   "metadata": {},
   "outputs": [
    {
     "name": "stdout",
     "output_type": "stream",
     "text": [
      "output/\n",
      "output/batcher.pkl\n",
      "output/history.pkl\n",
      "output/info.pkl\n",
      "output/metrics.pkl\n",
      "output/model.pkl\n",
      "output/result_df.parquet\n",
      "output/test_splits.pkl\n",
      "output/train_split.pkl\n",
      "output/training_task.pkl\n"
     ]
    },
    {
     "data": {
      "text/html": [
       "<div>\n",
       "<style scoped>\n",
       "    .dataframe tbody tr th:only-of-type {\n",
       "        vertical-align: middle;\n",
       "    }\n",
       "\n",
       "    .dataframe tbody tr th {\n",
       "        vertical-align: top;\n",
       "    }\n",
       "\n",
       "    .dataframe thead th {\n",
       "        text-align: right;\n",
       "    }\n",
       "</style>\n",
       "<table border=\"1\" class=\"dataframe\">\n",
       "  <thead>\n",
       "    <tr style=\"text-align: right;\">\n",
       "      <th></th>\n",
       "      <th>metric</th>\n",
       "      <th>ordinal</th>\n",
       "      <th>value</th>\n",
       "      <th>timestamp</th>\n",
       "      <th>job_id</th>\n",
       "    </tr>\n",
       "  </thead>\n",
       "  <tbody>\n",
       "    <tr>\n",
       "      <th>0</th>\n",
       "      <td>accuracy_test</td>\n",
       "      <td>0</td>\n",
       "      <td>0.494714</td>\n",
       "      <td>2022-12-17 20:53:14.548988</td>\n",
       "      <td>task_gg_lenta_big_20K_200ep 20:44:19.636646</td>\n",
       "    </tr>\n",
       "    <tr>\n",
       "      <th>1</th>\n",
       "      <td>accuracy_display</td>\n",
       "      <td>0</td>\n",
       "      <td>0.493064</td>\n",
       "      <td>2022-12-17 20:53:14.548988</td>\n",
       "      <td>task_gg_lenta_big_20K_200ep 20:44:19.636646</td>\n",
       "    </tr>\n",
       "    <tr>\n",
       "      <th>2</th>\n",
       "      <td>loss</td>\n",
       "      <td>0</td>\n",
       "      <td>0.166835</td>\n",
       "      <td>2022-12-17 20:53:14.548988</td>\n",
       "      <td>task_gg_lenta_big_20K_200ep 20:44:19.636646</td>\n",
       "    </tr>\n",
       "    <tr>\n",
       "      <th>3</th>\n",
       "      <td>iteration</td>\n",
       "      <td>0</td>\n",
       "      <td>0.000000</td>\n",
       "      <td>2022-12-17 20:53:14.548988</td>\n",
       "      <td>task_gg_lenta_big_20K_200ep 20:44:19.636646</td>\n",
       "    </tr>\n",
       "    <tr>\n",
       "      <th>4</th>\n",
       "      <td>accuracy_test</td>\n",
       "      <td>1</td>\n",
       "      <td>0.504258</td>\n",
       "      <td>2022-12-17 21:01:29.849502</td>\n",
       "      <td>task_gg_lenta_big_20K_200ep 20:44:19.636646</td>\n",
       "    </tr>\n",
       "    <tr>\n",
       "      <th>...</th>\n",
       "      <td>...</td>\n",
       "      <td>...</td>\n",
       "      <td>...</td>\n",
       "      <td>...</td>\n",
       "      <td>...</td>\n",
       "    </tr>\n",
       "    <tr>\n",
       "      <th>795</th>\n",
       "      <td>iteration</td>\n",
       "      <td>198</td>\n",
       "      <td>198.000000</td>\n",
       "      <td>2022-12-19 00:50:37.486178</td>\n",
       "      <td>task_gg_lenta_big_20K_200ep 20:44:19.636646</td>\n",
       "    </tr>\n",
       "    <tr>\n",
       "      <th>796</th>\n",
       "      <td>accuracy_test</td>\n",
       "      <td>199</td>\n",
       "      <td>0.563909</td>\n",
       "      <td>2022-12-19 00:59:11.049299</td>\n",
       "      <td>task_gg_lenta_big_20K_200ep 20:44:19.636646</td>\n",
       "    </tr>\n",
       "    <tr>\n",
       "      <th>797</th>\n",
       "      <td>accuracy_display</td>\n",
       "      <td>199</td>\n",
       "      <td>0.566207</td>\n",
       "      <td>2022-12-19 00:59:11.049299</td>\n",
       "      <td>task_gg_lenta_big_20K_200ep 20:44:19.636646</td>\n",
       "    </tr>\n",
       "    <tr>\n",
       "      <th>798</th>\n",
       "      <td>loss</td>\n",
       "      <td>199</td>\n",
       "      <td>0.135980</td>\n",
       "      <td>2022-12-19 00:59:11.049299</td>\n",
       "      <td>task_gg_lenta_big_20K_200ep 20:44:19.636646</td>\n",
       "    </tr>\n",
       "    <tr>\n",
       "      <th>799</th>\n",
       "      <td>iteration</td>\n",
       "      <td>199</td>\n",
       "      <td>199.000000</td>\n",
       "      <td>2022-12-19 00:59:11.049299</td>\n",
       "      <td>task_gg_lenta_big_20K_200ep 20:44:19.636646</td>\n",
       "    </tr>\n",
       "  </tbody>\n",
       "</table>\n",
       "<p>800 rows × 5 columns</p>\n",
       "</div>"
      ],
      "text/plain": [
       "               metric  ordinal       value                  timestamp  \\\n",
       "0       accuracy_test        0    0.494714 2022-12-17 20:53:14.548988   \n",
       "1    accuracy_display        0    0.493064 2022-12-17 20:53:14.548988   \n",
       "2                loss        0    0.166835 2022-12-17 20:53:14.548988   \n",
       "3           iteration        0    0.000000 2022-12-17 20:53:14.548988   \n",
       "4       accuracy_test        1    0.504258 2022-12-17 21:01:29.849502   \n",
       "..                ...      ...         ...                        ...   \n",
       "795         iteration      198  198.000000 2022-12-19 00:50:37.486178   \n",
       "796     accuracy_test      199    0.563909 2022-12-19 00:59:11.049299   \n",
       "797  accuracy_display      199    0.566207 2022-12-19 00:59:11.049299   \n",
       "798              loss      199    0.135980 2022-12-19 00:59:11.049299   \n",
       "799         iteration      199  199.000000 2022-12-19 00:59:11.049299   \n",
       "\n",
       "                                          job_id  \n",
       "0    task_gg_lenta_big_20K_200ep 20:44:19.636646  \n",
       "1    task_gg_lenta_big_20K_200ep 20:44:19.636646  \n",
       "2    task_gg_lenta_big_20K_200ep 20:44:19.636646  \n",
       "3    task_gg_lenta_big_20K_200ep 20:44:19.636646  \n",
       "4    task_gg_lenta_big_20K_200ep 20:44:19.636646  \n",
       "..                                           ...  \n",
       "795  task_gg_lenta_big_20K_200ep 20:44:19.636646  \n",
       "796  task_gg_lenta_big_20K_200ep 20:44:19.636646  \n",
       "797  task_gg_lenta_big_20K_200ep 20:44:19.636646  \n",
       "798  task_gg_lenta_big_20K_200ep 20:44:19.636646  \n",
       "799  task_gg_lenta_big_20K_200ep 20:44:19.636646  \n",
       "\n",
       "[800 rows x 5 columns]"
      ]
     },
     "execution_count": 71,
     "metadata": {},
     "output_type": "execute_result"
    }
   ],
   "source": [
    "tasks = get_tasks_list('datasphere/gg_project/job_info/job_gg_project_20:44:19.636574.txt',\n",
    "                       bucket)\n",
    "lenta_big_20k_200ep_task = tasks[0]\n",
    "\n",
    "loader = S3TrainingLogsLoader(bucket, project_name)\n",
    "metrics = loader.load_metrics(tasks)\n",
    "metrics\n"
   ]
  },
  {
   "cell_type": "code",
   "execution_count": 46,
   "metadata": {},
   "outputs": [
    {
     "data": {
      "text/plain": [
       "<matplotlib.legend.Legend at 0x7fc28881ed10>"
      ]
     },
     "execution_count": 46,
     "metadata": {},
     "output_type": "execute_result"
    },
    {
     "data": {
      "image/png": "[encoded data removed]",
      "text/plain": [
       "<Figure size 640x480 with 1 Axes>"
      ]
     },
     "metadata": {},
     "output_type": "display_data"
    }
   ],
   "source": [
    "plt.plot(TrainingLogsViewer.get_metric_by_job(\n",
    "    metrics, 'accuracy_display'), label='accuracy_display')\n",
    "plt.plot(TrainingLogsViewer.get_metric_by_job(\n",
    "    metrics, 'accuracy_test'), label='accuracy_test')\n",
    "plt.title('lenta big 20K 200ep 28 hours')\n",
    "plt.legend()\n"
   ]
  },
  {
   "cell_type": "markdown",
   "metadata": {},
   "source": [
    "# lenta full 20k 50ep"
   ]
  },
  {
   "cell_type": "code",
   "execution_count": 68,
   "metadata": {},
   "outputs": [
    {
     "name": "stdout",
     "output_type": "stream",
     "text": [
      "output/\n",
      "output/batcher.pkl\n",
      "output/history.pkl\n",
      "output/info.pkl\n",
      "output/metrics.pkl\n",
      "output/model.pkl\n",
      "output/result_df.parquet\n",
      "output/test_splits.pkl\n",
      "output/train_split.pkl\n",
      "output/training_task.pkl\n"
     ]
    }
   ],
   "source": [
    "tasks = get_tasks_list('datasphere/gg_project/job_info/job_gg_project_20:37:06.663167.txt',\n",
    "                       bucket)\n",
    "\n",
    "loader = S3TrainingLogsLoader(bucket, project_name)\n",
    "metrics = loader.load_metrics(tasks)\n",
    "# metrics\n"
   ]
  },
  {
   "cell_type": "code",
   "execution_count": 70,
   "metadata": {},
   "outputs": [],
   "source": []
  },
  {
   "cell_type": "code",
   "execution_count": 45,
   "metadata": {},
   "outputs": [
    {
     "data": {
      "text/plain": [
       "<matplotlib.legend.Legend at 0x7fc288755bd0>"
      ]
     },
     "execution_count": 45,
     "metadata": {},
     "output_type": "execute_result"
    },
    {
     "data": {
      "image/png": "[encoded data removed]",
      "text/plain": [
       "<Figure size 640x480 with 1 Axes>"
      ]
     },
     "metadata": {},
     "output_type": "display_data"
    }
   ],
   "source": [
    "plt.plot(TrainingLogsViewer.get_metric_by_job(\n",
    "    metrics, 'accuracy_display'), label='accuracy_display')\n",
    "plt.plot(TrainingLogsViewer.get_metric_by_job(\n",
    "    metrics, 'accuracy_test'), label='accuracy_test')\n",
    "plt.title('lenta full 20K 50ep 2.5d')\n",
    "plt.legend()\n"
   ]
  },
  {
   "attachments": {},
   "cell_type": "markdown",
   "metadata": {},
   "source": [
    "# Подбор bs"
   ]
  },
  {
   "cell_type": "code",
   "execution_count": 61,
   "metadata": {},
   "outputs": [
    {
     "data": {
      "text/plain": [
       "PosixPath('/home/serhio/grammar_ru/data-cache/temp')"
      ]
     },
     "execution_count": 61,
     "metadata": {},
     "output_type": "execute_result"
    }
   ],
   "source": [
    "Loc.temp_path\n"
   ]
  },
  {
   "cell_type": "code",
   "execution_count": 66,
   "metadata": {},
   "outputs": [
    {
     "name": "stdout",
     "output_type": "stream",
     "text": [
      "output/\n",
      "output/batcher.pkl\n",
      "output/history.pkl\n",
      "output/info.pkl\n",
      "output/metrics.pkl\n",
      "output/model.pkl\n",
      "output/result_df.parquet\n",
      "output/test_splits.pkl\n",
      "output/train_split.pkl\n",
      "output/training_task.pkl\n",
      "output/\n",
      "output/batcher.pkl\n",
      "output/history.pkl\n",
      "output/info.pkl\n",
      "output/metrics.pkl\n",
      "output/model.pkl\n",
      "output/result_df.parquet\n",
      "output/test_splits.pkl\n",
      "output/train_split.pkl\n",
      "output/training_task.pkl\n",
      "output/\n",
      "output/batcher.pkl\n",
      "output/history.pkl\n",
      "output/info.pkl\n",
      "output/metrics.pkl\n",
      "output/model.pkl\n",
      "output/result_df.parquet\n",
      "output/test_splits.pkl\n",
      "output/train_split.pkl\n",
      "output/training_task.pkl\n",
      "output/\n",
      "output/batcher.pkl\n",
      "output/history.pkl\n",
      "output/info.pkl\n",
      "output/metrics.pkl\n",
      "output/model.pkl\n",
      "output/result_df.parquet\n",
      "output/test_splits.pkl\n",
      "output/train_split.pkl\n",
      "output/training_task.pkl\n",
      "output/\n",
      "output/batcher.pkl\n",
      "output/history.pkl\n",
      "output/info.pkl\n",
      "output/metrics.pkl\n",
      "output/model.pkl\n",
      "output/result_df.parquet\n",
      "output/test_splits.pkl\n",
      "output/train_split.pkl\n",
      "output/training_task.pkl\n",
      "output/\n",
      "output/batcher.pkl\n",
      "output/history.pkl\n",
      "output/info.pkl\n",
      "output/metrics.pkl\n",
      "output/model.pkl\n",
      "output/result_df.parquet\n",
      "output/test_splits.pkl\n",
      "output/train_split.pkl\n",
      "output/training_task.pkl\n"
     ]
    }
   ],
   "source": [
    "tasks = get_tasks_list('datasphere/gg_project/job_info/job_gg_project_13:14:46.600490.txt',\n",
    "                       bucket)\n",
    "\n",
    "loader = S3TrainingLogsLoader(bucket, project_name)\n",
    "metrics = loader.load_metrics(tasks)\n",
    "# display(metrics)\n"
   ]
  },
  {
   "cell_type": "markdown",
   "metadata": {},
   "source": [
    "# Результаты обучения lenta big 20K 200ep"
   ]
  },
  {
   "cell_type": "code",
   "execution_count": 67,
   "metadata": {},
   "outputs": [
    {
     "data": {
      "text/plain": [
       "PosixPath('/home/serhio/grammar_ru')"
      ]
     },
     "execution_count": 67,
     "metadata": {},
     "output_type": "execute_result"
    }
   ],
   "source": [
    "Loc.root_path\n"
   ]
  },
  {
   "cell_type": "code",
   "execution_count": 72,
   "metadata": {},
   "outputs": [
    {
     "data": {
      "text/plain": [
       "'task_gg_lenta_big_20K_200ep 20:44:19.636646'"
      ]
     },
     "execution_count": 72,
     "metadata": {},
     "output_type": "execute_result"
    }
   ],
   "source": [
    "lenta_big_20k_200ep_task\n"
   ]
  },
  {
   "cell_type": "markdown",
   "metadata": {},
   "source": [
    "### result_df"
   ]
  },
  {
   "cell_type": "code",
   "execution_count": 104,
   "metadata": {},
   "outputs": [
    {
     "data": {
      "text/html": [
       "<div>\n",
       "<style scoped>\n",
       "    .dataframe tbody tr th:only-of-type {\n",
       "        vertical-align: middle;\n",
       "    }\n",
       "\n",
       "    .dataframe tbody tr th {\n",
       "        vertical-align: top;\n",
       "    }\n",
       "\n",
       "    .dataframe thead th {\n",
       "        text-align: right;\n",
       "    }\n",
       "</style>\n",
       "<table border=\"1\" class=\"dataframe\">\n",
       "  <thead>\n",
       "    <tr style=\"text-align: right;\">\n",
       "      <th></th>\n",
       "      <th>word_id</th>\n",
       "      <th>sentence_id</th>\n",
       "      <th>label</th>\n",
       "      <th>split</th>\n",
       "      <th>true_label_0</th>\n",
       "      <th>predicted_label_0</th>\n",
       "      <th>true_label_1</th>\n",
       "      <th>predicted_label_1</th>\n",
       "      <th>true_label_3</th>\n",
       "      <th>predicted_label_3</th>\n",
       "      <th>true_label_2</th>\n",
       "      <th>predicted_label_2</th>\n",
       "      <th>stage</th>\n",
       "    </tr>\n",
       "    <tr>\n",
       "      <th>sample_id</th>\n",
       "      <th></th>\n",
       "      <th></th>\n",
       "      <th></th>\n",
       "      <th></th>\n",
       "      <th></th>\n",
       "      <th></th>\n",
       "      <th></th>\n",
       "      <th></th>\n",
       "      <th></th>\n",
       "      <th></th>\n",
       "      <th></th>\n",
       "      <th></th>\n",
       "      <th></th>\n",
       "    </tr>\n",
       "  </thead>\n",
       "  <tbody>\n",
       "    <tr>\n",
       "      <th>1</th>\n",
       "      <td>1</td>\n",
       "      <td>0</td>\n",
       "      <td>0</td>\n",
       "      <td>test</td>\n",
       "      <td>1.0</td>\n",
       "      <td>0.235964</td>\n",
       "      <td>0.0</td>\n",
       "      <td>0.103293</td>\n",
       "      <td>0.0</td>\n",
       "      <td>0.020730</td>\n",
       "      <td>0.0</td>\n",
       "      <td>0.697159</td>\n",
       "      <td>test</td>\n",
       "    </tr>\n",
       "    <tr>\n",
       "      <th>2</th>\n",
       "      <td>2</td>\n",
       "      <td>0</td>\n",
       "      <td>2</td>\n",
       "      <td>test</td>\n",
       "      <td>0.0</td>\n",
       "      <td>0.275742</td>\n",
       "      <td>0.0</td>\n",
       "      <td>0.207088</td>\n",
       "      <td>0.0</td>\n",
       "      <td>0.414074</td>\n",
       "      <td>1.0</td>\n",
       "      <td>0.106180</td>\n",
       "      <td>test</td>\n",
       "    </tr>\n",
       "    <tr>\n",
       "      <th>3</th>\n",
       "      <td>4</td>\n",
       "      <td>0</td>\n",
       "      <td>0</td>\n",
       "      <td>test</td>\n",
       "      <td>1.0</td>\n",
       "      <td>0.689275</td>\n",
       "      <td>0.0</td>\n",
       "      <td>0.055883</td>\n",
       "      <td>0.0</td>\n",
       "      <td>0.073416</td>\n",
       "      <td>0.0</td>\n",
       "      <td>0.037342</td>\n",
       "      <td>test</td>\n",
       "    </tr>\n",
       "    <tr>\n",
       "      <th>4</th>\n",
       "      <td>5</td>\n",
       "      <td>0</td>\n",
       "      <td>0</td>\n",
       "      <td>test</td>\n",
       "      <td>1.0</td>\n",
       "      <td>0.365668</td>\n",
       "      <td>0.0</td>\n",
       "      <td>0.202043</td>\n",
       "      <td>0.0</td>\n",
       "      <td>0.027792</td>\n",
       "      <td>0.0</td>\n",
       "      <td>0.453792</td>\n",
       "      <td>test</td>\n",
       "    </tr>\n",
       "    <tr>\n",
       "      <th>6</th>\n",
       "      <td>7</td>\n",
       "      <td>0</td>\n",
       "      <td>0</td>\n",
       "      <td>test</td>\n",
       "      <td>1.0</td>\n",
       "      <td>0.332759</td>\n",
       "      <td>0.0</td>\n",
       "      <td>0.310349</td>\n",
       "      <td>0.0</td>\n",
       "      <td>0.036474</td>\n",
       "      <td>0.0</td>\n",
       "      <td>0.286194</td>\n",
       "      <td>test</td>\n",
       "    </tr>\n",
       "    <tr>\n",
       "      <th>...</th>\n",
       "      <td>...</td>\n",
       "      <td>...</td>\n",
       "      <td>...</td>\n",
       "      <td>...</td>\n",
       "      <td>...</td>\n",
       "      <td>...</td>\n",
       "      <td>...</td>\n",
       "      <td>...</td>\n",
       "      <td>...</td>\n",
       "      <td>...</td>\n",
       "      <td>...</td>\n",
       "      <td>...</td>\n",
       "      <td>...</td>\n",
       "    </tr>\n",
       "    <tr>\n",
       "      <th>1377780</th>\n",
       "      <td>2499413</td>\n",
       "      <td>2332125</td>\n",
       "      <td>1</td>\n",
       "      <td>display</td>\n",
       "      <td>0.0</td>\n",
       "      <td>0.017303</td>\n",
       "      <td>1.0</td>\n",
       "      <td>0.931538</td>\n",
       "      <td>0.0</td>\n",
       "      <td>0.138549</td>\n",
       "      <td>0.0</td>\n",
       "      <td>0.007848</td>\n",
       "      <td>display</td>\n",
       "    </tr>\n",
       "    <tr>\n",
       "      <th>1377783</th>\n",
       "      <td>2499417</td>\n",
       "      <td>2332125</td>\n",
       "      <td>0</td>\n",
       "      <td>display</td>\n",
       "      <td>1.0</td>\n",
       "      <td>0.415809</td>\n",
       "      <td>0.0</td>\n",
       "      <td>0.218996</td>\n",
       "      <td>0.0</td>\n",
       "      <td>0.044620</td>\n",
       "      <td>0.0</td>\n",
       "      <td>0.306053</td>\n",
       "      <td>display</td>\n",
       "    </tr>\n",
       "    <tr>\n",
       "      <th>1377786</th>\n",
       "      <td>2499421</td>\n",
       "      <td>2332125</td>\n",
       "      <td>1</td>\n",
       "      <td>display</td>\n",
       "      <td>0.0</td>\n",
       "      <td>0.173255</td>\n",
       "      <td>1.0</td>\n",
       "      <td>0.703678</td>\n",
       "      <td>0.0</td>\n",
       "      <td>0.004112</td>\n",
       "      <td>0.0</td>\n",
       "      <td>0.145358</td>\n",
       "      <td>display</td>\n",
       "    </tr>\n",
       "    <tr>\n",
       "      <th>1377789</th>\n",
       "      <td>2499424</td>\n",
       "      <td>2332125</td>\n",
       "      <td>3</td>\n",
       "      <td>display</td>\n",
       "      <td>0.0</td>\n",
       "      <td>0.370794</td>\n",
       "      <td>0.0</td>\n",
       "      <td>0.215917</td>\n",
       "      <td>1.0</td>\n",
       "      <td>0.297121</td>\n",
       "      <td>0.0</td>\n",
       "      <td>0.136030</td>\n",
       "      <td>display</td>\n",
       "    </tr>\n",
       "    <tr>\n",
       "      <th>1377790</th>\n",
       "      <td>2499429</td>\n",
       "      <td>2332125</td>\n",
       "      <td>0</td>\n",
       "      <td>display</td>\n",
       "      <td>1.0</td>\n",
       "      <td>0.482280</td>\n",
       "      <td>0.0</td>\n",
       "      <td>0.265254</td>\n",
       "      <td>0.0</td>\n",
       "      <td>0.071784</td>\n",
       "      <td>0.0</td>\n",
       "      <td>0.135315</td>\n",
       "      <td>display</td>\n",
       "    </tr>\n",
       "  </tbody>\n",
       "</table>\n",
       "<p>826676 rows × 13 columns</p>\n",
       "</div>"
      ],
      "text/plain": [
       "           word_id  sentence_id  label    split  true_label_0  \\\n",
       "sample_id                                                       \n",
       "1                1            0      0     test           1.0   \n",
       "2                2            0      2     test           0.0   \n",
       "3                4            0      0     test           1.0   \n",
       "4                5            0      0     test           1.0   \n",
       "6                7            0      0     test           1.0   \n",
       "...            ...          ...    ...      ...           ...   \n",
       "1377780    2499413      2332125      1  display           0.0   \n",
       "1377783    2499417      2332125      0  display           1.0   \n",
       "1377786    2499421      2332125      1  display           0.0   \n",
       "1377789    2499424      2332125      3  display           0.0   \n",
       "1377790    2499429      2332125      0  display           1.0   \n",
       "\n",
       "           predicted_label_0  true_label_1  predicted_label_1  true_label_3  \\\n",
       "sample_id                                                                     \n",
       "1                   0.235964           0.0           0.103293           0.0   \n",
       "2                   0.275742           0.0           0.207088           0.0   \n",
       "3                   0.689275           0.0           0.055883           0.0   \n",
       "4                   0.365668           0.0           0.202043           0.0   \n",
       "6                   0.332759           0.0           0.310349           0.0   \n",
       "...                      ...           ...                ...           ...   \n",
       "1377780             0.017303           1.0           0.931538           0.0   \n",
       "1377783             0.415809           0.0           0.218996           0.0   \n",
       "1377786             0.173255           1.0           0.703678           0.0   \n",
       "1377789             0.370794           0.0           0.215917           1.0   \n",
       "1377790             0.482280           0.0           0.265254           0.0   \n",
       "\n",
       "           predicted_label_3  true_label_2  predicted_label_2    stage  \n",
       "sample_id                                                               \n",
       "1                   0.020730           0.0           0.697159     test  \n",
       "2                   0.414074           1.0           0.106180     test  \n",
       "3                   0.073416           0.0           0.037342     test  \n",
       "4                   0.027792           0.0           0.453792     test  \n",
       "6                   0.036474           0.0           0.286194     test  \n",
       "...                      ...           ...                ...      ...  \n",
       "1377780             0.138549           0.0           0.007848  display  \n",
       "1377783             0.044620           0.0           0.306053  display  \n",
       "1377786             0.004112           0.0           0.145358  display  \n",
       "1377789             0.297121           0.0           0.136030  display  \n",
       "1377790             0.071784           0.0           0.135315  display  \n",
       "\n",
       "[826676 rows x 13 columns]"
      ]
     },
     "execution_count": 104,
     "metadata": {},
     "output_type": "execute_result"
    }
   ],
   "source": [
    "result_df = pd.read_parquet(Loc.root_path /\n",
    "                            'temp'/'training_results' /\n",
    "                            f'{lenta_big_20k_200ep_task}.unzipped' /\n",
    "                            'output'/'result_df.parquet')\n",
    "result_df\n"
   ]
  },
  {
   "cell_type": "code",
   "execution_count": 91,
   "metadata": {},
   "outputs": [],
   "source": [
    "predicted_probs = result_df[[\n",
    "    'predicted_label_0', 'predicted_label_1', 'predicted_label_2', 'predicted_label_3']]\n",
    "y_pred = np.argmax(predicted_probs.values, axis=1)\n"
   ]
  },
  {
   "cell_type": "code",
   "execution_count": 92,
   "metadata": {},
   "outputs": [],
   "source": [
    "true_probs = result_df[[\n",
    "    'true_label_0', 'true_label_1', 'true_label_2', 'true_label_3']]\n",
    "y_true = np.argmax(true_probs.values, axis=1)\n"
   ]
  },
  {
   "cell_type": "markdown",
   "metadata": {},
   "source": [
    "### Confusion matrix"
   ]
  },
  {
   "cell_type": "code",
   "execution_count": 107,
   "metadata": {},
   "outputs": [],
   "source": [
    "from sklearn.metrics import confusion_matrix"
   ]
  },
  {
   "attachments": {},
   "cell_type": "markdown",
   "metadata": {},
   "source": [
    "By definition a confusion matrix C is such that `C[i][j]` is equal to the number of observations known to be in group `i` and predicted to be in group `j`."
   ]
  },
  {
   "cell_type": "code",
   "execution_count": 109,
   "metadata": {},
   "outputs": [],
   "source": [
    "genders = ['male', 'female', 'mid', 'none']\n"
   ]
  },
  {
   "cell_type": "code",
   "execution_count": 110,
   "metadata": {},
   "outputs": [
    {
     "data": {
      "text/html": [
       "<div>\n",
       "<style scoped>\n",
       "    .dataframe tbody tr th:only-of-type {\n",
       "        vertical-align: middle;\n",
       "    }\n",
       "\n",
       "    .dataframe tbody tr th {\n",
       "        vertical-align: top;\n",
       "    }\n",
       "\n",
       "    .dataframe thead th {\n",
       "        text-align: right;\n",
       "    }\n",
       "</style>\n",
       "<table border=\"1\" class=\"dataframe\">\n",
       "  <thead>\n",
       "    <tr style=\"text-align: right;\">\n",
       "      <th></th>\n",
       "      <th>pred_as_male</th>\n",
       "      <th>pred_as_female</th>\n",
       "      <th>pred_as_mid</th>\n",
       "      <th>pred_as_none</th>\n",
       "    </tr>\n",
       "  </thead>\n",
       "  <tbody>\n",
       "    <tr>\n",
       "      <th>actual_is_male</th>\n",
       "      <td>0.766237</td>\n",
       "      <td>0.048390</td>\n",
       "      <td>0.071210</td>\n",
       "      <td>0.114162</td>\n",
       "    </tr>\n",
       "    <tr>\n",
       "      <th>actual_is_female</th>\n",
       "      <td>0.535840</td>\n",
       "      <td>0.293901</td>\n",
       "      <td>0.071301</td>\n",
       "      <td>0.098958</td>\n",
       "    </tr>\n",
       "    <tr>\n",
       "      <th>actual_is_mid</th>\n",
       "      <td>0.494566</td>\n",
       "      <td>0.060977</td>\n",
       "      <td>0.334643</td>\n",
       "      <td>0.109814</td>\n",
       "    </tr>\n",
       "    <tr>\n",
       "      <th>actual_is_none</th>\n",
       "      <td>0.226419</td>\n",
       "      <td>0.025061</td>\n",
       "      <td>0.028406</td>\n",
       "      <td>0.720114</td>\n",
       "    </tr>\n",
       "  </tbody>\n",
       "</table>\n",
       "</div>"
      ],
      "text/plain": [
       "                  pred_as_male  pred_as_female  pred_as_mid  pred_as_none\n",
       "actual_is_male        0.766237        0.048390     0.071210      0.114162\n",
       "actual_is_female      0.535840        0.293901     0.071301      0.098958\n",
       "actual_is_mid         0.494566        0.060977     0.334643      0.109814\n",
       "actual_is_none        0.226419        0.025061     0.028406      0.720114"
      ]
     },
     "execution_count": 110,
     "metadata": {},
     "output_type": "execute_result"
    }
   ],
   "source": [
    "pd.DataFrame(confusion_matrix(y_true, y_pred, normalize='true'),\n",
    "             columns=[f'pred_as_{g}' for g in genders],\n",
    "             index=[f'actual_is_{g}' for g in genders])\n"
   ]
  },
  {
   "attachments": {},
   "cell_type": "markdown",
   "metadata": {},
   "source": [
    "### Выводы:"
   ]
  },
  {
   "attachments": {},
   "cell_type": "markdown",
   "metadata": {},
   "source": [
    "* Модель скланяется к тому, чтобы все называть мужским родом.\n",
    "* Неприятное поведение: для половины слов женского рода, ответ модели - мужской род. Для среднего рода так же."
   ]
  }
 ],
 "metadata": {
  "kernelspec": {
   "display_name": "Python 3.10.6 64-bit",
   "language": "python",
   "name": "python3"
  },
  "language_info": {
   "codemirror_mode": {
    "name": "ipython",
    "version": 3
   },
   "file_extension": ".py",
   "mimetype": "text/x-python",
   "name": "python",
   "nbconvert_exporter": "python",
   "pygments_lexer": "ipython3",
   "version": "3.10.6"
  },
  "orig_nbformat": 4,
  "vscode": {
   "interpreter": {
    "hash": "916dbcbb3f70747c44a77c7bcd40155683ae19c65e1c03b4aa3499c5328201f1"
   }
  }
 },
 "nbformat": 4,
 "nbformat_minor": 2
}
