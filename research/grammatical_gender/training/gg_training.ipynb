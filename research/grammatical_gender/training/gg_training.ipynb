{
 "cells": [
  {
   "cell_type": "code",
   "execution_count": 2,
   "metadata": {},
   "outputs": [],
   "source": [
    "import matplotlib.pyplot as plt\n",
    "from IPython.display import display\n",
    "import numpy as np\n"
   ]
  },
  {
   "cell_type": "markdown",
   "metadata": {},
   "source": [
    "Загрузим бандл"
   ]
  },
  {
   "cell_type": "code",
   "execution_count": 3,
   "metadata": {},
   "outputs": [],
   "source": [
    "project_name = 'gg_project'\n",
    "dataset_name = 'gg_lenta_big'\n",
    "bucket = 'ggbucket'\n"
   ]
  },
  {
   "cell_type": "code",
   "execution_count": 4,
   "metadata": {},
   "outputs": [
    {
     "data": {
      "text/plain": [
       "True"
      ]
     },
     "execution_count": 4,
     "metadata": {},
     "output_type": "execute_result"
    }
   ],
   "source": [
    "from pathlib import Path\n",
    "from tg.grammar_ru.common.loc import Loc\n",
    "from dotenv import load_dotenv\n",
    "load_dotenv(Loc.root_path / 'environment.env')\n"
   ]
  },
  {
   "cell_type": "markdown",
   "metadata": {},
   "source": [
    "Создадим бакет"
   ]
  },
  {
   "cell_type": "code",
   "execution_count": 5,
   "metadata": {},
   "outputs": [],
   "source": [
    "from tg.grammar_ru.ml.components.yandex_storage.s3_yandex_helpers import S3YandexHandler\n",
    "# S3YandexHandler.create_bucket(bucket)\n"
   ]
  },
  {
   "cell_type": "code",
   "execution_count": 6,
   "metadata": {},
   "outputs": [],
   "source": [
    "bundle_folder = Loc.data_cache_path/'bundles/grammatical_gender/big'\n"
   ]
  },
  {
   "cell_type": "code",
   "execution_count": 7,
   "metadata": {},
   "outputs": [],
   "source": [
    "from tg.common import DataBundle\n",
    "from tg.common.ml.batched_training import IndexedDataBundle\n",
    "\n",
    "# db = DataBundle.load(bundle_folder)\n",
    "# idb = IndexedDataBundle(db.index, db)\n",
    "# s = db.src\n",
    "# len(s.sentence_id.unique()), len(s.word_id.unique())# (479563, 10097148)\n"
   ]
  },
  {
   "cell_type": "code",
   "execution_count": 8,
   "metadata": {},
   "outputs": [],
   "source": [
    "\n",
    "import plotly.express as px\n",
    "# df = px.data.tips()\n",
    "# fig = px.histogram(s.groupby('sentence_id').word_id.count(), title='Распределение числа слов в предложении')\n",
    "# fig.show()\n"
   ]
  },
  {
   "cell_type": "code",
   "execution_count": 9,
   "metadata": {},
   "outputs": [],
   "source": [
    "s3path = f'datasphere/{project_name}/datasets/{dataset_name}'\n",
    "# S3YandexHandler.upload_folder(bucket, s3path, bundle_folder)\n"
   ]
  },
  {
   "cell_type": "code",
   "execution_count": 10,
   "metadata": {},
   "outputs": [],
   "source": [
    "from tg.common._common import Loc\n",
    "from tg.grammar_ru.ml.components.yandex_storage.s3_yandex_helpers import S3YandexHandler\n"
   ]
  },
  {
   "attachments": {},
   "cell_type": "markdown",
   "metadata": {},
   "source": [
    "### Обучение. Далее - `gg_run_training.py`"
   ]
  },
  {
   "cell_type": "code",
   "execution_count": 11,
   "metadata": {},
   "outputs": [],
   "source": [
    "from tg.common._common import Loc\n",
    "from tg.grammar_ru.ml.components.yandex_storage.s3_yandex_helpers import S3YandexHandler\n",
    "import ast\n",
    "\n",
    "\n",
    "def get_tasks_list(tasks_list_s3_path, bucket):\n",
    "    tmp_local_file = Loc.temp_path / tasks_list_s3_path.split('/')[-1]\n",
    "    S3YandexHandler.download_file(bucket, tasks_list_s3_path, tmp_local_file)\n",
    "    with open(tmp_local_file, 'r') as f:\n",
    "        tasks = ast.literal_eval(f.read())\n"
   ]
  },
  {
   "cell_type": "code",
   "execution_count": 12,
   "metadata": {},
   "outputs": [],
   "source": [
    "from tg.common._common import Loc\n",
    "from tg.grammar_ru.ml.components.yandex_storage.s3_yandex_helpers import S3YandexHandler\n",
    "from tg.grammar_ru.ml.components.yandex_delivery.datasphere_tools import *\n",
    "import ast\n",
    "from tg.grammar_ru.ml.components.yandex_delivery.training_logs import S3TrainingLogsLoader, TrainingLogsViewer\n",
    "from typing import List\n"
   ]
  },
  {
   "cell_type": "code",
   "execution_count": 13,
   "metadata": {},
   "outputs": [
    {
     "name": "stdout",
     "output_type": "stream",
     "text": [
      "/home/serhio/grammar_ru/temp/training_results/gg_task 11:38:18.460985.tar.gz\n",
      "output/\n",
      "output/batcher.pkl\n",
      "output/history.pkl\n",
      "output/info.pkl\n",
      "output/metrics.pkl\n",
      "output/model.pkl\n",
      "output/result_df.parquet\n",
      "output/test_splits.pkl\n",
      "output/train_split.pkl\n",
      "output/training_task.pkl\n"
     ]
    }
   ],
   "source": [
    "tasks = get_tasks_list('datasphere/gg_project/job_info/job_gg_project_11:38:18.460849.txt',\n",
    "                       bucket)\n",
    "\n",
    "loader = S3TrainingLogsLoader(bucket, project_name)\n",
    "metrics = loader.load_metrics(tasks)\n",
    "# metrics\n"
   ]
  },
  {
   "cell_type": "code",
   "execution_count": 14,
   "metadata": {},
   "outputs": [
    {
     "data": {
      "text/html": [
       "<div>\n",
       "<style scoped>\n",
       "    .dataframe tbody tr th:only-of-type {\n",
       "        vertical-align: middle;\n",
       "    }\n",
       "\n",
       "    .dataframe tbody tr th {\n",
       "        vertical-align: top;\n",
       "    }\n",
       "\n",
       "    .dataframe thead th {\n",
       "        text-align: right;\n",
       "    }\n",
       "</style>\n",
       "<table border=\"1\" class=\"dataframe\">\n",
       "  <thead>\n",
       "    <tr style=\"text-align: right;\">\n",
       "      <th>job_id</th>\n",
       "      <th>gg_task 11:38:18.460985</th>\n",
       "    </tr>\n",
       "  </thead>\n",
       "  <tbody>\n",
       "    <tr>\n",
       "      <th>0</th>\n",
       "      <td>0.380557</td>\n",
       "    </tr>\n",
       "    <tr>\n",
       "      <th>1</th>\n",
       "      <td>0.380557</td>\n",
       "    </tr>\n",
       "  </tbody>\n",
       "</table>\n",
       "</div>"
      ],
      "text/plain": [
       "job_id  gg_task 11:38:18.460985\n",
       "0                      0.380557\n",
       "1                      0.380557"
      ]
     },
     "execution_count": 14,
     "metadata": {},
     "output_type": "execute_result"
    }
   ],
   "source": [
    "TrainingLogsViewer.get_metric_by_job(metrics, 'accuracy_display')\n"
   ]
  },
  {
   "attachments": {},
   "cell_type": "markdown",
   "metadata": {},
   "source": [
    "####  debug net"
   ]
  },
  {
   "cell_type": "code",
   "execution_count": 15,
   "metadata": {},
   "outputs": [],
   "source": [
    "import matplotlib.pyplot as plt\n",
    "# plt.plot(TrainingLogsViewer.get_metric_by_job(metrics, 'accuracy_display'))\n"
   ]
  },
  {
   "cell_type": "code",
   "execution_count": 16,
   "metadata": {},
   "outputs": [],
   "source": [
    "from tg.common import DataBundle\n",
    "from tg.common.ml.batched_training import IndexedDataBundle\n",
    "\n",
    "from tg.common.ml import batched_training as bt\n",
    "from tg.common.ml.batched_training import torch as btt\n",
    "from tg.common.ml.batched_training import context as btc\n",
    "from tg.common.ml import dft\n",
    "from yo_fluq_ds import fluq\n",
    "\n",
    "\n",
    "from tg.grammar_ru.ml.components.attention_network import AttentionNetwork\n",
    "from tg.common.ml.batched_training.torch.networks.lstm_network import LSTMFinalizer\n",
    "\n",
    "from tg.grammar_ru.ml.components.extractor_settings import CoreExtractor\n",
    "from tg.grammar_ru.ml.components.plain_context_builder import PlainContextBuilder\n",
    "import datetime\n",
    "from tg.grammar_ru.ml.components.training_task_factory import TaskFactory\n",
    "from tg.grammar_ru.ml.components.training_task_factory import Conventions\n",
    "from tg.common.ml.training_core import TrainingEnvironment\n",
    "from tg.grammar_ru.ml.components.contextual_binding import ContextualBinding, ContextualNetworkType\n",
    "\n",
    "from tg.grammar_ru.ml.components.yandex_delivery.training_job import TrainingJob\n",
    "from tg.grammar_ru.ml.components.yandex_storage.s3_yandex_helpers import S3YandexHandler\n",
    "from tg.common.delivery.jobs import SSHDockerJobRoutine, DockerOptions\n",
    "from tg.common.delivery.packaging import FakeContainerHandler\n",
    "\n",
    "from tg.grammar_ru.common import Loc\n",
    "from sklearn.metrics import roc_auc_score\n",
    "from typing import Dict, Optional  # TODO delete redundant\n",
    "from tg.common.delivery.training.architecture import FileCacheTrainingEnvironment\n",
    "from tg.grammar_ru.ml.components.yandex_delivery.docker_tools import deploy_container\n",
    "from tg.common.delivery.jobs.ssh_docker_job_routine import build_container\n",
    "from tg.common.ml.batched_training.torch.networks import FeedForwardNetwork, FullyConnectedNetwork\n",
    "from tg.grammar_ru.ml.tasks.grammatical_gender.deliverable_stuff import ClassificationTask\n",
    "import torch\n",
    "from pathlib import Path\n",
    "from dotenv import load_dotenv\n",
    "\n",
    "from tg.grammar_ru.common import Loc\n",
    "\n",
    "load_dotenv(Loc.root_path / 'environment.env')\n",
    "\n",
    "project_name = 'gg_project'\n",
    "dataset_name = 'gg_dataset'\n",
    "bucket = 'ggbucket'\n",
    "\n",
    "\n",
    "def get_training_job() -> TrainingJob:\n",
    "    task = ClassificationTask()\n",
    "    task.info[\"dataset\"] = dataset_name\n",
    "    task.info[\"name\"] = \"gg_task\"\n",
    "\n",
    "    job = TrainingJob(\n",
    "        tasks=[task],\n",
    "        project_name=project_name,\n",
    "        bucket=bucket\n",
    "    )\n",
    "    return job\n",
    "\n",
    "\n",
    "job = get_training_job()\n",
    "\n",
    "routine = SSHDockerJobRoutine(\n",
    "    job=job,\n",
    "    remote_host_address=None,\n",
    "    remote_host_user=None,\n",
    "    handler_factory=FakeContainerHandler.Factory(),\n",
    "    options=DockerOptions(propagate_environmental_variables=[\"AWS_ACCESS_KEY_ID\",\n",
    "                                                             \"AWS_SECRET_ACCESS_KEY\"])\n",
    ")\n",
    "# tag = 'v_' + datetime.datetime.now().time().strftime(\"%H_%M_%S\")\n",
    "# dockerhub_repo = 'grammar_repo'  # name of your repo\n",
    "# dockerhub_login = 'sergio0x0'  # your login\n",
    "\n",
    "# local_img = 'gg_img'\n",
    "\n",
    "\n",
    "# job.run()\n"
   ]
  },
  {
   "cell_type": "code",
   "execution_count": 17,
   "metadata": {},
   "outputs": [
    {
     "name": "stdout",
     "output_type": "stream",
     "text": [
      "2022-12-23 11:23:09.927051+00:00 INFO: Training starts. Info: {}\n",
      "2022-12-23 11:23:09.929891+00:00 INFO: Ensuring/loading bundle. Bundle before:\n",
      "{'syntax_stats': {'shape': (249907, 6), 'index_name': 'word_id'}, 'syntax_fixes': {'shape': (249907, 4), 'index_name': 'word_id'}, 'src': {'shape': (249907, 16), 'index_name': None}, 'pymorphy': {'shape': (249907, 16), 'index_name': 'word_id'}, 'slovnet': {'shape': (249907, 17), 'index_name': 'word_id'}, 'syntax_closure': {'shape': (636942, 4), 'index_name': 'entry_id'}, 'index': {'shape': (139448, 4), 'index_name': 'sample_id'}}\n",
      "2022-12-23 11:23:09.930965+00:00 INFO: Bundle loaded\n",
      "{'syntax_stats': {'shape': (249907, 6), 'index_name': 'word_id', 'columns': ['children', 'descendants', 'up_depth', 'down_depth', 'sentence_length', '...'], 'index': [0, 1, 2, 3, 4, '...']}, 'syntax_fixes': {'shape': (249907, 4), 'index_name': 'word_id', 'columns': ['syntax_parent_id', 'root', 'cycle_status', 'correct_root'], 'index': [0, 1, 2, 3, 4, '...']}, 'src': {'shape': (249907, 16), 'index_name': None, 'columns': ['word_id', 'sentence_id', 'word_index', 'paragraph_id', 'word_tail', '...'], 'index': [0, 1, 2, 3, 4, '...']}, 'pymorphy': {'shape': (249907, 16), 'index_name': 'word_id', 'columns': ['normal_form', 'alternatives', 'score', 'delta_score', 'POS', '...'], 'index': [0, 1, 2, 3, 4, '...']}, 'slovnet': {'shape': (249907, 17), 'index_name': 'word_id', 'columns': ['POS', 'Animacy', 'Case', 'Gender', 'Number', '...'], 'index': [0, 1, 2, 3, 4, '...']}, 'syntax_closure': {'shape': (636942, 4), 'index_name': 'entry_id', 'columns': ['word_id', 'syntax_parent_id', 'relation', 'distance'], 'index': [0, 1, 2, 3, 4, '...']}, 'index': {'shape': (139448, 4), 'index_name': 'sample_id', 'columns': ['word_id', 'sentence_id', 'label', 'split'], 'index': [0, 1, 2, 3, 4, '...']}}\n",
      "2022-12-23 11:23:09.932057+00:00 INFO: Index frame is set to index, shape is (139448, 4)\n",
      "2022-12-23 11:23:09.933552+00:00 INFO: Skipping late initialization\n",
      "2022-12-23 11:23:09.935322+00:00 INFO: Preprocessing bundle by batcher\n",
      "2022-12-23 11:23:09.970262+00:00 INFO: Splits: train 97613, test 41835, display 41835\n",
      "2022-12-23 11:23:09.971012+00:00 INFO: New training. Instantiating the system\n",
      "2022-12-23 11:23:09.979973+00:00 INFO: Fitting the transformers\n",
      "2022-12-23 11:23:10.031192+00:00 INFO: Fitting extractor pymorphy in CoreExtractor\n",
      "2022-12-23 11:23:10.615970+00:00 INFO: Success\n",
      "2022-12-23 11:23:10.617026+00:00 INFO: Fitting extractor slovnet_morph in CoreExtractor\n",
      "2022-12-23 11:23:11.193609+00:00 INFO: Success\n",
      "2022-12-23 11:23:11.194644+00:00 INFO: Fitting extractor slovnet_syntax in CoreExtractor\n",
      "2022-12-23 11:23:11.610141+00:00 INFO: Success\n",
      "2022-12-23 11:23:11.611207+00:00 INFO: Fitting extractor syntax_fixes in CoreExtractor\n",
      "2022-12-23 11:23:11.870390+00:00 INFO: Success\n",
      "2022-12-23 11:23:11.871784+00:00 INFO: Fitting extractor syntax_stats in CoreExtractor\n",
      "2022-12-23 11:23:12.262782+00:00 INFO: Success\n",
      "2022-12-23 11:23:26.790969+00:00 INFO: Instantiating model\n"
     ]
    }
   ],
   "source": [
    "b_path = Loc.bundles_path/'grammatical_gender/toy'\n",
    "data = DataBundle.load(b_path)\n",
    "\n",
    "task = ClassificationTask()\n",
    "task.create_task(data)\n",
    "temp_batch = task.task.generate_sample_batch(data, 0)\n",
    "net = task.task.model_handler.network\n"
   ]
  },
  {
   "cell_type": "code",
   "execution_count": 18,
   "metadata": {},
   "outputs": [
    {
     "data": {
      "text/plain": [
       "tensor([[0.5403, 0.4568, 0.4057, 0.5718],\n",
       "        [0.5393, 0.4565, 0.4065, 0.5714],\n",
       "        [0.5373, 0.4589, 0.4056, 0.5732],\n",
       "        ...,\n",
       "        [0.5404, 0.4580, 0.4066, 0.5711],\n",
       "        [0.5381, 0.4574, 0.4067, 0.5736],\n",
       "        [0.5384, 0.4577, 0.4057, 0.5705]], grad_fn=<SigmoidBackward0>)"
      ]
     },
     "execution_count": 18,
     "metadata": {},
     "output_type": "execute_result"
    }
   ],
   "source": [
    "net(temp_batch)\n"
   ]
  },
  {
   "cell_type": "code",
   "execution_count": 19,
   "metadata": {},
   "outputs": [
    {
     "data": {
      "text/plain": [
       "FeedForwardNetwork(\n",
       "  (networks): ModuleList(\n",
       "    (0): FeedForwardNetwork(\n",
       "      (networks): ModuleList(\n",
       "        (0): ExtractingNetwork()\n",
       "        (1): FullyConnectedNetwork(\n",
       "          (layers): ModuleList(\n",
       "            (0): Linear(in_features=508, out_features=30, bias=True)\n",
       "          )\n",
       "        )\n",
       "      )\n",
       "    )\n",
       "    (1): FullyConnectedNetwork(\n",
       "      (layers): ModuleList(\n",
       "        (0): Linear(in_features=30, out_features=30, bias=True)\n",
       "        (1): Linear(in_features=30, out_features=4, bias=True)\n",
       "      )\n",
       "    )\n",
       "  )\n",
       ")"
      ]
     },
     "execution_count": 19,
     "metadata": {},
     "output_type": "execute_result"
    }
   ],
   "source": [
    "net\n"
   ]
  },
  {
   "attachments": {},
   "cell_type": "markdown",
   "metadata": {},
   "source": [
    "#### build bundle.py error on Full lenta "
   ]
  },
  {
   "attachments": {},
   "cell_type": "markdown",
   "metadata": {},
   "source": [
    "cat nohup.out | tail -n 5\n",
    "\n",
    "2022-12-15 21:42:14.310782+00:00 INFO: Processed 48077323 words. 251/869\n",
    "2022-12-15 21:42:46.130967+00:00 INFO: Writing 2 frames, 35747735 words, to write 49992, to keep 35697743\n",
    "2022-12-15 21:42:47.162703+00:00 INFO: Processed 48294463 words. 252/869\n",
    "2022-12-15 21:43:15.324902+00:00 INFO: Writing 2 frames, 35847701 words, to write 49979, to keep 35797722\n",
    "2022-12-15 21:43:17.499093+00:00 INFO: Processed 48444421 words. 253/869"
   ]
  },
  {
   "attachments": {},
   "cell_type": "markdown",
   "metadata": {},
   "source": [
    "Собрал бандл из 200 файлов"
   ]
  },
  {
   "attachments": {},
   "cell_type": "markdown",
   "metadata": {},
   "source": [
    "### EDA"
   ]
  },
  {
   "cell_type": "code",
   "execution_count": 20,
   "metadata": {},
   "outputs": [],
   "source": [
    "db = DataBundle.load(Loc.data_cache_path/'bundles/grammatical_gender/toy')\n",
    "idb = IndexedDataBundle(db.index, db)\n",
    "s = db.src\n"
   ]
  },
  {
   "attachments": {},
   "cell_type": "markdown",
   "metadata": {},
   "source": [
    "#### Размеры датасетов\n",
    "\n",
    "(249907, 2499299, 10097148)"
   ]
  },
  {
   "cell_type": "code",
   "execution_count": 21,
   "metadata": {},
   "outputs": [],
   "source": [
    "# (DataBundle.load(Loc.data_cache_path/'bundles/grammatical_gender/toy').src.shape[0],\n",
    "# DataBundle.load(Loc.data_cache_path/'bundles/grammatical_gender/big').src.shape[0],\n",
    "# DataBundle.load(Loc.data_cache_path/'bundles/grammatical_gender/full').src.shape[0])\n"
   ]
  },
  {
   "cell_type": "code",
   "execution_count": 22,
   "metadata": {},
   "outputs": [
    {
     "data": {
      "text/plain": [
       "249907"
      ]
     },
     "execution_count": 22,
     "metadata": {},
     "output_type": "execute_result"
    }
   ],
   "source": [
    "s.shape[0]\n"
   ]
  },
  {
   "cell_type": "code",
   "execution_count": 23,
   "metadata": {},
   "outputs": [],
   "source": [
    "import pandas as pd\n",
    "# pd.value_counts()\n"
   ]
  },
  {
   "cell_type": "code",
   "execution_count": 24,
   "metadata": {},
   "outputs": [
    {
     "data": {
      "text/plain": [
       "-1    0.442000\n",
       " 0    0.227096\n",
       " 1    0.143353\n",
       " 3    0.094583\n",
       " 2    0.092967\n",
       "Name: label, dtype: float64"
      ]
     },
     "execution_count": 24,
     "metadata": {},
     "output_type": "execute_result"
    }
   ],
   "source": [
    "s.label.value_counts(normalize=True)  # toy\n"
   ]
  },
  {
   "cell_type": "code",
   "execution_count": 25,
   "metadata": {},
   "outputs": [
    {
     "data": {
      "text/plain": [
       "25          которых\n",
       "26        оказались\n",
       "38          финских\n",
       "46        проживает\n",
       "56         сообщает\n",
       "60      задержанные\n",
       "61        оказались\n",
       "62       хоккейными\n",
       "65          которые\n",
       "66        распивали\n",
       "67      алкогольные\n",
       "70     общественных\n",
       "78       доставляли\n",
       "81      подвыпившие\n",
       "86        карманные\n",
       "94        мобильных\n",
       "107      британских\n",
       "108     Королевских\n",
       "109             ВВС\n",
       "111        передает\n",
       "135           какие\n",
       "145          данным\n",
       "153         оцепили\n",
       "154      британские\n",
       "177       иракскими\n",
       "197           Винчи\n",
       "200      сообщается\n",
       "226      оскорбляет\n",
       "227        верующих\n",
       "231       извращает\n",
       "Name: word, dtype: object"
      ]
     },
     "execution_count": 25,
     "metadata": {},
     "output_type": "execute_result"
    }
   ],
   "source": [
    "s[s.label == 3].word.head(30)\n"
   ]
  },
  {
   "attachments": {},
   "cell_type": "markdown",
   "metadata": {},
   "source": [
    "## Результаты обучения"
   ]
  },
  {
   "cell_type": "code",
   "execution_count": 26,
   "metadata": {},
   "outputs": [
    {
     "name": "stdout",
     "output_type": "stream",
     "text": [
      "/home/serhio/grammar_ru/temp/training_results/gg_task_lenta_big_10K_4ep 11:43:02.110772.tar.gz\n",
      "output/\n",
      "output/batcher.pkl\n",
      "output/history.pkl\n",
      "output/info.pkl\n",
      "output/metrics.pkl\n",
      "output/model.pkl\n",
      "output/result_df.parquet\n",
      "output/test_splits.pkl\n",
      "output/train_split.pkl\n",
      "output/training_task.pkl\n"
     ]
    },
    {
     "data": {
      "text/html": [
       "<div>\n",
       "<style scoped>\n",
       "    .dataframe tbody tr th:only-of-type {\n",
       "        vertical-align: middle;\n",
       "    }\n",
       "\n",
       "    .dataframe tbody tr th {\n",
       "        vertical-align: top;\n",
       "    }\n",
       "\n",
       "    .dataframe thead th {\n",
       "        text-align: right;\n",
       "    }\n",
       "</style>\n",
       "<table border=\"1\" class=\"dataframe\">\n",
       "  <thead>\n",
       "    <tr style=\"text-align: right;\">\n",
       "      <th></th>\n",
       "      <th>metric</th>\n",
       "      <th>ordinal</th>\n",
       "      <th>value</th>\n",
       "      <th>timestamp</th>\n",
       "      <th>job_id</th>\n",
       "    </tr>\n",
       "  </thead>\n",
       "  <tbody>\n",
       "    <tr>\n",
       "      <th>0</th>\n",
       "      <td>accuracy_test</td>\n",
       "      <td>0</td>\n",
       "      <td>0.495043</td>\n",
       "      <td>2022-12-16 11:54:16.340953</td>\n",
       "      <td>gg_task_lenta_big_10K_4ep 11:43:02.110772</td>\n",
       "    </tr>\n",
       "    <tr>\n",
       "      <th>1</th>\n",
       "      <td>accuracy_display</td>\n",
       "      <td>0</td>\n",
       "      <td>0.493511</td>\n",
       "      <td>2022-12-16 11:54:16.340953</td>\n",
       "      <td>gg_task_lenta_big_10K_4ep 11:43:02.110772</td>\n",
       "    </tr>\n",
       "    <tr>\n",
       "      <th>2</th>\n",
       "      <td>loss</td>\n",
       "      <td>0</td>\n",
       "      <td>0.166821</td>\n",
       "      <td>2022-12-16 11:54:16.340953</td>\n",
       "      <td>gg_task_lenta_big_10K_4ep 11:43:02.110772</td>\n",
       "    </tr>\n",
       "    <tr>\n",
       "      <th>3</th>\n",
       "      <td>iteration</td>\n",
       "      <td>0</td>\n",
       "      <td>0.000000</td>\n",
       "      <td>2022-12-16 11:54:16.340953</td>\n",
       "      <td>gg_task_lenta_big_10K_4ep 11:43:02.110772</td>\n",
       "    </tr>\n",
       "    <tr>\n",
       "      <th>4</th>\n",
       "      <td>accuracy_test</td>\n",
       "      <td>1</td>\n",
       "      <td>0.504205</td>\n",
       "      <td>2022-12-16 12:03:00.036073</td>\n",
       "      <td>gg_task_lenta_big_10K_4ep 11:43:02.110772</td>\n",
       "    </tr>\n",
       "    <tr>\n",
       "      <th>5</th>\n",
       "      <td>accuracy_display</td>\n",
       "      <td>1</td>\n",
       "      <td>0.502487</td>\n",
       "      <td>2022-12-16 12:03:00.036073</td>\n",
       "      <td>gg_task_lenta_big_10K_4ep 11:43:02.110772</td>\n",
       "    </tr>\n",
       "    <tr>\n",
       "      <th>6</th>\n",
       "      <td>loss</td>\n",
       "      <td>1</td>\n",
       "      <td>0.157089</td>\n",
       "      <td>2022-12-16 12:03:00.036073</td>\n",
       "      <td>gg_task_lenta_big_10K_4ep 11:43:02.110772</td>\n",
       "    </tr>\n",
       "    <tr>\n",
       "      <th>7</th>\n",
       "      <td>iteration</td>\n",
       "      <td>1</td>\n",
       "      <td>1.000000</td>\n",
       "      <td>2022-12-16 12:03:00.036073</td>\n",
       "      <td>gg_task_lenta_big_10K_4ep 11:43:02.110772</td>\n",
       "    </tr>\n",
       "    <tr>\n",
       "      <th>8</th>\n",
       "      <td>accuracy_test</td>\n",
       "      <td>2</td>\n",
       "      <td>0.508279</td>\n",
       "      <td>2022-12-16 12:11:45.625511</td>\n",
       "      <td>gg_task_lenta_big_10K_4ep 11:43:02.110772</td>\n",
       "    </tr>\n",
       "    <tr>\n",
       "      <th>9</th>\n",
       "      <td>accuracy_display</td>\n",
       "      <td>2</td>\n",
       "      <td>0.507149</td>\n",
       "      <td>2022-12-16 12:11:45.625511</td>\n",
       "      <td>gg_task_lenta_big_10K_4ep 11:43:02.110772</td>\n",
       "    </tr>\n",
       "    <tr>\n",
       "      <th>10</th>\n",
       "      <td>loss</td>\n",
       "      <td>2</td>\n",
       "      <td>0.154645</td>\n",
       "      <td>2022-12-16 12:11:45.625511</td>\n",
       "      <td>gg_task_lenta_big_10K_4ep 11:43:02.110772</td>\n",
       "    </tr>\n",
       "    <tr>\n",
       "      <th>11</th>\n",
       "      <td>iteration</td>\n",
       "      <td>2</td>\n",
       "      <td>2.000000</td>\n",
       "      <td>2022-12-16 12:11:45.625511</td>\n",
       "      <td>gg_task_lenta_big_10K_4ep 11:43:02.110772</td>\n",
       "    </tr>\n",
       "    <tr>\n",
       "      <th>12</th>\n",
       "      <td>accuracy_test</td>\n",
       "      <td>3</td>\n",
       "      <td>0.512254</td>\n",
       "      <td>2022-12-16 12:20:33.729985</td>\n",
       "      <td>gg_task_lenta_big_10K_4ep 11:43:02.110772</td>\n",
       "    </tr>\n",
       "    <tr>\n",
       "      <th>13</th>\n",
       "      <td>accuracy_display</td>\n",
       "      <td>3</td>\n",
       "      <td>0.511105</td>\n",
       "      <td>2022-12-16 12:20:33.729985</td>\n",
       "      <td>gg_task_lenta_big_10K_4ep 11:43:02.110772</td>\n",
       "    </tr>\n",
       "    <tr>\n",
       "      <th>14</th>\n",
       "      <td>loss</td>\n",
       "      <td>3</td>\n",
       "      <td>0.153004</td>\n",
       "      <td>2022-12-16 12:20:33.729985</td>\n",
       "      <td>gg_task_lenta_big_10K_4ep 11:43:02.110772</td>\n",
       "    </tr>\n",
       "    <tr>\n",
       "      <th>15</th>\n",
       "      <td>iteration</td>\n",
       "      <td>3</td>\n",
       "      <td>3.000000</td>\n",
       "      <td>2022-12-16 12:20:33.729985</td>\n",
       "      <td>gg_task_lenta_big_10K_4ep 11:43:02.110772</td>\n",
       "    </tr>\n",
       "  </tbody>\n",
       "</table>\n",
       "</div>"
      ],
      "text/plain": [
       "              metric  ordinal     value                  timestamp  \\\n",
       "0      accuracy_test        0  0.495043 2022-12-16 11:54:16.340953   \n",
       "1   accuracy_display        0  0.493511 2022-12-16 11:54:16.340953   \n",
       "2               loss        0  0.166821 2022-12-16 11:54:16.340953   \n",
       "3          iteration        0  0.000000 2022-12-16 11:54:16.340953   \n",
       "4      accuracy_test        1  0.504205 2022-12-16 12:03:00.036073   \n",
       "5   accuracy_display        1  0.502487 2022-12-16 12:03:00.036073   \n",
       "6               loss        1  0.157089 2022-12-16 12:03:00.036073   \n",
       "7          iteration        1  1.000000 2022-12-16 12:03:00.036073   \n",
       "8      accuracy_test        2  0.508279 2022-12-16 12:11:45.625511   \n",
       "9   accuracy_display        2  0.507149 2022-12-16 12:11:45.625511   \n",
       "10              loss        2  0.154645 2022-12-16 12:11:45.625511   \n",
       "11         iteration        2  2.000000 2022-12-16 12:11:45.625511   \n",
       "12     accuracy_test        3  0.512254 2022-12-16 12:20:33.729985   \n",
       "13  accuracy_display        3  0.511105 2022-12-16 12:20:33.729985   \n",
       "14              loss        3  0.153004 2022-12-16 12:20:33.729985   \n",
       "15         iteration        3  3.000000 2022-12-16 12:20:33.729985   \n",
       "\n",
       "                                       job_id  \n",
       "0   gg_task_lenta_big_10K_4ep 11:43:02.110772  \n",
       "1   gg_task_lenta_big_10K_4ep 11:43:02.110772  \n",
       "2   gg_task_lenta_big_10K_4ep 11:43:02.110772  \n",
       "3   gg_task_lenta_big_10K_4ep 11:43:02.110772  \n",
       "4   gg_task_lenta_big_10K_4ep 11:43:02.110772  \n",
       "5   gg_task_lenta_big_10K_4ep 11:43:02.110772  \n",
       "6   gg_task_lenta_big_10K_4ep 11:43:02.110772  \n",
       "7   gg_task_lenta_big_10K_4ep 11:43:02.110772  \n",
       "8   gg_task_lenta_big_10K_4ep 11:43:02.110772  \n",
       "9   gg_task_lenta_big_10K_4ep 11:43:02.110772  \n",
       "10  gg_task_lenta_big_10K_4ep 11:43:02.110772  \n",
       "11  gg_task_lenta_big_10K_4ep 11:43:02.110772  \n",
       "12  gg_task_lenta_big_10K_4ep 11:43:02.110772  \n",
       "13  gg_task_lenta_big_10K_4ep 11:43:02.110772  \n",
       "14  gg_task_lenta_big_10K_4ep 11:43:02.110772  \n",
       "15  gg_task_lenta_big_10K_4ep 11:43:02.110772  "
      ]
     },
     "execution_count": 26,
     "metadata": {},
     "output_type": "execute_result"
    }
   ],
   "source": [
    "tasks = get_tasks_list('datasphere/gg_project/job_info/job_gg_project_11:43:02.110706.txt',\n",
    "                       bucket)\n",
    "\n",
    "loader = S3TrainingLogsLoader(bucket, project_name)\n",
    "metrics = loader.load_metrics(tasks)\n",
    "metrics\n"
   ]
  },
  {
   "cell_type": "code",
   "execution_count": 27,
   "metadata": {},
   "outputs": [
    {
     "data": {
      "text/html": [
       "<div>\n",
       "<style scoped>\n",
       "    .dataframe tbody tr th:only-of-type {\n",
       "        vertical-align: middle;\n",
       "    }\n",
       "\n",
       "    .dataframe tbody tr th {\n",
       "        vertical-align: top;\n",
       "    }\n",
       "\n",
       "    .dataframe thead th {\n",
       "        text-align: right;\n",
       "    }\n",
       "</style>\n",
       "<table border=\"1\" class=\"dataframe\">\n",
       "  <thead>\n",
       "    <tr style=\"text-align: right;\">\n",
       "      <th>job_id</th>\n",
       "      <th>gg_task_lenta_big_10K_4ep 11:43:02.110772</th>\n",
       "    </tr>\n",
       "  </thead>\n",
       "  <tbody>\n",
       "    <tr>\n",
       "      <th>0</th>\n",
       "      <td>0.493511</td>\n",
       "    </tr>\n",
       "    <tr>\n",
       "      <th>1</th>\n",
       "      <td>0.502487</td>\n",
       "    </tr>\n",
       "    <tr>\n",
       "      <th>2</th>\n",
       "      <td>0.507149</td>\n",
       "    </tr>\n",
       "    <tr>\n",
       "      <th>3</th>\n",
       "      <td>0.511105</td>\n",
       "    </tr>\n",
       "  </tbody>\n",
       "</table>\n",
       "</div>"
      ],
      "text/plain": [
       "job_id  gg_task_lenta_big_10K_4ep 11:43:02.110772\n",
       "0                                        0.493511\n",
       "1                                        0.502487\n",
       "2                                        0.507149\n",
       "3                                        0.511105"
      ]
     },
     "execution_count": 27,
     "metadata": {},
     "output_type": "execute_result"
    }
   ],
   "source": [
    "TrainingLogsViewer.get_metric_by_job(metrics, 'accuracy_display')\n"
   ]
  },
  {
   "cell_type": "code",
   "execution_count": 28,
   "metadata": {},
   "outputs": [
    {
     "data": {
      "text/html": [
       "<div>\n",
       "<style scoped>\n",
       "    .dataframe tbody tr th:only-of-type {\n",
       "        vertical-align: middle;\n",
       "    }\n",
       "\n",
       "    .dataframe tbody tr th {\n",
       "        vertical-align: top;\n",
       "    }\n",
       "\n",
       "    .dataframe thead th {\n",
       "        text-align: right;\n",
       "    }\n",
       "</style>\n",
       "<table border=\"1\" class=\"dataframe\">\n",
       "  <thead>\n",
       "    <tr style=\"text-align: right;\">\n",
       "      <th>job_id</th>\n",
       "      <th>gg_task_lenta_big_10K_4ep 11:43:02.110772</th>\n",
       "    </tr>\n",
       "  </thead>\n",
       "  <tbody>\n",
       "    <tr>\n",
       "      <th>0</th>\n",
       "      <td>0.495043</td>\n",
       "    </tr>\n",
       "    <tr>\n",
       "      <th>1</th>\n",
       "      <td>0.504205</td>\n",
       "    </tr>\n",
       "    <tr>\n",
       "      <th>2</th>\n",
       "      <td>0.508279</td>\n",
       "    </tr>\n",
       "    <tr>\n",
       "      <th>3</th>\n",
       "      <td>0.512254</td>\n",
       "    </tr>\n",
       "  </tbody>\n",
       "</table>\n",
       "</div>"
      ],
      "text/plain": [
       "job_id  gg_task_lenta_big_10K_4ep 11:43:02.110772\n",
       "0                                        0.495043\n",
       "1                                        0.504205\n",
       "2                                        0.508279\n",
       "3                                        0.512254"
      ]
     },
     "execution_count": 28,
     "metadata": {},
     "output_type": "execute_result"
    }
   ],
   "source": [
    "TrainingLogsViewer.get_metric_by_job(metrics, 'accuracy_test')\n"
   ]
  },
  {
   "cell_type": "code",
   "execution_count": 29,
   "metadata": {},
   "outputs": [
    {
     "data": {
      "text/plain": [
       "[<matplotlib.lines.Line2D at 0x7ff25203b160>]"
      ]
     },
     "execution_count": 29,
     "metadata": {},
     "output_type": "execute_result"
    },
    {
     "data": {
      "image/png": "[encoded data removed]",
      "text/plain": [
       "<Figure size 640x480 with 1 Axes>"
      ]
     },
     "metadata": {},
     "output_type": "display_data"
    }
   ],
   "source": [
    "plt.plot(TrainingLogsViewer.get_metric_by_job(metrics, 'accuracy_display'))\n"
   ]
  },
  {
   "cell_type": "code",
   "execution_count": 30,
   "metadata": {},
   "outputs": [
    {
     "data": {
      "text/plain": [
       "[<matplotlib.lines.Line2D at 0x7ff2533a8100>]"
      ]
     },
     "execution_count": 30,
     "metadata": {},
     "output_type": "execute_result"
    },
    {
     "data": {
      "image/png": "[encoded data removed]",
      "text/plain": [
       "<Figure size 640x480 with 1 Axes>"
      ]
     },
     "metadata": {},
     "output_type": "display_data"
    }
   ],
   "source": [
    "plt.plot(TrainingLogsViewer.get_metric_by_job(metrics, 'accuracy_test'))\n"
   ]
  },
  {
   "attachments": {},
   "cell_type": "markdown",
   "metadata": {},
   "source": [
    "# LENTA big 100 epochs bs=20K 14 hours"
   ]
  },
  {
   "cell_type": "code",
   "execution_count": 31,
   "metadata": {},
   "outputs": [
    {
     "name": "stdout",
     "output_type": "stream",
     "text": [
      "/home/serhio/grammar_ru/temp/training_results/gg_task_lenta_big_20K_100ep 14:33:31.516791.tar.gz\n",
      "output/\n",
      "output/batcher.pkl\n",
      "output/history.pkl\n",
      "output/info.pkl\n",
      "output/metrics.pkl\n",
      "output/model.pkl\n",
      "output/result_df.parquet\n",
      "output/test_splits.pkl\n",
      "output/train_split.pkl\n",
      "output/training_task.pkl\n"
     ]
    },
    {
     "data": {
      "text/html": [
       "<div>\n",
       "<style scoped>\n",
       "    .dataframe tbody tr th:only-of-type {\n",
       "        vertical-align: middle;\n",
       "    }\n",
       "\n",
       "    .dataframe tbody tr th {\n",
       "        vertical-align: top;\n",
       "    }\n",
       "\n",
       "    .dataframe thead th {\n",
       "        text-align: right;\n",
       "    }\n",
       "</style>\n",
       "<table border=\"1\" class=\"dataframe\">\n",
       "  <thead>\n",
       "    <tr style=\"text-align: right;\">\n",
       "      <th></th>\n",
       "      <th>metric</th>\n",
       "      <th>ordinal</th>\n",
       "      <th>value</th>\n",
       "      <th>timestamp</th>\n",
       "      <th>job_id</th>\n",
       "    </tr>\n",
       "  </thead>\n",
       "  <tbody>\n",
       "    <tr>\n",
       "      <th>0</th>\n",
       "      <td>accuracy_test</td>\n",
       "      <td>0</td>\n",
       "      <td>0.495166</td>\n",
       "      <td>2022-12-16 14:42:00.033465</td>\n",
       "      <td>gg_task_lenta_big_20K_100ep 14:33:31.516791</td>\n",
       "    </tr>\n",
       "    <tr>\n",
       "      <th>1</th>\n",
       "      <td>accuracy_display</td>\n",
       "      <td>0</td>\n",
       "      <td>0.493470</td>\n",
       "      <td>2022-12-16 14:42:00.033465</td>\n",
       "      <td>gg_task_lenta_big_20K_100ep 14:33:31.516791</td>\n",
       "    </tr>\n",
       "    <tr>\n",
       "      <th>2</th>\n",
       "      <td>loss</td>\n",
       "      <td>0</td>\n",
       "      <td>0.167273</td>\n",
       "      <td>2022-12-16 14:42:00.033465</td>\n",
       "      <td>gg_task_lenta_big_20K_100ep 14:33:31.516791</td>\n",
       "    </tr>\n",
       "    <tr>\n",
       "      <th>3</th>\n",
       "      <td>iteration</td>\n",
       "      <td>0</td>\n",
       "      <td>0.000000</td>\n",
       "      <td>2022-12-16 14:42:00.033465</td>\n",
       "      <td>gg_task_lenta_big_20K_100ep 14:33:31.516791</td>\n",
       "    </tr>\n",
       "    <tr>\n",
       "      <th>4</th>\n",
       "      <td>accuracy_test</td>\n",
       "      <td>1</td>\n",
       "      <td>0.504062</td>\n",
       "      <td>2022-12-16 14:49:51.747824</td>\n",
       "      <td>gg_task_lenta_big_20K_100ep 14:33:31.516791</td>\n",
       "    </tr>\n",
       "    <tr>\n",
       "      <th>...</th>\n",
       "      <td>...</td>\n",
       "      <td>...</td>\n",
       "      <td>...</td>\n",
       "      <td>...</td>\n",
       "      <td>...</td>\n",
       "    </tr>\n",
       "    <tr>\n",
       "      <th>395</th>\n",
       "      <td>iteration</td>\n",
       "      <td>98</td>\n",
       "      <td>98.000000</td>\n",
       "      <td>2022-12-17 03:44:36.163694</td>\n",
       "      <td>gg_task_lenta_big_20K_100ep 14:33:31.516791</td>\n",
       "    </tr>\n",
       "    <tr>\n",
       "      <th>396</th>\n",
       "      <td>accuracy_test</td>\n",
       "      <td>99</td>\n",
       "      <td>0.562257</td>\n",
       "      <td>2022-12-17 03:52:39.796546</td>\n",
       "      <td>gg_task_lenta_big_20K_100ep 14:33:31.516791</td>\n",
       "    </tr>\n",
       "    <tr>\n",
       "      <th>397</th>\n",
       "      <td>accuracy_display</td>\n",
       "      <td>99</td>\n",
       "      <td>0.564427</td>\n",
       "      <td>2022-12-17 03:52:39.796546</td>\n",
       "      <td>gg_task_lenta_big_20K_100ep 14:33:31.516791</td>\n",
       "    </tr>\n",
       "    <tr>\n",
       "      <th>398</th>\n",
       "      <td>loss</td>\n",
       "      <td>99</td>\n",
       "      <td>0.136952</td>\n",
       "      <td>2022-12-17 03:52:39.796546</td>\n",
       "      <td>gg_task_lenta_big_20K_100ep 14:33:31.516791</td>\n",
       "    </tr>\n",
       "    <tr>\n",
       "      <th>399</th>\n",
       "      <td>iteration</td>\n",
       "      <td>99</td>\n",
       "      <td>99.000000</td>\n",
       "      <td>2022-12-17 03:52:39.796546</td>\n",
       "      <td>gg_task_lenta_big_20K_100ep 14:33:31.516791</td>\n",
       "    </tr>\n",
       "  </tbody>\n",
       "</table>\n",
       "<p>400 rows × 5 columns</p>\n",
       "</div>"
      ],
      "text/plain": [
       "               metric  ordinal      value                  timestamp  \\\n",
       "0       accuracy_test        0   0.495166 2022-12-16 14:42:00.033465   \n",
       "1    accuracy_display        0   0.493470 2022-12-16 14:42:00.033465   \n",
       "2                loss        0   0.167273 2022-12-16 14:42:00.033465   \n",
       "3           iteration        0   0.000000 2022-12-16 14:42:00.033465   \n",
       "4       accuracy_test        1   0.504062 2022-12-16 14:49:51.747824   \n",
       "..                ...      ...        ...                        ...   \n",
       "395         iteration       98  98.000000 2022-12-17 03:44:36.163694   \n",
       "396     accuracy_test       99   0.562257 2022-12-17 03:52:39.796546   \n",
       "397  accuracy_display       99   0.564427 2022-12-17 03:52:39.796546   \n",
       "398              loss       99   0.136952 2022-12-17 03:52:39.796546   \n",
       "399         iteration       99  99.000000 2022-12-17 03:52:39.796546   \n",
       "\n",
       "                                          job_id  \n",
       "0    gg_task_lenta_big_20K_100ep 14:33:31.516791  \n",
       "1    gg_task_lenta_big_20K_100ep 14:33:31.516791  \n",
       "2    gg_task_lenta_big_20K_100ep 14:33:31.516791  \n",
       "3    gg_task_lenta_big_20K_100ep 14:33:31.516791  \n",
       "4    gg_task_lenta_big_20K_100ep 14:33:31.516791  \n",
       "..                                           ...  \n",
       "395  gg_task_lenta_big_20K_100ep 14:33:31.516791  \n",
       "396  gg_task_lenta_big_20K_100ep 14:33:31.516791  \n",
       "397  gg_task_lenta_big_20K_100ep 14:33:31.516791  \n",
       "398  gg_task_lenta_big_20K_100ep 14:33:31.516791  \n",
       "399  gg_task_lenta_big_20K_100ep 14:33:31.516791  \n",
       "\n",
       "[400 rows x 5 columns]"
      ]
     },
     "execution_count": 31,
     "metadata": {},
     "output_type": "execute_result"
    }
   ],
   "source": [
    "tasks = get_tasks_list('datasphere/gg_project/job_info/job_gg_project_14:33:31.516733.txt',\n",
    "                       bucket)\n",
    "\n",
    "loader = S3TrainingLogsLoader(bucket, project_name)\n",
    "metrics = loader.load_metrics(tasks)\n",
    "metrics\n"
   ]
  },
  {
   "cell_type": "code",
   "execution_count": 32,
   "metadata": {},
   "outputs": [
    {
     "data": {
      "text/html": [
       "<div>\n",
       "<style scoped>\n",
       "    .dataframe tbody tr th:only-of-type {\n",
       "        vertical-align: middle;\n",
       "    }\n",
       "\n",
       "    .dataframe tbody tr th {\n",
       "        vertical-align: top;\n",
       "    }\n",
       "\n",
       "    .dataframe thead th {\n",
       "        text-align: right;\n",
       "    }\n",
       "</style>\n",
       "<table border=\"1\" class=\"dataframe\">\n",
       "  <thead>\n",
       "    <tr style=\"text-align: right;\">\n",
       "      <th></th>\n",
       "      <th>metric</th>\n",
       "      <th>ordinal</th>\n",
       "      <th>value</th>\n",
       "      <th>timestamp</th>\n",
       "      <th>job_id</th>\n",
       "    </tr>\n",
       "  </thead>\n",
       "  <tbody>\n",
       "    <tr>\n",
       "      <th>396</th>\n",
       "      <td>accuracy_test</td>\n",
       "      <td>99</td>\n",
       "      <td>0.562257</td>\n",
       "      <td>2022-12-17 03:52:39.796546</td>\n",
       "      <td>gg_task_lenta_big_20K_100ep 14:33:31.516791</td>\n",
       "    </tr>\n",
       "    <tr>\n",
       "      <th>397</th>\n",
       "      <td>accuracy_display</td>\n",
       "      <td>99</td>\n",
       "      <td>0.564427</td>\n",
       "      <td>2022-12-17 03:52:39.796546</td>\n",
       "      <td>gg_task_lenta_big_20K_100ep 14:33:31.516791</td>\n",
       "    </tr>\n",
       "    <tr>\n",
       "      <th>398</th>\n",
       "      <td>loss</td>\n",
       "      <td>99</td>\n",
       "      <td>0.136952</td>\n",
       "      <td>2022-12-17 03:52:39.796546</td>\n",
       "      <td>gg_task_lenta_big_20K_100ep 14:33:31.516791</td>\n",
       "    </tr>\n",
       "    <tr>\n",
       "      <th>399</th>\n",
       "      <td>iteration</td>\n",
       "      <td>99</td>\n",
       "      <td>99.000000</td>\n",
       "      <td>2022-12-17 03:52:39.796546</td>\n",
       "      <td>gg_task_lenta_big_20K_100ep 14:33:31.516791</td>\n",
       "    </tr>\n",
       "  </tbody>\n",
       "</table>\n",
       "</div>"
      ],
      "text/plain": [
       "               metric  ordinal      value                  timestamp  \\\n",
       "396     accuracy_test       99   0.562257 2022-12-17 03:52:39.796546   \n",
       "397  accuracy_display       99   0.564427 2022-12-17 03:52:39.796546   \n",
       "398              loss       99   0.136952 2022-12-17 03:52:39.796546   \n",
       "399         iteration       99  99.000000 2022-12-17 03:52:39.796546   \n",
       "\n",
       "                                          job_id  \n",
       "396  gg_task_lenta_big_20K_100ep 14:33:31.516791  \n",
       "397  gg_task_lenta_big_20K_100ep 14:33:31.516791  \n",
       "398  gg_task_lenta_big_20K_100ep 14:33:31.516791  \n",
       "399  gg_task_lenta_big_20K_100ep 14:33:31.516791  "
      ]
     },
     "execution_count": 32,
     "metadata": {},
     "output_type": "execute_result"
    }
   ],
   "source": [
    "metrics.tail(4)\n"
   ]
  },
  {
   "cell_type": "code",
   "execution_count": 33,
   "metadata": {},
   "outputs": [
    {
     "data": {
      "text/plain": [
       "<matplotlib.legend.Legend at 0x7ff2536e80a0>"
      ]
     },
     "execution_count": 33,
     "metadata": {},
     "output_type": "execute_result"
    },
    {
     "data": {
      "image/png": "[encoded data removed]",
      "text/plain": [
       "<Figure size 640x480 with 1 Axes>"
      ]
     },
     "metadata": {},
     "output_type": "display_data"
    }
   ],
   "source": [
    "plt.plot(TrainingLogsViewer.get_metric_by_job(\n",
    "    metrics, 'accuracy_display'), label='accuracy_display')\n",
    "plt.plot(TrainingLogsViewer.get_metric_by_job(\n",
    "    metrics, 'accuracy_test'), label='accuracy_test')\n",
    "plt.title('LENTA big 100 epochs bs=20K 14 hours')\n",
    "plt.legend()\n"
   ]
  },
  {
   "attachments": {},
   "cell_type": "markdown",
   "metadata": {},
   "source": [
    "# lenta big 20K 200ep"
   ]
  },
  {
   "cell_type": "code",
   "execution_count": 34,
   "metadata": {},
   "outputs": [
    {
     "name": "stdout",
     "output_type": "stream",
     "text": [
      "/home/serhio/grammar_ru/temp/training_results/task_gg_lenta_big_20K_200ep 20:44:19.636646.tar.gz\n",
      "output/\n",
      "output/batcher.pkl\n",
      "output/history.pkl\n",
      "output/info.pkl\n",
      "output/metrics.pkl\n",
      "output/model.pkl\n",
      "output/result_df.parquet\n",
      "output/test_splits.pkl\n",
      "output/train_split.pkl\n",
      "output/training_task.pkl\n"
     ]
    },
    {
     "data": {
      "text/html": [
       "<div>\n",
       "<style scoped>\n",
       "    .dataframe tbody tr th:only-of-type {\n",
       "        vertical-align: middle;\n",
       "    }\n",
       "\n",
       "    .dataframe tbody tr th {\n",
       "        vertical-align: top;\n",
       "    }\n",
       "\n",
       "    .dataframe thead th {\n",
       "        text-align: right;\n",
       "    }\n",
       "</style>\n",
       "<table border=\"1\" class=\"dataframe\">\n",
       "  <thead>\n",
       "    <tr style=\"text-align: right;\">\n",
       "      <th></th>\n",
       "      <th>metric</th>\n",
       "      <th>ordinal</th>\n",
       "      <th>value</th>\n",
       "      <th>timestamp</th>\n",
       "      <th>job_id</th>\n",
       "    </tr>\n",
       "  </thead>\n",
       "  <tbody>\n",
       "    <tr>\n",
       "      <th>0</th>\n",
       "      <td>accuracy_test</td>\n",
       "      <td>0</td>\n",
       "      <td>0.494714</td>\n",
       "      <td>2022-12-17 20:53:14.548988</td>\n",
       "      <td>task_gg_lenta_big_20K_200ep 20:44:19.636646</td>\n",
       "    </tr>\n",
       "    <tr>\n",
       "      <th>1</th>\n",
       "      <td>accuracy_display</td>\n",
       "      <td>0</td>\n",
       "      <td>0.493064</td>\n",
       "      <td>2022-12-17 20:53:14.548988</td>\n",
       "      <td>task_gg_lenta_big_20K_200ep 20:44:19.636646</td>\n",
       "    </tr>\n",
       "    <tr>\n",
       "      <th>2</th>\n",
       "      <td>loss</td>\n",
       "      <td>0</td>\n",
       "      <td>0.166835</td>\n",
       "      <td>2022-12-17 20:53:14.548988</td>\n",
       "      <td>task_gg_lenta_big_20K_200ep 20:44:19.636646</td>\n",
       "    </tr>\n",
       "    <tr>\n",
       "      <th>3</th>\n",
       "      <td>iteration</td>\n",
       "      <td>0</td>\n",
       "      <td>0.000000</td>\n",
       "      <td>2022-12-17 20:53:14.548988</td>\n",
       "      <td>task_gg_lenta_big_20K_200ep 20:44:19.636646</td>\n",
       "    </tr>\n",
       "    <tr>\n",
       "      <th>4</th>\n",
       "      <td>accuracy_test</td>\n",
       "      <td>1</td>\n",
       "      <td>0.504258</td>\n",
       "      <td>2022-12-17 21:01:29.849502</td>\n",
       "      <td>task_gg_lenta_big_20K_200ep 20:44:19.636646</td>\n",
       "    </tr>\n",
       "    <tr>\n",
       "      <th>...</th>\n",
       "      <td>...</td>\n",
       "      <td>...</td>\n",
       "      <td>...</td>\n",
       "      <td>...</td>\n",
       "      <td>...</td>\n",
       "    </tr>\n",
       "    <tr>\n",
       "      <th>795</th>\n",
       "      <td>iteration</td>\n",
       "      <td>198</td>\n",
       "      <td>198.000000</td>\n",
       "      <td>2022-12-19 00:50:37.486178</td>\n",
       "      <td>task_gg_lenta_big_20K_200ep 20:44:19.636646</td>\n",
       "    </tr>\n",
       "    <tr>\n",
       "      <th>796</th>\n",
       "      <td>accuracy_test</td>\n",
       "      <td>199</td>\n",
       "      <td>0.563909</td>\n",
       "      <td>2022-12-19 00:59:11.049299</td>\n",
       "      <td>task_gg_lenta_big_20K_200ep 20:44:19.636646</td>\n",
       "    </tr>\n",
       "    <tr>\n",
       "      <th>797</th>\n",
       "      <td>accuracy_display</td>\n",
       "      <td>199</td>\n",
       "      <td>0.566207</td>\n",
       "      <td>2022-12-19 00:59:11.049299</td>\n",
       "      <td>task_gg_lenta_big_20K_200ep 20:44:19.636646</td>\n",
       "    </tr>\n",
       "    <tr>\n",
       "      <th>798</th>\n",
       "      <td>loss</td>\n",
       "      <td>199</td>\n",
       "      <td>0.135980</td>\n",
       "      <td>2022-12-19 00:59:11.049299</td>\n",
       "      <td>task_gg_lenta_big_20K_200ep 20:44:19.636646</td>\n",
       "    </tr>\n",
       "    <tr>\n",
       "      <th>799</th>\n",
       "      <td>iteration</td>\n",
       "      <td>199</td>\n",
       "      <td>199.000000</td>\n",
       "      <td>2022-12-19 00:59:11.049299</td>\n",
       "      <td>task_gg_lenta_big_20K_200ep 20:44:19.636646</td>\n",
       "    </tr>\n",
       "  </tbody>\n",
       "</table>\n",
       "<p>800 rows × 5 columns</p>\n",
       "</div>"
      ],
      "text/plain": [
       "               metric  ordinal       value                  timestamp  \\\n",
       "0       accuracy_test        0    0.494714 2022-12-17 20:53:14.548988   \n",
       "1    accuracy_display        0    0.493064 2022-12-17 20:53:14.548988   \n",
       "2                loss        0    0.166835 2022-12-17 20:53:14.548988   \n",
       "3           iteration        0    0.000000 2022-12-17 20:53:14.548988   \n",
       "4       accuracy_test        1    0.504258 2022-12-17 21:01:29.849502   \n",
       "..                ...      ...         ...                        ...   \n",
       "795         iteration      198  198.000000 2022-12-19 00:50:37.486178   \n",
       "796     accuracy_test      199    0.563909 2022-12-19 00:59:11.049299   \n",
       "797  accuracy_display      199    0.566207 2022-12-19 00:59:11.049299   \n",
       "798              loss      199    0.135980 2022-12-19 00:59:11.049299   \n",
       "799         iteration      199  199.000000 2022-12-19 00:59:11.049299   \n",
       "\n",
       "                                          job_id  \n",
       "0    task_gg_lenta_big_20K_200ep 20:44:19.636646  \n",
       "1    task_gg_lenta_big_20K_200ep 20:44:19.636646  \n",
       "2    task_gg_lenta_big_20K_200ep 20:44:19.636646  \n",
       "3    task_gg_lenta_big_20K_200ep 20:44:19.636646  \n",
       "4    task_gg_lenta_big_20K_200ep 20:44:19.636646  \n",
       "..                                           ...  \n",
       "795  task_gg_lenta_big_20K_200ep 20:44:19.636646  \n",
       "796  task_gg_lenta_big_20K_200ep 20:44:19.636646  \n",
       "797  task_gg_lenta_big_20K_200ep 20:44:19.636646  \n",
       "798  task_gg_lenta_big_20K_200ep 20:44:19.636646  \n",
       "799  task_gg_lenta_big_20K_200ep 20:44:19.636646  \n",
       "\n",
       "[800 rows x 5 columns]"
      ]
     },
     "execution_count": 34,
     "metadata": {},
     "output_type": "execute_result"
    }
   ],
   "source": [
    "tasks = get_tasks_list('datasphere/gg_project/job_info/job_gg_project_20:44:19.636574.txt',\n",
    "                       bucket)\n",
    "lenta_big_20k_200ep_task = tasks[0]\n",
    "\n",
    "loader = S3TrainingLogsLoader(bucket, project_name)\n",
    "metrics = loader.load_metrics(tasks)\n",
    "metrics\n"
   ]
  },
  {
   "cell_type": "code",
   "execution_count": 35,
   "metadata": {},
   "outputs": [
    {
     "data": {
      "text/plain": [
       "<matplotlib.legend.Legend at 0x7ff2536bf8e0>"
      ]
     },
     "execution_count": 35,
     "metadata": {},
     "output_type": "execute_result"
    },
    {
     "data": {
      "image/png": "[encoded data removed]",
      "text/plain": [
       "<Figure size 640x480 with 1 Axes>"
      ]
     },
     "metadata": {},
     "output_type": "display_data"
    }
   ],
   "source": [
    "plt.plot(TrainingLogsViewer.get_metric_by_job(\n",
    "    metrics, 'accuracy_display'), label='accuracy_display')\n",
    "plt.plot(TrainingLogsViewer.get_metric_by_job(\n",
    "    metrics, 'accuracy_test'), label='accuracy_test')\n",
    "plt.title('lenta big 20K 200ep 28 hours')\n",
    "plt.legend()\n"
   ]
  },
  {
   "cell_type": "markdown",
   "metadata": {},
   "source": [
    "# lenta full 20k 50ep"
   ]
  },
  {
   "cell_type": "code",
   "execution_count": 36,
   "metadata": {},
   "outputs": [
    {
     "name": "stdout",
     "output_type": "stream",
     "text": [
      "/home/serhio/grammar_ru/temp/training_results/task_gg_lenta_full_20K_50ep 20:37:06.663242.tar.gz\n",
      "output/\n",
      "output/batcher.pkl\n",
      "output/history.pkl\n",
      "output/info.pkl\n",
      "output/metrics.pkl\n",
      "output/model.pkl\n",
      "output/result_df.parquet\n",
      "output/test_splits.pkl\n",
      "output/train_split.pkl\n",
      "output/training_task.pkl\n"
     ]
    },
    {
     "data": {
      "text/plain": [
       "<matplotlib.legend.Legend at 0x7ff2536fee60>"
      ]
     },
     "execution_count": 36,
     "metadata": {},
     "output_type": "execute_result"
    },
    {
     "data": {
      "image/png": "[encoded data removed]",
      "text/plain": [
       "<Figure size 640x480 with 1 Axes>"
      ]
     },
     "metadata": {},
     "output_type": "display_data"
    }
   ],
   "source": [
    "tasks = get_tasks_list('datasphere/gg_project/job_info/job_gg_project_20:37:06.663167.txt',\n",
    "                       bucket)\n",
    "\n",
    "loader = S3TrainingLogsLoader(bucket, project_name)\n",
    "metrics = loader.load_metrics(tasks)\n",
    "# metrics\n",
    "plt.plot(TrainingLogsViewer.get_metric_by_job(\n",
    "    metrics, 'accuracy_display'), label='accuracy_display')\n",
    "plt.plot(TrainingLogsViewer.get_metric_by_job(\n",
    "    metrics, 'accuracy_test'), label='accuracy_test')\n",
    "plt.title('lenta full 20K 50ep 2.5d')\n",
    "plt.legend()\n"
   ]
  },
  {
   "attachments": {},
   "cell_type": "markdown",
   "metadata": {},
   "source": [
    "# lenta big 10 ep SM\n",
    "\n",
    "Добавил SoftMax"
   ]
  },
  {
   "cell_type": "code",
   "execution_count": 37,
   "metadata": {},
   "outputs": [
    {
     "name": "stdout",
     "output_type": "stream",
     "text": [
      "/home/serhio/grammar_ru/temp/training_results/task_gg_lenta_big_10ep_30k_sm 11:58:24.909219.tar.gz\n",
      "output/\n",
      "output/batcher.pkl\n",
      "output/history.pkl\n",
      "output/info.pkl\n",
      "output/metrics.pkl\n",
      "output/model.pkl\n",
      "output/result_df.parquet\n",
      "output/test_splits.pkl\n",
      "output/train_split.pkl\n",
      "output/training_task.pkl\n"
     ]
    },
    {
     "data": {
      "text/plain": [
       "<matplotlib.legend.Legend at 0x7ff282d98790>"
      ]
     },
     "execution_count": 37,
     "metadata": {},
     "output_type": "execute_result"
    },
    {
     "data": {
      "image/png": "[encoded data removed]",
      "text/plain": [
       "<Figure size 640x480 with 1 Axes>"
      ]
     },
     "metadata": {},
     "output_type": "display_data"
    }
   ],
   "source": [
    "tasks = get_tasks_list('datasphere/gg_project/job_info/job_gg_project_11:58:24.909145.txt',\n",
    "                       bucket)\n",
    "\n",
    "loader = S3TrainingLogsLoader(bucket, project_name)\n",
    "metrics = loader.load_metrics(tasks)\n",
    "# metrics\n",
    "plt.plot(TrainingLogsViewer.get_metric_by_job(\n",
    "    metrics, 'accuracy_display'), label='accuracy_display')\n",
    "plt.plot(TrainingLogsViewer.get_metric_by_job(\n",
    "    metrics, 'accuracy_test'), label='accuracy_test')\n",
    "plt.title('lenta_big_10ep_30k_sm')\n",
    "plt.legend()\n"
   ]
  },
  {
   "attachments": {},
   "cell_type": "markdown",
   "metadata": {},
   "source": [
    "# lenta big 100 ep SM"
   ]
  },
  {
   "cell_type": "code",
   "execution_count": 60,
   "metadata": {},
   "outputs": [
    {
     "name": "stdout",
     "output_type": "stream",
     "text": [
      "/home/serhio/grammar_ru/temp/training_results/task_gg_lenta_big_10ep_30k_sm 12:06:07.323508.tar.gz\n",
      "output/\n",
      "output/batcher.pkl\n",
      "output/history.pkl\n",
      "output/info.pkl\n",
      "output/metrics.pkl\n",
      "output/model.pkl\n",
      "output/result_df.parquet\n",
      "output/test_splits.pkl\n",
      "output/train_split.pkl\n",
      "output/training_task.pkl\n"
     ]
    },
    {
     "data": {
      "text/plain": [
       "<matplotlib.legend.Legend at 0x7ff251ce7fa0>"
      ]
     },
     "execution_count": 60,
     "metadata": {},
     "output_type": "execute_result"
    },
    {
     "data": {
      "image/png": "[encoded data removed]",
      "text/plain": [
       "<Figure size 640x480 with 1 Axes>"
      ]
     },
     "metadata": {},
     "output_type": "display_data"
    }
   ],
   "source": [
    "tasks = get_tasks_list('datasphere/gg_project/job_info/job_gg_project_12:06:07.323437.txt',\n",
    "                       bucket)\n",
    "\n",
    "loader = S3TrainingLogsLoader(bucket, project_name)\n",
    "metrics = loader.load_metrics(tasks)\n",
    "# metrics\n",
    "plt.plot(TrainingLogsViewer.get_metric_by_job(\n",
    "    metrics, 'accuracy_display'), label='accuracy_display')\n",
    "plt.plot(TrainingLogsViewer.get_metric_by_job(\n",
    "    metrics, 'accuracy_test'), label='accuracy_test')\n",
    "plt.title('lenta_big_10ep_30k_sm')\n",
    "plt.legend()\n"
   ]
  },
  {
   "attachments": {},
   "cell_type": "markdown",
   "metadata": {},
   "source": [
    "# lenta_big_10ep_30k_sm_extra_layer"
   ]
  },
  {
   "cell_type": "code",
   "execution_count": 59,
   "metadata": {},
   "outputs": [
    {
     "name": "stdout",
     "output_type": "stream",
     "text": [
      "/home/serhio/grammar_ru/temp/training_results/task_gg_lenta_big_10ep_30k_sm_extra_layer_30 19:08:34.203881.tar.gz\n",
      "output/\n",
      "output/batcher.pkl\n",
      "output/history.pkl\n",
      "output/info.pkl\n",
      "output/metrics.pkl\n",
      "output/model.pkl\n",
      "output/result_df.parquet\n",
      "output/test_splits.pkl\n",
      "output/train_split.pkl\n",
      "output/training_task.pkl\n"
     ]
    },
    {
     "data": {
      "text/plain": [
       "<matplotlib.legend.Legend at 0x7ff251c19e10>"
      ]
     },
     "execution_count": 59,
     "metadata": {},
     "output_type": "execute_result"
    },
    {
     "data": {
      "image/png": "[encoded data removed]",
      "text/plain": [
       "<Figure size 640x480 with 1 Axes>"
      ]
     },
     "metadata": {},
     "output_type": "display_data"
    }
   ],
   "source": [
    "tasks = get_tasks_list('datasphere/gg_project/job_info/job_gg_project_19:08:34.203808.txt',\n",
    "                       bucket)\n",
    "\n",
    "loader = S3TrainingLogsLoader(bucket, project_name)\n",
    "metrics = loader.load_metrics(tasks)\n",
    "# metrics\n",
    "plt.plot(TrainingLogsViewer.get_metric_by_job(\n",
    "    metrics, 'accuracy_display'), label='accuracy_display')\n",
    "plt.plot(TrainingLogsViewer.get_metric_by_job(\n",
    "    metrics, 'accuracy_test'), label='accuracy_test')\n",
    "plt.title('lenta_big_10ep_30k_sm')\n",
    "plt.legend()\n"
   ]
  },
  {
   "attachments": {},
   "cell_type": "markdown",
   "metadata": {},
   "source": [
    "# Подбор bs"
   ]
  },
  {
   "cell_type": "code",
   "execution_count": 39,
   "metadata": {},
   "outputs": [],
   "source": [
    "# tasks = get_tasks_list('datasphere/gg_project/job_info/job_gg_project_13:14:46.600490.txt',\n",
    "#                        bucket)\n",
    "\n",
    "# loader = S3TrainingLogsLoader(bucket, project_name)\n",
    "# metrics = loader.load_metrics(tasks)\n",
    "# display(metrics)\n"
   ]
  },
  {
   "cell_type": "markdown",
   "metadata": {},
   "source": [
    "# Результаты обучения lenta big 20K 200ep"
   ]
  },
  {
   "cell_type": "code",
   "execution_count": 40,
   "metadata": {},
   "outputs": [
    {
     "data": {
      "text/plain": [
       "PosixPath('/home/serhio/grammar_ru')"
      ]
     },
     "execution_count": 40,
     "metadata": {},
     "output_type": "execute_result"
    }
   ],
   "source": [
    "Loc.root_path\n"
   ]
  },
  {
   "cell_type": "markdown",
   "metadata": {},
   "source": [
    "### result_df"
   ]
  },
  {
   "cell_type": "code",
   "execution_count": 42,
   "metadata": {},
   "outputs": [
    {
     "data": {
      "text/html": [
       "<div>\n",
       "<style scoped>\n",
       "    .dataframe tbody tr th:only-of-type {\n",
       "        vertical-align: middle;\n",
       "    }\n",
       "\n",
       "    .dataframe tbody tr th {\n",
       "        vertical-align: top;\n",
       "    }\n",
       "\n",
       "    .dataframe thead th {\n",
       "        text-align: right;\n",
       "    }\n",
       "</style>\n",
       "<table border=\"1\" class=\"dataframe\">\n",
       "  <thead>\n",
       "    <tr style=\"text-align: right;\">\n",
       "      <th></th>\n",
       "      <th>word_id</th>\n",
       "      <th>sentence_id</th>\n",
       "      <th>label</th>\n",
       "      <th>split</th>\n",
       "      <th>true_label_0</th>\n",
       "      <th>predicted_label_0</th>\n",
       "      <th>true_label_1</th>\n",
       "      <th>predicted_label_1</th>\n",
       "      <th>true_label_3</th>\n",
       "      <th>predicted_label_3</th>\n",
       "      <th>true_label_2</th>\n",
       "      <th>predicted_label_2</th>\n",
       "      <th>stage</th>\n",
       "    </tr>\n",
       "    <tr>\n",
       "      <th>sample_id</th>\n",
       "      <th></th>\n",
       "      <th></th>\n",
       "      <th></th>\n",
       "      <th></th>\n",
       "      <th></th>\n",
       "      <th></th>\n",
       "      <th></th>\n",
       "      <th></th>\n",
       "      <th></th>\n",
       "      <th></th>\n",
       "      <th></th>\n",
       "      <th></th>\n",
       "      <th></th>\n",
       "    </tr>\n",
       "  </thead>\n",
       "  <tbody>\n",
       "    <tr>\n",
       "      <th>1</th>\n",
       "      <td>1</td>\n",
       "      <td>0</td>\n",
       "      <td>0</td>\n",
       "      <td>test</td>\n",
       "      <td>1.0</td>\n",
       "      <td>0.235964</td>\n",
       "      <td>0.0</td>\n",
       "      <td>0.103293</td>\n",
       "      <td>0.0</td>\n",
       "      <td>0.020730</td>\n",
       "      <td>0.0</td>\n",
       "      <td>0.697159</td>\n",
       "      <td>test</td>\n",
       "    </tr>\n",
       "    <tr>\n",
       "      <th>2</th>\n",
       "      <td>2</td>\n",
       "      <td>0</td>\n",
       "      <td>2</td>\n",
       "      <td>test</td>\n",
       "      <td>0.0</td>\n",
       "      <td>0.275742</td>\n",
       "      <td>0.0</td>\n",
       "      <td>0.207088</td>\n",
       "      <td>0.0</td>\n",
       "      <td>0.414074</td>\n",
       "      <td>1.0</td>\n",
       "      <td>0.106180</td>\n",
       "      <td>test</td>\n",
       "    </tr>\n",
       "    <tr>\n",
       "      <th>3</th>\n",
       "      <td>4</td>\n",
       "      <td>0</td>\n",
       "      <td>0</td>\n",
       "      <td>test</td>\n",
       "      <td>1.0</td>\n",
       "      <td>0.689275</td>\n",
       "      <td>0.0</td>\n",
       "      <td>0.055883</td>\n",
       "      <td>0.0</td>\n",
       "      <td>0.073416</td>\n",
       "      <td>0.0</td>\n",
       "      <td>0.037342</td>\n",
       "      <td>test</td>\n",
       "    </tr>\n",
       "    <tr>\n",
       "      <th>4</th>\n",
       "      <td>5</td>\n",
       "      <td>0</td>\n",
       "      <td>0</td>\n",
       "      <td>test</td>\n",
       "      <td>1.0</td>\n",
       "      <td>0.365668</td>\n",
       "      <td>0.0</td>\n",
       "      <td>0.202043</td>\n",
       "      <td>0.0</td>\n",
       "      <td>0.027792</td>\n",
       "      <td>0.0</td>\n",
       "      <td>0.453792</td>\n",
       "      <td>test</td>\n",
       "    </tr>\n",
       "    <tr>\n",
       "      <th>6</th>\n",
       "      <td>7</td>\n",
       "      <td>0</td>\n",
       "      <td>0</td>\n",
       "      <td>test</td>\n",
       "      <td>1.0</td>\n",
       "      <td>0.332759</td>\n",
       "      <td>0.0</td>\n",
       "      <td>0.310349</td>\n",
       "      <td>0.0</td>\n",
       "      <td>0.036474</td>\n",
       "      <td>0.0</td>\n",
       "      <td>0.286194</td>\n",
       "      <td>test</td>\n",
       "    </tr>\n",
       "    <tr>\n",
       "      <th>...</th>\n",
       "      <td>...</td>\n",
       "      <td>...</td>\n",
       "      <td>...</td>\n",
       "      <td>...</td>\n",
       "      <td>...</td>\n",
       "      <td>...</td>\n",
       "      <td>...</td>\n",
       "      <td>...</td>\n",
       "      <td>...</td>\n",
       "      <td>...</td>\n",
       "      <td>...</td>\n",
       "      <td>...</td>\n",
       "      <td>...</td>\n",
       "    </tr>\n",
       "    <tr>\n",
       "      <th>1377780</th>\n",
       "      <td>2499413</td>\n",
       "      <td>2332125</td>\n",
       "      <td>1</td>\n",
       "      <td>display</td>\n",
       "      <td>0.0</td>\n",
       "      <td>0.017303</td>\n",
       "      <td>1.0</td>\n",
       "      <td>0.931538</td>\n",
       "      <td>0.0</td>\n",
       "      <td>0.138549</td>\n",
       "      <td>0.0</td>\n",
       "      <td>0.007848</td>\n",
       "      <td>display</td>\n",
       "    </tr>\n",
       "    <tr>\n",
       "      <th>1377783</th>\n",
       "      <td>2499417</td>\n",
       "      <td>2332125</td>\n",
       "      <td>0</td>\n",
       "      <td>display</td>\n",
       "      <td>1.0</td>\n",
       "      <td>0.415809</td>\n",
       "      <td>0.0</td>\n",
       "      <td>0.218996</td>\n",
       "      <td>0.0</td>\n",
       "      <td>0.044620</td>\n",
       "      <td>0.0</td>\n",
       "      <td>0.306053</td>\n",
       "      <td>display</td>\n",
       "    </tr>\n",
       "    <tr>\n",
       "      <th>1377786</th>\n",
       "      <td>2499421</td>\n",
       "      <td>2332125</td>\n",
       "      <td>1</td>\n",
       "      <td>display</td>\n",
       "      <td>0.0</td>\n",
       "      <td>0.173255</td>\n",
       "      <td>1.0</td>\n",
       "      <td>0.703678</td>\n",
       "      <td>0.0</td>\n",
       "      <td>0.004112</td>\n",
       "      <td>0.0</td>\n",
       "      <td>0.145358</td>\n",
       "      <td>display</td>\n",
       "    </tr>\n",
       "    <tr>\n",
       "      <th>1377789</th>\n",
       "      <td>2499424</td>\n",
       "      <td>2332125</td>\n",
       "      <td>3</td>\n",
       "      <td>display</td>\n",
       "      <td>0.0</td>\n",
       "      <td>0.370794</td>\n",
       "      <td>0.0</td>\n",
       "      <td>0.215917</td>\n",
       "      <td>1.0</td>\n",
       "      <td>0.297121</td>\n",
       "      <td>0.0</td>\n",
       "      <td>0.136030</td>\n",
       "      <td>display</td>\n",
       "    </tr>\n",
       "    <tr>\n",
       "      <th>1377790</th>\n",
       "      <td>2499429</td>\n",
       "      <td>2332125</td>\n",
       "      <td>0</td>\n",
       "      <td>display</td>\n",
       "      <td>1.0</td>\n",
       "      <td>0.482280</td>\n",
       "      <td>0.0</td>\n",
       "      <td>0.265254</td>\n",
       "      <td>0.0</td>\n",
       "      <td>0.071784</td>\n",
       "      <td>0.0</td>\n",
       "      <td>0.135315</td>\n",
       "      <td>display</td>\n",
       "    </tr>\n",
       "  </tbody>\n",
       "</table>\n",
       "<p>826676 rows × 13 columns</p>\n",
       "</div>"
      ],
      "text/plain": [
       "           word_id  sentence_id  label    split  true_label_0  \\\n",
       "sample_id                                                       \n",
       "1                1            0      0     test           1.0   \n",
       "2                2            0      2     test           0.0   \n",
       "3                4            0      0     test           1.0   \n",
       "4                5            0      0     test           1.0   \n",
       "6                7            0      0     test           1.0   \n",
       "...            ...          ...    ...      ...           ...   \n",
       "1377780    2499413      2332125      1  display           0.0   \n",
       "1377783    2499417      2332125      0  display           1.0   \n",
       "1377786    2499421      2332125      1  display           0.0   \n",
       "1377789    2499424      2332125      3  display           0.0   \n",
       "1377790    2499429      2332125      0  display           1.0   \n",
       "\n",
       "           predicted_label_0  true_label_1  predicted_label_1  true_label_3  \\\n",
       "sample_id                                                                     \n",
       "1                   0.235964           0.0           0.103293           0.0   \n",
       "2                   0.275742           0.0           0.207088           0.0   \n",
       "3                   0.689275           0.0           0.055883           0.0   \n",
       "4                   0.365668           0.0           0.202043           0.0   \n",
       "6                   0.332759           0.0           0.310349           0.0   \n",
       "...                      ...           ...                ...           ...   \n",
       "1377780             0.017303           1.0           0.931538           0.0   \n",
       "1377783             0.415809           0.0           0.218996           0.0   \n",
       "1377786             0.173255           1.0           0.703678           0.0   \n",
       "1377789             0.370794           0.0           0.215917           1.0   \n",
       "1377790             0.482280           0.0           0.265254           0.0   \n",
       "\n",
       "           predicted_label_3  true_label_2  predicted_label_2    stage  \n",
       "sample_id                                                               \n",
       "1                   0.020730           0.0           0.697159     test  \n",
       "2                   0.414074           1.0           0.106180     test  \n",
       "3                   0.073416           0.0           0.037342     test  \n",
       "4                   0.027792           0.0           0.453792     test  \n",
       "6                   0.036474           0.0           0.286194     test  \n",
       "...                      ...           ...                ...      ...  \n",
       "1377780             0.138549           0.0           0.007848  display  \n",
       "1377783             0.044620           0.0           0.306053  display  \n",
       "1377786             0.004112           0.0           0.145358  display  \n",
       "1377789             0.297121           0.0           0.136030  display  \n",
       "1377790             0.071784           0.0           0.135315  display  \n",
       "\n",
       "[826676 rows x 13 columns]"
      ]
     },
     "execution_count": 42,
     "metadata": {},
     "output_type": "execute_result"
    }
   ],
   "source": [
    "unzipped_folder = (Loc.root_path /\n",
    "                   'temp'/'training_results' /\n",
    "                   f'{lenta_big_20k_200ep_task}.unzipped')\n",
    "result_df = pd.read_parquet(unzipped_folder/'output'/'result_df.parquet')\n",
    "result_df\n"
   ]
  },
  {
   "cell_type": "code",
   "execution_count": 43,
   "metadata": {},
   "outputs": [],
   "source": [
    "predicted_probs = result_df[[\n",
    "    'predicted_label_0', 'predicted_label_1', 'predicted_label_2', 'predicted_label_3']]\n",
    "y_pred = pd.Series(np.argmax(predicted_probs.values,\n",
    "                   axis=1), index=result_df.index)\n"
   ]
  },
  {
   "cell_type": "code",
   "execution_count": 44,
   "metadata": {},
   "outputs": [],
   "source": [
    "true_probs = result_df[[\n",
    "    'true_label_0', 'true_label_1', 'true_label_2', 'true_label_3']]\n",
    "y_true = pd.Series(np.argmax(true_probs.values, axis=1), index=result_df.index)\n"
   ]
  },
  {
   "cell_type": "markdown",
   "metadata": {},
   "source": [
    "### Confusion matrix"
   ]
  },
  {
   "cell_type": "code",
   "execution_count": 45,
   "metadata": {},
   "outputs": [],
   "source": [
    "from sklearn.metrics import confusion_matrix\n"
   ]
  },
  {
   "attachments": {},
   "cell_type": "markdown",
   "metadata": {},
   "source": [
    "By definition a confusion matrix C is such that `C[i][j]` is equal to the number of observations known to be in group `i` and predicted to be in group `j`."
   ]
  },
  {
   "cell_type": "code",
   "execution_count": 65,
   "metadata": {},
   "outputs": [],
   "source": [
    "genders = ['masc', 'femn', 'neut', 'nan']\n"
   ]
  },
  {
   "cell_type": "code",
   "execution_count": 66,
   "metadata": {},
   "outputs": [
    {
     "data": {
      "text/html": [
       "<div>\n",
       "<style scoped>\n",
       "    .dataframe tbody tr th:only-of-type {\n",
       "        vertical-align: middle;\n",
       "    }\n",
       "\n",
       "    .dataframe tbody tr th {\n",
       "        vertical-align: top;\n",
       "    }\n",
       "\n",
       "    .dataframe thead th {\n",
       "        text-align: right;\n",
       "    }\n",
       "</style>\n",
       "<table border=\"1\" class=\"dataframe\">\n",
       "  <thead>\n",
       "    <tr style=\"text-align: right;\">\n",
       "      <th></th>\n",
       "      <th>pred_as_masc</th>\n",
       "      <th>pred_as_femn</th>\n",
       "      <th>pred_as_neut</th>\n",
       "      <th>pred_as_nan</th>\n",
       "    </tr>\n",
       "  </thead>\n",
       "  <tbody>\n",
       "    <tr>\n",
       "      <th>actual_is_masc</th>\n",
       "      <td>0.766237</td>\n",
       "      <td>0.048390</td>\n",
       "      <td>0.071210</td>\n",
       "      <td>0.114162</td>\n",
       "    </tr>\n",
       "    <tr>\n",
       "      <th>actual_is_femn</th>\n",
       "      <td>0.535840</td>\n",
       "      <td>0.293901</td>\n",
       "      <td>0.071301</td>\n",
       "      <td>0.098958</td>\n",
       "    </tr>\n",
       "    <tr>\n",
       "      <th>actual_is_neut</th>\n",
       "      <td>0.494566</td>\n",
       "      <td>0.060977</td>\n",
       "      <td>0.334643</td>\n",
       "      <td>0.109814</td>\n",
       "    </tr>\n",
       "    <tr>\n",
       "      <th>actual_is_nan</th>\n",
       "      <td>0.226419</td>\n",
       "      <td>0.025061</td>\n",
       "      <td>0.028406</td>\n",
       "      <td>0.720114</td>\n",
       "    </tr>\n",
       "  </tbody>\n",
       "</table>\n",
       "</div>"
      ],
      "text/plain": [
       "                pred_as_masc  pred_as_femn  pred_as_neut  pred_as_nan\n",
       "actual_is_masc      0.766237      0.048390      0.071210     0.114162\n",
       "actual_is_femn      0.535840      0.293901      0.071301     0.098958\n",
       "actual_is_neut      0.494566      0.060977      0.334643     0.109814\n",
       "actual_is_nan       0.226419      0.025061      0.028406     0.720114"
      ]
     },
     "execution_count": 66,
     "metadata": {},
     "output_type": "execute_result"
    }
   ],
   "source": [
    "pd.DataFrame(confusion_matrix(y_true, y_pred, normalize='true'),\n",
    "             columns=[f'pred_as_{g}' for g in genders],\n",
    "             index=[f'actual_is_{g}' for g in genders])\n"
   ]
  },
  {
   "attachments": {},
   "cell_type": "markdown",
   "metadata": {},
   "source": [
    "### Выводы:"
   ]
  },
  {
   "attachments": {},
   "cell_type": "markdown",
   "metadata": {},
   "source": [
    "* Модель склоняется к тому, чтобы все называть мужским родом.\n",
    "* Неприятное поведение: для половины слов женского рода, ответ модели - мужской род. Для среднего рода так же."
   ]
  },
  {
   "cell_type": "code",
   "execution_count": 48,
   "metadata": {},
   "outputs": [
    {
     "data": {
      "text/html": [
       "<div>\n",
       "<style scoped>\n",
       "    .dataframe tbody tr th:only-of-type {\n",
       "        vertical-align: middle;\n",
       "    }\n",
       "\n",
       "    .dataframe tbody tr th {\n",
       "        vertical-align: top;\n",
       "    }\n",
       "\n",
       "    .dataframe thead th {\n",
       "        text-align: right;\n",
       "    }\n",
       "</style>\n",
       "<table border=\"1\" class=\"dataframe\">\n",
       "  <thead>\n",
       "    <tr style=\"text-align: right;\">\n",
       "      <th></th>\n",
       "      <th>word_id</th>\n",
       "      <th>sentence_id</th>\n",
       "      <th>label</th>\n",
       "      <th>split</th>\n",
       "      <th>true_label_0</th>\n",
       "      <th>predicted_label_0</th>\n",
       "      <th>true_label_1</th>\n",
       "      <th>predicted_label_1</th>\n",
       "      <th>true_label_3</th>\n",
       "      <th>predicted_label_3</th>\n",
       "      <th>true_label_2</th>\n",
       "      <th>predicted_label_2</th>\n",
       "      <th>stage</th>\n",
       "    </tr>\n",
       "    <tr>\n",
       "      <th>sample_id</th>\n",
       "      <th></th>\n",
       "      <th></th>\n",
       "      <th></th>\n",
       "      <th></th>\n",
       "      <th></th>\n",
       "      <th></th>\n",
       "      <th></th>\n",
       "      <th></th>\n",
       "      <th></th>\n",
       "      <th></th>\n",
       "      <th></th>\n",
       "      <th></th>\n",
       "      <th></th>\n",
       "    </tr>\n",
       "  </thead>\n",
       "  <tbody>\n",
       "    <tr>\n",
       "      <th>1</th>\n",
       "      <td>1</td>\n",
       "      <td>0</td>\n",
       "      <td>0</td>\n",
       "      <td>test</td>\n",
       "      <td>1.0</td>\n",
       "      <td>0.235964</td>\n",
       "      <td>0.0</td>\n",
       "      <td>0.103293</td>\n",
       "      <td>0.0</td>\n",
       "      <td>0.020730</td>\n",
       "      <td>0.0</td>\n",
       "      <td>0.697159</td>\n",
       "      <td>test</td>\n",
       "    </tr>\n",
       "    <tr>\n",
       "      <th>2</th>\n",
       "      <td>2</td>\n",
       "      <td>0</td>\n",
       "      <td>2</td>\n",
       "      <td>test</td>\n",
       "      <td>0.0</td>\n",
       "      <td>0.275742</td>\n",
       "      <td>0.0</td>\n",
       "      <td>0.207088</td>\n",
       "      <td>0.0</td>\n",
       "      <td>0.414074</td>\n",
       "      <td>1.0</td>\n",
       "      <td>0.106180</td>\n",
       "      <td>test</td>\n",
       "    </tr>\n",
       "    <tr>\n",
       "      <th>3</th>\n",
       "      <td>4</td>\n",
       "      <td>0</td>\n",
       "      <td>0</td>\n",
       "      <td>test</td>\n",
       "      <td>1.0</td>\n",
       "      <td>0.689275</td>\n",
       "      <td>0.0</td>\n",
       "      <td>0.055883</td>\n",
       "      <td>0.0</td>\n",
       "      <td>0.073416</td>\n",
       "      <td>0.0</td>\n",
       "      <td>0.037342</td>\n",
       "      <td>test</td>\n",
       "    </tr>\n",
       "    <tr>\n",
       "      <th>4</th>\n",
       "      <td>5</td>\n",
       "      <td>0</td>\n",
       "      <td>0</td>\n",
       "      <td>test</td>\n",
       "      <td>1.0</td>\n",
       "      <td>0.365668</td>\n",
       "      <td>0.0</td>\n",
       "      <td>0.202043</td>\n",
       "      <td>0.0</td>\n",
       "      <td>0.027792</td>\n",
       "      <td>0.0</td>\n",
       "      <td>0.453792</td>\n",
       "      <td>test</td>\n",
       "    </tr>\n",
       "    <tr>\n",
       "      <th>6</th>\n",
       "      <td>7</td>\n",
       "      <td>0</td>\n",
       "      <td>0</td>\n",
       "      <td>test</td>\n",
       "      <td>1.0</td>\n",
       "      <td>0.332759</td>\n",
       "      <td>0.0</td>\n",
       "      <td>0.310349</td>\n",
       "      <td>0.0</td>\n",
       "      <td>0.036474</td>\n",
       "      <td>0.0</td>\n",
       "      <td>0.286194</td>\n",
       "      <td>test</td>\n",
       "    </tr>\n",
       "    <tr>\n",
       "      <th>...</th>\n",
       "      <td>...</td>\n",
       "      <td>...</td>\n",
       "      <td>...</td>\n",
       "      <td>...</td>\n",
       "      <td>...</td>\n",
       "      <td>...</td>\n",
       "      <td>...</td>\n",
       "      <td>...</td>\n",
       "      <td>...</td>\n",
       "      <td>...</td>\n",
       "      <td>...</td>\n",
       "      <td>...</td>\n",
       "      <td>...</td>\n",
       "    </tr>\n",
       "    <tr>\n",
       "      <th>1377780</th>\n",
       "      <td>2499413</td>\n",
       "      <td>2332125</td>\n",
       "      <td>1</td>\n",
       "      <td>display</td>\n",
       "      <td>0.0</td>\n",
       "      <td>0.017303</td>\n",
       "      <td>1.0</td>\n",
       "      <td>0.931538</td>\n",
       "      <td>0.0</td>\n",
       "      <td>0.138549</td>\n",
       "      <td>0.0</td>\n",
       "      <td>0.007848</td>\n",
       "      <td>display</td>\n",
       "    </tr>\n",
       "    <tr>\n",
       "      <th>1377783</th>\n",
       "      <td>2499417</td>\n",
       "      <td>2332125</td>\n",
       "      <td>0</td>\n",
       "      <td>display</td>\n",
       "      <td>1.0</td>\n",
       "      <td>0.415809</td>\n",
       "      <td>0.0</td>\n",
       "      <td>0.218996</td>\n",
       "      <td>0.0</td>\n",
       "      <td>0.044620</td>\n",
       "      <td>0.0</td>\n",
       "      <td>0.306053</td>\n",
       "      <td>display</td>\n",
       "    </tr>\n",
       "    <tr>\n",
       "      <th>1377786</th>\n",
       "      <td>2499421</td>\n",
       "      <td>2332125</td>\n",
       "      <td>1</td>\n",
       "      <td>display</td>\n",
       "      <td>0.0</td>\n",
       "      <td>0.173255</td>\n",
       "      <td>1.0</td>\n",
       "      <td>0.703678</td>\n",
       "      <td>0.0</td>\n",
       "      <td>0.004112</td>\n",
       "      <td>0.0</td>\n",
       "      <td>0.145358</td>\n",
       "      <td>display</td>\n",
       "    </tr>\n",
       "    <tr>\n",
       "      <th>1377789</th>\n",
       "      <td>2499424</td>\n",
       "      <td>2332125</td>\n",
       "      <td>3</td>\n",
       "      <td>display</td>\n",
       "      <td>0.0</td>\n",
       "      <td>0.370794</td>\n",
       "      <td>0.0</td>\n",
       "      <td>0.215917</td>\n",
       "      <td>1.0</td>\n",
       "      <td>0.297121</td>\n",
       "      <td>0.0</td>\n",
       "      <td>0.136030</td>\n",
       "      <td>display</td>\n",
       "    </tr>\n",
       "    <tr>\n",
       "      <th>1377790</th>\n",
       "      <td>2499429</td>\n",
       "      <td>2332125</td>\n",
       "      <td>0</td>\n",
       "      <td>display</td>\n",
       "      <td>1.0</td>\n",
       "      <td>0.482280</td>\n",
       "      <td>0.0</td>\n",
       "      <td>0.265254</td>\n",
       "      <td>0.0</td>\n",
       "      <td>0.071784</td>\n",
       "      <td>0.0</td>\n",
       "      <td>0.135315</td>\n",
       "      <td>display</td>\n",
       "    </tr>\n",
       "  </tbody>\n",
       "</table>\n",
       "<p>826676 rows × 13 columns</p>\n",
       "</div>"
      ],
      "text/plain": [
       "           word_id  sentence_id  label    split  true_label_0  \\\n",
       "sample_id                                                       \n",
       "1                1            0      0     test           1.0   \n",
       "2                2            0      2     test           0.0   \n",
       "3                4            0      0     test           1.0   \n",
       "4                5            0      0     test           1.0   \n",
       "6                7            0      0     test           1.0   \n",
       "...            ...          ...    ...      ...           ...   \n",
       "1377780    2499413      2332125      1  display           0.0   \n",
       "1377783    2499417      2332125      0  display           1.0   \n",
       "1377786    2499421      2332125      1  display           0.0   \n",
       "1377789    2499424      2332125      3  display           0.0   \n",
       "1377790    2499429      2332125      0  display           1.0   \n",
       "\n",
       "           predicted_label_0  true_label_1  predicted_label_1  true_label_3  \\\n",
       "sample_id                                                                     \n",
       "1                   0.235964           0.0           0.103293           0.0   \n",
       "2                   0.275742           0.0           0.207088           0.0   \n",
       "3                   0.689275           0.0           0.055883           0.0   \n",
       "4                   0.365668           0.0           0.202043           0.0   \n",
       "6                   0.332759           0.0           0.310349           0.0   \n",
       "...                      ...           ...                ...           ...   \n",
       "1377780             0.017303           1.0           0.931538           0.0   \n",
       "1377783             0.415809           0.0           0.218996           0.0   \n",
       "1377786             0.173255           1.0           0.703678           0.0   \n",
       "1377789             0.370794           0.0           0.215917           1.0   \n",
       "1377790             0.482280           0.0           0.265254           0.0   \n",
       "\n",
       "           predicted_label_3  true_label_2  predicted_label_2    stage  \n",
       "sample_id                                                               \n",
       "1                   0.020730           0.0           0.697159     test  \n",
       "2                   0.414074           1.0           0.106180     test  \n",
       "3                   0.073416           0.0           0.037342     test  \n",
       "4                   0.027792           0.0           0.453792     test  \n",
       "6                   0.036474           0.0           0.286194     test  \n",
       "...                      ...           ...                ...      ...  \n",
       "1377780             0.138549           0.0           0.007848  display  \n",
       "1377783             0.044620           0.0           0.306053  display  \n",
       "1377786             0.004112           0.0           0.145358  display  \n",
       "1377789             0.297121           0.0           0.136030  display  \n",
       "1377790             0.071784           0.0           0.135315  display  \n",
       "\n",
       "[826676 rows x 13 columns]"
      ]
     },
     "execution_count": 48,
     "metadata": {},
     "output_type": "execute_result"
    }
   ],
   "source": [
    "result_df\n"
   ]
  },
  {
   "cell_type": "code",
   "execution_count": 49,
   "metadata": {},
   "outputs": [],
   "source": [
    "b_path = Loc.bundles_path/'grammatical_gender/big'\n",
    "bundle = DataBundle.load(b_path)\n",
    "src = bundle.src\n"
   ]
  },
  {
   "cell_type": "code",
   "execution_count": 50,
   "metadata": {},
   "outputs": [],
   "source": [
    "from yo_fluq_ds import FileIO\n",
    "from tg.common.delivery.training.architecture import ResultPickleReader\n",
    "\n",
    "# rs = ResultPickleReader(unzipped_folder)\n",
    "# x = pd.DataFrame(FileIO.read_pickle(\n",
    "# rs.get_path('output/train_split.pkl')))\n",
    "# x\n"
   ]
  },
  {
   "attachments": {},
   "cell_type": "markdown",
   "metadata": {},
   "source": [
    "### Худшие предсказания модели"
   ]
  },
  {
   "attachments": {},
   "cell_type": "markdown",
   "metadata": {},
   "source": [
    "### male instead of female"
   ]
  },
  {
   "cell_type": "code",
   "execution_count": 52,
   "metadata": {},
   "outputs": [
    {
     "data": {
      "text/html": [
       "<div>\n",
       "<style scoped>\n",
       "    .dataframe tbody tr th:only-of-type {\n",
       "        vertical-align: middle;\n",
       "    }\n",
       "\n",
       "    .dataframe tbody tr th {\n",
       "        vertical-align: top;\n",
       "    }\n",
       "\n",
       "    .dataframe thead th {\n",
       "        text-align: right;\n",
       "    }\n",
       "</style>\n",
       "<table border=\"1\" class=\"dataframe\">\n",
       "  <thead>\n",
       "    <tr style=\"text-align: right;\">\n",
       "      <th></th>\n",
       "      <th>word_id</th>\n",
       "      <th>sentence_id</th>\n",
       "      <th>label</th>\n",
       "      <th>split</th>\n",
       "      <th>true_label_0</th>\n",
       "      <th>predicted_label_0</th>\n",
       "      <th>true_label_1</th>\n",
       "      <th>predicted_label_1</th>\n",
       "      <th>true_label_3</th>\n",
       "      <th>predicted_label_3</th>\n",
       "      <th>true_label_2</th>\n",
       "      <th>predicted_label_2</th>\n",
       "      <th>stage</th>\n",
       "      <th>pred_label</th>\n",
       "      <th>true_label</th>\n",
       "    </tr>\n",
       "    <tr>\n",
       "      <th>sample_id</th>\n",
       "      <th></th>\n",
       "      <th></th>\n",
       "      <th></th>\n",
       "      <th></th>\n",
       "      <th></th>\n",
       "      <th></th>\n",
       "      <th></th>\n",
       "      <th></th>\n",
       "      <th></th>\n",
       "      <th></th>\n",
       "      <th></th>\n",
       "      <th></th>\n",
       "      <th></th>\n",
       "      <th></th>\n",
       "      <th></th>\n",
       "    </tr>\n",
       "  </thead>\n",
       "  <tbody>\n",
       "    <tr>\n",
       "      <th>1</th>\n",
       "      <td>1</td>\n",
       "      <td>0</td>\n",
       "      <td>0</td>\n",
       "      <td>test</td>\n",
       "      <td>1.0</td>\n",
       "      <td>0.235964</td>\n",
       "      <td>0.0</td>\n",
       "      <td>0.103293</td>\n",
       "      <td>0.0</td>\n",
       "      <td>0.020730</td>\n",
       "      <td>0.0</td>\n",
       "      <td>0.697159</td>\n",
       "      <td>test</td>\n",
       "      <td>2</td>\n",
       "      <td>0</td>\n",
       "    </tr>\n",
       "    <tr>\n",
       "      <th>2</th>\n",
       "      <td>2</td>\n",
       "      <td>0</td>\n",
       "      <td>2</td>\n",
       "      <td>test</td>\n",
       "      <td>0.0</td>\n",
       "      <td>0.275742</td>\n",
       "      <td>0.0</td>\n",
       "      <td>0.207088</td>\n",
       "      <td>0.0</td>\n",
       "      <td>0.414074</td>\n",
       "      <td>1.0</td>\n",
       "      <td>0.106180</td>\n",
       "      <td>test</td>\n",
       "      <td>3</td>\n",
       "      <td>2</td>\n",
       "    </tr>\n",
       "    <tr>\n",
       "      <th>3</th>\n",
       "      <td>4</td>\n",
       "      <td>0</td>\n",
       "      <td>0</td>\n",
       "      <td>test</td>\n",
       "      <td>1.0</td>\n",
       "      <td>0.689275</td>\n",
       "      <td>0.0</td>\n",
       "      <td>0.055883</td>\n",
       "      <td>0.0</td>\n",
       "      <td>0.073416</td>\n",
       "      <td>0.0</td>\n",
       "      <td>0.037342</td>\n",
       "      <td>test</td>\n",
       "      <td>0</td>\n",
       "      <td>0</td>\n",
       "    </tr>\n",
       "    <tr>\n",
       "      <th>4</th>\n",
       "      <td>5</td>\n",
       "      <td>0</td>\n",
       "      <td>0</td>\n",
       "      <td>test</td>\n",
       "      <td>1.0</td>\n",
       "      <td>0.365668</td>\n",
       "      <td>0.0</td>\n",
       "      <td>0.202043</td>\n",
       "      <td>0.0</td>\n",
       "      <td>0.027792</td>\n",
       "      <td>0.0</td>\n",
       "      <td>0.453792</td>\n",
       "      <td>test</td>\n",
       "      <td>2</td>\n",
       "      <td>0</td>\n",
       "    </tr>\n",
       "    <tr>\n",
       "      <th>6</th>\n",
       "      <td>7</td>\n",
       "      <td>0</td>\n",
       "      <td>0</td>\n",
       "      <td>test</td>\n",
       "      <td>1.0</td>\n",
       "      <td>0.332759</td>\n",
       "      <td>0.0</td>\n",
       "      <td>0.310349</td>\n",
       "      <td>0.0</td>\n",
       "      <td>0.036474</td>\n",
       "      <td>0.0</td>\n",
       "      <td>0.286194</td>\n",
       "      <td>test</td>\n",
       "      <td>0</td>\n",
       "      <td>0</td>\n",
       "    </tr>\n",
       "    <tr>\n",
       "      <th>...</th>\n",
       "      <td>...</td>\n",
       "      <td>...</td>\n",
       "      <td>...</td>\n",
       "      <td>...</td>\n",
       "      <td>...</td>\n",
       "      <td>...</td>\n",
       "      <td>...</td>\n",
       "      <td>...</td>\n",
       "      <td>...</td>\n",
       "      <td>...</td>\n",
       "      <td>...</td>\n",
       "      <td>...</td>\n",
       "      <td>...</td>\n",
       "      <td>...</td>\n",
       "      <td>...</td>\n",
       "    </tr>\n",
       "    <tr>\n",
       "      <th>1377780</th>\n",
       "      <td>2499413</td>\n",
       "      <td>2332125</td>\n",
       "      <td>1</td>\n",
       "      <td>display</td>\n",
       "      <td>0.0</td>\n",
       "      <td>0.017303</td>\n",
       "      <td>1.0</td>\n",
       "      <td>0.931538</td>\n",
       "      <td>0.0</td>\n",
       "      <td>0.138549</td>\n",
       "      <td>0.0</td>\n",
       "      <td>0.007848</td>\n",
       "      <td>display</td>\n",
       "      <td>1</td>\n",
       "      <td>1</td>\n",
       "    </tr>\n",
       "    <tr>\n",
       "      <th>1377783</th>\n",
       "      <td>2499417</td>\n",
       "      <td>2332125</td>\n",
       "      <td>0</td>\n",
       "      <td>display</td>\n",
       "      <td>1.0</td>\n",
       "      <td>0.415809</td>\n",
       "      <td>0.0</td>\n",
       "      <td>0.218996</td>\n",
       "      <td>0.0</td>\n",
       "      <td>0.044620</td>\n",
       "      <td>0.0</td>\n",
       "      <td>0.306053</td>\n",
       "      <td>display</td>\n",
       "      <td>0</td>\n",
       "      <td>0</td>\n",
       "    </tr>\n",
       "    <tr>\n",
       "      <th>1377786</th>\n",
       "      <td>2499421</td>\n",
       "      <td>2332125</td>\n",
       "      <td>1</td>\n",
       "      <td>display</td>\n",
       "      <td>0.0</td>\n",
       "      <td>0.173255</td>\n",
       "      <td>1.0</td>\n",
       "      <td>0.703678</td>\n",
       "      <td>0.0</td>\n",
       "      <td>0.004112</td>\n",
       "      <td>0.0</td>\n",
       "      <td>0.145358</td>\n",
       "      <td>display</td>\n",
       "      <td>1</td>\n",
       "      <td>1</td>\n",
       "    </tr>\n",
       "    <tr>\n",
       "      <th>1377789</th>\n",
       "      <td>2499424</td>\n",
       "      <td>2332125</td>\n",
       "      <td>3</td>\n",
       "      <td>display</td>\n",
       "      <td>0.0</td>\n",
       "      <td>0.370794</td>\n",
       "      <td>0.0</td>\n",
       "      <td>0.215917</td>\n",
       "      <td>1.0</td>\n",
       "      <td>0.297121</td>\n",
       "      <td>0.0</td>\n",
       "      <td>0.136030</td>\n",
       "      <td>display</td>\n",
       "      <td>0</td>\n",
       "      <td>3</td>\n",
       "    </tr>\n",
       "    <tr>\n",
       "      <th>1377790</th>\n",
       "      <td>2499429</td>\n",
       "      <td>2332125</td>\n",
       "      <td>0</td>\n",
       "      <td>display</td>\n",
       "      <td>1.0</td>\n",
       "      <td>0.482280</td>\n",
       "      <td>0.0</td>\n",
       "      <td>0.265254</td>\n",
       "      <td>0.0</td>\n",
       "      <td>0.071784</td>\n",
       "      <td>0.0</td>\n",
       "      <td>0.135315</td>\n",
       "      <td>display</td>\n",
       "      <td>0</td>\n",
       "      <td>0</td>\n",
       "    </tr>\n",
       "  </tbody>\n",
       "</table>\n",
       "<p>826676 rows × 15 columns</p>\n",
       "</div>"
      ],
      "text/plain": [
       "           word_id  sentence_id  label    split  true_label_0  \\\n",
       "sample_id                                                       \n",
       "1                1            0      0     test           1.0   \n",
       "2                2            0      2     test           0.0   \n",
       "3                4            0      0     test           1.0   \n",
       "4                5            0      0     test           1.0   \n",
       "6                7            0      0     test           1.0   \n",
       "...            ...          ...    ...      ...           ...   \n",
       "1377780    2499413      2332125      1  display           0.0   \n",
       "1377783    2499417      2332125      0  display           1.0   \n",
       "1377786    2499421      2332125      1  display           0.0   \n",
       "1377789    2499424      2332125      3  display           0.0   \n",
       "1377790    2499429      2332125      0  display           1.0   \n",
       "\n",
       "           predicted_label_0  true_label_1  predicted_label_1  true_label_3  \\\n",
       "sample_id                                                                     \n",
       "1                   0.235964           0.0           0.103293           0.0   \n",
       "2                   0.275742           0.0           0.207088           0.0   \n",
       "3                   0.689275           0.0           0.055883           0.0   \n",
       "4                   0.365668           0.0           0.202043           0.0   \n",
       "6                   0.332759           0.0           0.310349           0.0   \n",
       "...                      ...           ...                ...           ...   \n",
       "1377780             0.017303           1.0           0.931538           0.0   \n",
       "1377783             0.415809           0.0           0.218996           0.0   \n",
       "1377786             0.173255           1.0           0.703678           0.0   \n",
       "1377789             0.370794           0.0           0.215917           1.0   \n",
       "1377790             0.482280           0.0           0.265254           0.0   \n",
       "\n",
       "           predicted_label_3  true_label_2  predicted_label_2    stage  \\\n",
       "sample_id                                                                \n",
       "1                   0.020730           0.0           0.697159     test   \n",
       "2                   0.414074           1.0           0.106180     test   \n",
       "3                   0.073416           0.0           0.037342     test   \n",
       "4                   0.027792           0.0           0.453792     test   \n",
       "6                   0.036474           0.0           0.286194     test   \n",
       "...                      ...           ...                ...      ...   \n",
       "1377780             0.138549           0.0           0.007848  display   \n",
       "1377783             0.044620           0.0           0.306053  display   \n",
       "1377786             0.004112           0.0           0.145358  display   \n",
       "1377789             0.297121           0.0           0.136030  display   \n",
       "1377790             0.071784           0.0           0.135315  display   \n",
       "\n",
       "           pred_label  true_label  \n",
       "sample_id                          \n",
       "1                   2           0  \n",
       "2                   3           2  \n",
       "3                   0           0  \n",
       "4                   2           0  \n",
       "6                   0           0  \n",
       "...               ...         ...  \n",
       "1377780             1           1  \n",
       "1377783             0           0  \n",
       "1377786             1           1  \n",
       "1377789             0           3  \n",
       "1377790             0           0  \n",
       "\n",
       "[826676 rows x 15 columns]"
      ]
     },
     "execution_count": 52,
     "metadata": {},
     "output_type": "execute_result"
    }
   ],
   "source": [
    "result_df['pred_label'] = y_pred\n",
    "result_df['true_label'] = y_true\n",
    "result_df\n"
   ]
  },
  {
   "cell_type": "code",
   "execution_count": 53,
   "metadata": {},
   "outputs": [],
   "source": [
    "def get_worst_words_sents(result_df, true_label: int, pred_label: int, worst_words_cnt: int):\n",
    "    one_inst_another = result_df[(result_df.true_label == true_label) & (\n",
    "        result_df.pred_label == pred_label)]\n",
    "    thrsh = one_inst_another[f'predicted_label_{pred_label}'].sort_values(\n",
    "        ascending=False).head(worst_words_cnt).min()\n",
    "    worst_mistakes_scores = one_inst_another[\n",
    "        one_inst_another[f'predicted_label_{pred_label}'] > thrsh]\n",
    "\n",
    "    worst_words = (src[src.word_id.isin(worst_mistakes_scores.word_id)]\n",
    "                   [['word_id', 'sentence_id', 'word']])\n",
    "    worst_sents = worst_words['sentence_id'].unique()\n",
    "    worst_sents_df = src[src.sentence_id.isin(worst_sents)]\n",
    "    return worst_words, worst_sents_df\n"
   ]
  },
  {
   "cell_type": "code",
   "execution_count": 54,
   "metadata": {},
   "outputs": [
    {
     "data": {
      "text/html": [
       "<div>\n",
       "<style scoped>\n",
       "    .dataframe tbody tr th:only-of-type {\n",
       "        vertical-align: middle;\n",
       "    }\n",
       "\n",
       "    .dataframe tbody tr th {\n",
       "        vertical-align: top;\n",
       "    }\n",
       "\n",
       "    .dataframe thead th {\n",
       "        text-align: right;\n",
       "    }\n",
       "</style>\n",
       "<table border=\"1\" class=\"dataframe\">\n",
       "  <thead>\n",
       "    <tr style=\"text-align: right;\">\n",
       "      <th></th>\n",
       "      <th>word_id</th>\n",
       "      <th>sentence_id</th>\n",
       "      <th>label</th>\n",
       "      <th>split</th>\n",
       "      <th>true_label_0</th>\n",
       "      <th>predicted_label_0</th>\n",
       "      <th>true_label_1</th>\n",
       "      <th>predicted_label_1</th>\n",
       "      <th>true_label_3</th>\n",
       "      <th>predicted_label_3</th>\n",
       "      <th>true_label_2</th>\n",
       "      <th>predicted_label_2</th>\n",
       "      <th>stage</th>\n",
       "      <th>pred_label</th>\n",
       "      <th>true_label</th>\n",
       "    </tr>\n",
       "    <tr>\n",
       "      <th>sample_id</th>\n",
       "      <th></th>\n",
       "      <th></th>\n",
       "      <th></th>\n",
       "      <th></th>\n",
       "      <th></th>\n",
       "      <th></th>\n",
       "      <th></th>\n",
       "      <th></th>\n",
       "      <th></th>\n",
       "      <th></th>\n",
       "      <th></th>\n",
       "      <th></th>\n",
       "      <th></th>\n",
       "      <th></th>\n",
       "      <th></th>\n",
       "    </tr>\n",
       "  </thead>\n",
       "  <tbody>\n",
       "    <tr>\n",
       "      <th>4158</th>\n",
       "      <td>7471</td>\n",
       "      <td>357</td>\n",
       "      <td>1</td>\n",
       "      <td>test</td>\n",
       "      <td>0.0</td>\n",
       "      <td>0.984722</td>\n",
       "      <td>1.0</td>\n",
       "      <td>0.012308</td>\n",
       "      <td>0.0</td>\n",
       "      <td>0.019596</td>\n",
       "      <td>0.0</td>\n",
       "      <td>0.005188</td>\n",
       "      <td>test</td>\n",
       "      <td>0</td>\n",
       "      <td>1</td>\n",
       "    </tr>\n",
       "    <tr>\n",
       "      <th>60016</th>\n",
       "      <td>107337</td>\n",
       "      <td>5201</td>\n",
       "      <td>1</td>\n",
       "      <td>test</td>\n",
       "      <td>0.0</td>\n",
       "      <td>0.983088</td>\n",
       "      <td>1.0</td>\n",
       "      <td>0.014779</td>\n",
       "      <td>0.0</td>\n",
       "      <td>0.001985</td>\n",
       "      <td>0.0</td>\n",
       "      <td>0.016865</td>\n",
       "      <td>test</td>\n",
       "      <td>0</td>\n",
       "      <td>1</td>\n",
       "    </tr>\n",
       "    <tr>\n",
       "      <th>239016</th>\n",
       "      <td>429931</td>\n",
       "      <td>407447</td>\n",
       "      <td>1</td>\n",
       "      <td>test</td>\n",
       "      <td>0.0</td>\n",
       "      <td>0.985289</td>\n",
       "      <td>1.0</td>\n",
       "      <td>0.019907</td>\n",
       "      <td>0.0</td>\n",
       "      <td>0.001139</td>\n",
       "      <td>0.0</td>\n",
       "      <td>0.011490</td>\n",
       "      <td>test</td>\n",
       "      <td>0</td>\n",
       "      <td>1</td>\n",
       "    </tr>\n",
       "    <tr>\n",
       "      <th>424751</th>\n",
       "      <td>766655</td>\n",
       "      <td>587014</td>\n",
       "      <td>1</td>\n",
       "      <td>test</td>\n",
       "      <td>0.0</td>\n",
       "      <td>0.987921</td>\n",
       "      <td>1.0</td>\n",
       "      <td>0.033916</td>\n",
       "      <td>0.0</td>\n",
       "      <td>0.026285</td>\n",
       "      <td>0.0</td>\n",
       "      <td>0.000441</td>\n",
       "      <td>test</td>\n",
       "      <td>0</td>\n",
       "      <td>1</td>\n",
       "    </tr>\n",
       "    <tr>\n",
       "      <th>470115</th>\n",
       "      <td>848777</td>\n",
       "      <td>791877</td>\n",
       "      <td>1</td>\n",
       "      <td>test</td>\n",
       "      <td>0.0</td>\n",
       "      <td>0.986439</td>\n",
       "      <td>1.0</td>\n",
       "      <td>0.010142</td>\n",
       "      <td>0.0</td>\n",
       "      <td>0.002670</td>\n",
       "      <td>0.0</td>\n",
       "      <td>0.010445</td>\n",
       "      <td>test</td>\n",
       "      <td>0</td>\n",
       "      <td>1</td>\n",
       "    </tr>\n",
       "    <tr>\n",
       "      <th>965941</th>\n",
       "      <td>1745031</td>\n",
       "      <td>1547167</td>\n",
       "      <td>1</td>\n",
       "      <td>test</td>\n",
       "      <td>0.0</td>\n",
       "      <td>0.984326</td>\n",
       "      <td>1.0</td>\n",
       "      <td>0.013821</td>\n",
       "      <td>0.0</td>\n",
       "      <td>0.012290</td>\n",
       "      <td>0.0</td>\n",
       "      <td>0.011396</td>\n",
       "      <td>test</td>\n",
       "      <td>0</td>\n",
       "      <td>1</td>\n",
       "    </tr>\n",
       "    <tr>\n",
       "      <th>695755</th>\n",
       "      <td>1256109</td>\n",
       "      <td>1181465</td>\n",
       "      <td>1</td>\n",
       "      <td>display</td>\n",
       "      <td>0.0</td>\n",
       "      <td>0.985778</td>\n",
       "      <td>1.0</td>\n",
       "      <td>0.021846</td>\n",
       "      <td>0.0</td>\n",
       "      <td>0.001314</td>\n",
       "      <td>0.0</td>\n",
       "      <td>0.006312</td>\n",
       "      <td>display</td>\n",
       "      <td>0</td>\n",
       "      <td>1</td>\n",
       "    </tr>\n",
       "    <tr>\n",
       "      <th>1208968</th>\n",
       "      <td>2191971</td>\n",
       "      <td>2148635</td>\n",
       "      <td>1</td>\n",
       "      <td>display</td>\n",
       "      <td>0.0</td>\n",
       "      <td>0.982783</td>\n",
       "      <td>1.0</td>\n",
       "      <td>0.012961</td>\n",
       "      <td>0.0</td>\n",
       "      <td>0.012029</td>\n",
       "      <td>0.0</td>\n",
       "      <td>0.005346</td>\n",
       "      <td>display</td>\n",
       "      <td>0</td>\n",
       "      <td>1</td>\n",
       "    </tr>\n",
       "    <tr>\n",
       "      <th>1231968</th>\n",
       "      <td>2234195</td>\n",
       "      <td>2150575</td>\n",
       "      <td>1</td>\n",
       "      <td>display</td>\n",
       "      <td>0.0</td>\n",
       "      <td>0.982171</td>\n",
       "      <td>1.0</td>\n",
       "      <td>0.025025</td>\n",
       "      <td>0.0</td>\n",
       "      <td>0.012026</td>\n",
       "      <td>0.0</td>\n",
       "      <td>0.005783</td>\n",
       "      <td>display</td>\n",
       "      <td>0</td>\n",
       "      <td>1</td>\n",
       "    </tr>\n",
       "  </tbody>\n",
       "</table>\n",
       "</div>"
      ],
      "text/plain": [
       "           word_id  sentence_id  label    split  true_label_0  \\\n",
       "sample_id                                                       \n",
       "4158          7471          357      1     test           0.0   \n",
       "60016       107337         5201      1     test           0.0   \n",
       "239016      429931       407447      1     test           0.0   \n",
       "424751      766655       587014      1     test           0.0   \n",
       "470115      848777       791877      1     test           0.0   \n",
       "965941     1745031      1547167      1     test           0.0   \n",
       "695755     1256109      1181465      1  display           0.0   \n",
       "1208968    2191971      2148635      1  display           0.0   \n",
       "1231968    2234195      2150575      1  display           0.0   \n",
       "\n",
       "           predicted_label_0  true_label_1  predicted_label_1  true_label_3  \\\n",
       "sample_id                                                                     \n",
       "4158                0.984722           1.0           0.012308           0.0   \n",
       "60016               0.983088           1.0           0.014779           0.0   \n",
       "239016              0.985289           1.0           0.019907           0.0   \n",
       "424751              0.987921           1.0           0.033916           0.0   \n",
       "470115              0.986439           1.0           0.010142           0.0   \n",
       "965941              0.984326           1.0           0.013821           0.0   \n",
       "695755              0.985778           1.0           0.021846           0.0   \n",
       "1208968             0.982783           1.0           0.012961           0.0   \n",
       "1231968             0.982171           1.0           0.025025           0.0   \n",
       "\n",
       "           predicted_label_3  true_label_2  predicted_label_2    stage  \\\n",
       "sample_id                                                                \n",
       "4158                0.019596           0.0           0.005188     test   \n",
       "60016               0.001985           0.0           0.016865     test   \n",
       "239016              0.001139           0.0           0.011490     test   \n",
       "424751              0.026285           0.0           0.000441     test   \n",
       "470115              0.002670           0.0           0.010445     test   \n",
       "965941              0.012290           0.0           0.011396     test   \n",
       "695755              0.001314           0.0           0.006312  display   \n",
       "1208968             0.012029           0.0           0.005346  display   \n",
       "1231968             0.012026           0.0           0.005783  display   \n",
       "\n",
       "           pred_label  true_label  \n",
       "sample_id                          \n",
       "4158                0           1  \n",
       "60016               0           1  \n",
       "239016              0           1  \n",
       "424751              0           1  \n",
       "470115              0           1  \n",
       "965941              0           1  \n",
       "695755              0           1  \n",
       "1208968             0           1  \n",
       "1231968             0           1  "
      ]
     },
     "execution_count": 54,
     "metadata": {},
     "output_type": "execute_result"
    }
   ],
   "source": [
    "male_inst_female = result_df[(result_df.true_label == 1) & (\n",
    "    result_df.pred_label == 0)]\n",
    "thrsh = male_inst_female.predicted_label_0.sort_values(\n",
    "    ascending=False).head(10).min()\n",
    "worst_mistakes_scores = male_inst_female[male_inst_female.predicted_label_0 > thrsh]\n",
    "worst_mistakes_scores\n"
   ]
  },
  {
   "cell_type": "code",
   "execution_count": 55,
   "metadata": {},
   "outputs": [
    {
     "data": {
      "text/html": [
       "<div>\n",
       "<style scoped>\n",
       "    .dataframe tbody tr th:only-of-type {\n",
       "        vertical-align: middle;\n",
       "    }\n",
       "\n",
       "    .dataframe tbody tr th {\n",
       "        vertical-align: top;\n",
       "    }\n",
       "\n",
       "    .dataframe thead th {\n",
       "        text-align: right;\n",
       "    }\n",
       "</style>\n",
       "<table border=\"1\" class=\"dataframe\">\n",
       "  <thead>\n",
       "    <tr style=\"text-align: right;\">\n",
       "      <th></th>\n",
       "      <th>word_id</th>\n",
       "      <th>sentence_id</th>\n",
       "      <th>word_index</th>\n",
       "      <th>paragraph_id</th>\n",
       "      <th>word_tail</th>\n",
       "      <th>word</th>\n",
       "      <th>word_type</th>\n",
       "      <th>word_length</th>\n",
       "      <th>file_id</th>\n",
       "      <th>corpus_id</th>\n",
       "      <th>label</th>\n",
       "      <th>is_target</th>\n",
       "      <th>original_word_id</th>\n",
       "      <th>original_sentence_id</th>\n",
       "      <th>original_paragraph_id</th>\n",
       "      <th>updated</th>\n",
       "    </tr>\n",
       "  </thead>\n",
       "  <tbody>\n",
       "    <tr>\n",
       "      <th>7460</th>\n",
       "      <td>7460</td>\n",
       "      <td>357</td>\n",
       "      <td>0</td>\n",
       "      <td>39</td>\n",
       "      <td>1</td>\n",
       "      <td>Конкуренты</td>\n",
       "      <td>ru</td>\n",
       "      <td>10</td>\n",
       "      <td>052d7140-9778-4e4e-ace7-f815e7bc6d7d</td>\n",
       "      <td>raw.zip</td>\n",
       "      <td>0</td>\n",
       "      <td>True</td>\n",
       "      <td>7460</td>\n",
       "      <td>357</td>\n",
       "      <td>39</td>\n",
       "      <td>False</td>\n",
       "    </tr>\n",
       "    <tr>\n",
       "      <th>7461</th>\n",
       "      <td>7461</td>\n",
       "      <td>357</td>\n",
       "      <td>1</td>\n",
       "      <td>39</td>\n",
       "      <td>1</td>\n",
       "      <td>Зубова</td>\n",
       "      <td>ru</td>\n",
       "      <td>6</td>\n",
       "      <td>052d7140-9778-4e4e-ace7-f815e7bc6d7d</td>\n",
       "      <td>raw.zip</td>\n",
       "      <td>0</td>\n",
       "      <td>True</td>\n",
       "      <td>7461</td>\n",
       "      <td>357</td>\n",
       "      <td>39</td>\n",
       "      <td>False</td>\n",
       "    </tr>\n",
       "    <tr>\n",
       "      <th>7462</th>\n",
       "      <td>7462</td>\n",
       "      <td>357</td>\n",
       "      <td>2</td>\n",
       "      <td>39</td>\n",
       "      <td>1</td>\n",
       "      <td>–</td>\n",
       "      <td>punct</td>\n",
       "      <td>1</td>\n",
       "      <td>052d7140-9778-4e4e-ace7-f815e7bc6d7d</td>\n",
       "      <td>raw.zip</td>\n",
       "      <td>-1</td>\n",
       "      <td>False</td>\n",
       "      <td>7462</td>\n",
       "      <td>357</td>\n",
       "      <td>39</td>\n",
       "      <td>False</td>\n",
       "    </tr>\n",
       "  </tbody>\n",
       "</table>\n",
       "</div>"
      ],
      "text/plain": [
       "      word_id  sentence_id  word_index  paragraph_id  word_tail        word  \\\n",
       "7460     7460          357           0            39          1  Конкуренты   \n",
       "7461     7461          357           1            39          1      Зубова   \n",
       "7462     7462          357           2            39          1           –   \n",
       "\n",
       "     word_type  word_length                               file_id corpus_id  \\\n",
       "7460        ru           10  052d7140-9778-4e4e-ace7-f815e7bc6d7d   raw.zip   \n",
       "7461        ru            6  052d7140-9778-4e4e-ace7-f815e7bc6d7d   raw.zip   \n",
       "7462     punct            1  052d7140-9778-4e4e-ace7-f815e7bc6d7d   raw.zip   \n",
       "\n",
       "      label  is_target  original_word_id  original_sentence_id  \\\n",
       "7460      0       True              7460                   357   \n",
       "7461      0       True              7461                   357   \n",
       "7462     -1      False              7462                   357   \n",
       "\n",
       "      original_paragraph_id  updated  \n",
       "7460                     39    False  \n",
       "7461                     39    False  \n",
       "7462                     39    False  "
      ]
     },
     "execution_count": 55,
     "metadata": {},
     "output_type": "execute_result"
    }
   ],
   "source": [
    "worst_words = (src[src.word_id.isin(worst_mistakes_scores.word_id)]\n",
    "               [['word_id', 'sentence_id', 'word']])\n",
    "worst_sents = worst_words['sentence_id'].unique()\n",
    "worst_sents_df = src[src.sentence_id.isin(worst_sents)]\n",
    "worst_sents_df.head(3)\n"
   ]
  },
  {
   "cell_type": "code",
   "execution_count": 56,
   "metadata": {},
   "outputs": [
    {
     "data": {
      "text/html": [
       "<p><span title=\"7460\"\">Конкуренты <span title=\"7461\"\">Зубова <span title=\"7462\"\">– <span title=\"7463\"\">шведский <span title=\"7464\"\">легионер <span title=\"7465\"\">\"<span title=\"7466\"\">Детройта<span title=\"7467\"\">\"<span title=\"7468\"\">, <span title=\"7469\"\">олимпийский <span title=\"7470\"\">чемпион <span style=\"color:red;\" title=\"7471\"\">Никлас</span> <span title=\"7472\"\">Лидстрем <span title=\"7473\"\">и <span title=\"7474\"\">защитник <span title=\"7475\"\">\"<span title=\"7476\"\">Анахайма<span title=\"7477\"\">\" <span title=\"7478\"\">Скотт <span title=\"7479\"\">Нидермайер<span title=\"7480\"\">. </p><p><span title=\"107334\"\">В <span title=\"107335\"\">первом <span title=\"107336\"\">периоде <span style=\"color:red;\" title=\"107337\"\">Данис</span> <span title=\"107338\"\">Зарипов <span title=\"107339\"\">открыл <span title=\"107340\"\">счет<span title=\"107341\"\">, <span title=\"107342\"\">а <span title=\"107343\"\">в <span title=\"107344\"\">начале <span title=\"107345\"\">второго <span title=\"107346\"\">Денис <span title=\"107347\"\">Архипов <span title=\"107348\"\">удвоил <span title=\"107349\"\">преимущество <span title=\"107350\"\">сборной <span title=\"107351\"\">России<span title=\"107352\"\">. </p><p><span title=\"429928\"\">Последние <span title=\"429929\"\">несколько <span title=\"429930\"\">Ниранджан <span style=\"color:red;\" title=\"429931\"\">Шанкара</span> <span title=\"429932\"\">Лимайе <span title=\"429933\"\">возглавлял <span title=\"429934\"\">представительство <span title=\"429935\"\">ICICI <span title=\"429936\"\">Bank <span title=\"429937\"\">Limited <span title=\"429938\"\">в <span title=\"429939\"\">Южно-Африканской <span title=\"429940\"\">Республике<span title=\"429941\"\">. </p><p><span title=\"766646\"\">До <span title=\"766647\"\">этого <span title=\"766648\"\">самой <span title=\"766649\"\">дорогой <span title=\"766650\"\">футбольной <span title=\"766651\"\">реликвией <span title=\"766652\"\">являлся <span title=\"766653\"\">Кубок <span title=\"766654\"\">мира <span style=\"color:red;\" title=\"766655\"\">Жюля</span> <span title=\"766656\"\">Риме<span title=\"766657\"\">, <span title=\"766658\"\">который <span title=\"766659\"\">в <span title=\"766660\"\">1970 <span title=\"766661\"\">году <span title=\"766662\"\">выиграла <span title=\"766663\"\">сборная <span title=\"766664\"\">Бразилии<span title=\"766665\"\">. </p><p><span title=\"848773\"\">Директор <span title=\"848774\"\">норвежского <span title=\"848775\"\">нобелевского <span title=\"848776\"\">института <span style=\"color:red;\" title=\"848777\"\">Гейр</span> <span title=\"848778\"\">Лундестад <span title=\"848779\"\">не <span title=\"848780\"\">подтвердил<span title=\"848781\"\">, <span title=\"848782\"\">но <span title=\"848783\"\">и <span title=\"848784\"\">не <span title=\"848785\"\">опроверг <span title=\"848786\"\">ставшую <span title=\"848787\"\">известной <span title=\"848788\"\">информацию<span title=\"848789\"\">. </p><p><span title=\"1256105\"\">После <span title=\"1256106\"\">перерыва <span title=\"1256107\"\">нигерийский <span title=\"1256108\"\">нападающий <span style=\"color:red;\" title=\"1256109\"\">Икечукву</span> <span title=\"1256110\"\">Уче <span title=\"1256111\"\">увеличил <span title=\"1256112\"\">преимущество <span title=\"1256113\"\">гостей<span title=\"1256114\"\">, <span title=\"1256115\"\">а <span title=\"1256116\"\">окончательный <span title=\"1256117\"\">счет <span title=\"1256118\"\">установил <span title=\"1256119\"\">Эмилио <span title=\"1256120\"\">Викейра<span title=\"1256121\"\">, <span title=\"1256122\"\">удачно <span title=\"1256123\"\">выполнивший <span title=\"1256124\"\">штрафной <span title=\"1256125\"\">удар<span title=\"1256126\"\">. </p><p><span title=\"1745024\"\">По <span title=\"1745025\"\">некоторым <span title=\"1745026\"\">сведениям<span title=\"1745027\"\">, <span title=\"1745028\"\">этой <span title=\"1745029\"\">компанией <span title=\"1745030\"\">руководит <span style=\"color:red;\" title=\"1745031\"\">Зарах</span> <span title=\"1745032\"\">Илиев<span title=\"1745033\"\">, <span title=\"1745034\"\">владеющий <span title=\"1745035\"\">комплексом <span title=\"1745036\"\">\"<span title=\"1745037\"\">Гранд<span title=\"1745038\"\">\" <span title=\"1745039\"\">в <span title=\"1745040\"\">Химках <span title=\"1745041\"\">и <span title=\"1745042\"\">частью <span title=\"1745043\"\">Черкизовского <span title=\"1745044\"\">рынка<span title=\"1745045\"\">.</p><p><span title=\"2191963\"\">Почти <span title=\"2191964\"\">столько <span title=\"2191965\"\">же <span title=\"2191966\"\">стоил <span title=\"2191967\"\">развод <span title=\"2191968\"\">Нейла <span title=\"2191969\"\">Даймона <span title=\"2191970\"\">и <span style=\"color:red;\" title=\"2191971\"\">Марсии</span> <span title=\"2191972\"\">Мерфи<span title=\"2191973\"\">, <span title=\"2191974\"\">расставшихся <span title=\"2191975\"\">в <span title=\"2191976\"\">1994 <span title=\"2191977\"\">году<span title=\"2191978\"\">. </p><p><span title=\"2234188\"\">Как <span title=\"2234189\"\">сообщает <span title=\"2234190\"\">Chicago <span title=\"2234191\"\">Sun-Times<span title=\"2234192\"\">, <span title=\"2234193\"\">известный <span title=\"2234194\"\">правозащитник <span style=\"color:red;\" title=\"2234195\"\">Джесси</span> <span title=\"2234196\"\">Джексон<span title=\"2234197\"\">, <span title=\"2234198\"\">возглавивший <span title=\"2234199\"\">кампанию <span title=\"2234200\"\">против <span title=\"2234201\"\">Аймаса<span title=\"2234202\"\">, <span title=\"2234203\"\">пожаловался <span title=\"2234204\"\">в <span title=\"2234205\"\">полицию <span title=\"2234206\"\">на <span title=\"2234207\"\">угрозы <span title=\"2234208\"\">физической <span title=\"2234209\"\">расправы<span title=\"2234210\"\">. </p>"
      ],
      "text/plain": [
       "<IPython.core.display.HTML object>"
      ]
     },
     "execution_count": 56,
     "metadata": {},
     "output_type": "execute_result"
    }
   ],
   "source": [
    "from tg.grammar_ru.common import Separator\n",
    "\n",
    "Separator.Viewer().tooltip(\"word_id\").color('word_id',\n",
    "                                            value_to_color={\n",
    "                                                wid: 'red' for wid in worst_words.word_id}\n",
    "                                            ).to_html_display(worst_sents_df)\n"
   ]
  },
  {
   "attachments": {},
   "cell_type": "markdown",
   "metadata": {},
   "source": [
    "### Pred masc instead of femn"
   ]
  },
  {
   "cell_type": "code",
   "execution_count": 57,
   "metadata": {},
   "outputs": [
    {
     "data": {
      "text/html": [
       "<p><span title=\"7460\"\">Конкуренты <span title=\"7461\"\">Зубова <span title=\"7462\"\">– <span title=\"7463\"\">шведский <span title=\"7464\"\">легионер <span title=\"7465\"\">\"<span title=\"7466\"\">Детройта<span title=\"7467\"\">\"<span title=\"7468\"\">, <span title=\"7469\"\">олимпийский <span title=\"7470\"\">чемпион <span style=\"color:red;\" title=\"7471\"\">Никлас</span> <span title=\"7472\"\">Лидстрем <span title=\"7473\"\">и <span title=\"7474\"\">защитник <span title=\"7475\"\">\"<span title=\"7476\"\">Анахайма<span title=\"7477\"\">\" <span title=\"7478\"\">Скотт <span title=\"7479\"\">Нидермайер<span title=\"7480\"\">. </p><p><span title=\"107334\"\">В <span title=\"107335\"\">первом <span title=\"107336\"\">периоде <span style=\"color:red;\" title=\"107337\"\">Данис</span> <span title=\"107338\"\">Зарипов <span title=\"107339\"\">открыл <span title=\"107340\"\">счет<span title=\"107341\"\">, <span title=\"107342\"\">а <span title=\"107343\"\">в <span title=\"107344\"\">начале <span title=\"107345\"\">второго <span title=\"107346\"\">Денис <span title=\"107347\"\">Архипов <span title=\"107348\"\">удвоил <span title=\"107349\"\">преимущество <span title=\"107350\"\">сборной <span title=\"107351\"\">России<span title=\"107352\"\">. </p><p><span title=\"429928\"\">Последние <span title=\"429929\"\">несколько <span title=\"429930\"\">Ниранджан <span style=\"color:red;\" title=\"429931\"\">Шанкара</span> <span title=\"429932\"\">Лимайе <span title=\"429933\"\">возглавлял <span title=\"429934\"\">представительство <span title=\"429935\"\">ICICI <span title=\"429936\"\">Bank <span title=\"429937\"\">Limited <span title=\"429938\"\">в <span title=\"429939\"\">Южно-Африканской <span title=\"429940\"\">Республике<span title=\"429941\"\">. </p><p><span title=\"766646\"\">До <span title=\"766647\"\">этого <span title=\"766648\"\">самой <span title=\"766649\"\">дорогой <span title=\"766650\"\">футбольной <span title=\"766651\"\">реликвией <span title=\"766652\"\">являлся <span title=\"766653\"\">Кубок <span title=\"766654\"\">мира <span style=\"color:red;\" title=\"766655\"\">Жюля</span> <span title=\"766656\"\">Риме<span title=\"766657\"\">, <span title=\"766658\"\">который <span title=\"766659\"\">в <span title=\"766660\"\">1970 <span title=\"766661\"\">году <span title=\"766662\"\">выиграла <span title=\"766663\"\">сборная <span title=\"766664\"\">Бразилии<span title=\"766665\"\">. </p><p><span title=\"848773\"\">Директор <span title=\"848774\"\">норвежского <span title=\"848775\"\">нобелевского <span title=\"848776\"\">института <span style=\"color:red;\" title=\"848777\"\">Гейр</span> <span title=\"848778\"\">Лундестад <span title=\"848779\"\">не <span title=\"848780\"\">подтвердил<span title=\"848781\"\">, <span title=\"848782\"\">но <span title=\"848783\"\">и <span title=\"848784\"\">не <span title=\"848785\"\">опроверг <span title=\"848786\"\">ставшую <span title=\"848787\"\">известной <span title=\"848788\"\">информацию<span title=\"848789\"\">. </p><p><span title=\"1256105\"\">После <span title=\"1256106\"\">перерыва <span title=\"1256107\"\">нигерийский <span title=\"1256108\"\">нападающий <span style=\"color:red;\" title=\"1256109\"\">Икечукву</span> <span title=\"1256110\"\">Уче <span title=\"1256111\"\">увеличил <span title=\"1256112\"\">преимущество <span title=\"1256113\"\">гостей<span title=\"1256114\"\">, <span title=\"1256115\"\">а <span title=\"1256116\"\">окончательный <span title=\"1256117\"\">счет <span title=\"1256118\"\">установил <span title=\"1256119\"\">Эмилио <span title=\"1256120\"\">Викейра<span title=\"1256121\"\">, <span title=\"1256122\"\">удачно <span title=\"1256123\"\">выполнивший <span title=\"1256124\"\">штрафной <span title=\"1256125\"\">удар<span title=\"1256126\"\">. </p><p><span title=\"1745024\"\">По <span title=\"1745025\"\">некоторым <span title=\"1745026\"\">сведениям<span title=\"1745027\"\">, <span title=\"1745028\"\">этой <span title=\"1745029\"\">компанией <span title=\"1745030\"\">руководит <span style=\"color:red;\" title=\"1745031\"\">Зарах</span> <span title=\"1745032\"\">Илиев<span title=\"1745033\"\">, <span title=\"1745034\"\">владеющий <span title=\"1745035\"\">комплексом <span title=\"1745036\"\">\"<span title=\"1745037\"\">Гранд<span title=\"1745038\"\">\" <span title=\"1745039\"\">в <span title=\"1745040\"\">Химках <span title=\"1745041\"\">и <span title=\"1745042\"\">частью <span title=\"1745043\"\">Черкизовского <span title=\"1745044\"\">рынка<span title=\"1745045\"\">.</p><p><span title=\"2191963\"\">Почти <span title=\"2191964\"\">столько <span title=\"2191965\"\">же <span title=\"2191966\"\">стоил <span title=\"2191967\"\">развод <span title=\"2191968\"\">Нейла <span title=\"2191969\"\">Даймона <span title=\"2191970\"\">и <span style=\"color:red;\" title=\"2191971\"\">Марсии</span> <span title=\"2191972\"\">Мерфи<span title=\"2191973\"\">, <span title=\"2191974\"\">расставшихся <span title=\"2191975\"\">в <span title=\"2191976\"\">1994 <span title=\"2191977\"\">году<span title=\"2191978\"\">. </p><p><span title=\"2234188\"\">Как <span title=\"2234189\"\">сообщает <span title=\"2234190\"\">Chicago <span title=\"2234191\"\">Sun-Times<span title=\"2234192\"\">, <span title=\"2234193\"\">известный <span title=\"2234194\"\">правозащитник <span style=\"color:red;\" title=\"2234195\"\">Джесси</span> <span title=\"2234196\"\">Джексон<span title=\"2234197\"\">, <span title=\"2234198\"\">возглавивший <span title=\"2234199\"\">кампанию <span title=\"2234200\"\">против <span title=\"2234201\"\">Аймаса<span title=\"2234202\"\">, <span title=\"2234203\"\">пожаловался <span title=\"2234204\"\">в <span title=\"2234205\"\">полицию <span title=\"2234206\"\">на <span title=\"2234207\"\">угрозы <span title=\"2234208\"\">физической <span title=\"2234209\"\">расправы<span title=\"2234210\"\">. </p>"
      ],
      "text/plain": [
       "<IPython.core.display.HTML object>"
      ]
     },
     "execution_count": 57,
     "metadata": {},
     "output_type": "execute_result"
    }
   ],
   "source": [
    "worst_words, worst_sents_df = get_worst_words_sents(\n",
    "    result_df, true_label=1, pred_label=0, worst_words_cnt=10)\n",
    "\n",
    "Separator.Viewer().tooltip(\"word_id\").color('word_id',\n",
    "                                            value_to_color={\n",
    "                                                wid: 'red' for wid in worst_words.word_id}\n",
    "                                            ).to_html_display(worst_sents_df)"
   ]
  },
  {
   "attachments": {},
   "cell_type": "markdown",
   "metadata": {},
   "source": [
    "### Pred masc instead of neut"
   ]
  },
  {
   "cell_type": "code",
   "execution_count": 58,
   "metadata": {},
   "outputs": [
    {
     "data": {
      "text/html": [
       "<p><span title=\"7229\"\">Причем <span title=\"7230\"\">Овечкин <span title=\"7231\"\">претендует <span title=\"7232\"\">сразу <span title=\"7233\"\">на <span title=\"7234\"\">два <span title=\"7235\"\">приза <span title=\"7236\"\">– <span title=\"7237\"\">\"<span style=\"color:red;\" title=\"7238\"\">Лучшему</span> <span title=\"7239\"\">дебютанту <span title=\"7240\"\">НХЛ<span title=\"7241\"\">\" <span title=\"7242\"\">и <span title=\"7243\"\">\"<span title=\"7244\"\">Лучшему <span title=\"7245\"\">хоккеисту <span title=\"7246\"\">по <span title=\"7247\"\">версии <span title=\"7248\"\">игроков <span title=\"7249\"\">Лиги<span title=\"7250\"\">\"<span title=\"7251\"\">. </p><p><span title=\"100015\"\">Итальянский <span title=\"100016\"\">дизайнер <span style=\"color:red;\" title=\"100017\"\">Джорджио</span> <span title=\"100018\"\">Армани <span title=\"100019\"\">разработал <span title=\"100020\"\">две <span title=\"100021\"\">модели <span title=\"100022\"\">гардероба <span title=\"100023\"\">футбольной <span title=\"100024\"\">сборной <span title=\"100025\"\">Англии <span title=\"100026\"\">к <span title=\"100027\"\">чемпионату <span title=\"100028\"\">мира <span title=\"100029\"\">по <span title=\"100030\"\">футболу<span title=\"100031\"\">: <span title=\"100032\"\">торжественный <span title=\"100033\"\">костюм <span title=\"100034\"\">для <span title=\"100035\"\">официальных <span title=\"100036\"\">приемов <span title=\"100037\"\">и <span title=\"100038\"\">повседневную <span title=\"100039\"\">одежду<span title=\"100040\"\">, <span title=\"100041\"\">которая <span title=\"100042\"\">состоит <span title=\"100043\"\">из <span title=\"100044\"\">шерстяных <span title=\"100045\"\">синих <span title=\"100046\"\">брюк <span title=\"100047\"\">и <span title=\"100048\"\">серого <span title=\"100049\"\">свитера<span title=\"100050\"\">. </p><p><span title=\"103393\"\">Правоохранительные <span title=\"103394\"\">органы <span title=\"103395\"\">США <span title=\"103396\"\">в <span title=\"103397\"\">пятницу <span title=\"103398\"\">провели <span title=\"103399\"\">обыски <span title=\"103400\"\">в <span title=\"103401\"\">дома <span title=\"103402\"\">и <span title=\"103403\"\">рабочем <span title=\"103404\"\">кабинете <span title=\"103405\"\">бывшего <span title=\"103406\"\">исполнительного <span title=\"103407\"\">директора <span title=\"103408\"\">ЦРУ <span style=\"color:red;\" title=\"103409\"\">Кайла</span> <span title=\"103410\"\">Фогго<span title=\"103411\"\">, <span title=\"103412\"\">передает <span title=\"103413\"\">агентство <span title=\"103414\"\">Associated <span title=\"103415\"\">Press<span title=\"103416\"\">. </p><p><span title=\"149206\"\">Австрийская <span title=\"149207\"\">частная <span title=\"149208\"\">организация <span title=\"149209\"\">LernQuadrat<span title=\"149210\"\">, <span title=\"149211\"\">разрабатывающая <span title=\"149212\"\">инновационные <span title=\"149213\"\">образовательные <span title=\"149214\"\">программы<span title=\"149215\"\">, <span title=\"149216\"\">выяснила<span title=\"149217\"\">, <span title=\"149218\"\">что <span title=\"149219\"\">лучше <span title=\"149220\"\">всего <span title=\"149221\"\">обучению <span title=\"149222\"\">детей <span title=\"149223\"\">способствует <span title=\"149224\"\">музыка <span style=\"color:red;\" title=\"149225\"\">Робби</span> <span title=\"149226\"\">Уильямса<span title=\"149227\"\">, <span title=\"149228\"\">сообщает <span title=\"149229\"\">Ananova<span title=\"149230\"\">. </p><p><span title=\"165619\"\">Брюстер <span title=\"165620\"\">в <span style=\"color:red;\" title=\"165621\"\">своем</span> <span title=\"165622\"\">последнем <span title=\"165623\"\">бою <span title=\"165624\"\">уступил <span title=\"165625\"\">чемпионский <span title=\"165626\"\">пояс <span title=\"165627\"\">WBO <span title=\"165628\"\">(<span title=\"165629\"\">Всемирная <span title=\"165630\"\">боксерская <span title=\"165631\"\">организация<span title=\"165632\"\">) <span title=\"165633\"\">белорусу <span title=\"165634\"\">Сергею <span title=\"165635\"\">Ляховичу<span title=\"165636\"\">, <span title=\"165637\"\">получив <span title=\"165638\"\">к <span title=\"165639\"\">тому <span title=\"165640\"\">же <span title=\"165641\"\">серьезные <span title=\"165642\"\">повреждения<span title=\"165643\"\">. </p><p><span title=\"180683\"\">Состав <span title=\"180684\"\">межведомственной <span title=\"180685\"\">рабочей <span title=\"180686\"\">группы <span title=\"180687\"\">по <span title=\"180688\"\">приоритетному <span style=\"color:red;\" title=\"180689\"\">национальному</span> <span title=\"180690\"\">проекту <span title=\"180691\"\">\"<span title=\"180692\"\">Доступное <span title=\"180693\"\">и <span title=\"180694\"\">комфортное <span title=\"180695\"\">жилье <span title=\"180696\"\">- <span title=\"180697\"\">гражданам <span title=\"180698\"\">России<span title=\"180699\"\">\" <span title=\"180700\"\">при <span title=\"180701\"\">Совете <span title=\"180702\"\">по <span title=\"180703\"\">реализации <span title=\"180704\"\">приоритетных <span title=\"180705\"\">национальных <span title=\"180706\"\">проектов <span title=\"180707\"\">был <span title=\"180708\"\">утвержден <span title=\"180709\"\">Владимиром <span title=\"180710\"\">Путиным <span title=\"180711\"\">12 <span title=\"180712\"\">января <span title=\"180713\"\">2006 <span title=\"180714\"\">года<span title=\"180715\"\">. </p><p><span title=\"210101\"\">По <span title=\"210102\"\">мнению <span title=\"210103\"\">обвинения<span title=\"210104\"\">, <span title=\"210105\"\">Шаффел <span title=\"210106\"\">является <span title=\"210107\"\">главным <span title=\"210108\"\">исполнителем <span title=\"210109\"\">приказа <span title=\"210110\"\">Джексона<span title=\"210111\"\">, <span title=\"210112\"\">который <span title=\"210113\"\">якобы <span title=\"210114\"\">запретил <span title=\"210115\"\">отпускать <span title=\"210116\"\">со <span title=\"210117\"\">своего <span title=\"210118\"\">ранчо <span title=\"210119\"\">13-летнего <span style=\"color:red;\" title=\"210120\"\">Гэвина</span> <span title=\"210121\"\">Арвизо<span title=\"210122\"\">. </p><p><span title=\"224466\"\">Как <span title=\"224467\"\">сообщает <span title=\"224468\"\">агентство <span title=\"224469\"\">Reuters<span title=\"224470\"\">, <span title=\"224471\"\">операция <span title=\"224472\"\">проводится <span title=\"224473\"\">на <span title=\"224474\"\">севере <span title=\"224475\"\">Каира <span title=\"224476\"\">в <span style=\"color:red;\" title=\"224477\"\">рабочем</span> <span title=\"224478\"\">районе <span title=\"224479\"\">Шубра <span title=\"224480\"\">Хейма<span title=\"224481\"\">, <span title=\"224482\"\">в <span title=\"224483\"\">котором <span title=\"224484\"\">проживали <span title=\"224485\"\">исполнители <span title=\"224486\"\">теракта <span title=\"224487\"\">- <span title=\"224488\"\">мужчина <span title=\"224489\"\">и <span title=\"224490\"\">две <span title=\"224491\"\">женщины<span title=\"224492\"\">, <span title=\"224493\"\">которые <span title=\"224494\"\">покончили <span title=\"224495\"\">с <span title=\"224496\"\">собой<span title=\"224497\"\">. </p><p><span title=\"260660\"\">Как <span title=\"260661\"\">полагает <span title=\"260662\"\">сторона <span title=\"260663\"\">обвинения<span title=\"260664\"\">, <span title=\"260665\"\">после <span title=\"260666\"\">того<span title=\"260667\"\">, <span title=\"260668\"\">как <span title=\"260669\"\">в <span title=\"260670\"\">одном <span title=\"260671\"\">из <span title=\"260672\"\">интервью <span title=\"260673\"\">13-летний <span style=\"color:red;\" title=\"260674\"\">Гэвин</span> <span title=\"260675\"\">Арвизо <span title=\"260676\"\">заявил<span title=\"260677\"\">, <span title=\"260678\"\">что <span title=\"260679\"\">спал <span title=\"260680\"\">с <span title=\"260681\"\">Джексоном <span title=\"260682\"\">в <span title=\"260683\"\">одной <span title=\"260684\"\">постели<span title=\"260685\"\">, <span title=\"260686\"\">певец <span title=\"260687\"\">заставлял <span title=\"260688\"\">подростка <span title=\"260689\"\">и <span title=\"260690\"\">его <span title=\"260691\"\">семью <span title=\"260692\"\">опровергнуть <span title=\"260693\"\">эти <span title=\"260694\"\">слова <span title=\"260695\"\">перед <span title=\"260696\"\">видеокамерой<span title=\"260697\"\">, <span title=\"260698\"\">силой <span title=\"260699\"\">удерживая <span title=\"260700\"\">их <span title=\"260701\"\">на <span title=\"260702\"\">своем <span title=\"260703\"\">ранчо<span title=\"260704\"\">. </p><p><span title=\"278894\"\">Можно <span title=\"278895\"\">отметить<span title=\"278896\"\">, <span title=\"278897\"\">что <span title=\"278898\"\">у <span title=\"278899\"\">концерна <span title=\"278900\"\">Ford <span title=\"278901\"\">падение <span title=\"278902\"\">продаж <span title=\"278903\"\">моделей <span title=\"278904\"\">Ford <span title=\"278905\"\">Explorer <span title=\"278906\"\">и <span title=\"278907\"\">Expedition <span title=\"278908\"\">составило <span title=\"278909\"\">14,6 <span title=\"278910\"\">процента <span title=\"278911\"\">и <span title=\"278912\"\">20 <span title=\"278913\"\">процентов <span title=\"278914\"\">соответственно<span title=\"278915\"\">, <span title=\"278916\"\">а <span title=\"278917\"\">спрос <span title=\"278918\"\">на <span title=\"278919\"\">популярные <span title=\"278920\"\">ранее <span title=\"278921\"\">внедорожные <span title=\"278922\"\">модели <span title=\"278923\"\">концерна <span title=\"278924\"\">GM<span title=\"278925\"\">, <span title=\"278926\"\">вроде <span title=\"278927\"\">Chevrolet <span title=\"278928\"\">Tahoe <span title=\"278929\"\">и <span title=\"278930\"\">Trailblazer<span title=\"278931\"\">, <span title=\"278932\"\">в <span style=\"color:red;\" title=\"278933\"\">прошедшем</span> <span title=\"278934\"\">месяце <span title=\"278935\"\">снизился <span title=\"278936\"\">на <span title=\"278937\"\">17 <span title=\"278938\"\">процентов<span title=\"278939\"\">. </p><p><span title=\"338613\"\">Самый <span title=\"338614\"\">влиятельный <span title=\"338615\"\">из <span title=\"338616\"\">актеров<span title=\"338617\"\">, <span title=\"338618\"\">по <span title=\"338619\"\">мнению <span title=\"338620\"\">Premiere<span title=\"338621\"\">, <span style=\"color:red;\" title=\"338622\"\">Том</span> <span title=\"338623\"\">Круз <span title=\"338624\"\">- <span title=\"338625\"\">он <span title=\"338626\"\">занимает <span title=\"338627\"\">14 <span title=\"338628\"\">место<span title=\"338629\"\">. </p><p><span title=\"392848\"\">В <span title=\"392849\"\">материалах <span title=\"392850\"\">американских <span title=\"392851\"\">спецслужб <span title=\"392852\"\">приводятся <span title=\"392853\"\">сведения <span title=\"392854\"\">из <span title=\"392855\"\">конфиденциальных <span title=\"392856\"\">источников <span title=\"392857\"\">о <span title=\"392858\"\">том<span title=\"392859\"\">, <span title=\"392860\"\">что <span title=\"392861\"\">Карильес <span title=\"392862\"\">вместе <span title=\"392863\"\">с <span title=\"392864\"\">еще <span title=\"392865\"\">одним <span title=\"392866\"\">кубинским <span title=\"392867\"\">эмигрантом <span title=\"392868\"\">- <span style=\"color:red;\" title=\"392869\"\">Орландо</span> <span title=\"392870\"\">Бошем <span title=\"392871\"\">- <span title=\"392872\"\">организовал <span title=\"392873\"\">взрыв <span title=\"392874\"\">кубинского <span title=\"392875\"\">пассажирского <span title=\"392876\"\">самолета <span title=\"392877\"\">в <span title=\"392878\"\">октябре <span title=\"392879\"\">1976 <span title=\"392880\"\">года<span title=\"392881\"\">. </p><p><span title=\"409423\"\">Причиненный <span style=\"color:red;\" title=\"409424\"\">государству</span> <span title=\"409425\"\">ущерб <span title=\"409426\"\">был <span title=\"409427\"\">оценен <span title=\"409428\"\">почти <span title=\"409429\"\">в <span title=\"409430\"\">30 <span title=\"409431\"\">миллиардов <span title=\"409432\"\">рублей<span title=\"409433\"\">. </p><p><span title=\"466370\"\">В <span title=\"466371\"\">то <span title=\"466372\"\">же <span title=\"466373\"\">время<span title=\"466374\"\">, <span title=\"466375\"\">\"<span title=\"466376\"\">Интерфакс<span title=\"466377\"\">\" <span title=\"466378\"\">сообщает<span title=\"466379\"\">, <span title=\"466380\"\">что <span title=\"466381\"\">потерпевший <span style=\"color:red;\" title=\"466382\"\">крушение</span> <span title=\"466383\"\">самолет <span title=\"466384\"\">принадлежал <span title=\"466385\"\">другой <span title=\"466386\"\">авиакомпании <span title=\"466387\"\">и <span title=\"466388\"\">выполнял <span title=\"466389\"\">рейс <span title=\"466390\"\">Сургут-Белгород <span title=\"466391\"\">с <span title=\"466392\"\">промежуточной <span title=\"466393\"\">посадкой <span title=\"466394\"\">в <span title=\"466395\"\">Самаре<span title=\"466396\"\">. </p><p><span title=\"487538\"\">Речь <span title=\"487539\"\">идет <span title=\"487540\"\">об <span style=\"color:red;\" title=\"487541\"\">Устаде</span> <span title=\"487542\"\">Ясире <span title=\"487543\"\">(<span title=\"487544\"\">Ustad <span title=\"487545\"\">Yasir<span title=\"487546\"\">)<span title=\"487547\"\">, <span title=\"487548\"\">отвечавшем <span title=\"487549\"\">за <span title=\"487550\"\">культурные <span title=\"487551\"\">аспекты <span title=\"487552\"\">деятельности <span title=\"487553\"\">\"<span title=\"487554\"\">Талибана<span title=\"487555\"\">\"<span title=\"487556\"\">, <span title=\"487557\"\">муфтии <span title=\"487558\"\">Латифулле <span title=\"487559\"\">Хакиме <span title=\"487560\"\">(<span title=\"487561\"\">Mufti <span title=\"487562\"\">Latifullah <span title=\"487563\"\">Hakimi<span title=\"487564\"\">)<span title=\"487565\"\">, <span title=\"487566\"\">бывшем <span title=\"487567\"\">пресс-секретаре<span title=\"487568\"\">, <span title=\"487569\"\">двух <span title=\"487570\"\">полевых <span title=\"487571\"\">командирах <span title=\"487572\"\">Хамдулле <span title=\"487573\"\">(<span title=\"487574\"\">Hamdullah<span title=\"487575\"\">) <span title=\"487576\"\">и <span title=\"487577\"\">Адуле <span title=\"487578\"\">Гаффаре <span title=\"487579\"\">(<span title=\"487580\"\">Abdul <span title=\"487581\"\">Ghaffar<span title=\"487582\"\">) <span title=\"487583\"\">и <span title=\"487584\"\">брате <span title=\"487585\"\">Дадуллы <span title=\"487586\"\">-  <span title=\"487587\"\">Мансуре <span title=\"487588\"\">Ахмаде <span title=\"487589\"\">(<span title=\"487590\"\">Mansoor <span title=\"487591\"\">Ahmad<span title=\"487592\"\">)<span title=\"487593\"\">. </p><p><span title=\"493202\"\">Временный <span title=\"493203\"\">поверенный <span title=\"493204\"\">в <span title=\"493205\"\">делах <span title=\"493206\"\">Сербии <span title=\"493207\"\">в <span title=\"493208\"\">России <span style=\"color:red;\" title=\"493209\"\">Елица</span> <span title=\"493210\"\">Курьяк <span title=\"493211\"\">заявил <span title=\"493212\"\">агентству <span title=\"493213\"\">\"<span title=\"493214\"\">Интерфакс<span title=\"493215\"\">\"<span title=\"493216\"\">, <span title=\"493217\"\">что <span title=\"493218\"\">Россия <span title=\"493219\"\">как <span title=\"493220\"\">постоянный <span title=\"493221\"\">член <span title=\"493222\"\">Совбеза <span title=\"493223\"\">ООН <span title=\"493224\"\">может <span title=\"493225\"\">выдвинуть <span title=\"493226\"\">свою <span title=\"493227\"\">кандидатуру <span title=\"493228\"\">на <span title=\"493229\"\">пост <span title=\"493230\"\">представителя <span title=\"493231\"\">организации <span title=\"493232\"\">в <span title=\"493233\"\">Косово<span title=\"493234\"\">, <span title=\"493235\"\">поскольку <span title=\"493236\"\">\"<span title=\"493237\"\">переговорный <span title=\"493238\"\">процесс <span title=\"493239\"\">начался <span title=\"493240\"\">заново<span title=\"493241\"\">\" <span title=\"493242\"\">и <span title=\"493243\"\">\"<span title=\"493244\"\">кроме <span title=\"493245\"\">Ахтисаари <span title=\"493246\"\">существуют <span title=\"493247\"\">другие <span title=\"493248\"\">люди<span title=\"493249\"\">, <span title=\"493250\"\">готовые <span title=\"493251\"\">внести <span title=\"493252\"\">свой <span title=\"493253\"\">вклад <span title=\"493254\"\">в <span title=\"493255\"\">косовское <span title=\"493256\"\">урегулирование<span title=\"493257\"\">\"<span title=\"493258\"\">. </p><p><span title=\"502329\"\">\"<span title=\"502330\"\">Тоттенхэм<span title=\"502331\"\">\" <span title=\"502332\"\">единственный <span title=\"502333\"\">мяч <span title=\"502334\"\">забил <span title=\"502335\"\">с <span title=\"502336\"\">пенальти <span title=\"502337\"\">за <span title=\"502338\"\">10 <span title=\"502339\"\">минут <span title=\"502340\"\">до <span title=\"502341\"\">финального <span title=\"502342\"\">свистка <span title=\"502343\"\">– <span title=\"502344\"\">отличился <span style=\"color:red;\" title=\"502345\"\">Робби</span> <span title=\"502346\"\">Кин<span title=\"502347\"\">. </p><p><span title=\"513478\"\">Форвард <span title=\"513479\"\">миланского <span title=\"513480\"\">\"<span title=\"513481\"\">Интера<span title=\"513482\"\">\" <span title=\"513483\"\">Адриано <span title=\"513484\"\">подрался <span title=\"513485\"\">с <span title=\"513486\"\">американским <span title=\"513487\"\">баскетболистом <span title=\"513488\"\">клуба <span title=\"513489\"\">\"<span title=\"513490\"\">Варезе<span title=\"513491\"\">\" <span style=\"color:red;\" title=\"513492\"\">Роландо</span> <span title=\"513493\"\">Хауэллом<span title=\"513494\"\">. </p><p><span title=\"540720\"\">Кроме <span title=\"540721\"\">сотрудников <span title=\"540722\"\">Белого <span title=\"540723\"\">дома<span title=\"540724\"\">, <span title=\"540725\"\">представление <span title=\"540726\"\">будет <span title=\"540727\"\">направлено <span title=\"540728\"\">бывшему <span title=\"540729\"\">помощнику <span title=\"540730\"\">генерального <span title=\"540731\"\">прокурора <span style=\"color:red;\" title=\"540732\"\">Кайлу</span> <span title=\"540733\"\">Сэмпсону<span title=\"540734\"\">. </p><p><span title=\"561787\"\">Чиновники <span title=\"561788\"\">сочли <span title=\"561789\"\">соответствующими <span title=\"561790\"\">всем <span title=\"561791\"\">необходимым <span title=\"561792\"\">условиям <span title=\"561793\"\">заявки <span title=\"561794\"\">на <span title=\"561795\"\">возведение <span title=\"561796\"\">многопрофильного <span title=\"561797\"\">перегрузочного <span title=\"561798\"\">комплекса <span title=\"561799\"\">\"<span title=\"561800\"\">Юг-2<span title=\"561801\"\">\" <span title=\"561802\"\">в <span style=\"color:red;\" title=\"561803\"\">балтийском</span> <span title=\"561804\"\">порту <span title=\"561805\"\">Усть-Луга<span title=\"561806\"\">,  <span title=\"561807\"\">реконструкцию <span title=\"561808\"\">и <span title=\"561809\"\">строительство <span title=\"561810\"\">объектов <span title=\"561811\"\">водоснабжения <span title=\"561812\"\">в <span title=\"561813\"\">Ростовской <span title=\"561814\"\">области<span title=\"561815\"\">, <span title=\"561816\"\">а <span title=\"561817\"\">также <span title=\"561818\"\">железной <span title=\"561819\"\">дороги <span title=\"561820\"\">в <span title=\"561821\"\">Туве<span title=\"561822\"\">. </p><p><span title=\"562905\"\">Новый <span title=\"562906\"\">владелец <span title=\"562907\"\">\"<span title=\"562908\"\">Ливерпуля<span title=\"562909\"\">\" <span style=\"color:red;\" title=\"562910\"\">Том</span> <span title=\"562911\"\">Хикс <span title=\"562912\"\">вместе <span title=\"562913\"\">со <span title=\"562914\"\">своим <span title=\"562915\"\">компаньоном <span title=\"562916\"\">Джорджем <span title=\"562917\"\">Джиллеттом <span title=\"562918\"\">намерен <span title=\"562919\"\">обсудить <span title=\"562920\"\">с <span title=\"562921\"\">Бенитесом <span title=\"562922\"\">вопрос <span title=\"562923\"\">о <span title=\"562924\"\">продлении <span title=\"562925\"\">контракта <span title=\"562926\"\">31 <span title=\"562927\"\">марта<span title=\"562928\"\">, <span title=\"562929\"\">когда <span title=\"562930\"\">мерсисайдцы <span title=\"562931\"\">сыграют <span title=\"562932\"\">с <span title=\"562933\"\">\"<span title=\"562934\"\">Арсеналом<span title=\"562935\"\">\"<span title=\"562936\"\">.</p><p><span title=\"676611\"\">Лавров <span title=\"676612\"\">подчеркнул<span title=\"676613\"\">, <span title=\"676614\"\">что <span title=\"676615\"\">вопрос <span title=\"676616\"\">о <span title=\"676617\"\">выводе <span title=\"676618\"\">баз <span title=\"676619\"\">в <span style=\"color:red;\" title=\"676620\"\">принципиальном</span> <span title=\"676621\"\">плане <span title=\"676622\"\">решен <span title=\"676623\"\">высшим <span title=\"676624\"\">российским <span title=\"676625\"\">руководством<span title=\"676626\"\">, <span title=\"676627\"\">и <span title=\"676628\"\">технически <span title=\"676629\"\">добиться <span title=\"676630\"\">решения <span title=\"676631\"\">этого <span title=\"676632\"\">вопроса <span title=\"676633\"\">призваны <span title=\"676634\"\">профессионалы<span title=\"676635\"\">, <span title=\"676636\"\">которые <span title=\"676637\"\">ведут <span title=\"676638\"\">переговоры<span title=\"676639\"\">.</p><p><span title=\"753460\"\">Восьми <span title=\"753461\"\">подсудимым<span title=\"753462\"\">, <span title=\"753463\"\">в <span title=\"753464\"\">том <span style=\"color:red;\" title=\"753465\"\">числе</span> <span title=\"753466\"\">Каитову<span title=\"753467\"\">, <span title=\"753468\"\">предъявлены <span title=\"753469\"\">обвинения <span title=\"753470\"\">по <span title=\"753471\"\">статье <span title=\"753472\"\">105 <span title=\"753473\"\">УК <span title=\"753474\"\">РФ <span title=\"753475\"\">(<span title=\"753476\"\">предумышленное <span title=\"753477\"\">убийство<span title=\"753478\"\">)<span title=\"753479\"\">. </p><p><span title=\"754831\"\">Судья <span style=\"color:red;\" title=\"754832\"\">Серджио</span> <span title=\"754833\"\">Муноз <span title=\"754834\"\">ранее <span title=\"754835\"\">заявил<span title=\"754836\"\">, <span title=\"754837\"\">что <span title=\"754838\"\">им <span title=\"754839\"\">выявлено <span title=\"754840\"\">по <span title=\"754841\"\">крайней <span title=\"754842\"\">мере <span title=\"754843\"\">17 <span title=\"754844\"\">миллионов <span title=\"754845\"\">долларов<span title=\"754846\"\">, <span title=\"754847\"\">которые <span title=\"754848\"\">бывший <span title=\"754849\"\">диктатор <span title=\"754850\"\">и <span title=\"754851\"\">его <span title=\"754852\"\">семья <span title=\"754853\"\">утаивали <span title=\"754854\"\">на <span title=\"754855\"\">более <span title=\"754856\"\">чем <span title=\"754857\"\">100 <span title=\"754858\"\">иностранных <span title=\"754859\"\">счетах<span title=\"754860\"\">.</p><p><span title=\"757106\"\">По <span title=\"757107\"\">мнению <span title=\"757108\"\">главы <span title=\"757109\"\">МВФ <span style=\"color:red;\" title=\"757110\"\">Родриго</span> <span title=\"757111\"\">Рато <span title=\"757112\"\">(<span title=\"757113\"\">Rodrigo <span title=\"757114\"\">Rato<span title=\"757115\"\">)<span title=\"757116\"\">, <span title=\"757117\"\">которое <span title=\"757118\"\">он <span title=\"757119\"\">высказал <span title=\"757120\"\">в <span title=\"757121\"\">интервью <span title=\"757122\"\">испанской <span title=\"757123\"\">газете <span title=\"757124\"\">Expansion<span title=\"757125\"\">, <span title=\"757126\"\">еврозона <span title=\"757127\"\">пойдет <span title=\"757128\"\">в <span title=\"757129\"\">\"<span title=\"757130\"\">неверном <span title=\"757131\"\">направлении<span title=\"757132\"\">\"<span title=\"757133\"\">, <span title=\"757134\"\">если <span title=\"757135\"\">ограничит <span title=\"757136\"\">рабочую <span title=\"757137\"\">неделю <span title=\"757138\"\">48 <span title=\"757139\"\">часами<span title=\"757140\"\">. </p><p><span title=\"777248\"\">По <span title=\"777249\"\">словам <span title=\"777250\"\">мэра <span title=\"777251\"\">столицы <span style=\"color:red;\" title=\"777252\"\">Смангализо</span> <span title=\"777253\"\">Мкатшва<span title=\"777254\"\">, <span title=\"777255\"\">приступая <span title=\"777256\"\">к <span title=\"777257\"\">\"<span title=\"777258\"\">процессу <span title=\"777259\"\">переименования <span title=\"777260\"\">и <span title=\"777261\"\">преобразования<span title=\"777262\"\">, <span title=\"777263\"\">мы <span title=\"777264\"\">проводим <span title=\"777265\"\">четкую <span title=\"777266\"\">границу <span title=\"777267\"\">между <span title=\"777268\"\">старым <span title=\"777269\"\">и <span title=\"777270\"\">новым<span title=\"777271\"\">, <span title=\"777272\"\">между <span title=\"777273\"\">прошлым <span title=\"777274\"\">и <span title=\"777275\"\">будущим<span title=\"777276\"\">\"<span title=\"777277\"\">. </p><p><span title=\"787303\"\">Вопросы <span title=\"787304\"\">в <span title=\"787305\"\">анкете <span title=\"787306\"\">касались <span title=\"787307\"\">изменений <span title=\"787308\"\">комиссии <span title=\"787309\"\">по <span title=\"787310\"\">трансграничным <span title=\"787311\"\">переводам <span title=\"787312\"\">за <span title=\"787313\"\">последние <span title=\"787314\"\">три <span title=\"787315\"\">года<span title=\"787316\"\">, <span title=\"787317\"\">скорости <span title=\"787318\"\">перевода<span title=\"787319\"\">, <span title=\"787320\"\">количества <span title=\"787321\"\">обслуживаемых <span title=\"787322\"\">клиентов-резидентов <span title=\"787323\"\">и <span title=\"787324\"\">нерезидентов <span title=\"787325\"\">в <span title=\"787326\"\">виде <span title=\"787327\"\">процента <span title=\"787328\"\">к <span style=\"color:red;\" title=\"787329\"\">общему</span> <span title=\"787330\"\">обороту <span title=\"787331\"\">системы<span title=\"787332\"\">, <span title=\"787333\"\">основных <span title=\"787334\"\">стран–получателей <span title=\"787335\"\">переводов <span title=\"787336\"\">из <span title=\"787337\"\">России <span title=\"787338\"\">в <span title=\"787339\"\">проценте <span title=\"787340\"\">к <span title=\"787341\"\">общему <span title=\"787342\"\">стоимостному <span title=\"787343\"\">объему <span title=\"787344\"\">полученных <span title=\"787345\"\">средств<span title=\"787346\"\">. </p><p><span title=\"811630\"\">В <span title=\"811631\"\">Пакистане <span title=\"811632\"\">казнен <span title=\"811633\"\">35-летний <span title=\"811634\"\">офицер <span title=\"811635\"\">Абдул <span style=\"color:red;\" title=\"811636\"\">Салам</span> <span title=\"811637\"\">Сиддики<span title=\"811638\"\">. </p><p><span title=\"836420\"\">В <span style=\"color:red;\" title=\"836421\"\">будущем</span> <span title=\"836422\"\">году <span title=\"836423\"\">эта <span title=\"836424\"\">цифра <span title=\"836425\"\">должна <span title=\"836426\"\">увеличиться <span title=\"836427\"\">уже <span title=\"836428\"\">до <span title=\"836429\"\">25 <span title=\"836430\"\">тысяч <span title=\"836431\"\">автомобилей <span title=\"836432\"\">в <span title=\"836433\"\">год<span title=\"836434\"\">, <span title=\"836435\"\">а <span title=\"836436\"\">максимальная <span title=\"836437\"\">мощность <span title=\"836438\"\">производства <span title=\"836439\"\">составляет <span title=\"836440\"\">40 <span title=\"836441\"\">тысяч <span title=\"836442\"\">автомобилей <span title=\"836443\"\">в <span title=\"836444\"\">год<span title=\"836445\"\">. </p><p><span title=\"855343\"\">По <span title=\"855344\"\">словам <span title=\"855345\"\">первого <span title=\"855346\"\">заместителя <span title=\"855347\"\">министра <span title=\"855348\"\">финансов <span title=\"855349\"\">области <span title=\"855350\"\">Валерия <span title=\"855351\"\">Носова<span title=\"855352\"\">, <span title=\"855353\"\">в <span title=\"855354\"\">в <span style=\"color:red;\" title=\"855355\"\">основном</span> <span title=\"855356\"\">рост <span title=\"855357\"\">ставок <span title=\"855358\"\">налога <span title=\"855359\"\">будет <span title=\"855360\"\">на <span title=\"855361\"\">особо <span title=\"855362\"\">мощные <span title=\"855363\"\">легковые <span title=\"855364\"\">автомобили<span title=\"855365\"\">, <span title=\"855366\"\">снегоходы<span title=\"855367\"\">, <span title=\"855368\"\">самолеты <span title=\"855369\"\">и <span title=\"855370\"\">катера<span title=\"855371\"\">. </p><p><span title=\"874605\"\">При <span title=\"874606\"\">проверке <span title=\"874607\"\">президентского <span title=\"874608\"\">самолета <span title=\"874609\"\">Ил-96-300 <span style=\"color:red;\" title=\"874610\"\">летом</span> <span title=\"874611\"\">2000 <span title=\"874612\"\">года <span title=\"874613\"\">был <span title=\"874614\"\">выявлен <span title=\"874615\"\">целый <span title=\"874616\"\">ряд <span title=\"874617\"\">технических <span title=\"874618\"\">неисправностей<span title=\"874619\"\">. </p><p><span title=\"898764\"\">Кроме <span title=\"898765\"\">того<span title=\"898766\"\">, <span style=\"color:red;\" title=\"898767\"\">Семена</span> <span title=\"898768\"\">Линецкого <span title=\"898769\"\">знают <span title=\"898770\"\">и <span title=\"898771\"\">в <span title=\"898772\"\">кассах <span title=\"898773\"\">спортивных <span title=\"898774\"\">арен<span title=\"898775\"\">, <span title=\"898776\"\">ведь <span title=\"898777\"\">и <span title=\"898778\"\">им <span title=\"898779\"\">запрещено <span title=\"898780\"\">продавать <span title=\"898781\"\">ему <span title=\"898782\"\">билеты<span title=\"898783\"\">. </p><p><span title=\"945662\"\">В <span style=\"color:red;\" title=\"945663\"\">шведском</span> <span title=\"945664\"\">городе <span title=\"945665\"\">Мальме <span title=\"945666\"\">закончено <span title=\"945667\"\">строительство <span title=\"945668\"\">самого <span title=\"945669\"\">высокого <span title=\"945670\"\">небоскреба <span title=\"945671\"\">на <span title=\"945672\"\">Скандинавском <span title=\"945673\"\">полуострове<span title=\"945674\"\">. </p><p><span title=\"948523\"\">Итальянский <span title=\"948524\"\">журналист <span style=\"color:red;\" title=\"948525\"\">Энцо</span> <span title=\"948526\"\">Балдони <span title=\"948527\"\">был <span title=\"948528\"\">казнен <span title=\"948529\"\">похитителями<span title=\"948530\"\">. </p><p><span title=\"952107\"\">Он <span title=\"952108\"\">напомнил<span title=\"952109\"\">, <span title=\"952110\"\">что <span title=\"952111\"\">товарооборот <span title=\"952112\"\">России <span title=\"952113\"\">и <span title=\"952114\"\">Италии <span title=\"952115\"\">за <span title=\"952116\"\">первое <span style=\"color:red;\" title=\"952117\"\">полугодие</span> <span title=\"952118\"\">2005 <span title=\"952119\"\">года <span title=\"952120\"\">вырос <span title=\"952121\"\">по <span title=\"952122\"\">сравнению <span title=\"952123\"\">с <span title=\"952124\"\">аналогичным <span title=\"952125\"\">периодом <span title=\"952126\"\">прошлого <span title=\"952127\"\">года <span title=\"952128\"\">на <span title=\"952129\"\">55 <span title=\"952130\"\">процентов<span title=\"952131\"\">, <span title=\"952132\"\">что<span title=\"952133\"\">, <span title=\"952134\"\">по <span title=\"952135\"\">словам <span title=\"952136\"\">президента<span title=\"952137\"\">, <span title=\"952138\"\">является <span title=\"952139\"\">рекордом <span title=\"952140\"\">в <span title=\"952141\"\">отношениях <span title=\"952142\"\">России <span title=\"952143\"\">с <span title=\"952144\"\">развитыми <span title=\"952145\"\">индустриальными <span title=\"952146\"\">странами<span title=\"952147\"\">.</p><p><span title=\"952378\"\">Над <span title=\"952379\"\">\"<span title=\"952380\"\">Изобилием<span title=\"952381\"\">\" <span title=\"952382\"\">(<span title=\"952383\"\">Dovizia<span title=\"952384\"\">) <span title=\"952385\"\">работали <span title=\"952386\"\">два <span title=\"952387\"\">скульптора <span title=\"952388\"\">- <span title=\"952389\"\">Джамболонья <span title=\"952390\"\">(<span title=\"952391\"\">Жан <span title=\"952392\"\">Булонь<span title=\"952393\"\">)<span title=\"952394\"\">, <span title=\"952395\"\">знаменитый <span title=\"952396\"\">последователь <span style=\"color:red;\" title=\"952397\"\">Бенвенуто</span> <span title=\"952398\"\">Челлини<span title=\"952399\"\">, <span title=\"952400\"\">и <span title=\"952401\"\">Пьетро <span title=\"952402\"\">Такка<span title=\"952403\"\">. </p><p><span title=\"980727\"\">Как <span title=\"980728\"\">передает <span title=\"980729\"\">агентство <span title=\"980730\"\">Reuters<span title=\"980731\"\">, <span title=\"980732\"\">бывший <span title=\"980733\"\">член <span title=\"980734\"\">ливанского <span title=\"980735\"\">парламента <span style=\"color:red;\" title=\"980736\"\">Насер</span> <span title=\"980737\"\">Кандиль<span title=\"980738\"\">, <span title=\"980739\"\">вопреки <span title=\"980740\"\">сообщениям <span title=\"980741\"\">появившимся <span title=\"980742\"\">в <span title=\"980743\"\">ряде <span title=\"980744\"\">СМИ<span title=\"980745\"\">, <span title=\"980746\"\">арестован <span title=\"980747\"\">не <span title=\"980748\"\">был<span title=\"980749\"\">. </p><p><span title=\"991149\"\">Бывший <span title=\"991150\"\">швейцарский <span title=\"991151\"\">офицер <span style=\"color:red;\" title=\"991152\"\">Дино</span> <span title=\"991153\"\">Беллази <span title=\"991154\"\">создал <span title=\"991155\"\">независимую <span title=\"991156\"\">от <span title=\"991157\"\">правительства <span title=\"991158\"\">Швейцарии <span title=\"991159\"\">армию<span title=\"991160\"\">. </p><p><span title=\"1006289\"\">Согласно <span title=\"1006290\"\">сведениям <span title=\"1006291\"\">полиции<span title=\"1006292\"\">, <span title=\"1006293\"\">некий <span style=\"color:red;\" title=\"1006294\"\">Ас-Сейид</span> <span title=\"1006295\"\">Сулейман <span title=\"1006296\"\">напал <span title=\"1006297\"\">на <span title=\"1006298\"\">Мубарака <span title=\"1006299\"\">с <span title=\"1006300\"\">ножом <span title=\"1006301\"\">в  <span title=\"1006302\"\">момент<span title=\"1006303\"\">, <span title=\"1006304\"\">когда <span title=\"1006305\"\">тот <span title=\"1006306\"\">находился <span title=\"1006307\"\">в <span title=\"1006308\"\">машине<span title=\"1006309\"\">. </p><p><span title=\"1006727\"\">По <span title=\"1006728\"\">словам <span title=\"1006729\"\">специалистов<span title=\"1006730\"\">, <span title=\"1006731\"\">это <span title=\"1006732\"\">был <span title=\"1006733\"\">первый <span title=\"1006734\"\">за <span title=\"1006735\"\">все <span title=\"1006736\"\">95<span title=\"1006737\"\">полетов <span title=\"1006738\"\">\"<span title=\"1006739\"\">шаттлов<span title=\"1006740\"\">\" <span title=\"1006741\"\">случай<span title=\"1006742\"\">, <span title=\"1006743\"\">когда <span title=\"1006744\"\">короткое <span title=\"1006745\"\">замыкание <span title=\"1006746\"\">произошло <span title=\"1006747\"\">привзлете<span title=\"1006748\"\">, <span title=\"1006749\"\">то <span title=\"1006750\"\">есть <span title=\"1006751\"\">на <span title=\"1006752\"\">самом <span style=\"color:red;\" title=\"1006753\"\">опасном</span> <span title=\"1006754\"\">отрезке <span title=\"1006755\"\">полета<span title=\"1006756\"\">. </p><p><span title=\"1024785\"\">В <span title=\"1024786\"\">одном <span title=\"1024787\"\">из <span title=\"1024788\"\">офисов <span title=\"1024789\"\">банка <span title=\"1024790\"\">\"<span title=\"1024791\"\">Российский <span title=\"1024792\"\">кредит<span title=\"1024793\"\">\"<span title=\"1024794\"\">, <span title=\"1024795\"\">расположенном <span title=\"1024796\"\">по <span title=\"1024797\"\">адресу <span style=\"color:red;\" title=\"1024798\"\">Варшавское</span> <span title=\"1024799\"\">шоссее<span title=\"1024800\"\">, <span title=\"1024801\"\">127 <span title=\"1024802\"\">(<span title=\"1024803\"\">в <span title=\"1024804\"\">помещении <span title=\"1024805\"\">магазина <span title=\"1024806\"\">\"<span title=\"1024807\"\">Сапфир<span title=\"1024808\"\">\"<span title=\"1024809\"\">)<span title=\"1024810\"\">, <span title=\"1024811\"\">обнаружено <span title=\"1024812\"\">взрывное <span title=\"1024813\"\">устройство<span title=\"1024814\"\">, <span title=\"1024815\"\">сообщило <span title=\"1024816\"\">агентство <span title=\"1024817\"\">\"<span title=\"1024818\"\">РосБизнесКонсалтинг<span title=\"1024819\"\">\" <span title=\"1024820\"\">в <span title=\"1024821\"\">18<span title=\"1024822\"\">:<span title=\"1024823\"\">48 <span title=\"1024824\"\">со <span title=\"1024825\"\">ссылкой <span title=\"1024826\"\">на <span title=\"1024827\"\">Главное <span title=\"1024828\"\">Управление <span title=\"1024829\"\">по <span title=\"1024830\"\">делам <span title=\"1024831\"\">гражданской <span title=\"1024832\"\">обороны <span title=\"1024833\"\">и <span title=\"1024834\"\">чрезвычайным <span title=\"1024835\"\">ситуациям <span title=\"1024836\"\">по <span title=\"1024837\"\">Москве<span title=\"1024838\"\">. </p><p><span title=\"1072472\"\">В <span title=\"1072473\"\">минувший <span title=\"1072474\"\">вторник <span title=\"1072475\"\">в <span title=\"1072476\"\">19 <span title=\"1072477\"\">городах <span title=\"1072478\"\">Сербии<span title=\"1072479\"\">, <span title=\"1072480\"\">в <span title=\"1072481\"\">том <span style=\"color:red;\" title=\"1072482\"\">числе</span> <span title=\"1072483\"\">Белграде<span title=\"1072484\"\">, <span title=\"1072485\"\">оппозиционный <span title=\"1072486\"\">Союз <span title=\"1072487\"\">за <span title=\"1072488\"\">перемены <span title=\"1072489\"\">открыл <span title=\"1072490\"\">моногочисленными <span title=\"1072491\"\">митингами <span title=\"1072492\"\">\"<span title=\"1072493\"\">бессрочную<span title=\"1072494\"\">\" <span title=\"1072495\"\">кампанию <span title=\"1072496\"\">протеста <span title=\"1072497\"\">с <span title=\"1072498\"\">требованием <span title=\"1072499\"\">отставки <span title=\"1072500\"\">президента <span title=\"1072501\"\">СРЮ <span title=\"1072502\"\">Слободана <span title=\"1072503\"\">Милошевича <span title=\"1072504\"\">и <span title=\"1072505\"\">создания <span title=\"1072506\"\">переходного <span title=\"1072507\"\">правительства<span title=\"1072508\"\">. </p><p><span title=\"1077498\"\">Бородин <span title=\"1077499\"\">не <span title=\"1077500\"\">исключил<span title=\"1077501\"\">, <span title=\"1077502\"\">что <span title=\"1077503\"\">на <span title=\"1077504\"\">ОРТ <span title=\"1077505\"\">была <span title=\"1077506\"\">допущена <span title=\"1077507\"\">ошибка <span title=\"1077508\"\">\"<span title=\"1077509\"\">недостаточно <span title=\"1077510\"\">квалифицированного <span title=\"1077511\"\">переводчика<span title=\"1077512\"\">\"<span title=\"1077513\"\">, <span title=\"1077514\"\">поскольку <span title=\"1077515\"\">в <span style=\"color:red;\" title=\"1077516\"\">дословном</span> <span title=\"1077517\"\">переводе <span title=\"1077518\"\">публикации <span title=\"1077519\"\">речь <span title=\"1077520\"\">идет <span title=\"1077521\"\">о <span title=\"1077522\"\">переводе <span title=\"1077523\"\">конезаводу <span title=\"1077524\"\">денег <span title=\"1077525\"\">за <span title=\"1077526\"\">покупку <span title=\"1077527\"\">\"<span title=\"1077528\"\">одним <span title=\"1077529\"\">из <span title=\"1077530\"\">московских <span title=\"1077531\"\">банков<span title=\"1077532\"\">\"<span title=\"1077533\"\">. </p><p><span title=\"1086219\"\">Согласно <span style=\"color:red;\" title=\"1086220\"\">новому</span> <span title=\"1086221\"\">докладу<span title=\"1086222\"\">, <span title=\"1086223\"\">в <span title=\"1086224\"\">стратегии <span title=\"1086225\"\">США <span title=\"1086226\"\">по <span title=\"1086227\"\">пресечению <span title=\"1086228\"\">финансовых <span title=\"1086229\"\">потоков<span title=\"1086230\"\">, <span title=\"1086231\"\">питающих <span title=\"1086232\"\">деятельность <span title=\"1086233\"\">преступных <span title=\"1086234\"\">сообществ<span title=\"1086235\"\">, <span title=\"1086236\"\">выделяются <span title=\"1086237\"\">4 <span title=\"1086238\"\">основные <span title=\"1086239\"\">направления<span title=\"1086240\"\">: <span title=\"1086241\"\">усиление <span title=\"1086242\"\">правоохранительной <span title=\"1086243\"\">деятельности <span title=\"1086244\"\">внутри <span title=\"1086245\"\">страны<span title=\"1086246\"\">, <span title=\"1086247\"\">улучшение <span title=\"1086248\"\">сотрудничества <span title=\"1086249\"\">госструктур <span title=\"1086250\"\">с <span title=\"1086251\"\">частным <span title=\"1086252\"\">бизнесом<span title=\"1086253\"\">, <span title=\"1086254\"\">совершенствование <span title=\"1086255\"\">взаимодействия <span title=\"1086256\"\">федерального <span title=\"1086257\"\">правительства <span title=\"1086258\"\">с <span title=\"1086259\"\">властями <span title=\"1086260\"\">в <span title=\"1086261\"\">штатах <span title=\"1086262\"\">и <span title=\"1086263\"\">на <span title=\"1086264\"\">местах<span title=\"1086265\"\">, <span title=\"1086266\"\">активизиация <span title=\"1086267\"\">международного <span title=\"1086268\"\">сотрудничества<span title=\"1086269\"\">. </p><p><span title=\"1097470\"\">Международная <span title=\"1097471\"\">федерация <span title=\"1097472\"\">индустрии <span title=\"1097473\"\">звукозаписи <span title=\"1097474\"\">(<span title=\"1097475\"\">IFPI<span title=\"1097476\"\">) <span title=\"1097477\"\">опубликовала <span title=\"1097478\"\">отчет<span title=\"1097479\"\">, <span title=\"1097480\"\">согласно <span title=\"1097481\"\">которому <span title=\"1097482\"\">объем <span title=\"1097483\"\">продаж <span title=\"1097484\"\">музыкальных <span title=\"1097485\"\">записей <span title=\"1097486\"\">за <span title=\"1097487\"\">первое <span style=\"color:red;\" title=\"1097488\"\">полугодие</span> <span title=\"1097489\"\">1999 <span title=\"1097490\"\">года <span title=\"1097491\"\">снизился <span title=\"1097492\"\">в <span title=\"1097493\"\">мире <span title=\"1097494\"\">в <span title=\"1097495\"\">среднем <span title=\"1097496\"\">на <span title=\"1097497\"\">4 <span title=\"1097498\"\">процента<span title=\"1097499\"\">. </p><p><span title=\"1157056\"\">По <span title=\"1157057\"\">мнению <span title=\"1157058\"\">экспертов <span title=\"1157059\"\">бюджетного <span title=\"1157060\"\">комитета <span title=\"1157061\"\">закон <span title=\"1157062\"\">требует <span title=\"1157063\"\">содержит <span title=\"1157064\"\">положения<span title=\"1157065\"\">, <span title=\"1157066\"\">противоречащие <span title=\"1157067\"\">действующему <span title=\"1157068\"\">законодательству<span title=\"1157069\"\">, <span title=\"1157070\"\">в <span title=\"1157071\"\">частности<span title=\"1157072\"\">, <span style=\"color:red;\" title=\"1157073\"\">Гражданскому</span> <span title=\"1157074\"\">кодексу <span title=\"1157075\"\">РФ<span title=\"1157076\"\">, <span title=\"1157077\"\">где <span title=\"1157078\"\">говорится<span title=\"1157079\"\">, <span title=\"1157080\"\">что <span title=\"1157081\"\">вклады <span title=\"1157082\"\">граждан <span title=\"1157083\"\">должны <span title=\"1157084\"\">обеспечиваться <span title=\"1157085\"\">путем <span title=\"1157086\"\">страхования<span title=\"1157087\"\">. </p><p><span title=\"1189439\"\">Похищенный <span title=\"1189440\"\">вечером <span title=\"1189441\"\">в <span title=\"1189442\"\">понедельник <span title=\"1189443\"\">бывший <span title=\"1189444\"\">министр <span title=\"1189445\"\">палестинского <span title=\"1189446\"\">правительства <span title=\"1189447\"\">от <span style=\"color:red;\" title=\"1189448\"\">движения</span> <span title=\"1189449\"\">ФАТХ <span title=\"1189450\"\">Суфиан <span title=\"1189451\"\">Абу <span title=\"1189452\"\">Зайда <span title=\"1189453\"\">(<span title=\"1189454\"\">Sufian <span title=\"1189455\"\">Abu <span title=\"1189456\"\">Zayda<span title=\"1189457\"\">) <span title=\"1189458\"\">был <span title=\"1189459\"\">освобожден <span title=\"1189460\"\">через <span title=\"1189461\"\">несколько <span title=\"1189462\"\">часов <span title=\"1189463\"\">после <span title=\"1189464\"\">похищения<span title=\"1189465\"\">, <span title=\"1189466\"\">сообщается <span title=\"1189467\"\">на <span title=\"1189468\"\">сайте <span title=\"1189469\"\">газеты <span title=\"1189470\"\">Ha<span title=\"1189471\"\">'<span title=\"1189472\"\">aretz<span title=\"1189473\"\">. </p><p><span title=\"1209258\"\">Самые <span title=\"1209259\"\">суровые <span title=\"1209260\"\">санкции <span title=\"1209261\"\">применены <span title=\"1209262\"\">в <span title=\"1209263\"\">отношении <span title=\"1209264\"\">лучшего <span title=\"1209265\"\">снайпера <span title=\"1209266\"\">лиги <span style=\"color:red;\" title=\"1209267\"\">Кармело</span> <span title=\"1209268\"\">Энтони<span title=\"1209269\"\">, <span title=\"1209270\"\">который <span title=\"1209271\"\">дисквалифицирован <span title=\"1209272\"\">на <span title=\"1209273\"\">15 <span title=\"1209274\"\">матчей<span title=\"1209275\"\">. </p><p><span title=\"1210307\"\">Напомним<span title=\"1210308\"\">, <span title=\"1210309\"\">что <span title=\"1210310\"\">18 <span title=\"1210311\"\">декабря <span title=\"1210312\"\">был <span title=\"1210313\"\">арестован <span title=\"1210314\"\">37-летний <span title=\"1210315\"\">бывший <span title=\"1210316\"\">полицейский<span title=\"1210317\"\">, <span title=\"1210318\"\">а <span title=\"1210319\"\">ныне <span title=\"1210320\"\">работник <span title=\"1210321\"\">супермаркета <span style=\"color:red;\" title=\"1210322\"\">Том</span> <span title=\"1210323\"\">Стивенс<span title=\"1210324\"\">, <span title=\"1210325\"\">который <span title=\"1210326\"\">хорошо <span title=\"1210327\"\">знал <span title=\"1210328\"\">убитых <span title=\"1210329\"\">девушек<span title=\"1210330\"\">. </p><p><span title=\"1220481\"\">В <span style=\"color:red;\" title=\"1220482\"\">течение</span> <span title=\"1220483\"\">2006 <span title=\"1220484\"\">года <span title=\"1220485\"\">были <span title=\"1220486\"\">прекращены <span title=\"1220487\"\">аналогичные <span title=\"1220488\"\">дела <span title=\"1220489\"\">против <span title=\"1220490\"\">лауреата <span title=\"1220491\"\">Нобелевской <span title=\"1220492\"\">премии <span title=\"1220493\"\">по <span title=\"1220494\"\">литературе <span title=\"1220495\"\">Орхана <span title=\"1220496\"\">Памука <span title=\"1220497\"\">и <span title=\"1220498\"\">писательницы <span title=\"1220499\"\">Элиф <span title=\"1220500\"\">Шафак <span title=\"1220501\"\">(<span title=\"1220502\"\">Elif <span title=\"1220503\"\">Shafak<span title=\"1220504\"\">)<span title=\"1220505\"\">.</p><p><span title=\"1309186\"\">На <span title=\"1309187\"\">сгоревшем <span title=\"1309188\"\">в <span style=\"color:red;\" title=\"1309189\"\">Подмосковье</span> <span title=\"1309190\"\">теплоходе <span title=\"1309191\"\">обнаружен <span title=\"1309192\"\">труп <span title=\"1309193\"\">мужчины<span title=\"1309194\"\">, <span title=\"1309195\"\">сообщает <span title=\"1309196\"\">ИА <span title=\"1309197\"\">\"<span title=\"1309198\"\">Регнум<span title=\"1309199\"\">\" <span title=\"1309200\"\">со <span title=\"1309201\"\">ссылкой <span title=\"1309202\"\">на <span title=\"1309203\"\">представителя <span title=\"1309204\"\">МЧС<span title=\"1309205\"\">. </p><p><span title=\"1315658\"\">Отмечается<span title=\"1315659\"\">, <span title=\"1315660\"\">что <span title=\"1315661\"\">уровень <span title=\"1315662\"\">интенсивности <span title=\"1315663\"\">перехватываемых <span title=\"1315664\"\">спецслужбами <span title=\"1315665\"\">переговоров <span title=\"1315666\"\">между <span title=\"1315667\"\">террористами <span title=\"1315668\"\">в <span title=\"1315669\"\">канун <span style=\"color:red;\" title=\"1315670\"\">Рождества</span> <span title=\"1315671\"\">2006 <span title=\"1315672\"\">года <span title=\"1315673\"\">оказался <span title=\"1315674\"\">самым <span title=\"1315675\"\">высоким <span title=\"1315676\"\">с <span title=\"1315677\"\">2001 <span title=\"1315678\"\">года<span title=\"1315679\"\">, <span title=\"1315680\"\">когда<span title=\"1315681\"\">, <span title=\"1315682\"\">напомним<span title=\"1315683\"\">, <span title=\"1315684\"\">произошли <span title=\"1315685\"\">теракты <span title=\"1315686\"\">11 <span title=\"1315687\"\">сентября <span title=\"1315688\"\">в <span title=\"1315689\"\">США<span title=\"1315690\"\">. </p><p><span title=\"1330590\"\">После <span title=\"1330591\"\">возвращения <span title=\"1330592\"\">из <span title=\"1330593\"\">заключения <span title=\"1330594\"\">Браун <span title=\"1330595\"\">вновь <span title=\"1330596\"\">появился <span title=\"1330597\"\">на <span title=\"1330598\"\">сцене<span title=\"1330599\"\">, <span title=\"1330600\"\">записал <span title=\"1330601\"\">несколько <span title=\"1330602\"\">альбомов<span title=\"1330603\"\">, <span title=\"1330604\"\">а <span title=\"1330605\"\">в <span style=\"color:red;\" title=\"1330606\"\">начале</span> <span title=\"1330607\"\">2006 <span title=\"1330608\"\">года <span title=\"1330609\"\">отправился <span title=\"1330610\"\">в <span title=\"1330611\"\">турне <span title=\"1330612\"\">по <span title=\"1330613\"\">США <span title=\"1330614\"\">под <span title=\"1330615\"\">названием <span title=\"1330616\"\">\"<span title=\"1330617\"\">Seven <span title=\"1330618\"\">Decades <span title=\"1330619\"\">Of <span title=\"1330620\"\">Funk <span title=\"1330621\"\">World <span title=\"1330622\"\">Tour<span title=\"1330623\"\">\"<span title=\"1330624\"\">. </p><p><span title=\"1341110\"\">Все <span title=\"1341111\"\">объекты<span title=\"1341112\"\">, <span title=\"1341113\"\">которые <span title=\"1341114\"\">использовались <span title=\"1341115\"\">ГРВЗ <span title=\"1341116\"\">в <span title=\"1341117\"\">Тбилиси<span title=\"1341118\"\">, <span title=\"1341119\"\">в <span title=\"1341120\"\">том <span style=\"color:red;\" title=\"1341121\"\">числе</span> <span title=\"1341122\"\">комплекс <span title=\"1341123\"\">штабных <span title=\"1341124\"\">зданий<span title=\"1341125\"\">, <span title=\"1341126\"\">переданы <span title=\"1341127\"\">грузинской <span title=\"1341128\"\">стороне <span title=\"1341129\"\">в <span title=\"1341130\"\">официальном <span title=\"1341131\"\">порядке<span title=\"1341132\"\">.</p><p><span title=\"1351095\"\">По <span title=\"1351096\"\">данным <span title=\"1351097\"\">обвинения<span title=\"1351098\"\">, <span title=\"1351099\"\">Кондратьев <span title=\"1351100\"\">и <span title=\"1351101\"\">Борисенко <span title=\"1351102\"\">убили <span title=\"1351103\"\">и <span title=\"1351104\"\">ограбили <span title=\"1351105\"\">39-летнего <span title=\"1351106\"\">шведского <span title=\"1351107\"\">таксиста <span style=\"color:red;\" title=\"1351108\"\">Ярмо</span> <span title=\"1351109\"\">Пистооля<span title=\"1351110\"\">. </p><p><span title=\"1382986\"\">В <span title=\"1382987\"\">Махачкале <span title=\"1382988\"\">убит <span title=\"1382989\"\">депутат <span title=\"1382990\"\">Народного <span title=\"1382991\"\">собрания <span title=\"1382992\"\">Дагестана <span style=\"color:red;\" title=\"1382993\"\">Салам</span> <span title=\"1382994\"\">Магомедов<span title=\"1382995\"\">, <span title=\"1382996\"\">сообщает <span title=\"1382997\"\">РИА <span title=\"1382998\"\">\"<span title=\"1382999\"\">Новости<span title=\"1383000\"\">\"<span title=\"1383001\"\">. </p><p><span title=\"1426726\"\">4 <span title=\"1426727\"\">декабря <span title=\"1426728\"\">директор <span title=\"1426729\"\">клиники <span title=\"1426730\"\">профессор <span style=\"color:red;\" title=\"1426731\"\">Удо</span> <span title=\"1426732\"\">Энгельман <span title=\"1426733\"\">и <span title=\"1426734\"\">заведующий <span title=\"1426735\"\">отделением <span title=\"1426736\"\">Марк <span title=\"1426737\"\">Орловский <span title=\"1426738\"\">в <span title=\"1426739\"\">плановом <span title=\"1426740\"\">порядке <span title=\"1426741\"\">провели <span title=\"1426742\"\">ему <span title=\"1426743\"\">операцию <span title=\"1426744\"\">по <span title=\"1426745\"\">удалению <span title=\"1426746\"\">аденомы<span title=\"1426747\"\">. </p><p><span title=\"1461615\"\">Режиссер <span title=\"1461616\"\">- <span style=\"color:red;\" title=\"1461617\"\">Том</span> <span title=\"1461618\"\">Дей<span title=\"1461619\"\">. </p><p><span style=\"color:red;\" title=\"1513774\"\">Том</span> <span title=\"1513775\"\">Кин<span title=\"1513776\"\">, <span title=\"1513777\"\">бывший <span title=\"1513778\"\">губернатором <span title=\"1513779\"\">с <span title=\"1513780\"\">1982 <span title=\"1513781\"\">по <span title=\"1513782\"\">1990 <span title=\"1513783\"\">годы<span title=\"1513784\"\">, <span title=\"1513785\"\">в <span title=\"1513786\"\">настоящее <span title=\"1513787\"\">время <span title=\"1513788\"\">является <span title=\"1513789\"\">президентом <span title=\"1513790\"\">университета <span title=\"1513791\"\">Drew <span title=\"1513792\"\">University<span title=\"1513793\"\">. </p><p><span title=\"1558636\"\">\"<span title=\"1558637\"\">Но <span title=\"1558638\"\">все <span title=\"1558639\"\">это <span title=\"1558640\"\">будет <span title=\"1558641\"\">в <span title=\"1558642\"\">рамках <span title=\"1558643\"\">оценки<span title=\"1558644\"\">, <span title=\"1558645\"\">которая <span title=\"1558646\"\">сейчас <span title=\"1558647\"\">проводится<span title=\"1558648\"\">\"<span title=\"1558649\"\">, <span title=\"1558650\"\">- <span title=\"1558651\"\">подчеркнул <span title=\"1558652\"\">глава <span style=\"color:red;\" title=\"1558653\"\">Росимущества</span> <span title=\"1558654\"\">Назаров<span title=\"1558655\"\">. </p><p><span title=\"1561397\"\">Между <span title=\"1561398\"\">тем <span title=\"1561399\"\">в <span style=\"color:red;\" title=\"1561400\"\">судебном</span> <span title=\"1561401\"\">процессе <span title=\"1561402\"\">был <span title=\"1561403\"\">объявлен <span title=\"1561404\"\">перерыв <span title=\"1561405\"\">до <span title=\"1561406\"\">15 <span title=\"1561407\"\">декабря <span title=\"1561408\"\">- <span title=\"1561409\"\">в <span title=\"1561410\"\">связи <span title=\"1561411\"\">с <span title=\"1561412\"\">тем<span title=\"1561413\"\">, <span title=\"1561414\"\">что <span title=\"1561415\"\">адвокат <span title=\"1561416\"\">подсудимого <span title=\"1561417\"\">заболел<span title=\"1561418\"\">. </p><p><span title=\"1623981\"\">На <span title=\"1623982\"\">втором <span title=\"1623983\"\">месте <span title=\"1623984\"\">расположилась <span title=\"1623985\"\">актерская <span title=\"1623986\"\">пара <span title=\"1623987\"\">Кэти <span title=\"1623988\"\">Холмс <span title=\"1623989\"\">(<span title=\"1623990\"\">Katie <span title=\"1623991\"\">Holmes<span title=\"1623992\"\">) <span title=\"1623993\"\">и <span style=\"color:red;\" title=\"1623994\"\">Том</span> <span title=\"1623995\"\">Круз <span title=\"1623996\"\">(<span title=\"1623997\"\">Tom <span title=\"1623998\"\">Cruise<span title=\"1623999\"\">)<span title=\"1624000\"\">. </p><p><span title=\"1677140\"\">\"<span title=\"1677141\"\">Максимальная <span title=\"1677142\"\">концентрация <span title=\"1677143\"\">нитробензола <span title=\"1677144\"\">от <span title=\"1677145\"\">села <span title=\"1677146\"\">Нижнеленинское <span title=\"1677147\"\">на <span style=\"color:red;\" title=\"1677148\"\">правом</span> <span title=\"1677149\"\">берегу <span title=\"1677150\"\">реки <span title=\"1677151\"\">Амур <span title=\"1677152\"\">(<span title=\"1677153\"\">КНР<span title=\"1677154\"\">) <span title=\"1677155\"\">составляла <span title=\"1677156\"\">0,209 <span title=\"1677157\"\">миллиграммов <span title=\"1677158\"\">на <span title=\"1677159\"\">литр<span title=\"1677160\"\">, <span title=\"1677161\"\">что <span title=\"1677162\"\">соответствует <span title=\"1677163\"\">1,05 <span title=\"1677164\"\">предельно <span title=\"1677165\"\">допустимой <span title=\"1677166\"\">концентрации <span title=\"1677167\"\">по <span title=\"1677168\"\">российским <span title=\"1677169\"\">стандартам<span title=\"1677170\"\">\"<span title=\"1677171\"\">, <span title=\"1677172\"\">- <span title=\"1677173\"\">заявили <span title=\"1677174\"\">агентству <span title=\"1677175\"\">в <span title=\"1677176\"\">пресс-службе <span title=\"1677177\"\">Дальневосточного <span title=\"1677178\"\">регионального <span title=\"1677179\"\">центра <span title=\"1677180\"\">МЧС<span title=\"1677181\"\">. </p><p><span title=\"1679830\"\">От <span title=\"1679831\"\">полученных <span title=\"1679832\"\">травм <span title=\"1679833\"\">скончался <span title=\"1679834\"\">перуанец <span title=\"1679835\"\">Анхелис <span style=\"color:red;\" title=\"1679836\"\">Уртадо</span> <span title=\"1679837\"\">Энрике<span title=\"1679838\"\">. </p><p><span title=\"1716904\"\">Ожидается<span title=\"1716905\"\">, <span title=\"1716906\"\">что <span title=\"1716907\"\">в <span style=\"color:red;\" title=\"1716908\"\">будущем</span> <span title=\"1716909\"\">году <span title=\"1716910\"\">эта <span title=\"1716911\"\">цифра <span title=\"1716912\"\">составит <span title=\"1716913\"\">2,25 <span title=\"1716914\"\">миллиарда<span title=\"1716915\"\">. </p><p><span title=\"1732665\"\">Как <span title=\"1732666\"\">сообщает <span title=\"1732667\"\">РИА <span title=\"1732668\"\">Новости<span title=\"1732669\"\">, <span title=\"1732670\"\">в <span title=\"1732671\"\">ходе <span title=\"1732672\"\">церемонии <span title=\"1732673\"\">президент <span title=\"1732674\"\">Владимир <span title=\"1732675\"\">Путин <span title=\"1732676\"\">наградил <span title=\"1732677\"\">44 <span title=\"1732678\"\">россиянина<span title=\"1732679\"\">, <span title=\"1732680\"\">в <span title=\"1732681\"\">том <span style=\"color:red;\" title=\"1732682\"\">числе</span> <span title=\"1732683\"\">ряд <span title=\"1732684\"\">выдающихся <span title=\"1732685\"\">деятелей <span title=\"1732686\"\">культуры<span title=\"1732687\"\">. </p><p><span title=\"1751205\"\">Увеличение <span title=\"1751206\"\">военного <span title=\"1751207\"\">бюджета <span title=\"1751208\"\">Китая <span title=\"1751209\"\">представляет <span title=\"1751210\"\">угрозу <span title=\"1751211\"\">для <span title=\"1751212\"\">соседних <span title=\"1751213\"\">стран<span title=\"1751214\"\">, <span title=\"1751215\"\">заявил <span title=\"1751216\"\">22 <span title=\"1751217\"\">декабря <span title=\"1751218\"\">министр <span title=\"1751219\"\">иностранных <span title=\"1751220\"\">дел <span title=\"1751221\"\">Японии <span style=\"color:red;\" title=\"1751222\"\">Таро</span> <span title=\"1751223\"\">Асо<span title=\"1751224\"\">.  </p><p><span title=\"1762242\"\">Родитель <span title=\"1762243\"\">взял <span title=\"1762244\"\">псевдоним <span title=\"1762245\"\">Jimmy<span title=\"1762246\"\">, <span title=\"1762247\"\">выдавая <span title=\"1762248\"\">себя <span title=\"1762249\"\">за <span style=\"color:red;\" title=\"1762250\"\">14-летнего</span> <span title=\"1762251\"\">мальчика <span title=\"1762252\"\">и <span title=\"1762253\"\">обменивался <span title=\"1762254\"\">письмами <span title=\"1762255\"\">с <span title=\"1762256\"\">CoachBoca<span title=\"1762257\"\">, <span title=\"1762258\"\">который <span title=\"1762259\"\">представился <span title=\"1762260\"\">школьным <span title=\"1762261\"\">учителем<span title=\"1762262\"\">. </p><p><span title=\"1806903\"\">Судьбу <span title=\"1806904\"\">матча <span title=\"1806905\"\">\"<span title=\"1806906\"\">Анжи<span title=\"1806907\"\">\" <span title=\"1806908\"\">- <span title=\"1806909\"\">\"<span title=\"1806910\"\">Торпедо<span title=\"1806911\"\">\" <span title=\"1806912\"\">(<span title=\"1806913\"\">Москва<span title=\"1806914\"\">) <span title=\"1806915\"\">решил <span title=\"1806916\"\">точный <span title=\"1806917\"\">удар <span title=\"1806918\"\">новобранца <span title=\"1806919\"\">дагестанской <span title=\"1806920\"\">команды <span title=\"1806921\"\">- <span title=\"1806922\"\">камерунца <span style=\"color:red;\" title=\"1806923\"\">Пинси</span> <span title=\"1806924\"\">Биллонга<span title=\"1806925\"\">, <span title=\"1806926\"\">который <span title=\"1806927\"\">поразил <span title=\"1806928\"\">ворота <span title=\"1806929\"\">москвичей <span title=\"1806930\"\">на <span title=\"1806931\"\">83-й <span title=\"1806932\"\">минуте<span title=\"1806933\"\">. </p><p><span title=\"1834366\"\">В <span style=\"color:red;\" title=\"1834367\"\">том</span> <span title=\"1834368\"\">бою <span title=\"1834369\"\">год <span title=\"1834370\"\">назад <span title=\"1834371\"\">погибли <span title=\"1834372\"\">84 <span title=\"1834373\"\">десантника<span title=\"1834374\"\">. </p><p><span title=\"1901355\"\">Британский <span title=\"1901356\"\">певец <span style=\"color:red;\" title=\"1901357\"\">Робби</span> <span title=\"1901358\"\">Уильямс <span title=\"1901359\"\">не <span title=\"1901360\"\">на <span title=\"1901361\"\">шутку <span title=\"1901362\"\">увлекся <span title=\"1901363\"\">буддизмом <span title=\"1901364\"\">и <span title=\"1901365\"\">медитациями<span title=\"1901366\"\">. </p><p><span title=\"1904362\"\">В <span title=\"1904363\"\">результате <span title=\"1904364\"\">только <span style=\"color:red;\" title=\"1904365\"\">лицензирования</span> <span title=\"1904366\"\">бюджет <span title=\"1904367\"\">должен <span title=\"1904368\"\">будет <span title=\"1904369\"\">получить <span title=\"1904370\"\">около <span title=\"1904371\"\">160 <span title=\"1904372\"\">тысяч <span title=\"1904373\"\">долларов<span title=\"1904374\"\">, <span title=\"1904375\"\">а <span title=\"1904376\"\">ежегодные <span title=\"1904377\"\">выплаты <span title=\"1904378\"\">всех <span title=\"1904379\"\">российских <span title=\"1904380\"\">интернет <span title=\"1904381\"\">кафе<span title=\"1904382\"\">, <span title=\"1904383\"\">салонов<span title=\"1904384\"\">, <span title=\"1904385\"\">клубов <span title=\"1904386\"\">и <span title=\"1904387\"\">других <span title=\"1904388\"\">подобных <span title=\"1904389\"\">организаций <span title=\"1904390\"\">могут <span title=\"1904391\"\">принести <span title=\"1904392\"\">до <span title=\"1904393\"\">500 <span title=\"1904394\"\">тысяч <span title=\"1904395\"\">долларов<span title=\"1904396\"\">. </p><p><span title=\"1943844\"\">С <span style=\"color:red;\" title=\"1943845\"\">начала</span> <span title=\"1943846\"\">2003 <span title=\"1943847\"\">года <span title=\"1943848\"\">сотрудниками <span title=\"1943849\"\">Федеральной <span title=\"1943850\"\">службы <span title=\"1943851\"\">по <span title=\"1943852\"\">борьбе <span title=\"1943853\"\">с <span title=\"1943854\"\">экономическими <span title=\"1943855\"\">и <span title=\"1943856\"\">налоговыми <span title=\"1943857\"\">преступлениями <span title=\"1943858\"\">(<span title=\"1943859\"\">ФСЭНП<span title=\"1943860\"\">) <span title=\"1943861\"\">в <span title=\"1943862\"\">двадцати <span title=\"1943863\"\">регионах <span title=\"1943864\"\">страны <span title=\"1943865\"\">выявлено <span title=\"1943866\"\">93 <span title=\"1943867\"\">правонарушения<span title=\"1943868\"\">, <span title=\"1943869\"\">связанных <span title=\"1943870\"\">с <span title=\"1943871\"\">организацией <span title=\"1943872\"\">финансовых <span title=\"1943873\"\">пирамид<span title=\"1943874\"\">, <span title=\"1943875\"\">сообщает <span title=\"1943876\"\">в <span title=\"1943877\"\">пятницу <span title=\"1943878\"\">РИА <span title=\"1943879\"\">\"<span title=\"1943880\"\">Новости<span title=\"1943881\"\">\"<span title=\"1943882\"\">. </p><p><span title=\"2000691\"\">Действие <span title=\"2000692\"\">его <span title=\"2000693\"\">происходит <span title=\"2000694\"\">в <span title=\"2000695\"\">1910-е <span title=\"2000696\"\">годы <span title=\"2000697\"\">во <span title=\"2000698\"\">Флоренции<span title=\"2000699\"\">, <span title=\"2000700\"\">тогдашней <span title=\"2000701\"\">интеллектуальной <span title=\"2000702\"\">столице <span title=\"2000703\"\">Италии<span title=\"2000704\"\">, <span title=\"2000705\"\">а <span title=\"2000706\"\">один <span title=\"2000707\"\">из <span title=\"2000708\"\">персонажей <span title=\"2000709\"\">- <span title=\"2000710\"\">будущий <span title=\"2000711\"\">знаменитый <span title=\"2000712\"\">поэт <span title=\"2000713\"\">и <span title=\"2000714\"\">писатель <span style=\"color:red;\" title=\"2000715\"\">Дино</span> <span title=\"2000716\"\">Кампана<span title=\"2000717\"\">. </p><p><span title=\"2046352\"\">Министр <span title=\"2046353\"\">внутренней <span title=\"2046354\"\">безопасности <span title=\"2046355\"\">США <span style=\"color:red;\" title=\"2046356\"\">Том</span> <span title=\"2046357\"\">Ридж<span title=\"2046358\"\">, <span title=\"2046359\"\">посетивший <span title=\"2046360\"\">в <span title=\"2046361\"\">субботу <span title=\"2046362\"\">спасательный <span title=\"2046363\"\">центр <span title=\"2046364\"\">в <span title=\"2046365\"\">Клермонте<span title=\"2046366\"\">, <span title=\"2046367\"\">заявил<span title=\"2046368\"\">, <span title=\"2046369\"\">что <span title=\"2046370\"\">возникшие <span title=\"2046371\"\">в <span title=\"2046372\"\">Калифорнии <span title=\"2046373\"\">пожары<span title=\"2046374\"\">, <span title=\"2046375\"\">возможно<span title=\"2046376\"\">, <span title=\"2046377\"\">являются <span title=\"2046378\"\">самыми <span title=\"2046379\"\">крупными <span title=\"2046380\"\">за <span title=\"2046381\"\">всю <span title=\"2046382\"\">историю <span title=\"2046383\"\">США<span title=\"2046384\"\">. </p><p><span title=\"2051065\"\">Второе <span title=\"2051066\"\">место <span title=\"2051067\"\">в <span title=\"2051068\"\">списке <span title=\"2051069\"\">досталось <span title=\"2051070\"\">британскому <span title=\"2051071\"\">телемагнату <span title=\"2051072\"\">Джону <span title=\"2051073\"\">Кодуэллу <span title=\"2051074\"\">(<span title=\"2051075\"\">John <span title=\"2051076\"\">Caudwell<span title=\"2051077\"\">)<span title=\"2051078\"\">, <span title=\"2051079\"\">получившему <span title=\"2051080\"\">в <span style=\"color:red;\" title=\"2051081\"\">прошедшем</span> <span title=\"2051082\"\">году <span title=\"2051083\"\">от <span title=\"2051084\"\">продажи <span title=\"2051085\"\">своей <span title=\"2051086\"\">подконтрольной <span title=\"2051087\"\">компании <span title=\"2051088\"\">Singlepoint <span title=\"2051089\"\">фирме <span title=\"2051090\"\">Vodafone <span title=\"2051091\"\">397 <span title=\"2051092\"\">миллионов <span title=\"2051093\"\">фунтов<span title=\"2051094\"\">. </p><p><span title=\"2057063\"\">В <span style=\"color:red;\" title=\"2057064\"\">течение</span> <span title=\"2057065\"\">2002 <span title=\"2057066\"\">года <span title=\"2057067\"\">был <span title=\"2057068\"\">организован <span title=\"2057069\"\">доступ <span title=\"2057070\"\">для <span title=\"2057071\"\">92 <span title=\"2057072\"\">инспекций<span title=\"2057073\"\">, <span title=\"2057074\"\">что <span title=\"2057075\"\">позволило <span title=\"2057076\"\">охватить <span title=\"2057077\"\">практически <span title=\"2057078\"\">все <span title=\"2057079\"\">субъекты <span title=\"2057080\"\">РФ<span title=\"2057081\"\">. </p><p><span title=\"2070934\"\">\"<span title=\"2070935\"\">Те <span title=\"2070936\"\">обвинения<span title=\"2070937\"\">, <span title=\"2070938\"\">которые <span title=\"2070939\"\">прокуратура <span title=\"2070940\"\">выдвигает <span title=\"2070941\"\">против <span title=\"2070942\"\">руководителей <span title=\"2070943\"\">компании<span title=\"2070944\"\">, <span title=\"2070945\"\">они <span title=\"2070946\"\">должны <span title=\"2070947\"\">быть <span title=\"2070948\"\">в <span style=\"color:red;\" title=\"2070949\"\">публичном</span> <span title=\"2070950\"\">процессе <span title=\"2070951\"\">доказаны <span title=\"2070952\"\">прокуратурой <span title=\"2070953\"\">в <span title=\"2070954\"\">суде<span title=\"2070955\"\">, <span title=\"2070956\"\">- <span title=\"2070957\"\">сказал <span title=\"2070958\"\">президент<span title=\"2070959\"\">. </p><p><span title=\"2075953\"\">Впрочем<span title=\"2075954\"\">, <span title=\"2075955\"\">сказал  <span title=\"2075956\"\">Reuters<span title=\"2075957\"\">'<span title=\"2075958\"\">у <span title=\"2075959\"\">руководитель <span title=\"2075960\"\">работ<span title=\"2075961\"\">, <span title=\"2075962\"\">профессор <span title=\"2075963\"\">патанатомии <span title=\"2075964\"\">Падуанского <span title=\"2075965\"\">университета <span style=\"color:red;\" title=\"2075966\"\">Вито</span> <span title=\"2075967\"\">Террибиле <span title=\"2075968\"\">Вайль <span title=\"2075969\"\">Марин <span title=\"2075970\"\">(<span title=\"2075971\"\">Vito <span title=\"2075972\"\">Terribile <span title=\"2075973\"\">Wiel <span title=\"2075974\"\">Marin<span title=\"2075975\"\">)<span title=\"2075976\"\">, <span title=\"2075977\"\">последнее <span title=\"2075978\"\">маловероятно<span title=\"2075979\"\">, <span title=\"2075980\"\">так <span title=\"2075981\"\">как <span title=\"2075982\"\">в <span title=\"2075983\"\">этом <span title=\"2075984\"\">случае <span title=\"2075985\"\">он <span title=\"2075986\"\">вошел <span title=\"2075987\"\">бы <span title=\"2075988\"\">в <span title=\"2075989\"\">историю <span title=\"2075990\"\">не <span title=\"2075991\"\">как <span title=\"2075992\"\">нежный <span title=\"2075993\"\">воздыхатель <span title=\"2075994\"\">Лауры <span title=\"2075995\"\">и <span title=\"2075996\"\">великий <span title=\"2075997\"\">ученый-гуманист<span title=\"2075998\"\">, <span title=\"2075999\"\">а <span title=\"2076000\"\">как <span title=\"2076001\"\">гигант<span title=\"2076002\"\">, <span title=\"2076003\"\">возвышавшийся <span title=\"2076004\"\">над <span title=\"2076005\"\">окружающими<span title=\"2076006\"\">. </p><p><span title=\"2081656\"\">Назначенный <span title=\"2081657\"\">в <span style=\"color:red;\" title=\"2081658\"\">начале</span> <span title=\"2081659\"\">2003 <span title=\"2081660\"\">года <span title=\"2081661\"\">министром <span title=\"2081662\"\">финансов <span title=\"2081663\"\">Эли <span title=\"2081664\"\">Исаев <span title=\"2081665\"\">стал <span title=\"2081666\"\">теперь <span title=\"2081667\"\">еще <span title=\"2081668\"\">и <span title=\"2081669\"\">первым <span title=\"2081670\"\">вице-премьером <span title=\"2081671\"\">(<span title=\"2081672\"\">его <span title=\"2081673\"\">родной <span title=\"2081674\"\">брат <span title=\"2081675\"\">Хусейн <span title=\"2081676\"\">Исаев <span title=\"2081677\"\">является <span title=\"2081678\"\">председателем <span title=\"2081679\"\">Госсовета <span title=\"2081680\"\">Чечни<span title=\"2081681\"\">)<span title=\"2081682\"\">. </p><p><span title=\"2112068\"\">И <span title=\"2112069\"\">мы <span title=\"2112070\"\">будем <span title=\"2112071\"\">делать <span title=\"2112072\"\">это <span title=\"2112073\"\">последовательно <span title=\"2112074\"\">и <span title=\"2112075\"\">жестко<span title=\"2112076\"\">, <span title=\"2112077\"\">несмотря <span title=\"2112078\"\">на <span title=\"2112079\"\">попытки <span title=\"2112080\"\">противников <span title=\"2112081\"\">этого <span title=\"2112082\"\">процесса <span title=\"2112083\"\">защищаться<span title=\"2112084\"\">, <span title=\"2112085\"\">используя <span title=\"2112086\"\">в <span title=\"2112087\"\">том <span style=\"color:red;\" title=\"2112088\"\">числе</span> <span title=\"2112089\"\">шантаж<span title=\"2112090\"\">\"<span title=\"2112091\"\">. </p><p><span title=\"2132526\"\">Мыскиной <span title=\"2132527\"\">еще <span title=\"2132528\"\">предстоят <span title=\"2132529\"\">поединки <span title=\"2132530\"\">с <span title=\"2132531\"\">Дженнифер <span title=\"2132532\"\">Каприати <span title=\"2132533\"\">и <span style=\"color:red;\" title=\"2132534\"\">Аи</span> <span title=\"2132535\"\">Сугиямой<span title=\"2132536\"\">, <span title=\"2132537\"\">а <span title=\"2132538\"\">Дементьева <span title=\"2132539\"\">еще <span title=\"2132540\"\">сыграет <span title=\"2132541\"\">с <span title=\"2132542\"\">Рубин<span title=\"2132543\"\">, <span title=\"2132544\"\">которую <span title=\"2132545\"\">чуть <span title=\"2132546\"\">больше <span title=\"2132547\"\">месяца <span title=\"2132548\"\">назад <span title=\"2132549\"\">дважды <span title=\"2132550\"\">подряд <span title=\"2132551\"\">обыграла <span title=\"2132552\"\">в <span title=\"2132553\"\">финалах <span title=\"2132554\"\">турниров <span title=\"2132555\"\">WTA <span title=\"2132556\"\">в <span title=\"2132557\"\">Бали <span title=\"2132558\"\">и <span title=\"2132559\"\">Шанхае<span title=\"2132560\"\">.</p><p><span title=\"2136720\"\">В <span title=\"2136721\"\">ночь <span title=\"2136722\"\">с <span title=\"2136723\"\">пятницы <span title=\"2136724\"\">на <span title=\"2136725\"\">субботу <span title=\"2136726\"\">бывший <span title=\"2136727\"\">глава <span title=\"2136728\"\">воздушного <span title=\"2136729\"\">транспорта <span title=\"2136730\"\">Филиппин <span title=\"2136731\"\">и <span title=\"2136732\"\">офицер <span title=\"2136733\"\">ВВС <span style=\"color:red;\" title=\"2136734\"\">Панфило</span> <span title=\"2136735\"\">Вилларуэль <span title=\"2136736\"\">(<span title=\"2136737\"\">Panfilo <span title=\"2136738\"\">Villaruel<span title=\"2136739\"\">) <span title=\"2136740\"\">с <span title=\"2136741\"\">группой <span title=\"2136742\"\">из <span title=\"2136743\"\">12 <span title=\"2136744\"\">вооруженных <span title=\"2136745\"\">людей <span title=\"2136746\"\">захватил <span title=\"2136747\"\">диспетчерскую <span title=\"2136748\"\">вышку <span title=\"2136749\"\">международного <span title=\"2136750\"\">аэропорта <span title=\"2136751\"\">столицы <span title=\"2136752\"\">страны <span title=\"2136753\"\">города <span title=\"2136754\"\">Манилы <span title=\"2136755\"\">Ниной <span title=\"2136756\"\">Акино <span title=\"2136757\"\">(<span title=\"2136758\"\">Ninoy <span title=\"2136759\"\">Aquino<span title=\"2136760\"\">)<span title=\"2136761\"\">, <span title=\"2136762\"\">сообщает <span title=\"2136763\"\">Reuters<span title=\"2136764\"\">. </p><p><span title=\"2172514\"\">Режиссер <span title=\"2172515\"\">Рон <span title=\"2172516\"\">Говард <span title=\"2172517\"\">и <span style=\"color:red;\" title=\"2172518\"\">Том</span> <span title=\"2172519\"\">Хэнкс <span title=\"2172520\"\">вновь <span title=\"2172521\"\">объединят <span title=\"2172522\"\">свои <span title=\"2172523\"\">усилия <span title=\"2172524\"\">на <span title=\"2172525\"\">съемочной <span title=\"2172526\"\">площадке <span title=\"2172527\"\">фильма <span title=\"2172528\"\">\"<span title=\"2172529\"\">Ангелы <span title=\"2172530\"\">и <span title=\"2172531\"\">демоны<span title=\"2172532\"\">\" <span title=\"2172533\"\">по <span title=\"2172534\"\">роману <span title=\"2172535\"\">Дэна <span title=\"2172536\"\">Брауна<span title=\"2172537\"\">. </p><p><span title=\"2183212\"\">Nasdaq <span title=\"2183213\"\">в <span style=\"color:red;\" title=\"2183214\"\">течение</span> <span title=\"2183215\"\">2006 <span title=\"2183216\"\">года <span title=\"2183217\"\">пытался <span title=\"2183218\"\">купить <span title=\"2183219\"\">крупнейшую <span title=\"2183220\"\">европейскую <span title=\"2183221\"\">биржу <span title=\"2183222\"\">London <span title=\"2183223\"\">Stock <span title=\"2183224\"\">Exchange <span title=\"2183225\"\">(<span title=\"2183226\"\">LSE<span title=\"2183227\"\">)<span title=\"2183228\"\">. </p><p><span title=\"2188065\"\">В <span title=\"2188066\"\">последнем <span title=\"2188067\"\">поединке <span title=\"2188068\"\">игрового <span title=\"2188069\"\">дня <span title=\"2188070\"\">победитель <span title=\"2188071\"\">регулярного <span title=\"2188072\"\">чемпионата <span title=\"2188073\"\">\"<span title=\"2188074\"\">Баффало<span title=\"2188075\"\">\" <span title=\"2188076\"\">на <span style=\"color:red;\" title=\"2188077\"\">своем</span> <span title=\"2188078\"\">льду <span title=\"2188079\"\">переиграл <span title=\"2188080\"\">\"<span title=\"2188081\"\">Нью-Йорк <span title=\"2188082\"\">Айлендерс<span title=\"2188083\"\">\" <span title=\"2188084\"\">со <span title=\"2188085\"\">счетом <span title=\"2188086\"\">4<span title=\"2188087\"\">:<span title=\"2188088\"\">1<span title=\"2188089\"\">. </p><p><span title=\"2193255\"\">В <span title=\"2193256\"\">четверг <span title=\"2193257\"\">в <span title=\"2193258\"\">Чечне <span title=\"2193259\"\">был <span title=\"2193260\"\">задержан <span style=\"color:red;\" title=\"2193261\"\">Вомали</span> <span title=\"2193262\"\">Байсултанов<span title=\"2193263\"\">, <span title=\"2193264\"\">подозреваемый <span title=\"2193265\"\">в <span title=\"2193266\"\">причастности <span title=\"2193267\"\">к <span title=\"2193268\"\">похищению <span title=\"2193269\"\">в <span title=\"2193270\"\">марте <span title=\"2193271\"\">1997 <span title=\"2193272\"\">года <span title=\"2193273\"\">журналиста <span title=\"2193274\"\">челябинской <span title=\"2193275\"\">областной <span title=\"2193276\"\">газеты <span title=\"2193277\"\">\"<span title=\"2193278\"\">Садкинский <span title=\"2193279\"\">рабочий<span title=\"2193280\"\">\"<span title=\"2193281\"\">, <span title=\"2193282\"\">сообщает <span title=\"2193283\"\">агентство <span title=\"2193284\"\">\"<span title=\"2193285\"\">Интерфакс<span title=\"2193286\"\">\"<span title=\"2193287\"\">. </p><p><span title=\"2212607\"\">На <span title=\"2212608\"\">краю <span title=\"2212609\"\">света<span title=\"2212610\"\">\" <span title=\"2212611\"\">19 <span title=\"2212612\"\">мая <span title=\"2212613\"\">в <span style=\"color:red;\" title=\"2212614\"\">своем</span> <span title=\"2212615\"\">парке <span title=\"2212616\"\">развлечений<span title=\"2212617\"\">. </p><p><span title=\"2232166\"\">При <span title=\"2232167\"\">счете <span title=\"2232168\"\">1<span title=\"2232169\"\">:<span title=\"2232170\"\">0 <span title=\"2232171\"\">\"<span title=\"2232172\"\">Севилья<span title=\"2232173\"\">\" <span title=\"2232174\"\">могла <span title=\"2232175\"\">сравнять <span title=\"2232176\"\">результат<span title=\"2232177\"\">, <span title=\"2232178\"\">но <span title=\"2232179\"\">итальянский <span title=\"2232180\"\">полузащитник <span style=\"color:red;\" title=\"2232181\"\">Энцо</span> <span title=\"2232182\"\">Мареска <span title=\"2232183\"\">не <span title=\"2232184\"\">реализовал <span title=\"2232185\"\">пенальти <span title=\"2232186\"\">- <span title=\"2232187\"\">его <span title=\"2232188\"\">удар <span title=\"2232189\"\">отразил <span title=\"2232190\"\">Сантьяго <span title=\"2232191\"\">Канисарес<span title=\"2232192\"\">. </p><p><span title=\"2256162\"\">После <span title=\"2256163\"\">первого <span title=\"2256164\"\">боя <span title=\"2256165\"\">с <span title=\"2256166\"\">Кличко <span title=\"2256167\"\">американец <span title=\"2256168\"\">трижды <span title=\"2256169\"\">защитил <span title=\"2256170\"\">титул <span title=\"2256171\"\">WBO<span title=\"2256172\"\">, <span title=\"2256173\"\">побив <span style=\"color:red;\" title=\"2256174\"\">Кали</span> <span title=\"2256175\"\">Миана<span title=\"2256176\"\">, <span title=\"2256177\"\">Анджея <span title=\"2256178\"\">Голоту <span title=\"2256179\"\">и <span title=\"2256180\"\">Луана <span title=\"2256181\"\">Красничи<span title=\"2256182\"\">, <span title=\"2256183\"\">но <span title=\"2256184\"\">1 <span title=\"2256185\"\">апреля <span title=\"2256186\"\">2006 <span title=\"2256187\"\">года <span title=\"2256188\"\">уступил <span title=\"2256189\"\">чемпионский <span title=\"2256190\"\">титул <span title=\"2256191\"\">белорусу <span title=\"2256192\"\">Сергею <span title=\"2256193\"\">Ляховичу<span title=\"2256194\"\">. </p><p><span title=\"2318657\"\">Старший <span title=\"2318658\"\">вице-президент <span title=\"2318659\"\">Microsoft <span style=\"color:red;\" title=\"2318660\"\">Орландо</span> <span title=\"2318661\"\">Аяла <span title=\"2318662\"\">уточнил<span title=\"2318663\"\">, <span title=\"2318664\"\">что <span title=\"2318665\"\">действия <span title=\"2318666\"\">компании <span title=\"2318667\"\">не <span title=\"2318668\"\">являются <span title=\"2318669\"\">благотворительностью<span title=\"2318670\"\">, <span title=\"2318671\"\">а <span title=\"2318672\"\">преследуют <span title=\"2318673\"\">исключительно <span title=\"2318674\"\">деловые <span title=\"2318675\"\">цели<span title=\"2318676\"\">. </p><p><span title=\"2355515\"\">Депутат <span title=\"2355516\"\">парламента <span title=\"2355517\"\">автономии <span title=\"2355518\"\">от <span title=\"2355519\"\">ХАМАС <span style=\"color:red;\" title=\"2355520\"\">Салах</span> <span title=\"2355521\"\">аль-Бардавил <span title=\"2355522\"\">заявил<span title=\"2355523\"\">: <span title=\"2355524\"\">\"<span title=\"2355525\"\">Было <span title=\"2355526\"\">бы <span title=\"2355527\"\">лучше<span title=\"2355528\"\">, <span title=\"2355529\"\">если <span title=\"2355530\"\">бы <span title=\"2355531\"\">ЕС <span title=\"2355532\"\">работал <span title=\"2355533\"\">с <span title=\"2355534\"\">демократически <span title=\"2355535\"\">избранным <span title=\"2355536\"\">правительством <span title=\"2355537\"\">напрямую <span title=\"2355538\"\">и <span title=\"2355539\"\">тем <span title=\"2355540\"\">самым <span title=\"2355541\"\">проявил <span title=\"2355542\"\">уважение <span title=\"2355543\"\">к <span title=\"2355544\"\">демократии<span title=\"2355545\"\">\"<span title=\"2355546\"\">. </p><p><span title=\"2371672\"\">На <span style=\"color:red;\" title=\"2371673\"\">общем</span> <span title=\"2371674\"\">фоне <span title=\"2371675\"\">выделялись <span title=\"2371676\"\">акции <span title=\"2371677\"\">\"<span title=\"2371678\"\">Газпрома<span title=\"2371679\"\">\"<span title=\"2371680\"\">, <span title=\"2371681\"\">подорожавшие <span title=\"2371682\"\">на <span title=\"2371683\"\">классическом <span title=\"2371684\"\">рынке <span title=\"2371685\"\">на <span title=\"2371686\"\">1,55 <span title=\"2371687\"\">процента<span title=\"2371688\"\">. </p><p><span title=\"2373612\"\">\"<span title=\"2373613\"\">Если <span title=\"2373614\"\">плод <span title=\"2373615\"\">непохож <span title=\"2373616\"\">на <span title=\"2373617\"\">рекламную <span title=\"2373618\"\">картинку <span title=\"2373619\"\">- <span title=\"2373620\"\">ему <span title=\"2373621\"\">нет <span title=\"2373622\"\">места <span title=\"2373623\"\">в <span title=\"2373624\"\">супермаркете<span title=\"2373625\"\">\"<span title=\"2373626\"\">, <span title=\"2373627\"\">- <span title=\"2373628\"\">поясняет <span title=\"2373629\"\">закупщик <span title=\"2373630\"\">фруктов <span style=\"color:red;\" title=\"2373631\"\">Том</span> <span title=\"2373632\"\">Ричардсон<span title=\"2373633\"\">. </p><p><span title=\"2399116\"\">В <span title=\"2399117\"\">2006 <span title=\"2399118\"\">году <span title=\"2399119\"\">основатели <span title=\"2399120\"\">MySpace<span title=\"2399121\"\">.<span title=\"2399122\"\">com<span title=\"2399123\"\">, <span title=\"2399124\"\">имеющего <span title=\"2399125\"\">на <span style=\"color:red;\" title=\"2399126\"\">сегоднящний</span> <span title=\"2399127\"\">день <span title=\"2399128\"\">более <span title=\"2399129\"\">85 <span title=\"2399130\"\">миллионов <span title=\"2399131\"\">зарегистрированных <span title=\"2399132\"\">пользователей<span title=\"2399133\"\">, <span title=\"2399134\"\">Крис <span title=\"2399135\"\">Девольф <span title=\"2399136\"\">(<span title=\"2399137\"\">Chris <span title=\"2399138\"\">DeWolfe<span title=\"2399139\"\">) <span title=\"2399140\"\">и <span title=\"2399141\"\">Том <span title=\"2399142\"\">Андерсон <span title=\"2399143\"\">(<span title=\"2399144\"\">Tom <span title=\"2399145\"\">Anderson<span title=\"2399146\"\">) <span title=\"2399147\"\">получили <span title=\"2399148\"\">награду <span title=\"2399149\"\">Webby <span title=\"2399150\"\">в <span title=\"2399151\"\">номинации <span title=\"2399152\"\">\"<span title=\"2399153\"\">Прорыв <span title=\"2399154\"\">года<span title=\"2399155\"\">\" <span title=\"2399156\"\">(<span title=\"2399157\"\">Breakout <span title=\"2399158\"\">of <span title=\"2399159\"\">the <span title=\"2399160\"\">Year<span title=\"2399161\"\">)<span title=\"2399162\"\">. </p><p><span title=\"2428748\"\">Причиненный <span style=\"color:red;\" title=\"2428749\"\">государству</span> <span title=\"2428750\"\">ущерб <span title=\"2428751\"\">был <span title=\"2428752\"\">оценен <span title=\"2428753\"\">почти <span title=\"2428754\"\">в <span title=\"2428755\"\">30 <span title=\"2428756\"\">миллиардов <span title=\"2428757\"\">рублей<span title=\"2428758\"\">. </p><p><span title=\"2466567\"\">Документы <span title=\"2466568\"\">были <span title=\"2466569\"\">записаны <span title=\"2466570\"\">на <span title=\"2466571\"\">компактный <span title=\"2466572\"\">носитель <span title=\"2466573\"\">информации <span title=\"2466574\"\">с <span title=\"2466575\"\">американской <span title=\"2466576\"\">базы<span title=\"2466577\"\">, <span title=\"2466578\"\">который <span title=\"2466579\"\">на <span style=\"color:red;\" title=\"2466580\"\">афганском</span> <span title=\"2466581\"\">рынке <span title=\"2466582\"\">предлагался <span title=\"2466583\"\">за <span title=\"2466584\"\">200 <span title=\"2466585\"\">долларов<span title=\"2466586\"\">. </p><p><span title=\"2467597\"\">Договор <span title=\"2467598\"\">подписали <span title=\"2467599\"\">министр <span title=\"2467600\"\">иностранных <span title=\"2467601\"\">дел <span title=\"2467602\"\">Японии <span style=\"color:red;\" title=\"2467603\"\">Таро</span> <span title=\"2467604\"\">Асо <span title=\"2467605\"\">и <span title=\"2467606\"\">посол <span title=\"2467607\"\">США <span title=\"2467608\"\">в <span title=\"2467609\"\">Японии <span title=\"2467610\"\">Томас <span title=\"2467611\"\">Шиффер<span title=\"2467612\"\">, <span title=\"2467613\"\">передает <span title=\"2467614\"\">агентство <span title=\"2467615\"\">AP <span title=\"2467616\"\">со <span title=\"2467617\"\">ссылкой <span title=\"2467618\"\">на <span title=\"2467619\"\">японский <span title=\"2467620\"\">МИД<span title=\"2467621\"\">. <span title=\"2467775\"\">Ранее <span style=\"color:red;\" title=\"2467776\"\">Таро</span> <span title=\"2467777\"\">Асо <span title=\"2467778\"\">заявил<span title=\"2467779\"\">, <span title=\"2467780\"\">что <span title=\"2467781\"\">в <span title=\"2467782\"\">случае <span title=\"2467783\"\">запуска <span title=\"2467784\"\">северокорейской <span title=\"2467785\"\">ракеты <span title=\"2467786\"\">Япония <span title=\"2467787\"\">потребует <span title=\"2467788\"\">созыва <span title=\"2467789\"\">специального <span title=\"2467790\"\">заседания <span title=\"2467791\"\">Совета <span title=\"2467792\"\">безопасности <span title=\"2467793\"\">ООН <span title=\"2467794\"\">и <span title=\"2467795\"\">введения <span title=\"2467796\"\">жестких <span title=\"2467797\"\">санкций <span title=\"2467798\"\">против <span title=\"2467799\"\">КНДР<span title=\"2467800\"\">. </p>"
      ],
      "text/plain": [
       "<IPython.core.display.HTML object>"
      ]
     },
     "execution_count": 58,
     "metadata": {},
     "output_type": "execute_result"
    }
   ],
   "source": [
    "worst_words, worst_sents_df = get_worst_words_sents(\n",
    "    result_df, true_label=2, pred_label=0, worst_words_cnt=100)\n",
    "\n",
    "Separator.Viewer().tooltip(\"word_id\").color('word_id',\n",
    "                                            value_to_color={\n",
    "                                                wid: 'red' for wid in worst_words.word_id}\n",
    "                                            ).to_html_display(worst_sents_df)"
   ]
  },
  {
   "cell_type": "code",
   "execution_count": 61,
   "metadata": {},
   "outputs": [],
   "source": [
    "import pymorphy2\n",
    "morph = pymorphy2.MorphAnalyzer()"
   ]
  },
  {
   "cell_type": "code",
   "execution_count": 64,
   "metadata": {},
   "outputs": [
    {
     "data": {
      "text/plain": [
       "[Parse(word='своём', tag=OpencorporaTag('ADJF,Apro,Anph neut,sing,loct'), normal_form='свой', score=0.539823, methods_stack=((DictionaryAnalyzer(), 'своём', 2851, 19),)),\n",
       " Parse(word='своём', tag=OpencorporaTag('ADJF,Apro,Anph masc,sing,loct'), normal_form='свой', score=0.460176, methods_stack=((DictionaryAnalyzer(), 'своём', 2851, 6),))]"
      ]
     },
     "execution_count": 64,
     "metadata": {},
     "output_type": "execute_result"
    }
   ],
   "source": [
    "morph.parse('своем')"
   ]
  },
  {
   "cell_type": "code",
   "execution_count": 67,
   "metadata": {},
   "outputs": [
    {
     "data": {
      "text/plain": [
       "[Parse(word='лучшему', tag=OpencorporaTag('ADJF,Supr,Qual neut,sing,datv'), normal_form='хороший', score=0.68421, methods_stack=((DictionaryAnalyzer(), 'лучшему', 3135, 76),)),\n",
       " Parse(word='лучшему', tag=OpencorporaTag('ADJF,Supr,Qual masc,sing,datv'), normal_form='хороший', score=0.315789, methods_stack=((DictionaryAnalyzer(), 'лучшему', 3135, 62),))]"
      ]
     },
     "execution_count": 67,
     "metadata": {},
     "output_type": "execute_result"
    }
   ],
   "source": [
    "morph.parse('лучшему')\n"
   ]
  },
  {
   "cell_type": "code",
   "execution_count": null,
   "metadata": {},
   "outputs": [],
   "source": []
  }
 ],
 "metadata": {
  "kernelspec": {
   "display_name": "Python 3.10.6 64-bit",
   "language": "python",
   "name": "python3"
  },
  "language_info": {
   "codemirror_mode": {
    "name": "ipython",
    "version": 3
   },
   "file_extension": ".py",
   "mimetype": "text/x-python",
   "name": "python",
   "nbconvert_exporter": "python",
   "pygments_lexer": "ipython3",
   "version": "3.10.6"
  },
  "orig_nbformat": 4,
  "vscode": {
   "interpreter": {
    "hash": "916dbcbb3f70747c44a77c7bcd40155683ae19c65e1c03b4aa3499c5328201f1"
   }
  }
 },
 "nbformat": 4,
 "nbformat_minor": 2
}
